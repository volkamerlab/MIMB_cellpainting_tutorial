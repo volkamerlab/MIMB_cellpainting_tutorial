{
 "cells": [
  {
   "cell_type": "markdown",
   "metadata": {},
   "source": [
    "# Broad institute Dataset pre-processing and cleaning "
   ]
  },
  {
   "cell_type": "markdown",
   "metadata": {},
   "source": [
    "## Import libraries"
   ]
  },
  {
   "cell_type": "code",
   "execution_count": null,
   "metadata": {},
   "outputs": [],
   "source": [
    "import os \n",
    "import glob\n",
    "import sys\n",
    "from collections import defaultdict\n",
    "import warnings\n",
    "\n",
    "import matplotlib.pyplot as plt\n",
    "import numpy as np\n",
    "import pandas as pd\n",
    "from scipy.cluster.hierarchy import dendrogram, fcluster, ward\n",
    "from scipy.spatial.distance import  squareform\n",
    "import seaborn as sns\n",
    "from statsmodels import robust\n",
    "\n"
   ]
  },
  {
   "cell_type": "markdown",
   "metadata": {},
   "source": [
    "## Data exploration"
   ]
  },
  {
   "cell_type": "markdown",
   "metadata": {},
   "source": [
    "### Load data: replicas and annotations \n",
    "\n",
    "- Load annotation data files\n",
    "- Load replicas present in the Data/ directory into one data frame \n",
    "- Concatenate the data frames into one "
   ]
  },
  {
   "cell_type": "markdown",
   "metadata": {},
   "source": [
    "__The dataset__: 10 080 compounds came from the Molecular Libraries Small Molecule Repository (MLSMR). 2260 were drugs, natural products, and small-molecule probes that are part of the Broad Institute's known bioactive compound collection, 269 were confirmed screening hits from the Molecular Libraries Program (MLP), and 18 051 were novel compounds derived from diversity-oriented synthesis. "
   ]
  },
  {
   "cell_type": "markdown",
   "metadata": {},
   "source": [
    "1. Load the chemical annotation file, and check the 2 first line of your annotation file"
   ]
  },
  {
   "cell_type": "markdown",
   "metadata": {},
   "source": [
    "*Chemical\\_annotations.csv* is provided with the BBC$047$ dataset. It contains metadata on the chemical library of the screened compounds. Some compounds with the same compound name are stereoisomers. For example, we can find three entries for the molecule Anabasine, each with a different broad ID because this molecule is tested under three stereoisomers. This is important information to consider, as the generic molecule name might be the same but the SMILES differ. Therefore, when aggregating the morphological replicas under a treatment profile, we will obtain three treatment profiles for Anabasine"
   ]
  },
  {
   "cell_type": "code",
   "execution_count": null,
   "metadata": {},
   "outputs": [],
   "source": [
    "annotations = pd.read_csv('../Data/Annotations/chemical_annotations.csv')\n",
    "annotations.head(2)"
   ]
  },
  {
   "cell_type": "code",
   "execution_count": null,
   "metadata": {},
   "outputs": [],
   "source": [
    "# Exemple of Anabasine\n",
    "annotations[annotations['CPD_NAME'] == 'Anabasine']"
   ]
  },
  {
   "cell_type": "markdown",
   "metadata": {},
   "source": [
    "We are only interested in the first two columns and the 'smiles' column. Therefore, we can drop the others."
   ]
  },
  {
   "cell_type": "code",
   "execution_count": null,
   "metadata": {},
   "outputs": [],
   "source": [
    "desired_col = [\"BROAD_ID\", \"CPD_NAME\", \"CPD_SMILES\"] \n",
    "annotations = annotations.loc[:, desired_col]\n",
    "# One can visualize the data after removing some metadata \n",
    "annotations.head(2)"
   ]
  },
  {
   "cell_type": "markdown",
   "metadata": {},
   "source": [
    "2. Load the morphological profile replicas file.\n",
    "   The profiles are provided in several CSV files. The profiles are split into 63 files to facilitate storage.\n"
   ]
  },
  {
   "cell_type": "code",
   "execution_count": null,
   "metadata": {},
   "outputs": [],
   "source": [
    "path_to_pickle_file = ('../Data/Cell_Profiles')\n",
    "all_profiles = glob.glob(os.path.join(path_to_pickle_file, \"part_*\"))"
   ]
  },
  {
   "cell_type": "markdown",
   "metadata": {},
   "source": [
    "We open, read and concatenate all the files into one dataframe \n",
    "\n",
    "- _NB : The obtain dataframe should have 1800 columns and 153370 lines_ \n",
    "    "
   ]
  },
  {
   "cell_type": "code",
   "execution_count": 130,
   "metadata": {},
   "outputs": [
    {
     "name": "stdout",
     "output_type": "stream",
     "text": [
      "The dataframe has 153370 lines and 1800 columns\n"
     ]
    },
    {
     "data": {
      "text/html": [
       "<div>\n",
       "<style scoped>\n",
       "    .dataframe tbody tr th:only-of-type {\n",
       "        vertical-align: middle;\n",
       "    }\n",
       "\n",
       "    .dataframe tbody tr th {\n",
       "        vertical-align: top;\n",
       "    }\n",
       "\n",
       "    .dataframe thead th {\n",
       "        text-align: right;\n",
       "    }\n",
       "</style>\n",
       "<table border=\"1\" class=\"dataframe\">\n",
       "  <thead>\n",
       "    <tr style=\"text-align: right;\">\n",
       "      <th></th>\n",
       "      <th>Metadata_Plate</th>\n",
       "      <th>Metadata_Well</th>\n",
       "      <th>Metadata_Assay_Plate_Barcode</th>\n",
       "      <th>Metadata_Plate_Map_Name</th>\n",
       "      <th>Metadata_well_position</th>\n",
       "      <th>Metadata_ASSAY_WELL_ROLE</th>\n",
       "      <th>Metadata_broad_sample</th>\n",
       "      <th>Metadata_mmoles_per_liter</th>\n",
       "      <th>Metadata_solvent</th>\n",
       "      <th>Metadata_pert_id</th>\n",
       "      <th>...</th>\n",
       "      <th>Nuclei_Texture_Variance_DNA_5_0</th>\n",
       "      <th>Nuclei_Texture_Variance_ER_10_0</th>\n",
       "      <th>Nuclei_Texture_Variance_ER_3_0</th>\n",
       "      <th>Nuclei_Texture_Variance_ER_5_0</th>\n",
       "      <th>Nuclei_Texture_Variance_Mito_10_0</th>\n",
       "      <th>Nuclei_Texture_Variance_Mito_3_0</th>\n",
       "      <th>Nuclei_Texture_Variance_Mito_5_0</th>\n",
       "      <th>Nuclei_Texture_Variance_RNA_10_0</th>\n",
       "      <th>Nuclei_Texture_Variance_RNA_3_0</th>\n",
       "      <th>Nuclei_Texture_Variance_RNA_5_0</th>\n",
       "    </tr>\n",
       "  </thead>\n",
       "  <tbody>\n",
       "    <tr>\n",
       "      <th>0</th>\n",
       "      <td>24563</td>\n",
       "      <td>p06</td>\n",
       "      <td>24563</td>\n",
       "      <td>H-CBLB-002-4</td>\n",
       "      <td>p06</td>\n",
       "      <td>treated</td>\n",
       "      <td>BRD-K38538662-001-01-7</td>\n",
       "      <td>5.007141</td>\n",
       "      <td>DMSO</td>\n",
       "      <td>BRD-K38538662</td>\n",
       "      <td>...</td>\n",
       "      <td>2.813017</td>\n",
       "      <td>1.602582</td>\n",
       "      <td>1.522836</td>\n",
       "      <td>1.526843</td>\n",
       "      <td>1.362699</td>\n",
       "      <td>1.421662</td>\n",
       "      <td>1.415197</td>\n",
       "      <td>2.232572</td>\n",
       "      <td>2.223691</td>\n",
       "      <td>2.301858</td>\n",
       "    </tr>\n",
       "    <tr>\n",
       "      <th>1</th>\n",
       "      <td>24563</td>\n",
       "      <td>p07</td>\n",
       "      <td>24563</td>\n",
       "      <td>H-CBLB-002-4</td>\n",
       "      <td>p07</td>\n",
       "      <td>treated</td>\n",
       "      <td>BRD-K38571893-001-01-9</td>\n",
       "      <td>4.985294</td>\n",
       "      <td>DMSO</td>\n",
       "      <td>BRD-K38571893</td>\n",
       "      <td>...</td>\n",
       "      <td>2.865297</td>\n",
       "      <td>1.543853</td>\n",
       "      <td>1.543283</td>\n",
       "      <td>1.558455</td>\n",
       "      <td>1.411413</td>\n",
       "      <td>1.520372</td>\n",
       "      <td>1.454489</td>\n",
       "      <td>2.210284</td>\n",
       "      <td>2.243510</td>\n",
       "      <td>2.297205</td>\n",
       "    </tr>\n",
       "  </tbody>\n",
       "</table>\n",
       "<p>2 rows × 1800 columns</p>\n",
       "</div>"
      ],
      "text/plain": [
       "   Metadata_Plate Metadata_Well  Metadata_Assay_Plate_Barcode  \\\n",
       "0           24563           p06                         24563   \n",
       "1           24563           p07                         24563   \n",
       "\n",
       "  Metadata_Plate_Map_Name Metadata_well_position Metadata_ASSAY_WELL_ROLE  \\\n",
       "0            H-CBLB-002-4                    p06                  treated   \n",
       "1            H-CBLB-002-4                    p07                  treated   \n",
       "\n",
       "    Metadata_broad_sample  Metadata_mmoles_per_liter Metadata_solvent  \\\n",
       "0  BRD-K38538662-001-01-7                   5.007141             DMSO   \n",
       "1  BRD-K38571893-001-01-9                   4.985294             DMSO   \n",
       "\n",
       "  Metadata_pert_id  ... Nuclei_Texture_Variance_DNA_5_0  \\\n",
       "0    BRD-K38538662  ...                        2.813017   \n",
       "1    BRD-K38571893  ...                        2.865297   \n",
       "\n",
       "  Nuclei_Texture_Variance_ER_10_0  Nuclei_Texture_Variance_ER_3_0  \\\n",
       "0                        1.602582                        1.522836   \n",
       "1                        1.543853                        1.543283   \n",
       "\n",
       "  Nuclei_Texture_Variance_ER_5_0 Nuclei_Texture_Variance_Mito_10_0  \\\n",
       "0                       1.526843                          1.362699   \n",
       "1                       1.558455                          1.411413   \n",
       "\n",
       "  Nuclei_Texture_Variance_Mito_3_0 Nuclei_Texture_Variance_Mito_5_0  \\\n",
       "0                         1.421662                         1.415197   \n",
       "1                         1.520372                         1.454489   \n",
       "\n",
       "   Nuclei_Texture_Variance_RNA_10_0  Nuclei_Texture_Variance_RNA_3_0  \\\n",
       "0                          2.232572                         2.223691   \n",
       "1                          2.210284                         2.243510   \n",
       "\n",
       "   Nuclei_Texture_Variance_RNA_5_0  \n",
       "0                         2.301858  \n",
       "1                         2.297205  \n",
       "\n",
       "[2 rows x 1800 columns]"
      ]
     },
     "execution_count": 130,
     "metadata": {},
     "output_type": "execute_result"
    }
   ],
   "source": [
    "profiles = pd.concat((pd.read_csv(f) for f in all_profiles), ignore_index=True)\n",
    "print(f'The dataframe has {profiles.shape[0]} lines and {profiles.shape[1]} columns')\n",
    "profiles.head(2)"
   ]
  },
  {
   "cell_type": "markdown",
   "metadata": {},
   "source": [
    "### Exploration\n",
    "- Explores the structures and types of the data frame.\n",
    "- Harmonize the dataset.\n",
    "- Merge annotations (name, smiles) with morphological profile.\n"
   ]
  },
  {
   "cell_type": "markdown",
   "metadata": {},
   "source": [
    "Once the data is loaded you can explore them using functions like :\n",
    "- _.describe()_, which generates descriptive statistics \n",
    "- _.head(n=5)_, which returns the first \\(n \\) rows. <br>\n",
    "\n",
    "One can also use attributes like:\n",
    "- _dtypes_, which return the data type of each column."
   ]
  },
  {
   "cell_type": "code",
   "execution_count": 131,
   "metadata": {},
   "outputs": [
    {
     "data": {
      "text/html": [
       "<div>\n",
       "<style scoped>\n",
       "    .dataframe tbody tr th:only-of-type {\n",
       "        vertical-align: middle;\n",
       "    }\n",
       "\n",
       "    .dataframe tbody tr th {\n",
       "        vertical-align: top;\n",
       "    }\n",
       "\n",
       "    .dataframe thead th {\n",
       "        text-align: right;\n",
       "    }\n",
       "</style>\n",
       "<table border=\"1\" class=\"dataframe\">\n",
       "  <thead>\n",
       "    <tr style=\"text-align: right;\">\n",
       "      <th></th>\n",
       "      <th>Column</th>\n",
       "      <th>Data_Type</th>\n",
       "    </tr>\n",
       "  </thead>\n",
       "  <tbody>\n",
       "    <tr>\n",
       "      <th>Metadata_Plate</th>\n",
       "      <td>Metadata_Plate</td>\n",
       "      <td>int64</td>\n",
       "    </tr>\n",
       "    <tr>\n",
       "      <th>Metadata_Well</th>\n",
       "      <td>Metadata_Well</td>\n",
       "      <td>object</td>\n",
       "    </tr>\n",
       "    <tr>\n",
       "      <th>Metadata_Assay_Plate_Barcode</th>\n",
       "      <td>Metadata_Assay_Plate_Barcode</td>\n",
       "      <td>int64</td>\n",
       "    </tr>\n",
       "    <tr>\n",
       "      <th>Metadata_Plate_Map_Name</th>\n",
       "      <td>Metadata_Plate_Map_Name</td>\n",
       "      <td>object</td>\n",
       "    </tr>\n",
       "    <tr>\n",
       "      <th>Metadata_well_position</th>\n",
       "      <td>Metadata_well_position</td>\n",
       "      <td>object</td>\n",
       "    </tr>\n",
       "    <tr>\n",
       "      <th>...</th>\n",
       "      <td>...</td>\n",
       "      <td>...</td>\n",
       "    </tr>\n",
       "    <tr>\n",
       "      <th>Nuclei_Texture_Variance_Mito_3_0</th>\n",
       "      <td>Nuclei_Texture_Variance_Mito_3_0</td>\n",
       "      <td>float64</td>\n",
       "    </tr>\n",
       "    <tr>\n",
       "      <th>Nuclei_Texture_Variance_Mito_5_0</th>\n",
       "      <td>Nuclei_Texture_Variance_Mito_5_0</td>\n",
       "      <td>float64</td>\n",
       "    </tr>\n",
       "    <tr>\n",
       "      <th>Nuclei_Texture_Variance_RNA_10_0</th>\n",
       "      <td>Nuclei_Texture_Variance_RNA_10_0</td>\n",
       "      <td>float64</td>\n",
       "    </tr>\n",
       "    <tr>\n",
       "      <th>Nuclei_Texture_Variance_RNA_3_0</th>\n",
       "      <td>Nuclei_Texture_Variance_RNA_3_0</td>\n",
       "      <td>float64</td>\n",
       "    </tr>\n",
       "    <tr>\n",
       "      <th>Nuclei_Texture_Variance_RNA_5_0</th>\n",
       "      <td>Nuclei_Texture_Variance_RNA_5_0</td>\n",
       "      <td>float64</td>\n",
       "    </tr>\n",
       "  </tbody>\n",
       "</table>\n",
       "<p>1800 rows × 2 columns</p>\n",
       "</div>"
      ],
      "text/plain": [
       "                                                            Column Data_Type\n",
       "Metadata_Plate                                      Metadata_Plate     int64\n",
       "Metadata_Well                                        Metadata_Well    object\n",
       "Metadata_Assay_Plate_Barcode          Metadata_Assay_Plate_Barcode     int64\n",
       "Metadata_Plate_Map_Name                    Metadata_Plate_Map_Name    object\n",
       "Metadata_well_position                      Metadata_well_position    object\n",
       "...                                                            ...       ...\n",
       "Nuclei_Texture_Variance_Mito_3_0  Nuclei_Texture_Variance_Mito_3_0   float64\n",
       "Nuclei_Texture_Variance_Mito_5_0  Nuclei_Texture_Variance_Mito_5_0   float64\n",
       "Nuclei_Texture_Variance_RNA_10_0  Nuclei_Texture_Variance_RNA_10_0   float64\n",
       "Nuclei_Texture_Variance_RNA_3_0    Nuclei_Texture_Variance_RNA_3_0   float64\n",
       "Nuclei_Texture_Variance_RNA_5_0    Nuclei_Texture_Variance_RNA_5_0   float64\n",
       "\n",
       "[1800 rows x 2 columns]"
      ]
     },
     "execution_count": 131,
     "metadata": {},
     "output_type": "execute_result"
    }
   ],
   "source": [
    "pd.DataFrame({'Column': profiles.columns, 'Data_Type': profiles.dtypes})"
   ]
  },
  {
   "cell_type": "markdown",
   "metadata": {},
   "source": [
    "1. Removing metadata features <br>\n",
    "   We noticed that some metadata won't be useful, so we dropped them.\n"
   ]
  },
  {
   "cell_type": "code",
   "execution_count": 132,
   "metadata": {},
   "outputs": [],
   "source": [
    "to_pop = ['Metadata_Well',\n",
    "          'Metadata_mmoles_per_liter',\n",
    "          'Metadata_Plate_Map_Name',\n",
    "          'Metadata_well_position',\n",
    "          'Metadata_ASSAY_WELL_ROLE',\n",
    "          'Metadata_solvent',\n",
    "          'Metadata_pert_id',\n",
    "          'Metadata_pert_mfc_id',\n",
    "          'Metadata_pert_well',\n",
    "          'Metadata_cell_id',\n",
    "          'Metadata_broad_sample_type',\n",
    "          'Metadata_pert_vehicle',\n",
    "          'Metadata_pert_type',\n",
    "          'Metadata_Assay_Plate_Barcode',\n",
    "          'Metadata_pert_id_vendor']\n",
    "\n",
    "# Drop unnecessary column\n",
    "profiles.drop(columns=to_pop, inplace=True)\n",
    "\n",
    "# Move 'Metadata_broad_sample' column upfront\n",
    "profiles = profiles[['Metadata_broad_sample'] + [col for col in profiles.columns if col != 'Metadata_broad_sample']]\n"
   ]
  },
  {
   "cell_type": "markdown",
   "metadata": {},
   "source": [
    "2. Harmonization of the data "
   ]
  },
  {
   "cell_type": "markdown",
   "metadata": {},
   "source": [
    "Note that compounds are identified by _Metadata_broad_sample_ in the profile data frame, but by _BROAD_ID_ in the annotation data frame. <br>\n",
    "As we intend to merge these data, we will rename the latter to _Metadata_broad_sample_. <br>\n",
    "Additionally, we observed that the chemical annotation file does not include a line referring to the mock control DMSO, so we will add it to the annotation file.\n"
   ]
  },
  {
   "cell_type": "code",
   "execution_count": 133,
   "metadata": {},
   "outputs": [
    {
     "name": "stdout",
     "output_type": "stream",
     "text": [
      "There are 30617 rows in chemical_annotations.csv files\n",
      "There are 3 colunms in chemical_annotation.csv files\n",
      "There are 30617 unique Metada molecule id within the Profile dataset\n"
     ]
    }
   ],
   "source": [
    "annotations = annotations.rename(columns={\"BROAD_ID\":\"Metadata_broad_sample\"})\n",
    "idx = annotations.shape[0]\n",
    "annotations.loc[idx] = {'Metadata_broad_sample':'DMSO', 'CPD_NAME':'DMSO', 'CPD_SMILES':'CS(=O)C'}\n",
    "\n",
    "annotations.reset_index(inplace=True)\n",
    "annotations.drop(columns='index',inplace=True)\n",
    "\n",
    "print(f'There are {annotations.shape[0]} rows in chemical_annotations.csv files')\n",
    "print(f'There are {annotations.shape[1]} colunms in chemical_annotation.csv files')\n",
    "print(f'There are {len(set(profiles.Metadata_broad_sample))} unique Metada molecule id within the Profile dataset')"
   ]
  },
  {
   "cell_type": "markdown",
   "metadata": {},
   "source": [
    "There are the same number of compounds in both datasets. Now, we can merge them using '_Metadata_broad_sample_' as the merging feature.\n"
   ]
  },
  {
   "cell_type": "markdown",
   "metadata": {},
   "source": [
    "3. Merge the data frame into one "
   ]
  },
  {
   "cell_type": "code",
   "execution_count": 134,
   "metadata": {},
   "outputs": [],
   "source": [
    "profiles = profiles.merge(annotations, how='left', on='Metadata_broad_sample')\n",
    "\n",
    "# Move 'CPD_NAME' and CPD_SMILES' columns upfront \n",
    "cpd = profiles.pop('CPD_NAME')\n",
    "smile = profiles.pop('CPD_SMILES')\n",
    "\n",
    "# Concatenate columns\n",
    "profiles = pd.concat([cpd, smile, profiles], axis=1)"
   ]
  },
  {
   "cell_type": "markdown",
   "metadata": {},
   "source": [
    "Now our compounds can be identified in 3 ways:\n",
    "\n",
    "- Metadata_broad_sample: the ID used by the BROAD institute to run the experiment\n",
    "- CPD_NAME: The molecule compound name as it can be found in public libraries\n",
    "- CPD_SMILES: The SMILES notation, which will be useful for later work\n"
   ]
  },
  {
   "cell_type": "code",
   "execution_count": 135,
   "metadata": {},
   "outputs": [
    {
     "name": "stdout",
     "output_type": "stream",
     "text": [
      "There are 30617 unique Metada molecule id within this dataset\n",
      "There are 30342 unique compound name within this dataset\n",
      "There are 30410 unique compound SMILES within this dataset\n"
     ]
    }
   ],
   "source": [
    "print(f'There are {len(set(profiles.Metadata_broad_sample))} unique Metada molecule id within this dataset')\n",
    "print(f'There are {len(set(profiles.CPD_NAME))} unique compound name within this dataset')\n",
    "print(f'There are {len(set(profiles.CPD_SMILES))} unique compound SMILES within this dataset')"
   ]
  },
  {
   "cell_type": "markdown",
   "metadata": {},
   "source": [
    "## Data Inspection: Quality data check"
   ]
  },
  {
   "cell_type": "markdown",
   "metadata": {},
   "source": [
    "- Removal of noisy features provided by literature.\n",
    "- Identification of missing values.\n",
    "- Identification of noisy features.\n"
   ]
  },
  {
   "cell_type": "markdown",
   "metadata": {},
   "source": [
    "### Noisy Features"
   ]
  },
  {
   "cell_type": "markdown",
   "metadata": {},
   "source": [
    "Way and Gregory (2019) identified a list of 55 features for removal.<br>\n",
    "These features constitute the Block list Features - Cell Profiler, available on figshare [https://doi.org/10.6084/m9.figshare.10255811.v3]."
   ]
  },
  {
   "cell_type": "markdown",
   "metadata": {},
   "source": [
    "1. Load and drop the Blocklist Feature "
   ]
  },
  {
   "cell_type": "code",
   "execution_count": 136,
   "metadata": {},
   "outputs": [],
   "source": [
    "blocklist_features = []\n",
    "path_blocklist_features = ('../Data/Annotations/blocklist_features.txt')\n",
    "with open(path_blocklist_features, 'r') as file:\n",
    "    next(file)\n",
    "    for line in file:\n",
    "        blocklist_features.append(line.strip())\n",
    "\n",
    "profiles.drop(blocklist_features, axis=1, inplace=True)"
   ]
  },
  {
   "cell_type": "code",
   "execution_count": 137,
   "metadata": {},
   "outputs": [
    {
     "name": "stdout",
     "output_type": "stream",
     "text": [
      "There are 153370 replicas for 1732 features\n"
     ]
    }
   ],
   "source": [
    "print(f'There are {profiles.shape[0]} replicas for {profiles.shape[1]} features')"
   ]
  },
  {
   "cell_type": "markdown",
   "metadata": {},
   "source": [
    "### Remove missing values and constant descriptors\n"
   ]
  },
  {
   "cell_type": "markdown",
   "metadata": {},
   "source": [
    "- Check if some columns contain missing values (NaN).\n",
    "  - Different ways to handle missing values (perform imputation, replace with median value, or drop them) > here, dropped.\n",
    "- Remove columns with only NA.\n",
    "  - The column is irrelevant.\n",
    "- Remove invariant columns, where variance = 0.\n"
   ]
  },
  {
   "cell_type": "markdown",
   "metadata": {},
   "source": [
    "1. Missing Value "
   ]
  },
  {
   "cell_type": "code",
   "execution_count": 138,
   "metadata": {},
   "outputs": [
    {
     "name": "stdout",
     "output_type": "stream",
     "text": [
      "['CPD_NAME', 'CPD_SMILES'] contains missing value.\n"
     ]
    }
   ],
   "source": [
    "columns_with_nan = profiles.columns[profiles.isna().sum() > 0]\n",
    "print(f'{columns_with_nan.to_list()} contains missing value.')"
   ]
  },
  {
   "cell_type": "markdown",
   "metadata": {},
   "source": [
    "The \"Name\" is not an important feature as it can be replaced by the other identifier. However, the \"Smile\" identifier is crucial for later analysis.\n",
    "\n",
    "Once we identify the number of missing treatments or missing smile information, we can either look online and download it or remove it if we consider that we are not losing valuable information.\n"
   ]
  },
  {
   "cell_type": "code",
   "execution_count": 139,
   "metadata": {},
   "outputs": [
    {
     "name": "stdout",
     "output_type": "stream",
     "text": [
      "4 molecules are not provided with smiles, this would mean that at maximum 16 profiles are removed from the datase if each of this molecule are performed in quadruplicates\n",
      "There are 153370 replicas for 1732 features\n"
     ]
    }
   ],
   "source": [
    "size = len(set(profiles[profiles['CPD_NAME'].isna()]['Metadata_broad_sample'].to_list()))\n",
    "print(f'{size} molecules are not provided with smiles, this would mean that at maximum {size*4} profiles are removed from the datase if each of this molecule are performed in quadruplicates')\n",
    "print(f'There are {profiles.shape[0]} replicas for {profiles.shape[1]} features')"
   ]
  },
  {
   "cell_type": "code",
   "execution_count": 140,
   "metadata": {},
   "outputs": [],
   "source": [
    "profiles.dropna(inplace=True)"
   ]
  },
  {
   "cell_type": "code",
   "execution_count": 141,
   "metadata": {},
   "outputs": [
    {
     "name": "stdout",
     "output_type": "stream",
     "text": [
      "There are 153351 replicas after removing missing values for 1732 features\n"
     ]
    }
   ],
   "source": [
    "print(f'There are {profiles.shape[0]} replicas after removing missing values for {profiles.shape[1]} features')\n",
    "profiles.reset_index(drop=True, inplace=True)"
   ]
  },
  {
   "cell_type": "markdown",
   "metadata": {},
   "source": [
    "2. Null or constant variance"
   ]
  },
  {
   "cell_type": "code",
   "execution_count": 142,
   "metadata": {},
   "outputs": [
    {
     "name": "stdout",
     "output_type": "stream",
     "text": [
      "Constant features to be removed are: ['Cells_AreaShape_EulerNumber', 'Cells_Children_Cytoplasm_Count', 'Nuclei_Children_Cells_Count', 'Nuclei_Children_Cytoplasm_Count']\n"
     ]
    }
   ],
   "source": [
    "constant_features = profiles.columns[np.all(profiles == profiles.iloc[0], axis=0)]\n",
    "print(\"Constant features to be removed are:\", constant_features.to_list())"
   ]
  },
  {
   "cell_type": "code",
   "execution_count": 143,
   "metadata": {},
   "outputs": [],
   "source": [
    "profiles.drop(constant_features.to_list(), axis=1 , inplace=True)\n",
    "profiles = profiles.reset_index()\n",
    "profiles.drop(columns='index',inplace=True)"
   ]
  },
  {
   "cell_type": "code",
   "execution_count": 144,
   "metadata": {},
   "outputs": [
    {
     "name": "stdout",
     "output_type": "stream",
     "text": [
      "There are 153351 replicas after removing null/ constant variance for 1728 features\n"
     ]
    }
   ],
   "source": [
    "print(f'There are {profiles.shape[0]} replicas after removing null/ constant variance for {profiles.shape[1]} features')"
   ]
  },
  {
   "cell_type": "markdown",
   "metadata": {},
   "source": [
    "### Experimental plates analysis"
   ]
  },
  {
   "cell_type": "markdown",
   "metadata": {},
   "source": [
    "1. Batch effects"
   ]
  },
  {
   "cell_type": "markdown",
   "metadata": {},
   "source": [
    "According to Caicedo et al. (https://doi.org/10.1038/nmeth.4397), batch effects can be identified by plotting the correlation between control samples (DMSO) and comparing the correlation values within a plate with the correlation to other plates. <br>\n",
    "A high intra-plate correlation implies that plate effects may be present. <br>\n",
    "Since our data frame is too large to plot the correlation between all controls on all plates, we drew 5 random plates without replacement to demonstrate how such a plot could be created."
   ]
  },
  {
   "cell_type": "code",
   "execution_count": 145,
   "metadata": {},
   "outputs": [],
   "source": [
    "np.random.seed(42)"
   ]
  },
  {
   "cell_type": "markdown",
   "metadata": {},
   "source": [
    "> add code explanation + make it a function -> Def:"
   ]
  },
  {
   "cell_type": "code",
   "execution_count": 146,
   "metadata": {},
   "outputs": [],
   "source": [
    "plotting_df = profiles.loc[profiles['CPD_NAME'] == 'DMSO',:]\n",
    "plotting_df = plotting_df.drop(columns=['CPD_NAME', 'CPD_SMILES', 'Metadata_broad_sample'])\n",
    "choice = np.random.choice(np.unique(plotting_df['Metadata_Plate'].values), size = 5, replace=False)\n",
    "plotting_df = plotting_df.set_index(['Metadata_Plate', plotting_df.index])\n",
    "plotting_df = plotting_df.loc[choice, :]\n",
    "plotting_df = plotting_df.transpose()\n",
    "corr = plotting_df.corr()"
   ]
  },
  {
   "cell_type": "markdown",
   "metadata": {},
   "source": [
    "> add code explanation "
   ]
  },
  {
   "cell_type": "code",
   "execution_count": 147,
   "metadata": {},
   "outputs": [],
   "source": [
    "network_labels = corr.columns.get_level_values(\"Metadata_Plate\")\n",
    "network_pal = sns.cubehelix_palette(network_labels.unique().size,\n",
    "                                    light=.6, dark=.1, reverse=True,\n",
    "                                    start=1, rot=-2)\n",
    "network_lut = dict(zip(map(str, network_labels.unique()), network_pal))\n",
    "\n",
    "\n",
    "plot_names = {}\n",
    "for tuple_ in corr.columns:\n",
    "    plot_names[tuple_] = network_lut[str(tuple_[0])]\n",
    "\n",
    "network_colors = pd.Series(plot_names)"
   ]
  },
  {
   "cell_type": "markdown",
   "metadata": {},
   "source": [
    "> add code explanation "
   ]
  },
  {
   "cell_type": "code",
   "execution_count": 148,
   "metadata": {},
   "outputs": [
    {
     "data": {
      "image/png": "[encoded data removed]",
      "text/plain": [
       "<Figure size 1000x1000 with 6 Axes>"
      ]
     },
     "metadata": {},
     "output_type": "display_data"
    }
   ],
   "source": [
    "g = sns.clustermap(corr, cmap = 'coolwarm', center = 0.9,vmin=0.8, vmax=1,\n",
    "\n",
    "                  # Turn off the clustering\n",
    "                  row_cluster=False, col_cluster=False,\n",
    "\n",
    "                  # Add colored class labels\n",
    "                  row_colors=network_colors, col_colors=network_colors,\n",
    "                \n",
    "                  # Make the plot look better when many rows/cols\n",
    "                  linewidths=0, xticklabels=False, yticklabels=False)\n",
    "ax = g.ax_heatmap\n",
    "ax.set_xlabel(\"\")\n",
    "ax.set_ylabel(\"\")\n",
    "for label in network_labels.unique():\n",
    "    label = str(label)\n",
    "    g.ax_col_dendrogram.bar(0, 0, color=network_lut[label],\n",
    "                            label=label, linewidth=0)\n",
    "g.ax_col_dendrogram.legend(loc=\"center\", ncol=5, title = 'Plate ID')\n",
    "g.cax.set_position([1, .2, .03, .45])"
   ]
  },
  {
   "cell_type": "markdown",
   "metadata": {},
   "source": [
    "Looking at the heatmap, we obtain that the DMSO samples from plate 25695 are more correlated to themselves than to the samples from any other plate. Consequently, we suspect a batch effect for this plate and are going to remove it in the following by performing a normalization step."
   ]
  },
  {
   "cell_type": "markdown",
   "metadata": {},
   "source": [
    "### Dead cells "
   ]
  },
  {
   "cell_type": "markdown",
   "metadata": {},
   "source": [
    "High-toxicity compounds causing the death of the cells need to be identified and removed from the dataset. The feature *Number_object* or *Count_object* helps to characterize this population. It is considered that values below a certain percentage represent dead cells in comparison to DMSO profiles."
   ]
  },
  {
   "cell_type": "markdown",
   "metadata": {},
   "source": [
    "Each plate is inspected, and for every individual within the plate, their Cells_Number_Object_Number value is evaluated to determine if it is less than a certain percentage of the median DMSO value. When this condition is satisfied, the individual's name = molecule name and index are identified and subsequently removed from the dataset."
   ]
  },
  {
   "cell_type": "markdown",
   "metadata": {},
   "source": [
    "> The features *_Number_Object_Number* exist for 3 objects, Cells, Nuclei, Cytoplasm. We first check how the 3 correlated as the 3 of them are supposed to relatively identical values"
   ]
  },
  {
   "cell_type": "code",
   "execution_count": 149,
   "metadata": {},
   "outputs": [
    {
     "data": {
      "text/html": [
       "<div>\n",
       "<style scoped>\n",
       "    .dataframe tbody tr th:only-of-type {\n",
       "        vertical-align: middle;\n",
       "    }\n",
       "\n",
       "    .dataframe tbody tr th {\n",
       "        vertical-align: top;\n",
       "    }\n",
       "\n",
       "    .dataframe thead th {\n",
       "        text-align: right;\n",
       "    }\n",
       "</style>\n",
       "<table border=\"1\" class=\"dataframe\">\n",
       "  <thead>\n",
       "    <tr style=\"text-align: right;\">\n",
       "      <th></th>\n",
       "      <th>Cells_Number_Object_Number</th>\n",
       "      <th>Cytoplasm_Number_Object_Number</th>\n",
       "      <th>Nuclei_Number_Object_Number</th>\n",
       "    </tr>\n",
       "  </thead>\n",
       "  <tbody>\n",
       "    <tr>\n",
       "      <th>Cells_Number_Object_Number</th>\n",
       "      <td>1.0</td>\n",
       "      <td>1.0</td>\n",
       "      <td>1.0</td>\n",
       "    </tr>\n",
       "    <tr>\n",
       "      <th>Cytoplasm_Number_Object_Number</th>\n",
       "      <td>1.0</td>\n",
       "      <td>1.0</td>\n",
       "      <td>1.0</td>\n",
       "    </tr>\n",
       "    <tr>\n",
       "      <th>Nuclei_Number_Object_Number</th>\n",
       "      <td>1.0</td>\n",
       "      <td>1.0</td>\n",
       "      <td>1.0</td>\n",
       "    </tr>\n",
       "  </tbody>\n",
       "</table>\n",
       "</div>"
      ],
      "text/plain": [
       "                                Cells_Number_Object_Number  \\\n",
       "Cells_Number_Object_Number                             1.0   \n",
       "Cytoplasm_Number_Object_Number                         1.0   \n",
       "Nuclei_Number_Object_Number                            1.0   \n",
       "\n",
       "                                Cytoplasm_Number_Object_Number  \\\n",
       "Cells_Number_Object_Number                                 1.0   \n",
       "Cytoplasm_Number_Object_Number                             1.0   \n",
       "Nuclei_Number_Object_Number                                1.0   \n",
       "\n",
       "                                Nuclei_Number_Object_Number  \n",
       "Cells_Number_Object_Number                              1.0  \n",
       "Cytoplasm_Number_Object_Number                          1.0  \n",
       "Nuclei_Number_Object_Number                             1.0  "
      ]
     },
     "execution_count": 149,
     "metadata": {},
     "output_type": "execute_result"
    }
   ],
   "source": [
    "\n",
    "nb_object_df = pd.DataFrame([profiles['Cells_Number_Object_Number'],profiles['Cytoplasm_Number_Object_Number'],profiles['Nuclei_Number_Object_Number' ]]).transpose()\n",
    "nb_object_df.corr(method='pearson')"
   ]
  },
  {
   "cell_type": "markdown",
   "metadata": {},
   "source": [
    "The table shows that the three features are correlated with $(r = 1$), meaning they provide the same information. Therefore, we choose one feature to continue the analysis.\n"
   ]
  },
  {
   "cell_type": "markdown",
   "metadata": {},
   "source": [
    "1. Dead Cells identification"
   ]
  },
  {
   "cell_type": "code",
   "execution_count": 150,
   "metadata": {},
   "outputs": [],
   "source": [
    "plates_list = list(set(profiles.Metadata_Plate))"
   ]
  },
  {
   "cell_type": "code",
   "execution_count": 151,
   "metadata": {},
   "outputs": [
    {
     "name": "stdout",
     "output_type": "stream",
     "text": [
      "There is 406 experimental plate\n"
     ]
    }
   ],
   "source": [
    "print(f'There is {len(plates_list)} experimental plate')"
   ]
  },
  {
   "cell_type": "code",
   "execution_count": 152,
   "metadata": {},
   "outputs": [],
   "source": [
    "\n",
    "#check if dead cells per plate \n",
    "\n",
    "def identify_dead_cells(dataset,plates_num):\n",
    "    '''\n",
    "    We check if there are dead cells within each plate  \n",
    "    Parameters :\n",
    "        dataset: pandas DataFrame with profiles\n",
    "        plates_num: a list containing unique plate numbers in the dataset\n",
    "    Return :\n",
    "         result_index: list of indices in data set where dead cells were found\n",
    "         all mols: list of compound names inducing cell death\n",
    "    '''\n",
    "    count = 0\n",
    "    result_index, all_mols = [], []\n",
    "    for plate in plates_num :\n",
    "\n",
    "        view_Plate = dataset.loc[dataset['Metadata_Plate']== plate]\n",
    "        lower_lim = round(view_Plate.loc[view_Plate['Metadata_broad_sample']=='DMSO']['Cells_Number_Object_Number'].median()*0.3)\n",
    "        mol_name = view_Plate[view_Plate['Cells_Number_Object_Number'] < lower_lim]['Metadata_broad_sample'].to_list()\n",
    "        \n",
    "        \n",
    "        to_drop = view_Plate[view_Plate['Cells_Number_Object_Number'] < lower_lim].index.values.tolist()\n",
    "        result_index = [*result_index,*to_drop]\n",
    "        all_mols = [*all_mols,*mol_name]\n",
    "        count = count + len(to_drop)\n",
    "\n",
    "    print(f'There are {len(set(all_mols))} unique molecules inducing death for {len(result_index)} profiles to remove' )   \n",
    "\n",
    "    return result_index, all_mols\n",
    "\n"
   ]
  },
  {
   "cell_type": "code",
   "execution_count": 153,
   "metadata": {},
   "outputs": [
    {
     "name": "stdout",
     "output_type": "stream",
     "text": [
      "There are 525 unique molecules inducing death for 1822 profiles to remove\n"
     ]
    }
   ],
   "source": [
    "idx_dead_cells, mol_name_toxic = identify_dead_cells(profiles,plates_list)"
   ]
  },
  {
   "cell_type": "markdown",
   "metadata": {},
   "source": [
    "2. Dead Cells removal"
   ]
  },
  {
   "cell_type": "code",
   "execution_count": 154,
   "metadata": {},
   "outputs": [],
   "source": [
    "profiles.drop(labels=idx_dead_cells,inplace=True)"
   ]
  },
  {
   "cell_type": "code",
   "execution_count": 155,
   "metadata": {},
   "outputs": [],
   "source": [
    "profiles.reset_index(inplace=True)\n",
    "profiles.drop(columns='index',inplace=True)"
   ]
  },
  {
   "cell_type": "code",
   "execution_count": 156,
   "metadata": {},
   "outputs": [
    {
     "name": "stdout",
     "output_type": "stream",
     "text": [
      "Now, we obtain 151529 profiles\n"
     ]
    }
   ],
   "source": [
    "print(f'Now, we obtain {profiles.shape[0]} profiles') "
   ]
  },
  {
   "cell_type": "markdown",
   "metadata": {},
   "source": [
    "\n",
    "### Investigation of DMSO replicas\n",
    "\n",
    "* Here we remove DMSO outliers by looking into DMSO's distribution of distance\n",
    "* Additionally, we remove DMSOs by keeping the same ratio of DMSO per plate\n"
   ]
  },
  {
   "cell_type": "code",
   "execution_count": 157,
   "metadata": {},
   "outputs": [
    {
     "name": "stdout",
     "output_type": "stream",
     "text": [
      "Dimension of control dataframe is (26560, 1728)\n"
     ]
    },
    {
     "data": {
      "text/html": [
       "<div>\n",
       "<style scoped>\n",
       "    .dataframe tbody tr th:only-of-type {\n",
       "        vertical-align: middle;\n",
       "    }\n",
       "\n",
       "    .dataframe tbody tr th {\n",
       "        vertical-align: top;\n",
       "    }\n",
       "\n",
       "    .dataframe thead th {\n",
       "        text-align: right;\n",
       "    }\n",
       "</style>\n",
       "<table border=\"1\" class=\"dataframe\">\n",
       "  <thead>\n",
       "    <tr style=\"text-align: right;\">\n",
       "      <th></th>\n",
       "      <th>Metadata_Plate</th>\n",
       "      <th>Cells_AreaShape_Area</th>\n",
       "      <th>Cells_AreaShape_Center_X</th>\n",
       "      <th>Cells_AreaShape_Center_Y</th>\n",
       "      <th>Cells_AreaShape_Compactness</th>\n",
       "      <th>Cells_AreaShape_Eccentricity</th>\n",
       "      <th>Cells_AreaShape_Extent</th>\n",
       "      <th>Cells_AreaShape_FormFactor</th>\n",
       "      <th>Cells_AreaShape_MajorAxisLength</th>\n",
       "      <th>Cells_AreaShape_MaxFeretDiameter</th>\n",
       "      <th>...</th>\n",
       "      <th>Nuclei_Texture_Variance_DNA_5_0</th>\n",
       "      <th>Nuclei_Texture_Variance_ER_10_0</th>\n",
       "      <th>Nuclei_Texture_Variance_ER_3_0</th>\n",
       "      <th>Nuclei_Texture_Variance_ER_5_0</th>\n",
       "      <th>Nuclei_Texture_Variance_Mito_10_0</th>\n",
       "      <th>Nuclei_Texture_Variance_Mito_3_0</th>\n",
       "      <th>Nuclei_Texture_Variance_Mito_5_0</th>\n",
       "      <th>Nuclei_Texture_Variance_RNA_10_0</th>\n",
       "      <th>Nuclei_Texture_Variance_RNA_3_0</th>\n",
       "      <th>Nuclei_Texture_Variance_RNA_5_0</th>\n",
       "    </tr>\n",
       "  </thead>\n",
       "  <tbody>\n",
       "    <tr>\n",
       "      <th>5</th>\n",
       "      <td>24563</td>\n",
       "      <td>3417.5</td>\n",
       "      <td>366.5</td>\n",
       "      <td>249.0</td>\n",
       "      <td>1.252966</td>\n",
       "      <td>0.814204</td>\n",
       "      <td>0.560975</td>\n",
       "      <td>0.336832</td>\n",
       "      <td>91.513504</td>\n",
       "      <td>96.800934</td>\n",
       "      <td>...</td>\n",
       "      <td>3.472778</td>\n",
       "      <td>1.528450</td>\n",
       "      <td>1.566893</td>\n",
       "      <td>1.533486</td>\n",
       "      <td>1.462600</td>\n",
       "      <td>1.648982</td>\n",
       "      <td>1.578960</td>\n",
       "      <td>2.267855</td>\n",
       "      <td>2.310049</td>\n",
       "      <td>2.376746</td>\n",
       "    </tr>\n",
       "    <tr>\n",
       "      <th>6</th>\n",
       "      <td>24563</td>\n",
       "      <td>2915.0</td>\n",
       "      <td>348.0</td>\n",
       "      <td>274.0</td>\n",
       "      <td>1.274547</td>\n",
       "      <td>0.812939</td>\n",
       "      <td>0.549725</td>\n",
       "      <td>0.347723</td>\n",
       "      <td>84.510419</td>\n",
       "      <td>90.426766</td>\n",
       "      <td>...</td>\n",
       "      <td>3.037952</td>\n",
       "      <td>1.556195</td>\n",
       "      <td>1.540848</td>\n",
       "      <td>1.541551</td>\n",
       "      <td>1.533372</td>\n",
       "      <td>1.580595</td>\n",
       "      <td>1.554735</td>\n",
       "      <td>2.181848</td>\n",
       "      <td>2.279101</td>\n",
       "      <td>2.317837</td>\n",
       "    </tr>\n",
       "  </tbody>\n",
       "</table>\n",
       "<p>2 rows × 1725 columns</p>\n",
       "</div>"
      ],
      "text/plain": [
       "   Metadata_Plate  Cells_AreaShape_Area  Cells_AreaShape_Center_X  \\\n",
       "5           24563                3417.5                     366.5   \n",
       "6           24563                2915.0                     348.0   \n",
       "\n",
       "   Cells_AreaShape_Center_Y  Cells_AreaShape_Compactness  \\\n",
       "5                     249.0                     1.252966   \n",
       "6                     274.0                     1.274547   \n",
       "\n",
       "   Cells_AreaShape_Eccentricity  Cells_AreaShape_Extent  \\\n",
       "5                      0.814204                0.560975   \n",
       "6                      0.812939                0.549725   \n",
       "\n",
       "   Cells_AreaShape_FormFactor  Cells_AreaShape_MajorAxisLength  \\\n",
       "5                    0.336832                        91.513504   \n",
       "6                    0.347723                        84.510419   \n",
       "\n",
       "   Cells_AreaShape_MaxFeretDiameter  ...  Nuclei_Texture_Variance_DNA_5_0  \\\n",
       "5                         96.800934  ...                         3.472778   \n",
       "6                         90.426766  ...                         3.037952   \n",
       "\n",
       "   Nuclei_Texture_Variance_ER_10_0  Nuclei_Texture_Variance_ER_3_0  \\\n",
       "5                         1.528450                        1.566893   \n",
       "6                         1.556195                        1.540848   \n",
       "\n",
       "   Nuclei_Texture_Variance_ER_5_0  Nuclei_Texture_Variance_Mito_10_0  \\\n",
       "5                        1.533486                           1.462600   \n",
       "6                        1.541551                           1.533372   \n",
       "\n",
       "   Nuclei_Texture_Variance_Mito_3_0  Nuclei_Texture_Variance_Mito_5_0  \\\n",
       "5                          1.648982                          1.578960   \n",
       "6                          1.580595                          1.554735   \n",
       "\n",
       "   Nuclei_Texture_Variance_RNA_10_0  Nuclei_Texture_Variance_RNA_3_0  \\\n",
       "5                          2.267855                         2.310049   \n",
       "6                          2.181848                         2.279101   \n",
       "\n",
       "   Nuclei_Texture_Variance_RNA_5_0  \n",
       "5                         2.376746  \n",
       "6                         2.317837  \n",
       "\n",
       "[2 rows x 1725 columns]"
      ]
     },
     "execution_count": 157,
     "metadata": {},
     "output_type": "execute_result"
    }
   ],
   "source": [
    "replica_control = profiles.loc[profiles['Metadata_broad_sample'] == 'DMSO']\n",
    "print(f'Dimension of control dataframe is {replica_control.shape}')\n",
    "replica_control.iloc[:,3:].head(2)"
   ]
  },
  {
   "cell_type": "markdown",
   "metadata": {},
   "source": [
    "The next lines consist in :\n",
    "\n",
    "* Creating a data frame with the plate identifier and the corresponding DMSO ratio\n",
    "* Getting the plate identifier where DMSO ratio $\\geq$ 17%\n",
    "* For plates with DMSO ratio $\\geq$ 17%, randomly draw DMSO samples to keep s.t. after dropping the remaining replicas the ratio will be < 17%\n",
    "* Keeping a ratio of 16 % DMSO per plate\n",
    "* The final dataset should just contain plates with a DMSO ratio < 17% "
   ]
  },
  {
   "cell_type": "code",
   "execution_count": 158,
   "metadata": {},
   "outputs": [],
   "source": [
    "def get_ratios(data):\n",
    "    '''\n",
    "    get the ratio of DMSO per plate \n",
    "    number control/plate (16 % of the plates is DMSO ) ; ((384-294)*64) / 384\n",
    "    '''\n",
    "    ratios = {}\n",
    "    list_plates = list(set(data['Metadata_Plate']))\n",
    "    \n",
    "    for plate in list_plates :\n",
    "        if plate not in ratios : \n",
    "            ratios[plate] = round((data[ (data['Metadata_Plate'] == plate ) & (data['Metadata_broad_sample'] == 'DMSO') ].shape[0]) / (data[data['Metadata_Plate'] == plate].shape[0]),3)\n",
    "    \n",
    "    df_ratios = pd.DataFrame.from_dict(ratios,orient='index',columns=['Ratio_DMSO'])\n",
    "    df_ratios['Ratio_DMSO'] = df_ratios['Ratio_DMSO'] * 100\n",
    "    df_ratios['Metadata_Plate'] = list_plates\n",
    "    return df_ratios"
   ]
  },
  {
   "cell_type": "code",
   "execution_count": 159,
   "metadata": {},
   "outputs": [],
   "source": [
    "df_ratios = get_ratios(profiles)"
   ]
  },
  {
   "cell_type": "code",
   "execution_count": 160,
   "metadata": {},
   "outputs": [],
   "source": [
    "df = pd.DataFrame(data={'plates': list(replica_control['Metadata_Plate'].value_counts().index), 'nb':list(replica_control['Metadata_Plate'].value_counts())})\n",
    "plate_id_to_check= df_ratios[ (df_ratios['Ratio_DMSO'] >= 17 )]['Metadata_Plate'].to_list()"
   ]
  },
  {
   "cell_type": "code",
   "execution_count": 161,
   "metadata": {},
   "outputs": [],
   "source": [
    "df_ratios_check = get_ratios(profiles)\n",
    "plates_num_to_study = df_ratios_check[ (df_ratios['Ratio_DMSO'] >= 17 )]['Metadata_Plate'].to_list()"
   ]
  },
  {
   "cell_type": "code",
   "execution_count": 162,
   "metadata": {},
   "outputs": [],
   "source": [
    "def to_keep(plates_num, all_data, control_dataset):\n",
    "    '''\n",
    "    Lower the ratios of DMSO per plate to < 17%\n",
    "    Resampling the control per plate to a ratio (< 17%), for plates having more than 17% control samples\n",
    "        Parameters : \n",
    "            plates_num (list): identifier of plates with a high number of DMSO\n",
    "            all_data (data frame): all profiles \n",
    "            control_dataset (data frame): DMSO only profiles\n",
    "        Returns : \n",
    "            appended_data (list) : DMSO profiles to keep \n",
    "    '''\n",
    "    appended_data = []\n",
    "    for nb in plates_num:\n",
    "        nb_profiles = all_data[all_data['Metadata_Plate'] == nb].shape[0]\n",
    "        nb_control = all_data[(all_data['Metadata_Plate'] == nb) & (\n",
    "            all_data['Metadata_broad_sample'] == 'DMSO')].shape[0]\n",
    "        # we use int() to always round down, which ensures ratios strictly smaller 17% \n",
    "        a = int(0.166 * (nb_profiles - nb_control))\n",
    "        # we randomly draw without replacement many DMSO replicas\n",
    "        keep = control_dataset.loc[control_dataset['Metadata_Plate'] == nb].sample(\n",
    "            n=a, random_state=101)\n",
    "        appended_data.append(keep)\n",
    "    return appended_data\n",
    "\n",
    "\n",
    "appended_data = to_keep(plates_num_to_study, profiles, replica_control)\n",
    "control_to_keep = pd.concat(appended_data)"
   ]
  },
  {
   "cell_type": "markdown",
   "metadata": {},
   "source": [
    "For the plates with a DMSO ratio $\\geq$ 17%, we calculate the number of DMSO replicas needed to have a ratio < 17% and randomly draw this amount without replacement from the DMSO replicas list per plate. Now, we have to drop all other DMSO replicas."
   ]
  },
  {
   "cell_type": "code",
   "execution_count": 163,
   "metadata": {},
   "outputs": [
    {
     "data": {
      "text/html": [
       "<div>\n",
       "<style scoped>\n",
       "    .dataframe tbody tr th:only-of-type {\n",
       "        vertical-align: middle;\n",
       "    }\n",
       "\n",
       "    .dataframe tbody tr th {\n",
       "        vertical-align: top;\n",
       "    }\n",
       "\n",
       "    .dataframe thead th {\n",
       "        text-align: right;\n",
       "    }\n",
       "</style>\n",
       "<table border=\"1\" class=\"dataframe\">\n",
       "  <thead>\n",
       "    <tr style=\"text-align: right;\">\n",
       "      <th></th>\n",
       "      <th>Ratio_DMSO</th>\n",
       "      <th>Metadata_Plate</th>\n",
       "    </tr>\n",
       "  </thead>\n",
       "  <tbody>\n",
       "    <tr>\n",
       "      <th>25553</th>\n",
       "      <td>16.9</td>\n",
       "      <td>25553</td>\n",
       "    </tr>\n",
       "    <tr>\n",
       "      <th>25418</th>\n",
       "      <td>16.9</td>\n",
       "      <td>25418</td>\n",
       "    </tr>\n",
       "    <tr>\n",
       "      <th>25579</th>\n",
       "      <td>16.9</td>\n",
       "      <td>25579</td>\n",
       "    </tr>\n",
       "    <tr>\n",
       "      <th>25403</th>\n",
       "      <td>16.9</td>\n",
       "      <td>25403</td>\n",
       "    </tr>\n",
       "    <tr>\n",
       "      <th>26166</th>\n",
       "      <td>16.9</td>\n",
       "      <td>26166</td>\n",
       "    </tr>\n",
       "    <tr>\n",
       "      <th>...</th>\n",
       "      <td>...</td>\n",
       "      <td>...</td>\n",
       "    </tr>\n",
       "    <tr>\n",
       "      <th>25742</th>\n",
       "      <td>13.6</td>\n",
       "      <td>25742</td>\n",
       "    </tr>\n",
       "    <tr>\n",
       "      <th>26569</th>\n",
       "      <td>13.3</td>\n",
       "      <td>26569</td>\n",
       "    </tr>\n",
       "    <tr>\n",
       "      <th>26575</th>\n",
       "      <td>13.3</td>\n",
       "      <td>26575</td>\n",
       "    </tr>\n",
       "    <tr>\n",
       "      <th>26564</th>\n",
       "      <td>13.2</td>\n",
       "      <td>26564</td>\n",
       "    </tr>\n",
       "    <tr>\n",
       "      <th>26572</th>\n",
       "      <td>9.5</td>\n",
       "      <td>26572</td>\n",
       "    </tr>\n",
       "  </tbody>\n",
       "</table>\n",
       "<p>406 rows × 2 columns</p>\n",
       "</div>"
      ],
      "text/plain": [
       "       Ratio_DMSO  Metadata_Plate\n",
       "25553        16.9           25553\n",
       "25418        16.9           25418\n",
       "25579        16.9           25579\n",
       "25403        16.9           25403\n",
       "26166        16.9           26166\n",
       "...           ...             ...\n",
       "25742        13.6           25742\n",
       "26569        13.3           26569\n",
       "26575        13.3           26575\n",
       "26564        13.2           26564\n",
       "26572         9.5           26572\n",
       "\n",
       "[406 rows x 2 columns]"
      ]
     },
     "execution_count": 163,
     "metadata": {},
     "output_type": "execute_result"
    }
   ],
   "source": [
    "replicas = profiles.copy(deep=True)\n",
    "\n",
    "# first, we drop all DMSO samples for the plates with a DMSO ratio >= 17\n",
    "for plate in plate_id_to_check:\n",
    "    replicas.drop(replicas[ (replicas['Metadata_Plate'] == plate ) & (replicas['Metadata_broad_sample'] == 'DMSO') ].index,inplace=True)\n",
    "\n",
    "# then, we append the DMSO replicas that were selected to be kept in the step above\n",
    "replicas_t = pd.concat([replicas,control_to_keep])\n",
    "\n",
    "# then, we output again the ratios to check whether everything worked\n",
    "ratios_replicas = get_ratios(replicas_t) \n",
    "ratios_replicas.sort_values(axis=0,by='Ratio_DMSO',ascending=False)\n"
   ]
  },
  {
   "cell_type": "code",
   "execution_count": 164,
   "metadata": {},
   "outputs": [],
   "source": [
    "profiles = replicas_t.copy(deep=True)"
   ]
  },
  {
   "cell_type": "markdown",
   "metadata": {},
   "source": [
    "Now, we dropped all surplus DMSO plates. As shown in the table above, the highest DMSO ratio is 16.9%, which is strictly smaller than 17%, i.e., everything seemed to work as intended. "
   ]
  },
  {
   "cell_type": "markdown",
   "metadata": {},
   "source": [
    "## Feature normalization\n"
   ]
  },
  {
   "cell_type": "markdown",
   "metadata": {},
   "source": [
    "### Modified Z-Score"
   ]
  },
  {
   "cell_type": "markdown",
   "metadata": {},
   "source": [
    "The modified Z-score is a variation of the traditional Z-score that is more robust to outliers. While the classic Z-score is calculated using the mean and standard deviation of a dataset, the modified Z-score uses the median and median absolute deviation (MAD) instead. Modified Z-score is a robust measure of how many standard deviations a data point is from the median of the DMSO, providing a more stable measure of deviation from the central tendency in the presence of outliers.\n",
    "\n",
    "The formula for the modified Z-score depends on the value of MAD, [according to IBM](https://www.ibm.com/docs/en/cognos-analytics/12.0.0?topic=terms-modified-z-score). If MAD is not equal to 0, the z-score is calculated as "
   ]
  },
  {
   "cell_type": "markdown",
   "metadata": {},
   "source": [
    "$$\n",
    "\\text{Z-score} = \\frac{{(X - \\text{Median})}}{{\\text{MAD}} \\cdot 1.486}\n",
    "$$"
   ]
  },
  {
   "cell_type": "markdown",
   "metadata": {},
   "source": [
    "Where \\( X \\) is the value of the data point, Median is the median of the DMSO, and MAD is the median absolute deviation.\n",
    "\n",
    "Otherwise, if MAD is equal to 0, we need the mean absolute deviation (MeanAD) of DMSO to calculate the z-score as follows:"
   ]
  },
  {
   "cell_type": "markdown",
   "metadata": {},
   "source": [
    "$$\n",
    "\\text{Z-score} = \\frac{{(X - \\text{Median})}}{{1.253314 \\cdot \\text{MeanAD}}}\n",
    "$$"
   ]
  },
  {
   "cell_type": "code",
   "execution_count": 165,
   "metadata": {},
   "outputs": [],
   "source": [
    "def progress_bar(index, total, label):\n",
    "    n_bar = 50  \n",
    "    progress = index / total\n",
    "    sys.stdout.write('\\r')\n",
    "    sys.stdout.write(f\"[{'=' * int(n_bar * progress):{n_bar}s}] {int(100 * progress)}%  {label}\")\n",
    "    sys.stdout.flush()\n",
    "\n",
    "def fragment_data(dataset,num):\n",
    "    '''\n",
    "    Fragment the initial data frame into plate batches \n",
    "        \n",
    "        Parameters : \n",
    "            dataset(data frame): Profiles \n",
    "            num(list): Plate identifer \n",
    "        \n",
    "        Returns    :\n",
    "            list_df(list): Plates (profiles) contained within a list \n",
    "    '''\n",
    "    list_df = [dataset.loc[dataset['Metadata_Plate']== int(nb)].copy(deep = True) for nb in num ]\n",
    "    return list_df \n",
    "\n",
    "def zscore(x:pd.Series, dmso_samples):\n",
    "    '''\n",
    "        calculates the zscore using the IBM formula as described above\n",
    "        for a column, i.e., feature x using the given control samples \n",
    "        \n",
    "        Parameters : \n",
    "            x(pd.Series): column of the dataframe to normalize \n",
    "            dmso samples(list): identifiers of control plates\n",
    "        \n",
    "        Returns    :\n",
    "            z-score(float): the modified z-score as described above\n",
    "    '''\n",
    "    mad = robust.mad(x[dmso_samples]) # calculates median absolute deviation\n",
    "    if mad == 0:\n",
    "        mean_absolute_deviation = (x[dmso_samples] - x[dmso_samples].mean()).abs().mean()\n",
    "        return (x - np.median(x[dmso_samples]))/(mean_absolute_deviation*1.253314) \n",
    "    else:\n",
    "        return (x - np.median(x[dmso_samples]))/(robust.mad(x[dmso_samples]*1.4826))\n",
    "\n",
    "def center_plate(dataset,num):\n",
    "    '''\n",
    "    Scaling data with a z-score scaler\n",
    "        \n",
    "        Parameters : \n",
    "            dataset(data frame): Profiles \n",
    "            num(list): Plate identifer \n",
    "        \n",
    "        Returns    :\n",
    "            l_df   : Updated plates (profiles) contain within a list \n",
    "    '''\n",
    "    \n",
    "    l_df = fragment_data(dataset,num)\n",
    "    \n",
    "    tot=len(num)\n",
    "    \n",
    "    for n in range(0,tot):\n",
    "        progress_bar(n+1,tot,\"of z-score scaling\")\n",
    "        non_numerical_columns = ['CPD_NAME', 'Metadata_Plate', 'Metadata_broad_sample', 'CPD_SMILES']\n",
    "        dmso_samples = l_df[n]['CPD_NAME'] == 'DMSO'\n",
    "        \n",
    "        z_score_scaler = lambda df: df.apply(lambda x: zscore(x, dmso_samples), axis = 0) \n",
    "        l_df[n].update(z_score_scaler(l_df[n].loc[:,np.isin(l_df[n].columns, non_numerical_columns, invert=True)].copy(deep=True))) \n",
    "    return l_df"
   ]
  },
  {
   "cell_type": "code",
   "execution_count": 166,
   "metadata": {},
   "outputs": [
    {
     "name": "stdout",
     "output_type": "stream",
     "text": [
      "[==================================================] 100%  of z-score scaling"
     ]
    }
   ],
   "source": [
    "l_scaled_data = center_plate(profiles,plates_list)\n",
    "z_score_normalized_profiles = pd.concat(l_scaled_data, ignore_index=True)"
   ]
  },
  {
   "cell_type": "markdown",
   "metadata": {},
   "source": [
    "After normalization, we look for infinite values and null values that might have been introduced during normalizing."
   ]
  },
  {
   "cell_type": "code",
   "execution_count": 167,
   "metadata": {},
   "outputs": [
    {
     "name": "stdout",
     "output_type": "stream",
     "text": [
      "DataFrame does not contain nan values.\n"
     ]
    }
   ],
   "source": [
    "# Check for nan values\n",
    "if np.isnan(z_score_normalized_profiles.iloc[0:,4:]).any().any():\n",
    "    print(\"DataFrame contains nan values.\")\n",
    "else:\n",
    "    print(\"DataFrame does not contain nan values.\")"
   ]
  },
  {
   "cell_type": "code",
   "execution_count": 168,
   "metadata": {},
   "outputs": [
    {
     "name": "stdout",
     "output_type": "stream",
     "text": [
      "DataFrame contains infinite values.\n"
     ]
    }
   ],
   "source": [
    "# Check for infinite values\n",
    "if np.isinf(z_score_normalized_profiles.iloc[0:,4:]).any().any():\n",
    "    print(\"DataFrame contains infinite values.\")\n",
    "else:\n",
    "    print(\"DataFrame does not contain infinite values.\")"
   ]
  },
  {
   "cell_type": "code",
   "execution_count": 169,
   "metadata": {},
   "outputs": [
    {
     "name": "stdout",
     "output_type": "stream",
     "text": [
      "There are 129 features with infinite values, which we are going to drop.\n"
     ]
    }
   ],
   "source": [
    "# drop infinite values\n",
    "to_drop = []\n",
    "for column in z_score_normalized_profiles.columns:\n",
    "    if not column in ['CPD_NAME', 'Metadata_Plate', 'Metadata_broad_sample', 'CPD_SMILES']:\n",
    "        if not np.isinf(z_score_normalized_profiles[column]).values.sum() == 0:\n",
    "            to_drop.append(column)\n",
    "print(f'There are {len(to_drop)} features with infinite values, which we are going to drop.')"
   ]
  },
  {
   "cell_type": "code",
   "execution_count": 170,
   "metadata": {},
   "outputs": [
    {
     "name": "stdout",
     "output_type": "stream",
     "text": [
      "Scaled data dimension : (148723, 1599)\n"
     ]
    }
   ],
   "source": [
    "z_score_normalized_profiles.drop(to_drop, axis='columns', inplace=True)\n",
    "print(f'Scaled data dimension : {z_score_normalized_profiles.shape }')"
   ]
  },
  {
   "cell_type": "markdown",
   "metadata": {},
   "source": [
    "##  Aggregation \n"
   ]
  },
  {
   "cell_type": "markdown",
   "metadata": {},
   "source": [
    "After scaling the data, we collapse all replicas from one compound into one unique median morphological profile."
   ]
  },
  {
   "cell_type": "code",
   "execution_count": 171,
   "metadata": {},
   "outputs": [
    {
     "name": "stdout",
     "output_type": "stream",
     "text": [
      "There are 30377 unique Metada molecule id within this dataset\n",
      "There are 30112 unique compound name within this dataset\n",
      "There are 30177 unique compound SMILES within this dataset\n"
     ]
    }
   ],
   "source": [
    "print(f'There are {len(set(z_score_normalized_profiles.Metadata_broad_sample))} unique Metada molecule id within this dataset')\n",
    "print(f'There are {len(set(z_score_normalized_profiles.CPD_NAME))} unique compound name within this dataset')\n",
    "print(f'There are {len(set(z_score_normalized_profiles.CPD_SMILES))} unique compound SMILES within this dataset')"
   ]
  },
  {
   "cell_type": "markdown",
   "metadata": {},
   "source": [
    "We are using Metadata molecule ID to merge the replicas into treatment profiles because "
   ]
  },
  {
   "cell_type": "code",
   "execution_count": 172,
   "metadata": {},
   "outputs": [],
   "source": [
    "z_score_agreg = z_score_normalized_profiles.groupby(['Metadata_broad_sample'],sort=False,dropna=True).median(numeric_only=True).reset_index()\n",
    "z_score_agreg.drop(labels='Metadata_Plate',axis=1,inplace=True)\n",
    "z_score_agreg = z_score_agreg.dropna(axis = \"columns\", how = 'any')\n"
   ]
  },
  {
   "cell_type": "markdown",
   "metadata": {},
   "source": [
    "We need to keep the CPD_NAMES and CPD_SMILES for the next part."
   ]
  },
  {
   "cell_type": "code",
   "execution_count": 173,
   "metadata": {},
   "outputs": [],
   "source": [
    "annotations.merge(z_score_agreg, how='right', on='Metadata_broad_sample')\n",
    "z_score_agreg = annotations.merge(z_score_agreg, how='right', on='Metadata_broad_sample')"
   ]
  },
  {
   "cell_type": "code",
   "execution_count": 177,
   "metadata": {},
   "outputs": [
    {
     "name": "stdout",
     "output_type": "stream",
     "text": [
      "After aggragation the treatment replicas into one tratment profiles, we obtained a treatment level profiles for 30377 molecules\n"
     ]
    },
    {
     "data": {
      "text/html": [
       "<div>\n",
       "<style scoped>\n",
       "    .dataframe tbody tr th:only-of-type {\n",
       "        vertical-align: middle;\n",
       "    }\n",
       "\n",
       "    .dataframe tbody tr th {\n",
       "        vertical-align: top;\n",
       "    }\n",
       "\n",
       "    .dataframe thead th {\n",
       "        text-align: right;\n",
       "    }\n",
       "</style>\n",
       "<table border=\"1\" class=\"dataframe\">\n",
       "  <thead>\n",
       "    <tr style=\"text-align: right;\">\n",
       "      <th></th>\n",
       "      <th>Metadata_broad_sample</th>\n",
       "      <th>CPD_NAME</th>\n",
       "      <th>CPD_SMILES</th>\n",
       "      <th>Cells_AreaShape_Area</th>\n",
       "      <th>Cells_AreaShape_Center_X</th>\n",
       "      <th>Cells_AreaShape_Center_Y</th>\n",
       "      <th>Cells_AreaShape_Compactness</th>\n",
       "      <th>Cells_AreaShape_Eccentricity</th>\n",
       "      <th>Cells_AreaShape_Extent</th>\n",
       "      <th>Cells_AreaShape_FormFactor</th>\n",
       "      <th>...</th>\n",
       "      <th>Nuclei_Texture_Variance_DNA_5_0</th>\n",
       "      <th>Nuclei_Texture_Variance_ER_10_0</th>\n",
       "      <th>Nuclei_Texture_Variance_ER_3_0</th>\n",
       "      <th>Nuclei_Texture_Variance_ER_5_0</th>\n",
       "      <th>Nuclei_Texture_Variance_Mito_10_0</th>\n",
       "      <th>Nuclei_Texture_Variance_Mito_3_0</th>\n",
       "      <th>Nuclei_Texture_Variance_Mito_5_0</th>\n",
       "      <th>Nuclei_Texture_Variance_RNA_10_0</th>\n",
       "      <th>Nuclei_Texture_Variance_RNA_3_0</th>\n",
       "      <th>Nuclei_Texture_Variance_RNA_5_0</th>\n",
       "    </tr>\n",
       "  </thead>\n",
       "  <tbody>\n",
       "    <tr>\n",
       "      <th>30375</th>\n",
       "      <td>BRD-K39179354-001-01-2</td>\n",
       "      <td>BRD-K39179354</td>\n",
       "      <td>C[C@@H](CO)N1C[C@H](C)[C@H](CN(C)C(=O)Nc2ccc3O...</td>\n",
       "      <td>1.69137</td>\n",
       "      <td>1.283934</td>\n",
       "      <td>0.180507</td>\n",
       "      <td>3.631616</td>\n",
       "      <td>2.311561</td>\n",
       "      <td>-1.388942</td>\n",
       "      <td>-0.387557</td>\n",
       "      <td>...</td>\n",
       "      <td>0.477596</td>\n",
       "      <td>0.405957</td>\n",
       "      <td>0.784286</td>\n",
       "      <td>0.837119</td>\n",
       "      <td>-1.563289</td>\n",
       "      <td>-1.886336</td>\n",
       "      <td>-1.780738</td>\n",
       "      <td>-0.742667</td>\n",
       "      <td>-0.976932</td>\n",
       "      <td>-0.634132</td>\n",
       "    </tr>\n",
       "    <tr>\n",
       "      <th>30376</th>\n",
       "      <td>BRD-K39192716-001-01-8</td>\n",
       "      <td>BRD-K39192716</td>\n",
       "      <td>CNC[C@@H]1OCCCC[C@H](C)Oc2ccc(NS(=O)(=O)c3ccc(...</td>\n",
       "      <td>1.96441</td>\n",
       "      <td>1.438107</td>\n",
       "      <td>-0.814169</td>\n",
       "      <td>4.742190</td>\n",
       "      <td>2.744186</td>\n",
       "      <td>-1.876795</td>\n",
       "      <td>-1.040571</td>\n",
       "      <td>...</td>\n",
       "      <td>1.042578</td>\n",
       "      <td>-0.043634</td>\n",
       "      <td>0.231786</td>\n",
       "      <td>0.275192</td>\n",
       "      <td>-1.332345</td>\n",
       "      <td>-1.111925</td>\n",
       "      <td>-1.138327</td>\n",
       "      <td>-0.332076</td>\n",
       "      <td>-0.684519</td>\n",
       "      <td>-0.563520</td>\n",
       "    </tr>\n",
       "  </tbody>\n",
       "</table>\n",
       "<p>2 rows × 1598 columns</p>\n",
       "</div>"
      ],
      "text/plain": [
       "        Metadata_broad_sample       CPD_NAME  \\\n",
       "30375  BRD-K39179354-001-01-2  BRD-K39179354   \n",
       "30376  BRD-K39192716-001-01-8  BRD-K39192716   \n",
       "\n",
       "                                              CPD_SMILES  \\\n",
       "30375  C[C@@H](CO)N1C[C@H](C)[C@H](CN(C)C(=O)Nc2ccc3O...   \n",
       "30376  CNC[C@@H]1OCCCC[C@H](C)Oc2ccc(NS(=O)(=O)c3ccc(...   \n",
       "\n",
       "       Cells_AreaShape_Area  Cells_AreaShape_Center_X  \\\n",
       "30375               1.69137                  1.283934   \n",
       "30376               1.96441                  1.438107   \n",
       "\n",
       "       Cells_AreaShape_Center_Y  Cells_AreaShape_Compactness  \\\n",
       "30375                  0.180507                     3.631616   \n",
       "30376                 -0.814169                     4.742190   \n",
       "\n",
       "       Cells_AreaShape_Eccentricity  Cells_AreaShape_Extent  \\\n",
       "30375                      2.311561               -1.388942   \n",
       "30376                      2.744186               -1.876795   \n",
       "\n",
       "       Cells_AreaShape_FormFactor  ...  Nuclei_Texture_Variance_DNA_5_0  \\\n",
       "30375                   -0.387557  ...                         0.477596   \n",
       "30376                   -1.040571  ...                         1.042578   \n",
       "\n",
       "       Nuclei_Texture_Variance_ER_10_0  Nuclei_Texture_Variance_ER_3_0  \\\n",
       "30375                         0.405957                        0.784286   \n",
       "30376                        -0.043634                        0.231786   \n",
       "\n",
       "       Nuclei_Texture_Variance_ER_5_0  Nuclei_Texture_Variance_Mito_10_0  \\\n",
       "30375                        0.837119                          -1.563289   \n",
       "30376                        0.275192                          -1.332345   \n",
       "\n",
       "       Nuclei_Texture_Variance_Mito_3_0  Nuclei_Texture_Variance_Mito_5_0  \\\n",
       "30375                         -1.886336                         -1.780738   \n",
       "30376                         -1.111925                         -1.138327   \n",
       "\n",
       "       Nuclei_Texture_Variance_RNA_10_0  Nuclei_Texture_Variance_RNA_3_0  \\\n",
       "30375                         -0.742667                        -0.976932   \n",
       "30376                         -0.332076                        -0.684519   \n",
       "\n",
       "       Nuclei_Texture_Variance_RNA_5_0  \n",
       "30375                        -0.634132  \n",
       "30376                        -0.563520  \n",
       "\n",
       "[2 rows x 1598 columns]"
      ]
     },
     "execution_count": 177,
     "metadata": {},
     "output_type": "execute_result"
    }
   ],
   "source": [
    "print(f'After aggragation the treatment replicas into one tratment profiles, we obtained a treatment level profiles for {z_score_agreg.shape[0]} molecules')\n",
    "z_score_agreg.tail(2)"
   ]
  },
  {
   "cell_type": "markdown",
   "metadata": {},
   "source": [
    "We check and remove any constant features that might have appeared after normalization or aggregation "
   ]
  },
  {
   "cell_type": "code",
   "execution_count": 182,
   "metadata": {},
   "outputs": [
    {
     "name": "stdout",
     "output_type": "stream",
     "text": [
      "Constant features to be removed are: ['Cytoplasm_AreaShape_EulerNumber']\n"
     ]
    }
   ],
   "source": [
    "test = z_score_agreg.columns[np.all(z_score_agreg == z_score_agreg.iloc[0], axis=0)]\n",
    "print(\"Constant features to be removed are:\", test.to_list())"
   ]
  },
  {
   "cell_type": "code",
   "execution_count": 184,
   "metadata": {},
   "outputs": [
    {
     "name": "stdout",
     "output_type": "stream",
     "text": [
      "Constant features to be removed are: ['Cytoplasm_AreaShape_EulerNumber']\n"
     ]
    }
   ],
   "source": [
    "constant_features = []\n",
    "constant_features = z_score_agreg.columns[np.all(z_score_agreg == z_score_agreg.iloc[0], axis=0)]\n",
    "print(\"Constant features to be removed are:\", constant_features.to_list())\n",
    "\n",
    "z_score_agreg.drop(constant_features.to_list(), axis=1 , inplace=True)\n",
    "z_score_agreg = z_score_agreg.reset_index()\n",
    "z_score_agreg.drop(columns='index',inplace=True)"
   ]
  },
  {
   "cell_type": "markdown",
   "metadata": {},
   "source": [
    "### Features reduction "
   ]
  },
  {
   "cell_type": "markdown",
   "metadata": {},
   "source": [
    "This part consists of reducing the collinearity between features using Pearson correlation and a minimal redundancy and maximal relevance algorithm."
   ]
  },
  {
   "cell_type": "markdown",
   "metadata": {},
   "source": [
    "1. Reduce colinearity "
   ]
  },
  {
   "cell_type": "code",
   "execution_count": 188,
   "metadata": {},
   "outputs": [],
   "source": [
    "profiles = z_score_agreg\n",
    "data = profiles.iloc[:,3:]"
   ]
  },
  {
   "cell_type": "code",
   "execution_count": 189,
   "metadata": {},
   "outputs": [],
   "source": [
    "#warnings.filterwarnings('ignore')\n",
    "corr = data.corr(numeric_only=True)\n",
    "sns_plot = sns.clustermap(corr, cmap=\"rocket_r\")\n",
    "\n",
    "# We convert the correlation matrix to a distance matrix before performing\n",
    "# hierarchical clustering using Ward's linkage.\n",
    "distance_matrix = 1 - np.abs(corr)\n",
    "dist_linkage = ward(squareform(distance_matrix))\n",
    "\n",
    "fig = plt.figure(figsize=(90, 35))\n",
    "dn = dendrogram(dist_linkage)\n",
    "plt.show()\n"
   ]
  },
  {
   "cell_type": "markdown",
   "metadata": {},
   "source": [
    "Here we want to identify the optimal number of features' clusters. This means the number of clusters having a minimized intra-varience and separate the features into most distinct classes."
   ]
  },
  {
   "cell_type": "code",
   "execution_count": null,
   "metadata": {},
   "outputs": [],
   "source": [
    "\n",
    "ts = []\n",
    "num_clusters = []\n",
    "for t in np.arange(0.1, 2.8, 0.10):\n",
    "    ts.append(t)\n",
    "    cluster_ids = fcluster(dist_linkage,t = t, criterion=\"distance\") \n",
    "    cluster_id_to_feature_ids = defaultdict(list)\n",
    "\n",
    "    #create a dictionary for each cluster and add features index as value  \n",
    "    for idx, cluster_id in enumerate(cluster_ids):\n",
    "        cluster_id_to_feature_ids[cluster_id].append(idx)\n",
    "    \n",
    "    num_clusters.append(len(cluster_id_to_feature_ids.keys()))\n",
    "\n",
    "\n",
    "plt.plot(ts, num_clusters, 'bx-')\n",
    "plt.xlabel('threshold values')\n",
    "plt.ylabel('number of clusters')\n",
    "plt.title('Cluster threshold vs final number clusters')\n",
    "plt.show()\n"
   ]
  },
  {
   "cell_type": "markdown",
   "metadata": {},
   "source": [
    "From each cluster of features, we take one feature as representative to avoid redundancy, i.e., the number of clusters is the same as the final number of selected features. The plot shows us this number versus the threshold. So, we can use it to choose the optimum threshold for our desired number of features. We choose a threshold of 0.5."
   ]
  },
  {
   "cell_type": "code",
   "execution_count": null,
   "metadata": {},
   "outputs": [],
   "source": [
    "cluster_ids = fcluster(dist_linkage,t = 0.5, criterion=\"distance\") \n",
    "cluster_id_to_feature_ids = defaultdict(list)\n",
    "\n",
    "#create a dictionary for each cluster and add features index as value  \n",
    "for idx, cluster_id in enumerate(cluster_ids):\n",
    "    cluster_id_to_feature_ids[cluster_id].append(idx)\n",
    "selected_features = [v[0] for v in cluster_id_to_feature_ids.values()]"
   ]
  },
  {
   "cell_type": "code",
   "execution_count": null,
   "metadata": {},
   "outputs": [],
   "source": [
    "selected_features_names = data.columns[selected_features]\n",
    "print(f'{len(selected_features_names)} features are kept')"
   ]
  },
  {
   "cell_type": "code",
   "execution_count": null,
   "metadata": {},
   "outputs": [],
   "source": [
    "aggregated_profiles = pd.concat([profiles.iloc[:,:3],profiles[selected_features_names]],axis=1)"
   ]
  },
  {
   "cell_type": "markdown",
   "metadata": {},
   "source": [
    "## Pickle final Data "
   ]
  },
  {
   "cell_type": "code",
   "execution_count": null,
   "metadata": {},
   "outputs": [],
   "source": [
    "#check if directory exist before creating it\n",
    "directory = '../Data/Output'\n",
    "if not os.path.exists(directory):\n",
    "    os.mkdir(directory)\n"
   ]
  },
  {
   "cell_type": "code",
   "execution_count": null,
   "metadata": {},
   "outputs": [],
   "source": [
    "aggregated_profiles.to_pickle(\"../Data/Output/output_notebook_1.pkl\")"
   ]
  },
  {
   "cell_type": "markdown",
   "metadata": {},
   "source": [
    "## Conclusion"
   ]
  },
  {
   "cell_type": "code",
   "execution_count": null,
   "metadata": {},
   "outputs": [],
   "source": [
    "print(f'After different steps of pre-processing, we obtained a treatment level profiles for {aggregated_profiles.shape[0]} molecules')\n",
    "print(f'Each treatment-level profiles has {aggregated_profiles.shape[1]} features')"
   ]
  }
 ],
 "metadata": {
  "kernelspec": {
   "display_name": "MORPHEUS",
   "language": "python",
   "name": "python3"
  },
  "language_info": {
   "codemirror_mode": {
    "name": "ipython",
    "version": 3
   },
   "file_extension": ".py",
   "mimetype": "text/x-python",
   "name": "python",
   "nbconvert_exporter": "python",
   "pygments_lexer": "ipython3",
   "version": "3.8.19"
  }
 },
 "nbformat": 4,
 "nbformat_minor": 2
}
