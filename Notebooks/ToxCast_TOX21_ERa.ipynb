{
 "cells": [
  {
   "cell_type": "markdown",
   "metadata": {},
   "source": [
    "# ER Toxcast data set "
   ]
  },
  {
   "cell_type": "markdown",
   "metadata": {},
   "source": [
    "Evaluation of the number of overlapping compounds with the BROAD dataset BBC$047$ and different Toxcast assays on the Estrogen Receptor alpha.\n",
    "Data from ToxCast are accessible from the [Environmental Protection Agency](https://www.epa.gov/comptox-tools/exploring-toxcast-data), website. The dataset used here is ToxCast downloaded from [Moleculenet](https://moleculenet.org/datasets-1).\n",
    "\n",
    "Estrogen receptor model data and complementary information on assays are retrieved from the [high-throughput screening data for estrogen receptor model](https://clowder.edap-cluster.com/files/6114b353e4b0856fdc656937?dataset=61147fefe4b0856fdc65639b&space=&folder=6114818be4b0856fdc656443), released version dating from 2015.\n"
   ]
  },
  {
   "cell_type": "markdown",
   "metadata": {},
   "source": [
    "## Import Library "
   ]
  },
  {
   "cell_type": "code",
   "execution_count": null,
   "metadata": {},
   "outputs": [],
   "source": [
    "import pandas as pd \n",
    "import plotly.express as px\n",
    "from rdkit import Chem\n",
    "from rdkit.Chem.MolStandardize import rdMolStandardize\n",
    "from rdkit import RDLogger\n",
    "import warnings"
   ]
  },
  {
   "cell_type": "markdown",
   "metadata": {},
   "source": [
    "## Load data : ToxCast and per-treatment profiles "
   ]
  },
  {
   "cell_type": "markdown",
   "metadata": {},
   "source": [
    "The Toxcast dataset gathers toxicology data for a large library of compounds based on in vitro high-throughput screening, including experiments on over 600 tasks. It contains assay outcomes on antagonism and agonism, as well as viability toward the estrogen receptor alpha, tested on the recombinant human ovarian (BG1Luc4E2) cell line. The protocol for these experiments is available under [Tox21Assay_SLPs](https://clowder.edap-cluster.com/files/638f9982e4b04f6bb1497267?dataset=63602c6de4b04f6bb13dc4d4&space=)."
   ]
  },
  {
   "cell_type": "code",
   "execution_count": null,
   "metadata": {},
   "outputs": [],
   "source": [
    "toxcast = pd.read_csv('../Data/Annotations/toxcast_data.csv')\n",
    "dataset = pd.read_pickle('../Data/Output/output_notebook_1.pkl')"
   ]
  },
  {
   "cell_type": "markdown",
   "metadata": {},
   "source": [
    "### Load datasets"
   ]
  },
  {
   "cell_type": "markdown",
   "metadata": {},
   "source": [
    "Out of the different assay, we are only interested in the one performed on ER, therefore we're selecting them accordingly by checking the asay name. "
   ]
  },
  {
   "cell_type": "markdown",
   "metadata": {},
   "source": [
    "### Get Estrogen receptor relevant assays "
   ]
  },
  {
   "cell_type": "code",
   "execution_count": null,
   "metadata": {},
   "outputs": [],
   "source": [
    "toxcast.columns.to_list()"
   ]
  },
  {
   "cell_type": "code",
   "execution_count": null,
   "metadata": {},
   "outputs": [],
   "source": [
    "ER_TOX_ASSAY_id = []\n",
    "for assay in toxcast.columns.to_list():\n",
    "    if assay.startswith('TOX21_ERa_') or assay.startswith('TOX21_ESRE_') or assay.startswith('OT_ER_ER'):\n",
    "        ER_TOX_ASSAY_id.append(assay)\n",
    "print(f'There are {len(ER_TOX_ASSAY_id)} assay related to estrogen activity')    "
   ]
  },
  {
   "cell_type": "code",
   "execution_count": null,
   "metadata": {},
   "outputs": [],
   "source": [
    "toxcast_er = toxcast[['smiles'] + ER_TOX_ASSAY_id]"
   ]
  },
  {
   "cell_type": "markdown",
   "metadata": {},
   "source": [
    "### Keep unique informaton and drop lines having missing value"
   ]
  },
  {
   "cell_type": "markdown",
   "metadata": {},
   "source": [
    "Now we make a list of unique smiles that have values for ER assay, everything but NAN for each assay. "
   ]
  },
  {
   "cell_type": "code",
   "execution_count": null,
   "metadata": {},
   "outputs": [],
   "source": [
    "filtered_toxcast_smiles_ER = []\n",
    "for assay in ER_TOX_ASSAY_id:\n",
    "    filtered_data = toxcast[toxcast[assay].notnull() & (toxcast[assay] != ' ')]\n",
    "    if not filtered_data.empty:\n",
    "        filtered_toxcast_smiles_ER += filtered_data['smiles'].tolist()\n",
    "filtered_toxcast_smiles_ER = list(set(filtered_toxcast_smiles_ER))"
   ]
  },
  {
   "cell_type": "code",
   "execution_count": null,
   "metadata": {},
   "outputs": [],
   "source": [
    "print(f'We have now {len(filtered_toxcast_smiles_ER)} smiles with endpoint toward estrogen receptor')"
   ]
  },
  {
   "cell_type": "markdown",
   "metadata": {},
   "source": [
    "As we want to evaluate the overlapping between two datasets and molecule names are not consistent we will use the SMILES information of both datasets. Ideally, one will prepare both SMILES sets the same way to determine common molecules in both sets."
   ]
  },
  {
   "cell_type": "markdown",
   "metadata": {},
   "source": [
    "### Check the validity of smiles and standardization"
   ]
  },
  {
   "cell_type": "code",
   "execution_count": null,
   "metadata": {},
   "outputs": [],
   "source": [
    "\n",
    "# Function to check if SMILES is valid\n",
    "def is_valid_smiles(smiles):\n",
    "    \n",
    "    return Chem.MolFromSmiles(smiles) is not None\n",
    "\n",
    "# Filter out invalid SMILES\n",
    "RDLogger.DisableLog('rdApp.info')\n",
    "valid_smiles_df = toxcast_er[toxcast_er['smiles'].apply(is_valid_smiles)]\n"
   ]
  },
  {
   "cell_type": "markdown",
   "metadata": {},
   "source": [
    "Now we normalize the smiles obtained at the previous step and the one from our dataset "
   ]
  },
  {
   "cell_type": "code",
   "execution_count": null,
   "metadata": {},
   "outputs": [],
   "source": [
    "def clean_std_smiles(dataset,smiles):\n",
    "    \n",
    "    '''\n",
    "    Standardize (Cleanup) and canonicalize parent smiles\n",
    "        Parameters : \n",
    "            dataset (data frame): data frame having a column named 'CPD_SMILES' with smiles\n",
    "        Returns : \n",
    "            dataset (data frame): same data frame with one more column named 'STD_smile'\n",
    "    '''\n",
    "    # Disable the log message and warning \n",
    "    RDLogger.DisableLog('rdApp.info')\n",
    "    warnings.filterwarnings('ignore') \n",
    "    # Convert SMILES to RDKit molecule objects\n",
    "    mol_objects = dataset[smiles].apply(Chem.MolFromSmiles)\n",
    "    \n",
    "    # Clean up and standardize the molecule list\n",
    "    clean_mol = [rdMolStandardize.Cleanup(mol) for mol in mol_objects if mol is not None]\n",
    "    \n",
    "    # Get the largest fragment after cleanup\n",
    "    parent_clean_mol = [rdMolStandardize.FragmentParent(mol) for mol in clean_mol]\n",
    "    \n",
    "    # Convert the standardized molecules back to SMILES\n",
    "    std_smiles = [Chem.MolToSmiles(mol) for mol in parent_clean_mol]\n",
    "    \n",
    "    # Add the standardized SMILES to the dataset\n",
    "    dataset.loc[:,'STD_smile'] = std_smiles\n",
    "\n",
    "    return dataset"
   ]
  },
  {
   "cell_type": "code",
   "execution_count": null,
   "metadata": {},
   "outputs": [],
   "source": [
    "dataset = clean_std_smiles(dataset=dataset,smiles='CPD_SMILES')\n",
    "toxcast_er = clean_std_smiles(dataset=valid_smiles_df,smiles='smiles')"
   ]
  },
  {
   "cell_type": "markdown",
   "metadata": {},
   "source": [
    "Now both dataset have a Standarddize smiles entry we can compare them to identified overlapping molecules."
   ]
  },
  {
   "cell_type": "markdown",
   "metadata": {},
   "source": [
    "### Overlap between sets"
   ]
  },
  {
   "cell_type": "code",
   "execution_count": null,
   "metadata": {},
   "outputs": [],
   "source": [
    "overlapped = dataset[dataset['STD_smile'].isin(toxcast_er['STD_smile'].to_list())]\n",
    "print(f'There are {overlapped.shape[0]} overlapped compound between all Toxcast estrogen receptor endpoint and broad dataset ')"
   ]
  },
  {
   "cell_type": "markdown",
   "metadata": {},
   "source": [
    "We want to see if we have enough molecules for each class before building a predictive model in [Part3-Machine_learning.ipynb](Part3-Machine_learning.ipynb). \n"
   ]
  },
  {
   "cell_type": "markdown",
   "metadata": {},
   "source": [
    "### Proportions of activity for each assay."
   ]
  },
  {
   "cell_type": "markdown",
   "metadata": {},
   "source": [
    "Now we are looking at the ratio of active/inactive i.e classes for each assay. That will be later plot for better visualisation.\n"
   ]
  },
  {
   "cell_type": "code",
   "execution_count": null,
   "metadata": {},
   "outputs": [],
   "source": [
    "counts_dict = {}\n",
    "for col in toxcast_er[ER_TOX_ASSAY_id]:\n",
    "    counts_dict[col] = toxcast_er[col].value_counts()\n",
    "\n",
    "# Create a DataFrame from the dictionary\n",
    "counts_df_assay = pd.DataFrame.from_dict(counts_dict, orient='index').transpose().fillna(0).astype(int)"
   ]
  },
  {
   "cell_type": "code",
   "execution_count": null,
   "metadata": {},
   "outputs": [],
   "source": [
    "print(f'One can quickly see that the class are highly inbalanced indepently from the assay')\n",
    "counts_df_assay"
   ]
  },
  {
   "cell_type": "markdown",
   "metadata": {},
   "source": [
    "### Visualization of which of the assay endpoint has the most overlapped compound in the dataset overlapping"
   ]
  },
  {
   "cell_type": "markdown",
   "metadata": {},
   "source": [
    "The next step is to identify which assay endpoint has the most overlapping compounds between the Tox-Broad dataset, which contains 14 assay endpoints and over 800 molecules."
   ]
  },
  {
   "cell_type": "code",
   "execution_count": null,
   "metadata": {},
   "outputs": [],
   "source": [
    "merged_df = overlapped.merge(toxcast_er, on='STD_smile', how='left')\n"
   ]
  },
  {
   "cell_type": "code",
   "execution_count": null,
   "metadata": {},
   "outputs": [],
   "source": [
    "counts_dict = {}\n",
    "for col in merged_df[ER_TOX_ASSAY_id]:\n",
    "    counts_dict[col] = merged_df[col].value_counts()\n",
    "\n",
    "# Create a DataFrame from the dictionary\n",
    "counts_df_assay = pd.DataFrame.from_dict(counts_dict, orient='index').transpose().fillna(0).astype(int)"
   ]
  },
  {
   "cell_type": "code",
   "execution_count": null,
   "metadata": {},
   "outputs": [],
   "source": [
    "counts_df_assay = pd.DataFrame.from_dict(counts_dict, orient='index').transpose().fillna(0).astype(int)\n",
    "# Reset the index to turn it into a column for melting\n",
    "counts_df_assay.reset_index(inplace=True)\n",
    "counts_df_assay.rename(columns={'index': 'status'}, inplace=True)\n",
    "\n",
    "# Melt the DataFrame to long format\n",
    "melted_df = counts_df_assay.melt(id_vars=['status'], var_name='assay', value_name='count')\n",
    "\n",
    "# Map the status column to active/inactive for better readability\n",
    "status_mapping = {0.0: 'inactive', 1.0: 'active'}\n",
    "melted_df['status'] = melted_df['status'].map(status_mapping)\n",
    "\n",
    "# Create the bar plot\n",
    "fig = px.bar(melted_df, x='assay', y='count', color='status', barmode='group',\n",
    "             labels={'assay': 'Assay', 'count': 'Count', 'status': 'Status'},\n",
    "             title='Number of Active and Inactive Counts per Assay')\n",
    "\n",
    "# Update layout for better appearance\n",
    "fig.update_layout(xaxis_title='Assay', yaxis_title='Count', title='Number of Active and Inactive Counts per Assay for Endrogen receptor Agonist / Antagonist activity')\n",
    "\n",
    "# Show the plot\n",
    "fig.show()\n"
   ]
  },
  {
   "cell_type": "code",
   "execution_count": null,
   "metadata": {},
   "outputs": [],
   "source": [
    "ERa_LUC_BG1 = merged_df[['TOX21_ERa_LUC_BG1_Antagonist','TOX21_ERa_LUC_BG1_Agonist','CPD_NAME']]"
   ]
  },
  {
   "cell_type": "code",
   "execution_count": null,
   "metadata": {},
   "outputs": [],
   "source": [
    "ERa_LUC_BG1.head()"
   ]
  },
  {
   "cell_type": "code",
   "execution_count": null,
   "metadata": {},
   "outputs": [],
   "source": [
    "active = len(ERa_LUC_BG1[(ERa_LUC_BG1['TOX21_ERa_LUC_BG1_Antagonist'] != 0) | (ERa_LUC_BG1['TOX21_ERa_LUC_BG1_Agonist'] != 0)]['CPD_NAME'].unique())\n",
    "inactive = len(ERa_LUC_BG1[(ERa_LUC_BG1['TOX21_ERa_LUC_BG1_Antagonist'] == 0) & (ERa_LUC_BG1['TOX21_ERa_LUC_BG1_Agonist'] == 0)]['CPD_NAME'].unique())\n",
    "print(f'There are {active} active (agonist - antagonist) and {inactive} inactive molecules on ER alpha activity tested on LUC_BG1 cell types and also identified in the BBBC047 dataset.')"
   ]
  },
  {
   "cell_type": "markdown",
   "metadata": {},
   "source": [
    "### Saving activity data set"
   ]
  },
  {
   "cell_type": "code",
   "execution_count": null,
   "metadata": {},
   "outputs": [],
   "source": [
    "ERa_LUC_BG1.to_csv('../Data/Output/ER_activity_luc_bg1.csv')"
   ]
  }
 ],
 "metadata": {
  "kernelspec": {
   "display_name": "MORPHEUS",
   "language": "python",
   "name": "python3"
  },
  "language_info": {
   "codemirror_mode": {
    "name": "ipython",
    "version": 3
   },
   "file_extension": ".py",
   "mimetype": "text/x-python",
   "name": "python",
   "nbconvert_exporter": "python",
   "pygments_lexer": "ipython3",
   "version": "3.11.5"
  }
 },
 "nbformat": 4,
 "nbformat_minor": 2
}
