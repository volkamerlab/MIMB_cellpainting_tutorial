{
 "cells": [
  {
   "cell_type": "markdown",
   "metadata": {},
   "source": [
    "# ER Toxcast data set "
   ]
  },
  {
   "cell_type": "markdown",
   "metadata": {},
   "source": [
    "Evaluation of the number of overlapping compounds with the BROAD dataset BBC$047$ and different Toxcast assays on the Estrogen Receptor alpha.\n",
    "Data from ToxCast are accessible from the [Environmental Protection Agency](https://www.epa.gov/comptox-tools/exploring-toxcast-data), website. The dataset used here is ToxCast downloaded from [Moleculenet](https://moleculenet.org/datasets-1).\n",
    "\n",
    "Estrogen receptor model data and complementary information on assays are retrieved from the [high-throughput screening data for estrogen receptor model](https://clowder.edap-cluster.com/files/6114b353e4b0856fdc656937?dataset=61147fefe4b0856fdc65639b&space=&folder=6114818be4b0856fdc656443), released version dating from 2015.\n"
   ]
  },
  {
   "cell_type": "markdown",
   "metadata": {},
   "source": [
    "## Import Library "
   ]
  },
  {
   "cell_type": "code",
   "execution_count": 1,
   "metadata": {},
   "outputs": [],
   "source": [
    "import pandas as pd \n",
    "import plotly.express as px\n",
    "from rdkit import Chem\n",
    "from rdkit.Chem.MolStandardize import rdMolStandardize\n",
    "from rdkit import RDLogger\n",
    "import warnings"
   ]
  },
  {
   "cell_type": "markdown",
   "metadata": {},
   "source": [
    "## Load data : ToxCast and per-treatment profiles "
   ]
  },
  {
   "cell_type": "markdown",
   "metadata": {},
   "source": [
    "The Toxcast dataset gathers toxicology data for a large library of compounds based on in vitro high-throughput screening, including experiments on over 600 tasks. It contains assay outcomes on antagonism and agonism, as well as viability toward the estrogen receptor alpha, tested on the recombinant human ovarian (BG1Luc4E2) cell line. The protocol for these experiments is available under [Tox21Assay_SLPs](https://clowder.edap-cluster.com/files/638f9982e4b04f6bb1497267?dataset=63602c6de4b04f6bb13dc4d4&space=)."
   ]
  },
  {
   "cell_type": "markdown",
   "metadata": {},
   "source": [
    "### Load datasets"
   ]
  },
  {
   "cell_type": "code",
   "execution_count": 2,
   "metadata": {},
   "outputs": [],
   "source": [
    "toxcast = pd.read_csv('../Data/Annotations/toxcast_data.csv')\n",
    "dataset = pd.read_pickle('../Data/Output/fingerprint_ds.pkl')"
   ]
  },
  {
   "cell_type": "markdown",
   "metadata": {},
   "source": [
    "Out of the different assay, we are only interested in the one performed on ER, therefore we're selecting them accordingly by checking the asay name. "
   ]
  },
  {
   "cell_type": "markdown",
   "metadata": {},
   "source": [
    "### Get Estrogen receptor relevant assays "
   ]
  },
  {
   "cell_type": "code",
   "execution_count": 3,
   "metadata": {},
   "outputs": [
    {
     "data": {
      "text/plain": [
       "['smiles',\n",
       " 'ACEA_T47D_80hr_Negative',\n",
       " 'ACEA_T47D_80hr_Positive',\n",
       " 'APR_HepG2_CellCycleArrest_24h_dn',\n",
       " 'APR_HepG2_CellCycleArrest_24h_up',\n",
       " 'APR_HepG2_CellCycleArrest_72h_dn',\n",
       " 'APR_HepG2_CellLoss_24h_dn',\n",
       " 'APR_HepG2_CellLoss_72h_dn',\n",
       " 'APR_HepG2_MicrotubuleCSK_24h_dn',\n",
       " 'APR_HepG2_MicrotubuleCSK_24h_up',\n",
       " 'APR_HepG2_MicrotubuleCSK_72h_dn',\n",
       " 'APR_HepG2_MicrotubuleCSK_72h_up',\n",
       " 'APR_HepG2_MitoMass_24h_dn',\n",
       " 'APR_HepG2_MitoMass_24h_up',\n",
       " 'APR_HepG2_MitoMass_72h_dn',\n",
       " 'APR_HepG2_MitoMass_72h_up',\n",
       " 'APR_HepG2_MitoMembPot_1h_dn',\n",
       " 'APR_HepG2_MitoMembPot_24h_dn',\n",
       " 'APR_HepG2_MitoMembPot_72h_dn',\n",
       " 'APR_HepG2_MitoticArrest_24h_up',\n",
       " 'APR_HepG2_MitoticArrest_72h_up',\n",
       " 'APR_HepG2_NuclearSize_24h_dn',\n",
       " 'APR_HepG2_NuclearSize_72h_dn',\n",
       " 'APR_HepG2_NuclearSize_72h_up',\n",
       " 'APR_HepG2_OxidativeStress_24h_up',\n",
       " 'APR_HepG2_OxidativeStress_72h_up',\n",
       " 'APR_HepG2_StressKinase_1h_up',\n",
       " 'APR_HepG2_StressKinase_24h_up',\n",
       " 'APR_HepG2_StressKinase_72h_up',\n",
       " 'APR_HepG2_p53Act_24h_up',\n",
       " 'APR_HepG2_p53Act_72h_up',\n",
       " 'APR_Hepat_Apoptosis_24hr_up',\n",
       " 'APR_Hepat_Apoptosis_48hr_up',\n",
       " 'APR_Hepat_CellLoss_24hr_dn',\n",
       " 'APR_Hepat_CellLoss_48hr_dn',\n",
       " 'APR_Hepat_DNADamage_24hr_up',\n",
       " 'APR_Hepat_DNADamage_48hr_up',\n",
       " 'APR_Hepat_DNATexture_24hr_up',\n",
       " 'APR_Hepat_DNATexture_48hr_up',\n",
       " 'APR_Hepat_MitoFxnI_1hr_dn',\n",
       " 'APR_Hepat_MitoFxnI_24hr_dn',\n",
       " 'APR_Hepat_MitoFxnI_48hr_dn',\n",
       " 'APR_Hepat_NuclearSize_24hr_dn',\n",
       " 'APR_Hepat_NuclearSize_48hr_dn',\n",
       " 'APR_Hepat_Steatosis_24hr_up',\n",
       " 'APR_Hepat_Steatosis_48hr_up',\n",
       " 'ATG_AP_1_CIS_dn',\n",
       " 'ATG_AP_1_CIS_up',\n",
       " 'ATG_AP_2_CIS_dn',\n",
       " 'ATG_AP_2_CIS_up',\n",
       " 'ATG_AR_TRANS_dn',\n",
       " 'ATG_AR_TRANS_up',\n",
       " 'ATG_Ahr_CIS_dn',\n",
       " 'ATG_Ahr_CIS_up',\n",
       " 'ATG_BRE_CIS_dn',\n",
       " 'ATG_BRE_CIS_up',\n",
       " 'ATG_CAR_TRANS_dn',\n",
       " 'ATG_CAR_TRANS_up',\n",
       " 'ATG_CMV_CIS_dn',\n",
       " 'ATG_CMV_CIS_up',\n",
       " 'ATG_CRE_CIS_dn',\n",
       " 'ATG_CRE_CIS_up',\n",
       " 'ATG_C_EBP_CIS_dn',\n",
       " 'ATG_C_EBP_CIS_up',\n",
       " 'ATG_DR4_LXR_CIS_dn',\n",
       " 'ATG_DR4_LXR_CIS_up',\n",
       " 'ATG_DR5_CIS_dn',\n",
       " 'ATG_DR5_CIS_up',\n",
       " 'ATG_E2F_CIS_dn',\n",
       " 'ATG_E2F_CIS_up',\n",
       " 'ATG_EGR_CIS_up',\n",
       " 'ATG_ERE_CIS_dn',\n",
       " 'ATG_ERE_CIS_up',\n",
       " 'ATG_ERRa_TRANS_dn',\n",
       " 'ATG_ERRg_TRANS_dn',\n",
       " 'ATG_ERRg_TRANS_up',\n",
       " 'ATG_ERa_TRANS_up',\n",
       " 'ATG_E_Box_CIS_dn',\n",
       " 'ATG_E_Box_CIS_up',\n",
       " 'ATG_Ets_CIS_dn',\n",
       " 'ATG_Ets_CIS_up',\n",
       " 'ATG_FXR_TRANS_up',\n",
       " 'ATG_FoxA2_CIS_dn',\n",
       " 'ATG_FoxA2_CIS_up',\n",
       " 'ATG_FoxO_CIS_dn',\n",
       " 'ATG_FoxO_CIS_up',\n",
       " 'ATG_GAL4_TRANS_dn',\n",
       " 'ATG_GATA_CIS_dn',\n",
       " 'ATG_GATA_CIS_up',\n",
       " 'ATG_GLI_CIS_dn',\n",
       " 'ATG_GLI_CIS_up',\n",
       " 'ATG_GRE_CIS_dn',\n",
       " 'ATG_GRE_CIS_up',\n",
       " 'ATG_GR_TRANS_dn',\n",
       " 'ATG_GR_TRANS_up',\n",
       " 'ATG_HIF1a_CIS_dn',\n",
       " 'ATG_HIF1a_CIS_up',\n",
       " 'ATG_HNF4a_TRANS_dn',\n",
       " 'ATG_HNF4a_TRANS_up',\n",
       " 'ATG_HNF6_CIS_dn',\n",
       " 'ATG_HNF6_CIS_up',\n",
       " 'ATG_HSE_CIS_dn',\n",
       " 'ATG_HSE_CIS_up',\n",
       " 'ATG_IR1_CIS_dn',\n",
       " 'ATG_IR1_CIS_up',\n",
       " 'ATG_ISRE_CIS_dn',\n",
       " 'ATG_ISRE_CIS_up',\n",
       " 'ATG_LXRa_TRANS_dn',\n",
       " 'ATG_LXRa_TRANS_up',\n",
       " 'ATG_LXRb_TRANS_dn',\n",
       " 'ATG_LXRb_TRANS_up',\n",
       " 'ATG_MRE_CIS_up',\n",
       " 'ATG_M_06_TRANS_up',\n",
       " 'ATG_M_19_CIS_dn',\n",
       " 'ATG_M_19_TRANS_dn',\n",
       " 'ATG_M_19_TRANS_up',\n",
       " 'ATG_M_32_CIS_dn',\n",
       " 'ATG_M_32_CIS_up',\n",
       " 'ATG_M_32_TRANS_dn',\n",
       " 'ATG_M_32_TRANS_up',\n",
       " 'ATG_M_61_TRANS_up',\n",
       " 'ATG_Myb_CIS_dn',\n",
       " 'ATG_Myb_CIS_up',\n",
       " 'ATG_Myc_CIS_dn',\n",
       " 'ATG_Myc_CIS_up',\n",
       " 'ATG_NFI_CIS_dn',\n",
       " 'ATG_NFI_CIS_up',\n",
       " 'ATG_NF_kB_CIS_dn',\n",
       " 'ATG_NF_kB_CIS_up',\n",
       " 'ATG_NRF1_CIS_dn',\n",
       " 'ATG_NRF1_CIS_up',\n",
       " 'ATG_NRF2_ARE_CIS_dn',\n",
       " 'ATG_NRF2_ARE_CIS_up',\n",
       " 'ATG_NURR1_TRANS_dn',\n",
       " 'ATG_NURR1_TRANS_up',\n",
       " 'ATG_Oct_MLP_CIS_dn',\n",
       " 'ATG_Oct_MLP_CIS_up',\n",
       " 'ATG_PBREM_CIS_dn',\n",
       " 'ATG_PBREM_CIS_up',\n",
       " 'ATG_PPARa_TRANS_dn',\n",
       " 'ATG_PPARa_TRANS_up',\n",
       " 'ATG_PPARd_TRANS_up',\n",
       " 'ATG_PPARg_TRANS_up',\n",
       " 'ATG_PPRE_CIS_dn',\n",
       " 'ATG_PPRE_CIS_up',\n",
       " 'ATG_PXRE_CIS_dn',\n",
       " 'ATG_PXRE_CIS_up',\n",
       " 'ATG_PXR_TRANS_dn',\n",
       " 'ATG_PXR_TRANS_up',\n",
       " 'ATG_Pax6_CIS_up',\n",
       " 'ATG_RARa_TRANS_dn',\n",
       " 'ATG_RARa_TRANS_up',\n",
       " 'ATG_RARb_TRANS_dn',\n",
       " 'ATG_RARb_TRANS_up',\n",
       " 'ATG_RARg_TRANS_dn',\n",
       " 'ATG_RARg_TRANS_up',\n",
       " 'ATG_RORE_CIS_dn',\n",
       " 'ATG_RORE_CIS_up',\n",
       " 'ATG_RORb_TRANS_dn',\n",
       " 'ATG_RORg_TRANS_dn',\n",
       " 'ATG_RORg_TRANS_up',\n",
       " 'ATG_RXRa_TRANS_dn',\n",
       " 'ATG_RXRa_TRANS_up',\n",
       " 'ATG_RXRb_TRANS_dn',\n",
       " 'ATG_RXRb_TRANS_up',\n",
       " 'ATG_SREBP_CIS_dn',\n",
       " 'ATG_SREBP_CIS_up',\n",
       " 'ATG_STAT3_CIS_dn',\n",
       " 'ATG_STAT3_CIS_up',\n",
       " 'ATG_Sox_CIS_dn',\n",
       " 'ATG_Sox_CIS_up',\n",
       " 'ATG_Sp1_CIS_dn',\n",
       " 'ATG_Sp1_CIS_up',\n",
       " 'ATG_TAL_CIS_dn',\n",
       " 'ATG_TAL_CIS_up',\n",
       " 'ATG_TA_CIS_dn',\n",
       " 'ATG_TA_CIS_up',\n",
       " 'ATG_TCF_b_cat_CIS_dn',\n",
       " 'ATG_TCF_b_cat_CIS_up',\n",
       " 'ATG_TGFb_CIS_dn',\n",
       " 'ATG_TGFb_CIS_up',\n",
       " 'ATG_THRa1_TRANS_dn',\n",
       " 'ATG_THRa1_TRANS_up',\n",
       " 'ATG_VDRE_CIS_dn',\n",
       " 'ATG_VDRE_CIS_up',\n",
       " 'ATG_VDR_TRANS_dn',\n",
       " 'ATG_VDR_TRANS_up',\n",
       " 'ATG_XTT_Cytotoxicity_up',\n",
       " 'ATG_Xbp1_CIS_dn',\n",
       " 'ATG_Xbp1_CIS_up',\n",
       " 'ATG_p53_CIS_dn',\n",
       " 'ATG_p53_CIS_up',\n",
       " 'BSK_3C_Eselectin_down',\n",
       " 'BSK_3C_HLADR_down',\n",
       " 'BSK_3C_ICAM1_down',\n",
       " 'BSK_3C_IL8_down',\n",
       " 'BSK_3C_MCP1_down',\n",
       " 'BSK_3C_MIG_down',\n",
       " 'BSK_3C_Proliferation_down',\n",
       " 'BSK_3C_SRB_down',\n",
       " 'BSK_3C_Thrombomodulin_down',\n",
       " 'BSK_3C_Thrombomodulin_up',\n",
       " 'BSK_3C_TissueFactor_down',\n",
       " 'BSK_3C_TissueFactor_up',\n",
       " 'BSK_3C_VCAM1_down',\n",
       " 'BSK_3C_Vis_down',\n",
       " 'BSK_3C_uPAR_down',\n",
       " 'BSK_4H_Eotaxin3_down',\n",
       " 'BSK_4H_MCP1_down',\n",
       " 'BSK_4H_Pselectin_down',\n",
       " 'BSK_4H_Pselectin_up',\n",
       " 'BSK_4H_SRB_down',\n",
       " 'BSK_4H_VCAM1_down',\n",
       " 'BSK_4H_VEGFRII_down',\n",
       " 'BSK_4H_uPAR_down',\n",
       " 'BSK_4H_uPAR_up',\n",
       " 'BSK_BE3C_HLADR_down',\n",
       " 'BSK_BE3C_IL1a_down',\n",
       " 'BSK_BE3C_IP10_down',\n",
       " 'BSK_BE3C_MIG_down',\n",
       " 'BSK_BE3C_MMP1_down',\n",
       " 'BSK_BE3C_MMP1_up',\n",
       " 'BSK_BE3C_PAI1_down',\n",
       " 'BSK_BE3C_SRB_down',\n",
       " 'BSK_BE3C_TGFb1_down',\n",
       " 'BSK_BE3C_tPA_down',\n",
       " 'BSK_BE3C_uPAR_down',\n",
       " 'BSK_BE3C_uPAR_up',\n",
       " 'BSK_BE3C_uPA_down',\n",
       " 'BSK_CASM3C_HLADR_down',\n",
       " 'BSK_CASM3C_IL6_down',\n",
       " 'BSK_CASM3C_IL6_up',\n",
       " 'BSK_CASM3C_IL8_down',\n",
       " 'BSK_CASM3C_LDLR_down',\n",
       " 'BSK_CASM3C_LDLR_up',\n",
       " 'BSK_CASM3C_MCP1_down',\n",
       " 'BSK_CASM3C_MCP1_up',\n",
       " 'BSK_CASM3C_MCSF_down',\n",
       " 'BSK_CASM3C_MCSF_up',\n",
       " 'BSK_CASM3C_MIG_down',\n",
       " 'BSK_CASM3C_Proliferation_down',\n",
       " 'BSK_CASM3C_Proliferation_up',\n",
       " 'BSK_CASM3C_SAA_down',\n",
       " 'BSK_CASM3C_SAA_up',\n",
       " 'BSK_CASM3C_SRB_down',\n",
       " 'BSK_CASM3C_Thrombomodulin_down',\n",
       " 'BSK_CASM3C_Thrombomodulin_up',\n",
       " 'BSK_CASM3C_TissueFactor_down',\n",
       " 'BSK_CASM3C_VCAM1_down',\n",
       " 'BSK_CASM3C_VCAM1_up',\n",
       " 'BSK_CASM3C_uPAR_down',\n",
       " 'BSK_CASM3C_uPAR_up',\n",
       " 'BSK_KF3CT_ICAM1_down',\n",
       " 'BSK_KF3CT_IL1a_down',\n",
       " 'BSK_KF3CT_IP10_down',\n",
       " 'BSK_KF3CT_IP10_up',\n",
       " 'BSK_KF3CT_MCP1_down',\n",
       " 'BSK_KF3CT_MCP1_up',\n",
       " 'BSK_KF3CT_MMP9_down',\n",
       " 'BSK_KF3CT_SRB_down',\n",
       " 'BSK_KF3CT_TGFb1_down',\n",
       " 'BSK_KF3CT_TIMP2_down',\n",
       " 'BSK_KF3CT_uPA_down',\n",
       " 'BSK_LPS_CD40_down',\n",
       " 'BSK_LPS_Eselectin_down',\n",
       " 'BSK_LPS_Eselectin_up',\n",
       " 'BSK_LPS_IL1a_down',\n",
       " 'BSK_LPS_IL1a_up',\n",
       " 'BSK_LPS_IL8_down',\n",
       " 'BSK_LPS_IL8_up',\n",
       " 'BSK_LPS_MCP1_down',\n",
       " 'BSK_LPS_MCSF_down',\n",
       " 'BSK_LPS_PGE2_down',\n",
       " 'BSK_LPS_PGE2_up',\n",
       " 'BSK_LPS_SRB_down',\n",
       " 'BSK_LPS_TNFa_down',\n",
       " 'BSK_LPS_TNFa_up',\n",
       " 'BSK_LPS_TissueFactor_down',\n",
       " 'BSK_LPS_TissueFactor_up',\n",
       " 'BSK_LPS_VCAM1_down',\n",
       " 'BSK_SAg_CD38_down',\n",
       " 'BSK_SAg_CD40_down',\n",
       " 'BSK_SAg_CD69_down',\n",
       " 'BSK_SAg_Eselectin_down',\n",
       " 'BSK_SAg_Eselectin_up',\n",
       " 'BSK_SAg_IL8_down',\n",
       " 'BSK_SAg_IL8_up',\n",
       " 'BSK_SAg_MCP1_down',\n",
       " 'BSK_SAg_MIG_down',\n",
       " 'BSK_SAg_PBMCCytotoxicity_down',\n",
       " 'BSK_SAg_PBMCCytotoxicity_up',\n",
       " 'BSK_SAg_Proliferation_down',\n",
       " 'BSK_SAg_SRB_down',\n",
       " 'BSK_hDFCGF_CollagenIII_down',\n",
       " 'BSK_hDFCGF_EGFR_down',\n",
       " 'BSK_hDFCGF_EGFR_up',\n",
       " 'BSK_hDFCGF_IL8_down',\n",
       " 'BSK_hDFCGF_IP10_down',\n",
       " 'BSK_hDFCGF_MCSF_down',\n",
       " 'BSK_hDFCGF_MIG_down',\n",
       " 'BSK_hDFCGF_MMP1_down',\n",
       " 'BSK_hDFCGF_MMP1_up',\n",
       " 'BSK_hDFCGF_PAI1_down',\n",
       " 'BSK_hDFCGF_Proliferation_down',\n",
       " 'BSK_hDFCGF_SRB_down',\n",
       " 'BSK_hDFCGF_TIMP1_down',\n",
       " 'BSK_hDFCGF_VCAM1_down',\n",
       " 'CEETOX_H295R_11DCORT_dn',\n",
       " 'CEETOX_H295R_ANDR_dn',\n",
       " 'CEETOX_H295R_CORTISOL_dn',\n",
       " 'CEETOX_H295R_DOC_dn',\n",
       " 'CEETOX_H295R_DOC_up',\n",
       " 'CEETOX_H295R_ESTRADIOL_dn',\n",
       " 'CEETOX_H295R_ESTRADIOL_up',\n",
       " 'CEETOX_H295R_ESTRONE_dn',\n",
       " 'CEETOX_H295R_ESTRONE_up',\n",
       " 'CEETOX_H295R_OHPREG_up',\n",
       " 'CEETOX_H295R_OHPROG_dn',\n",
       " 'CEETOX_H295R_OHPROG_up',\n",
       " 'CEETOX_H295R_PROG_up',\n",
       " 'CEETOX_H295R_TESTO_dn',\n",
       " 'CLD_ABCB1_48hr',\n",
       " 'CLD_ABCG2_48hr',\n",
       " 'CLD_CYP1A1_24hr',\n",
       " 'CLD_CYP1A1_48hr',\n",
       " 'CLD_CYP1A1_6hr',\n",
       " 'CLD_CYP1A2_24hr',\n",
       " 'CLD_CYP1A2_48hr',\n",
       " 'CLD_CYP1A2_6hr',\n",
       " 'CLD_CYP2B6_24hr',\n",
       " 'CLD_CYP2B6_48hr',\n",
       " 'CLD_CYP2B6_6hr',\n",
       " 'CLD_CYP3A4_24hr',\n",
       " 'CLD_CYP3A4_48hr',\n",
       " 'CLD_CYP3A4_6hr',\n",
       " 'CLD_GSTA2_48hr',\n",
       " 'CLD_SULT2A_24hr',\n",
       " 'CLD_SULT2A_48hr',\n",
       " 'CLD_UGT1A1_24hr',\n",
       " 'CLD_UGT1A1_48hr',\n",
       " 'NCCT_HEK293T_CellTiterGLO',\n",
       " 'NCCT_QuantiLum_inhib_2_dn',\n",
       " 'NCCT_QuantiLum_inhib_dn',\n",
       " 'NCCT_TPO_AUR_dn',\n",
       " 'NCCT_TPO_GUA_dn',\n",
       " 'NHEERL_ZF_144hpf_TERATOSCORE_up',\n",
       " 'NVS_ADME_hCYP19A1',\n",
       " 'NVS_ADME_hCYP1A1',\n",
       " 'NVS_ADME_hCYP1A2',\n",
       " 'NVS_ADME_hCYP2A6',\n",
       " 'NVS_ADME_hCYP2B6',\n",
       " 'NVS_ADME_hCYP2C19',\n",
       " 'NVS_ADME_hCYP2C9',\n",
       " 'NVS_ADME_hCYP2D6',\n",
       " 'NVS_ADME_hCYP3A4',\n",
       " 'NVS_ADME_hCYP4F12',\n",
       " 'NVS_ADME_rCYP2C12',\n",
       " 'NVS_ENZ_hAChE',\n",
       " 'NVS_ENZ_hAMPKa1',\n",
       " 'NVS_ENZ_hAurA',\n",
       " 'NVS_ENZ_hBACE',\n",
       " 'NVS_ENZ_hCASP5',\n",
       " 'NVS_ENZ_hCK1D',\n",
       " 'NVS_ENZ_hDUSP3',\n",
       " 'NVS_ENZ_hES',\n",
       " 'NVS_ENZ_hElastase',\n",
       " 'NVS_ENZ_hFGFR1',\n",
       " 'NVS_ENZ_hGSK3b',\n",
       " 'NVS_ENZ_hMMP1',\n",
       " 'NVS_ENZ_hMMP13',\n",
       " 'NVS_ENZ_hMMP2',\n",
       " 'NVS_ENZ_hMMP3',\n",
       " 'NVS_ENZ_hMMP7',\n",
       " 'NVS_ENZ_hMMP9',\n",
       " 'NVS_ENZ_hPDE10',\n",
       " 'NVS_ENZ_hPDE4A1',\n",
       " 'NVS_ENZ_hPDE5',\n",
       " 'NVS_ENZ_hPI3Ka',\n",
       " 'NVS_ENZ_hPTEN',\n",
       " 'NVS_ENZ_hPTPN11',\n",
       " 'NVS_ENZ_hPTPN12',\n",
       " 'NVS_ENZ_hPTPN13',\n",
       " 'NVS_ENZ_hPTPN9',\n",
       " 'NVS_ENZ_hPTPRC',\n",
       " 'NVS_ENZ_hSIRT1',\n",
       " 'NVS_ENZ_hSIRT2',\n",
       " 'NVS_ENZ_hTrkA',\n",
       " 'NVS_ENZ_hVEGFR2',\n",
       " 'NVS_ENZ_oCOX1',\n",
       " 'NVS_ENZ_oCOX2',\n",
       " 'NVS_ENZ_rAChE',\n",
       " 'NVS_ENZ_rCNOS',\n",
       " 'NVS_ENZ_rMAOAC',\n",
       " 'NVS_ENZ_rMAOAP',\n",
       " 'NVS_ENZ_rMAOBC',\n",
       " 'NVS_ENZ_rMAOBP',\n",
       " 'NVS_ENZ_rabI2C',\n",
       " 'NVS_GPCR_bAdoR_NonSelective',\n",
       " 'NVS_GPCR_bDR_NonSelective',\n",
       " 'NVS_GPCR_g5HT4',\n",
       " 'NVS_GPCR_gH2',\n",
       " 'NVS_GPCR_gLTB4',\n",
       " 'NVS_GPCR_gLTD4',\n",
       " 'NVS_GPCR_gMPeripheral_NonSelective',\n",
       " 'NVS_GPCR_gOpiateK',\n",
       " 'NVS_GPCR_h5HT2A',\n",
       " 'NVS_GPCR_h5HT5A',\n",
       " 'NVS_GPCR_h5HT6',\n",
       " 'NVS_GPCR_h5HT7',\n",
       " 'NVS_GPCR_hAT1',\n",
       " 'NVS_GPCR_hAdoRA1',\n",
       " 'NVS_GPCR_hAdoRA2a',\n",
       " 'NVS_GPCR_hAdra2A',\n",
       " 'NVS_GPCR_hAdra2C',\n",
       " 'NVS_GPCR_hAdrb1',\n",
       " 'NVS_GPCR_hAdrb2',\n",
       " 'NVS_GPCR_hAdrb3',\n",
       " 'NVS_GPCR_hDRD1',\n",
       " 'NVS_GPCR_hDRD2s',\n",
       " 'NVS_GPCR_hDRD4.4',\n",
       " 'NVS_GPCR_hH1',\n",
       " 'NVS_GPCR_hLTB4_BLT1',\n",
       " 'NVS_GPCR_hM1',\n",
       " 'NVS_GPCR_hM2',\n",
       " 'NVS_GPCR_hM3',\n",
       " 'NVS_GPCR_hM4',\n",
       " 'NVS_GPCR_hNK2',\n",
       " 'NVS_GPCR_hOpiate_D1',\n",
       " 'NVS_GPCR_hOpiate_mu',\n",
       " 'NVS_GPCR_hTXA2',\n",
       " 'NVS_GPCR_p5HT2C',\n",
       " 'NVS_GPCR_r5HT1_NonSelective',\n",
       " 'NVS_GPCR_r5HT_NonSelective',\n",
       " 'NVS_GPCR_rAdra1B',\n",
       " 'NVS_GPCR_rAdra1_NonSelective',\n",
       " 'NVS_GPCR_rAdra2_NonSelective',\n",
       " 'NVS_GPCR_rAdrb_NonSelective',\n",
       " 'NVS_GPCR_rNK1',\n",
       " 'NVS_GPCR_rNK3',\n",
       " 'NVS_GPCR_rOpiate_NonSelective',\n",
       " 'NVS_GPCR_rOpiate_NonSelectiveNa',\n",
       " 'NVS_GPCR_rSST',\n",
       " 'NVS_GPCR_rTRH',\n",
       " 'NVS_GPCR_rV1',\n",
       " 'NVS_GPCR_rabPAF',\n",
       " 'NVS_GPCR_rmAdra2B',\n",
       " 'NVS_IC_hKhERGCh',\n",
       " 'NVS_IC_rCaBTZCHL',\n",
       " 'NVS_IC_rCaDHPRCh_L',\n",
       " 'NVS_IC_rNaCh_site2',\n",
       " 'NVS_LGIC_bGABARa1',\n",
       " 'NVS_LGIC_h5HT3',\n",
       " 'NVS_LGIC_hNNR_NBungSens',\n",
       " 'NVS_LGIC_rGABAR_NonSelective',\n",
       " 'NVS_LGIC_rNNR_BungSens',\n",
       " 'NVS_MP_hPBR',\n",
       " 'NVS_MP_rPBR',\n",
       " 'NVS_NR_bER',\n",
       " 'NVS_NR_bPR',\n",
       " 'NVS_NR_cAR',\n",
       " 'NVS_NR_hAR',\n",
       " 'NVS_NR_hCAR_Antagonist',\n",
       " 'NVS_NR_hER',\n",
       " 'NVS_NR_hFXR_Agonist',\n",
       " 'NVS_NR_hFXR_Antagonist',\n",
       " 'NVS_NR_hGR',\n",
       " 'NVS_NR_hPPARa',\n",
       " 'NVS_NR_hPPARg',\n",
       " 'NVS_NR_hPR',\n",
       " 'NVS_NR_hPXR',\n",
       " 'NVS_NR_hRAR_Antagonist',\n",
       " 'NVS_NR_hRARa_Agonist',\n",
       " 'NVS_NR_hTRa_Antagonist',\n",
       " 'NVS_NR_mERa',\n",
       " 'NVS_NR_rAR',\n",
       " 'NVS_NR_rMR',\n",
       " 'NVS_OR_gSIGMA_NonSelective',\n",
       " 'NVS_TR_gDAT',\n",
       " 'NVS_TR_hAdoT',\n",
       " 'NVS_TR_hDAT',\n",
       " 'NVS_TR_hNET',\n",
       " 'NVS_TR_hSERT',\n",
       " 'NVS_TR_rNET',\n",
       " 'NVS_TR_rSERT',\n",
       " 'NVS_TR_rVMAT2',\n",
       " 'OT_AR_ARELUC_AG_1440',\n",
       " 'OT_AR_ARSRC1_0480',\n",
       " 'OT_AR_ARSRC1_0960',\n",
       " 'OT_ER_ERaERa_0480',\n",
       " 'OT_ER_ERaERa_1440',\n",
       " 'OT_ER_ERaERb_0480',\n",
       " 'OT_ER_ERaERb_1440',\n",
       " 'OT_ER_ERbERb_0480',\n",
       " 'OT_ER_ERbERb_1440',\n",
       " 'OT_ERa_EREGFP_0120',\n",
       " 'OT_ERa_EREGFP_0480',\n",
       " 'OT_FXR_FXRSRC1_0480',\n",
       " 'OT_FXR_FXRSRC1_1440',\n",
       " 'OT_NURR1_NURR1RXRa_0480',\n",
       " 'OT_NURR1_NURR1RXRa_1440',\n",
       " 'TOX21_ARE_BLA_Agonist_ch1',\n",
       " 'TOX21_ARE_BLA_Agonist_ch2',\n",
       " 'TOX21_ARE_BLA_agonist_ratio',\n",
       " 'TOX21_ARE_BLA_agonist_viability',\n",
       " 'TOX21_AR_BLA_Agonist_ch1',\n",
       " 'TOX21_AR_BLA_Agonist_ch2',\n",
       " 'TOX21_AR_BLA_Agonist_ratio',\n",
       " 'TOX21_AR_BLA_Antagonist_ch1',\n",
       " 'TOX21_AR_BLA_Antagonist_ch2',\n",
       " 'TOX21_AR_BLA_Antagonist_ratio',\n",
       " 'TOX21_AR_BLA_Antagonist_viability',\n",
       " 'TOX21_AR_LUC_MDAKB2_Agonist',\n",
       " 'TOX21_AR_LUC_MDAKB2_Antagonist',\n",
       " 'TOX21_AR_LUC_MDAKB2_Antagonist2',\n",
       " 'TOX21_AhR_LUC_Agonist',\n",
       " 'TOX21_Aromatase_Inhibition',\n",
       " 'TOX21_AutoFluor_HEK293_Cell_blue',\n",
       " 'TOX21_AutoFluor_HEK293_Media_blue',\n",
       " 'TOX21_AutoFluor_HEPG2_Cell_blue',\n",
       " 'TOX21_AutoFluor_HEPG2_Cell_green',\n",
       " 'TOX21_AutoFluor_HEPG2_Media_blue',\n",
       " 'TOX21_AutoFluor_HEPG2_Media_green',\n",
       " 'TOX21_ELG1_LUC_Agonist',\n",
       " 'TOX21_ERa_BLA_Agonist_ch1',\n",
       " 'TOX21_ERa_BLA_Agonist_ch2',\n",
       " 'TOX21_ERa_BLA_Agonist_ratio',\n",
       " 'TOX21_ERa_BLA_Antagonist_ch1',\n",
       " 'TOX21_ERa_BLA_Antagonist_ch2',\n",
       " 'TOX21_ERa_BLA_Antagonist_ratio',\n",
       " 'TOX21_ERa_BLA_Antagonist_viability',\n",
       " 'TOX21_ERa_LUC_BG1_Agonist',\n",
       " 'TOX21_ERa_LUC_BG1_Antagonist',\n",
       " 'TOX21_ESRE_BLA_ch1',\n",
       " 'TOX21_ESRE_BLA_ch2',\n",
       " 'TOX21_ESRE_BLA_ratio',\n",
       " 'TOX21_ESRE_BLA_viability',\n",
       " 'TOX21_FXR_BLA_Antagonist_ch1',\n",
       " 'TOX21_FXR_BLA_Antagonist_ch2',\n",
       " 'TOX21_FXR_BLA_agonist_ch2',\n",
       " 'TOX21_FXR_BLA_agonist_ratio',\n",
       " 'TOX21_FXR_BLA_antagonist_ratio',\n",
       " 'TOX21_FXR_BLA_antagonist_viability',\n",
       " 'TOX21_GR_BLA_Agonist_ch1',\n",
       " 'TOX21_GR_BLA_Agonist_ch2',\n",
       " 'TOX21_GR_BLA_Agonist_ratio',\n",
       " 'TOX21_GR_BLA_Antagonist_ch2',\n",
       " 'TOX21_GR_BLA_Antagonist_ratio',\n",
       " 'TOX21_GR_BLA_Antagonist_viability',\n",
       " 'TOX21_HSE_BLA_agonist_ch1',\n",
       " 'TOX21_HSE_BLA_agonist_ch2',\n",
       " 'TOX21_HSE_BLA_agonist_ratio',\n",
       " 'TOX21_HSE_BLA_agonist_viability',\n",
       " 'TOX21_MMP_ratio_down',\n",
       " 'TOX21_MMP_ratio_up',\n",
       " 'TOX21_MMP_viability',\n",
       " 'TOX21_NFkB_BLA_agonist_ch1',\n",
       " 'TOX21_NFkB_BLA_agonist_ch2',\n",
       " 'TOX21_NFkB_BLA_agonist_ratio',\n",
       " 'TOX21_NFkB_BLA_agonist_viability',\n",
       " 'TOX21_PPARd_BLA_Agonist_viability',\n",
       " 'TOX21_PPARd_BLA_Antagonist_ch1',\n",
       " 'TOX21_PPARd_BLA_agonist_ch1',\n",
       " 'TOX21_PPARd_BLA_agonist_ch2',\n",
       " 'TOX21_PPARd_BLA_agonist_ratio',\n",
       " 'TOX21_PPARd_BLA_antagonist_ratio',\n",
       " 'TOX21_PPARd_BLA_antagonist_viability',\n",
       " 'TOX21_PPARg_BLA_Agonist_ch1',\n",
       " 'TOX21_PPARg_BLA_Agonist_ch2',\n",
       " 'TOX21_PPARg_BLA_Agonist_ratio',\n",
       " 'TOX21_PPARg_BLA_Antagonist_ch1',\n",
       " 'TOX21_PPARg_BLA_antagonist_ratio',\n",
       " 'TOX21_PPARg_BLA_antagonist_viability',\n",
       " 'TOX21_TR_LUC_GH3_Agonist',\n",
       " 'TOX21_TR_LUC_GH3_Antagonist',\n",
       " 'TOX21_VDR_BLA_Agonist_viability',\n",
       " 'TOX21_VDR_BLA_Antagonist_ch1',\n",
       " 'TOX21_VDR_BLA_agonist_ch2',\n",
       " 'TOX21_VDR_BLA_agonist_ratio',\n",
       " 'TOX21_VDR_BLA_antagonist_ratio',\n",
       " 'TOX21_VDR_BLA_antagonist_viability',\n",
       " 'TOX21_p53_BLA_p1_ch1',\n",
       " 'TOX21_p53_BLA_p1_ch2',\n",
       " 'TOX21_p53_BLA_p1_ratio',\n",
       " 'TOX21_p53_BLA_p1_viability',\n",
       " 'TOX21_p53_BLA_p2_ch1',\n",
       " 'TOX21_p53_BLA_p2_ch2',\n",
       " 'TOX21_p53_BLA_p2_ratio',\n",
       " 'TOX21_p53_BLA_p2_viability',\n",
       " 'TOX21_p53_BLA_p3_ch1',\n",
       " 'TOX21_p53_BLA_p3_ch2',\n",
       " 'TOX21_p53_BLA_p3_ratio',\n",
       " 'TOX21_p53_BLA_p3_viability',\n",
       " 'TOX21_p53_BLA_p4_ch1',\n",
       " 'TOX21_p53_BLA_p4_ch2',\n",
       " 'TOX21_p53_BLA_p4_ratio',\n",
       " 'TOX21_p53_BLA_p4_viability',\n",
       " 'TOX21_p53_BLA_p5_ch1',\n",
       " 'TOX21_p53_BLA_p5_ch2',\n",
       " 'TOX21_p53_BLA_p5_ratio',\n",
       " 'TOX21_p53_BLA_p5_viability',\n",
       " 'Tanguay_ZF_120hpf_AXIS_up',\n",
       " 'Tanguay_ZF_120hpf_ActivityScore',\n",
       " 'Tanguay_ZF_120hpf_BRAI_up',\n",
       " 'Tanguay_ZF_120hpf_CFIN_up',\n",
       " 'Tanguay_ZF_120hpf_CIRC_up',\n",
       " 'Tanguay_ZF_120hpf_EYE_up',\n",
       " 'Tanguay_ZF_120hpf_JAW_up',\n",
       " 'Tanguay_ZF_120hpf_MORT_up',\n",
       " 'Tanguay_ZF_120hpf_OTIC_up',\n",
       " 'Tanguay_ZF_120hpf_PE_up',\n",
       " 'Tanguay_ZF_120hpf_PFIN_up',\n",
       " 'Tanguay_ZF_120hpf_PIG_up',\n",
       " 'Tanguay_ZF_120hpf_SNOU_up',\n",
       " 'Tanguay_ZF_120hpf_SOMI_up',\n",
       " 'Tanguay_ZF_120hpf_SWIM_up',\n",
       " 'Tanguay_ZF_120hpf_TRUN_up',\n",
       " 'Tanguay_ZF_120hpf_TR_up',\n",
       " 'Tanguay_ZF_120hpf_YSE_up']"
      ]
     },
     "execution_count": 3,
     "metadata": {},
     "output_type": "execute_result"
    }
   ],
   "source": [
    "toxcast.columns.to_list()"
   ]
  },
  {
   "cell_type": "code",
   "execution_count": 4,
   "metadata": {},
   "outputs": [
    {
     "name": "stdout",
     "output_type": "stream",
     "text": [
      "There are 19 assay related to estrogen activity\n"
     ]
    }
   ],
   "source": [
    "ER_TOX_ASSAY_id = []\n",
    "for assay in toxcast.columns.to_list():\n",
    "    if assay.startswith('TOX21_ERa_') or assay.startswith('TOX21_ESRE_') or assay.startswith('OT_ER_ER'):\n",
    "        ER_TOX_ASSAY_id.append(assay)\n",
    "print(f'There are {len(ER_TOX_ASSAY_id)} assay related to estrogen activity')    "
   ]
  },
  {
   "cell_type": "code",
   "execution_count": 5,
   "metadata": {},
   "outputs": [],
   "source": [
    "toxcast_er = toxcast[['smiles'] + ER_TOX_ASSAY_id]"
   ]
  },
  {
   "cell_type": "markdown",
   "metadata": {},
   "source": [
    "### Keep unique informaton and drop lines having missing value"
   ]
  },
  {
   "cell_type": "markdown",
   "metadata": {},
   "source": [
    "Now we make a list of unique smiles that have values for ER assay, everything but NAN for each assay. "
   ]
  },
  {
   "cell_type": "code",
   "execution_count": 6,
   "metadata": {},
   "outputs": [],
   "source": [
    "filtered_toxcast_smiles_ER = []\n",
    "for assay in ER_TOX_ASSAY_id:\n",
    "    filtered_data = toxcast[toxcast[assay].notnull() & (toxcast[assay] != ' ')]\n",
    "    if not filtered_data.empty:\n",
    "        filtered_toxcast_smiles_ER += filtered_data['smiles'].tolist()\n",
    "filtered_toxcast_smiles_ER = list(set(filtered_toxcast_smiles_ER))"
   ]
  },
  {
   "cell_type": "code",
   "execution_count": 7,
   "metadata": {},
   "outputs": [
    {
     "name": "stdout",
     "output_type": "stream",
     "text": [
      "We have now 8229 smiles with endpoint toward estrogen receptor\n"
     ]
    }
   ],
   "source": [
    "print(f'We have now {len(filtered_toxcast_smiles_ER)} smiles with endpoint toward estrogen receptor')"
   ]
  },
  {
   "cell_type": "markdown",
   "metadata": {},
   "source": [
    "As we want to evaluate the overlapping between two datasets and molecule names are not consistent we will use the SMILES information of both datasets. Ideally, one will prepare both SMILES sets the same way to determine common molecules in both sets."
   ]
  },
  {
   "cell_type": "markdown",
   "metadata": {},
   "source": [
    "### Check the validity of smiles and standardization"
   ]
  },
  {
   "cell_type": "code",
   "execution_count": 8,
   "metadata": {},
   "outputs": [
    {
     "name": "stderr",
     "output_type": "stream",
     "text": [
      "[14:45:07] Explicit valence for atom # 0 F, 2, is greater than permitted\n",
      "[14:45:07] Explicit valence for atom # 2 Cl, 2, is greater than permitted\n",
      "[14:45:07] Explicit valence for atom # 0 Cl, 2, is greater than permitted\n",
      "[14:45:07] WARNING: not removing hydrogen atom without neighbors\n",
      "[14:45:07] Explicit valence for atom # 3 Si, 8, is greater than permitted\n",
      "[14:45:07] Explicit valence for atom # 3 Si, 8, is greater than permitted\n",
      "[14:45:07] SMILES Parse Error: syntax error while parsing: FAIL\n",
      "[14:45:07] SMILES Parse Error: Failed parsing SMILES 'FAIL' for input: 'FAIL'\n",
      "[14:45:07] SMILES Parse Error: syntax error while parsing: FAIL\n",
      "[14:45:07] SMILES Parse Error: Failed parsing SMILES 'FAIL' for input: 'FAIL'\n",
      "[14:45:07] SMILES Parse Error: syntax error while parsing: FAIL\n",
      "[14:45:07] SMILES Parse Error: Failed parsing SMILES 'FAIL' for input: 'FAIL'\n",
      "[14:45:07] SMILES Parse Error: syntax error while parsing: FAIL\n",
      "[14:45:07] SMILES Parse Error: Failed parsing SMILES 'FAIL' for input: 'FAIL'\n",
      "[14:45:07] SMILES Parse Error: syntax error while parsing: FAIL\n",
      "[14:45:07] SMILES Parse Error: Failed parsing SMILES 'FAIL' for input: 'FAIL'\n",
      "[14:45:07] SMILES Parse Error: syntax error while parsing: FAIL\n",
      "[14:45:07] SMILES Parse Error: Failed parsing SMILES 'FAIL' for input: 'FAIL'\n",
      "[14:45:07] SMILES Parse Error: syntax error while parsing: FAIL\n",
      "[14:45:07] SMILES Parse Error: Failed parsing SMILES 'FAIL' for input: 'FAIL'\n",
      "[14:45:07] SMILES Parse Error: syntax error while parsing: FAIL\n",
      "[14:45:07] SMILES Parse Error: Failed parsing SMILES 'FAIL' for input: 'FAIL'\n",
      "[14:45:07] SMILES Parse Error: syntax error while parsing: FAIL\n",
      "[14:45:07] SMILES Parse Error: Failed parsing SMILES 'FAIL' for input: 'FAIL'\n",
      "[14:45:07] SMILES Parse Error: syntax error while parsing: FAIL\n",
      "[14:45:07] SMILES Parse Error: Failed parsing SMILES 'FAIL' for input: 'FAIL'\n",
      "[14:45:07] SMILES Parse Error: syntax error while parsing: FAIL\n",
      "[14:45:07] SMILES Parse Error: Failed parsing SMILES 'FAIL' for input: 'FAIL'\n",
      "[14:45:08] SMILES Parse Error: syntax error while parsing: FAIL\n",
      "[14:45:08] SMILES Parse Error: Failed parsing SMILES 'FAIL' for input: 'FAIL'\n",
      "[14:45:08] SMILES Parse Error: syntax error while parsing: FAIL\n",
      "[14:45:08] SMILES Parse Error: Failed parsing SMILES 'FAIL' for input: 'FAIL'\n",
      "[14:45:08] SMILES Parse Error: syntax error while parsing: FAIL\n",
      "[14:45:08] SMILES Parse Error: Failed parsing SMILES 'FAIL' for input: 'FAIL'\n",
      "[14:45:08] SMILES Parse Error: syntax error while parsing: FAIL\n",
      "[14:45:08] SMILES Parse Error: Failed parsing SMILES 'FAIL' for input: 'FAIL'\n"
     ]
    }
   ],
   "source": [
    "\n",
    "# Function to check if SMILES is valid\n",
    "def is_valid_smiles(smiles):\n",
    "    \n",
    "    return Chem.MolFromSmiles(smiles) is not None\n",
    "\n",
    "# Filter out invalid SMILES\n",
    "RDLogger.DisableLog('rdApp.info')\n",
    "valid_smiles_df = toxcast_er[toxcast_er['smiles'].apply(is_valid_smiles)]\n"
   ]
  },
  {
   "cell_type": "markdown",
   "metadata": {},
   "source": [
    "Now we normalize the smiles obtained at the previous step and the one from our dataset "
   ]
  },
  {
   "cell_type": "code",
   "execution_count": 9,
   "metadata": {},
   "outputs": [],
   "source": [
    "def clean_std_smiles(dataset,smiles):\n",
    "    \n",
    "    '''\n",
    "    Standardize (Cleanup) and canonicalize parent smiles\n",
    "        Parameters : \n",
    "            dataset (data frame): data frame having a column named 'CPD_SMILES' with smiles\n",
    "        Returns : \n",
    "            dataset (data frame): same data frame with one more column named 'STD_smile'\n",
    "    '''\n",
    "    # Disable the log message and warning \n",
    "    RDLogger.DisableLog('rdApp.info')\n",
    "    warnings.filterwarnings('ignore') \n",
    "    # Convert SMILES to RDKit molecule objects\n",
    "    mol_objects = dataset[smiles].apply(Chem.MolFromSmiles)\n",
    "    \n",
    "    # Clean up and standardize the molecule list\n",
    "    clean_mol = [rdMolStandardize.Cleanup(mol) for mol in mol_objects if mol is not None]\n",
    "    \n",
    "    # Get the largest fragment after cleanup\n",
    "    parent_clean_mol = [rdMolStandardize.FragmentParent(mol) for mol in clean_mol]\n",
    "    \n",
    "    # Convert the standardized molecules back to SMILES\n",
    "    std_smiles = [Chem.MolToSmiles(mol) for mol in parent_clean_mol]\n",
    "    \n",
    "    # Add the standardized SMILES to the dataset\n",
    "    dataset.loc[:,'STD_smile'] = std_smiles\n",
    "\n",
    "    return dataset"
   ]
  },
  {
   "cell_type": "code",
   "execution_count": 10,
   "metadata": {},
   "outputs": [
    {
     "name": "stderr",
     "output_type": "stream",
     "text": [
      "[14:45:56] WARNING: not removing hydrogen atom without neighbors\n",
      "[14:45:58] WARNING: not removing hydrogen atom without neighbors\n",
      "[14:45:58] Can't kekulize mol.  Unkekulized atoms: 3 10\n",
      "[14:46:02] WARNING: not removing hydrogen atom without neighbors\n",
      "[14:46:03] Can't kekulize mol.  Unkekulized atoms: 3 10\n"
     ]
    }
   ],
   "source": [
    "dataset = clean_std_smiles(dataset=dataset,smiles='CPD_SMILES')\n",
    "toxcast_er = clean_std_smiles(dataset=valid_smiles_df,smiles='smiles')"
   ]
  },
  {
   "cell_type": "markdown",
   "metadata": {},
   "source": [
    "Now both dataset have a Standarddize smiles entry we can compare them to identified overlapping molecules."
   ]
  },
  {
   "cell_type": "markdown",
   "metadata": {},
   "source": [
    "### Overlap between sets"
   ]
  },
  {
   "cell_type": "code",
   "execution_count": 11,
   "metadata": {},
   "outputs": [
    {
     "name": "stdout",
     "output_type": "stream",
     "text": [
      "There are 836 overlapped compound between all Toxcast estrogen receptor endpoint and broad dataset \n"
     ]
    }
   ],
   "source": [
    "overlapped = dataset[dataset['STD_smile'].isin(toxcast_er['STD_smile'].to_list())]\n",
    "print(f'There are {overlapped.shape[0]} overlapped compound between all Toxcast estrogen receptor endpoint and broad dataset ')"
   ]
  },
  {
   "cell_type": "markdown",
   "metadata": {},
   "source": [
    "We want to see if we have enough molecules for each class before building a predictive model in [Part3-Machine_learning.ipynb](Part3-Machine_learning.ipynb). \n"
   ]
  },
  {
   "cell_type": "markdown",
   "metadata": {},
   "source": [
    "### Proportions of activity for each assay."
   ]
  },
  {
   "cell_type": "markdown",
   "metadata": {},
   "source": [
    "Now we are looking at the ratio of active/inactive i.e classes for each assay. That will be later plot for better visualisation.\n"
   ]
  },
  {
   "cell_type": "code",
   "execution_count": 12,
   "metadata": {},
   "outputs": [],
   "source": [
    "counts_dict = {}\n",
    "for col in toxcast_er[ER_TOX_ASSAY_id]:\n",
    "    counts_dict[col] = toxcast_er[col].value_counts()\n",
    "\n",
    "# Create a DataFrame from the dictionary\n",
    "counts_df_assay = pd.DataFrame.from_dict(counts_dict, orient='index').transpose().fillna(0).astype(int)"
   ]
  },
  {
   "cell_type": "code",
   "execution_count": 13,
   "metadata": {},
   "outputs": [
    {
     "name": "stdout",
     "output_type": "stream",
     "text": [
      "One can quickly see that the class are highly inbalanced indepently from the assay\n"
     ]
    },
    {
     "data": {
      "text/html": [
       "<div>\n",
       "<style scoped>\n",
       "    .dataframe tbody tr th:only-of-type {\n",
       "        vertical-align: middle;\n",
       "    }\n",
       "\n",
       "    .dataframe tbody tr th {\n",
       "        vertical-align: top;\n",
       "    }\n",
       "\n",
       "    .dataframe thead th {\n",
       "        text-align: right;\n",
       "    }\n",
       "</style>\n",
       "<table border=\"1\" class=\"dataframe\">\n",
       "  <thead>\n",
       "    <tr style=\"text-align: right;\">\n",
       "      <th></th>\n",
       "      <th>OT_ER_ERaERa_0480</th>\n",
       "      <th>OT_ER_ERaERa_1440</th>\n",
       "      <th>OT_ER_ERaERb_0480</th>\n",
       "      <th>OT_ER_ERaERb_1440</th>\n",
       "      <th>OT_ER_ERbERb_0480</th>\n",
       "      <th>OT_ER_ERbERb_1440</th>\n",
       "      <th>TOX21_ERa_BLA_Agonist_ch1</th>\n",
       "      <th>TOX21_ERa_BLA_Agonist_ch2</th>\n",
       "      <th>TOX21_ERa_BLA_Agonist_ratio</th>\n",
       "      <th>TOX21_ERa_BLA_Antagonist_ch1</th>\n",
       "      <th>TOX21_ERa_BLA_Antagonist_ch2</th>\n",
       "      <th>TOX21_ERa_BLA_Antagonist_ratio</th>\n",
       "      <th>TOX21_ERa_BLA_Antagonist_viability</th>\n",
       "      <th>TOX21_ERa_LUC_BG1_Agonist</th>\n",
       "      <th>TOX21_ERa_LUC_BG1_Antagonist</th>\n",
       "      <th>TOX21_ESRE_BLA_ch1</th>\n",
       "      <th>TOX21_ESRE_BLA_ch2</th>\n",
       "      <th>TOX21_ESRE_BLA_ratio</th>\n",
       "      <th>TOX21_ESRE_BLA_viability</th>\n",
       "    </tr>\n",
       "  </thead>\n",
       "  <tbody>\n",
       "    <tr>\n",
       "      <th>0.0</th>\n",
       "      <td>1614</td>\n",
       "      <td>1566</td>\n",
       "      <td>1536</td>\n",
       "      <td>1469</td>\n",
       "      <td>1536</td>\n",
       "      <td>1488</td>\n",
       "      <td>7635</td>\n",
       "      <td>7464</td>\n",
       "      <td>7462</td>\n",
       "      <td>7632</td>\n",
       "      <td>7676</td>\n",
       "      <td>6902</td>\n",
       "      <td>7732</td>\n",
       "      <td>6676</td>\n",
       "      <td>7217</td>\n",
       "      <td>7094</td>\n",
       "      <td>7078</td>\n",
       "      <td>6855</td>\n",
       "      <td>6955</td>\n",
       "    </tr>\n",
       "    <tr>\n",
       "      <th>1.0</th>\n",
       "      <td>134</td>\n",
       "      <td>108</td>\n",
       "      <td>219</td>\n",
       "      <td>199</td>\n",
       "      <td>208</td>\n",
       "      <td>178</td>\n",
       "      <td>297</td>\n",
       "      <td>468</td>\n",
       "      <td>470</td>\n",
       "      <td>300</td>\n",
       "      <td>256</td>\n",
       "      <td>1030</td>\n",
       "      <td>200</td>\n",
       "      <td>1256</td>\n",
       "      <td>715</td>\n",
       "      <td>94</td>\n",
       "      <td>110</td>\n",
       "      <td>333</td>\n",
       "      <td>233</td>\n",
       "    </tr>\n",
       "  </tbody>\n",
       "</table>\n",
       "</div>"
      ],
      "text/plain": [
       "     OT_ER_ERaERa_0480  OT_ER_ERaERa_1440  OT_ER_ERaERb_0480  \\\n",
       "0.0               1614               1566               1536   \n",
       "1.0                134                108                219   \n",
       "\n",
       "     OT_ER_ERaERb_1440  OT_ER_ERbERb_0480  OT_ER_ERbERb_1440  \\\n",
       "0.0               1469               1536               1488   \n",
       "1.0                199                208                178   \n",
       "\n",
       "     TOX21_ERa_BLA_Agonist_ch1  TOX21_ERa_BLA_Agonist_ch2  \\\n",
       "0.0                       7635                       7464   \n",
       "1.0                        297                        468   \n",
       "\n",
       "     TOX21_ERa_BLA_Agonist_ratio  TOX21_ERa_BLA_Antagonist_ch1  \\\n",
       "0.0                         7462                          7632   \n",
       "1.0                          470                           300   \n",
       "\n",
       "     TOX21_ERa_BLA_Antagonist_ch2  TOX21_ERa_BLA_Antagonist_ratio  \\\n",
       "0.0                          7676                            6902   \n",
       "1.0                           256                            1030   \n",
       "\n",
       "     TOX21_ERa_BLA_Antagonist_viability  TOX21_ERa_LUC_BG1_Agonist  \\\n",
       "0.0                                7732                       6676   \n",
       "1.0                                 200                       1256   \n",
       "\n",
       "     TOX21_ERa_LUC_BG1_Antagonist  TOX21_ESRE_BLA_ch1  TOX21_ESRE_BLA_ch2  \\\n",
       "0.0                          7217                7094                7078   \n",
       "1.0                           715                  94                 110   \n",
       "\n",
       "     TOX21_ESRE_BLA_ratio  TOX21_ESRE_BLA_viability  \n",
       "0.0                  6855                      6955  \n",
       "1.0                   333                       233  "
      ]
     },
     "execution_count": 13,
     "metadata": {},
     "output_type": "execute_result"
    }
   ],
   "source": [
    "print(f'One can quickly see that the class are highly inbalanced indepently from the assay')\n",
    "counts_df_assay"
   ]
  },
  {
   "cell_type": "markdown",
   "metadata": {},
   "source": [
    "### Visualization of which of the assay endpoint has the most overlapped compound in the dataset overlapping"
   ]
  },
  {
   "cell_type": "markdown",
   "metadata": {},
   "source": [
    "The next step is to identify which assay endpoint has the most overlapping compounds between the Tox-Broad dataset, which contains 14 assay endpoints and over 800 molecules."
   ]
  },
  {
   "cell_type": "code",
   "execution_count": 14,
   "metadata": {},
   "outputs": [],
   "source": [
    "merged_df = overlapped.merge(toxcast_er, on='STD_smile', how='left')\n"
   ]
  },
  {
   "cell_type": "code",
   "execution_count": 15,
   "metadata": {},
   "outputs": [],
   "source": [
    "counts_dict = {}\n",
    "for col in merged_df[ER_TOX_ASSAY_id]:\n",
    "    counts_dict[col] = merged_df[col].value_counts()\n",
    "\n",
    "# Create a DataFrame from the dictionary\n",
    "counts_df_assay = pd.DataFrame.from_dict(counts_dict, orient='index').transpose().fillna(0).astype(int)"
   ]
  },
  {
   "cell_type": "code",
   "execution_count": 16,
   "metadata": {},
   "outputs": [
    {
     "data": {
      "application/vnd.plotly.v1+json": {
       "config": {
        "plotlyServerURL": "https://plot.ly"
       },
       "data": [
        {
         "alignmentgroup": "True",
         "hovertemplate": "Status=inactive<br>Assay=%{x}<br>Count=%{y}<extra></extra>",
         "legendgroup": "inactive",
         "marker": {
          "color": "#636efa",
          "pattern": {
           "shape": ""
          }
         },
         "name": "inactive",
         "offsetgroup": "inactive",
         "orientation": "v",
         "showlegend": true,
         "textposition": "auto",
         "type": "bar",
         "x": [
          "OT_ER_ERaERa_0480",
          "OT_ER_ERaERa_1440",
          "OT_ER_ERaERb_0480",
          "OT_ER_ERaERb_1440",
          "OT_ER_ERbERb_0480",
          "OT_ER_ERbERb_1440",
          "TOX21_ERa_BLA_Agonist_ch1",
          "TOX21_ERa_BLA_Agonist_ch2",
          "TOX21_ERa_BLA_Agonist_ratio",
          "TOX21_ERa_BLA_Antagonist_ch1",
          "TOX21_ERa_BLA_Antagonist_ch2",
          "TOX21_ERa_BLA_Antagonist_ratio",
          "TOX21_ERa_BLA_Antagonist_viability",
          "TOX21_ERa_LUC_BG1_Agonist",
          "TOX21_ERa_LUC_BG1_Antagonist",
          "TOX21_ESRE_BLA_ch1",
          "TOX21_ESRE_BLA_ch2",
          "TOX21_ESRE_BLA_ratio",
          "TOX21_ESRE_BLA_viability"
         ],
         "xaxis": "x",
         "y": [
          104,
          106,
          99,
          93,
          101,
          98,
          839,
          824,
          820,
          845,
          848,
          742,
          859,
          754,
          784,
          780,
          769,
          739,
          767
         ],
         "yaxis": "y"
        },
        {
         "alignmentgroup": "True",
         "hovertemplate": "Status=active<br>Assay=%{x}<br>Count=%{y}<extra></extra>",
         "legendgroup": "active",
         "marker": {
          "color": "#EF553B",
          "pattern": {
           "shape": ""
          }
         },
         "name": "active",
         "offsetgroup": "active",
         "orientation": "v",
         "showlegend": true,
         "textposition": "auto",
         "type": "bar",
         "x": [
          "OT_ER_ERaERa_0480",
          "OT_ER_ERaERa_1440",
          "OT_ER_ERaERb_0480",
          "OT_ER_ERaERb_1440",
          "OT_ER_ERbERb_0480",
          "OT_ER_ERbERb_1440",
          "TOX21_ERa_BLA_Agonist_ch1",
          "TOX21_ERa_BLA_Agonist_ch2",
          "TOX21_ERa_BLA_Agonist_ratio",
          "TOX21_ERa_BLA_Antagonist_ch1",
          "TOX21_ERa_BLA_Antagonist_ch2",
          "TOX21_ERa_BLA_Antagonist_ratio",
          "TOX21_ERa_BLA_Antagonist_viability",
          "TOX21_ERa_LUC_BG1_Agonist",
          "TOX21_ERa_LUC_BG1_Antagonist",
          "TOX21_ESRE_BLA_ch1",
          "TOX21_ESRE_BLA_ch2",
          "TOX21_ESRE_BLA_ratio",
          "TOX21_ESRE_BLA_viability"
         ],
         "xaxis": "x",
         "y": [
          24,
          20,
          30,
          30,
          26,
          26,
          42,
          57,
          61,
          36,
          33,
          139,
          22,
          127,
          97,
          9,
          20,
          50,
          22
         ],
         "yaxis": "y"
        }
       ],
       "layout": {
        "barmode": "group",
        "legend": {
         "title": {
          "text": "Status"
         },
         "tracegroupgap": 0
        },
        "template": {
         "data": {
          "bar": [
           {
            "error_x": {
             "color": "#2a3f5f"
            },
            "error_y": {
             "color": "#2a3f5f"
            },
            "marker": {
             "line": {
              "color": "#E5ECF6",
              "width": 0.5
             },
             "pattern": {
              "fillmode": "overlay",
              "size": 10,
              "solidity": 0.2
             }
            },
            "type": "bar"
           }
          ],
          "barpolar": [
           {
            "marker": {
             "line": {
              "color": "#E5ECF6",
              "width": 0.5
             },
             "pattern": {
              "fillmode": "overlay",
              "size": 10,
              "solidity": 0.2
             }
            },
            "type": "barpolar"
           }
          ],
          "carpet": [
           {
            "aaxis": {
             "endlinecolor": "#2a3f5f",
             "gridcolor": "white",
             "linecolor": "white",
             "minorgridcolor": "white",
             "startlinecolor": "#2a3f5f"
            },
            "baxis": {
             "endlinecolor": "#2a3f5f",
             "gridcolor": "white",
             "linecolor": "white",
             "minorgridcolor": "white",
             "startlinecolor": "#2a3f5f"
            },
            "type": "carpet"
           }
          ],
          "choropleth": [
           {
            "colorbar": {
             "outlinewidth": 0,
             "ticks": ""
            },
            "type": "choropleth"
           }
          ],
          "contour": [
           {
            "colorbar": {
             "outlinewidth": 0,
             "ticks": ""
            },
            "colorscale": [
             [
              0,
              "#0d0887"
             ],
             [
              0.1111111111111111,
              "#46039f"
             ],
             [
              0.2222222222222222,
              "#7201a8"
             ],
             [
              0.3333333333333333,
              "#9c179e"
             ],
             [
              0.4444444444444444,
              "#bd3786"
             ],
             [
              0.5555555555555556,
              "#d8576b"
             ],
             [
              0.6666666666666666,
              "#ed7953"
             ],
             [
              0.7777777777777778,
              "#fb9f3a"
             ],
             [
              0.8888888888888888,
              "#fdca26"
             ],
             [
              1,
              "#f0f921"
             ]
            ],
            "type": "contour"
           }
          ],
          "contourcarpet": [
           {
            "colorbar": {
             "outlinewidth": 0,
             "ticks": ""
            },
            "type": "contourcarpet"
           }
          ],
          "heatmap": [
           {
            "colorbar": {
             "outlinewidth": 0,
             "ticks": ""
            },
            "colorscale": [
             [
              0,
              "#0d0887"
             ],
             [
              0.1111111111111111,
              "#46039f"
             ],
             [
              0.2222222222222222,
              "#7201a8"
             ],
             [
              0.3333333333333333,
              "#9c179e"
             ],
             [
              0.4444444444444444,
              "#bd3786"
             ],
             [
              0.5555555555555556,
              "#d8576b"
             ],
             [
              0.6666666666666666,
              "#ed7953"
             ],
             [
              0.7777777777777778,
              "#fb9f3a"
             ],
             [
              0.8888888888888888,
              "#fdca26"
             ],
             [
              1,
              "#f0f921"
             ]
            ],
            "type": "heatmap"
           }
          ],
          "heatmapgl": [
           {
            "colorbar": {
             "outlinewidth": 0,
             "ticks": ""
            },
            "colorscale": [
             [
              0,
              "#0d0887"
             ],
             [
              0.1111111111111111,
              "#46039f"
             ],
             [
              0.2222222222222222,
              "#7201a8"
             ],
             [
              0.3333333333333333,
              "#9c179e"
             ],
             [
              0.4444444444444444,
              "#bd3786"
             ],
             [
              0.5555555555555556,
              "#d8576b"
             ],
             [
              0.6666666666666666,
              "#ed7953"
             ],
             [
              0.7777777777777778,
              "#fb9f3a"
             ],
             [
              0.8888888888888888,
              "#fdca26"
             ],
             [
              1,
              "#f0f921"
             ]
            ],
            "type": "heatmapgl"
           }
          ],
          "histogram": [
           {
            "marker": {
             "pattern": {
              "fillmode": "overlay",
              "size": 10,
              "solidity": 0.2
             }
            },
            "type": "histogram"
           }
          ],
          "histogram2d": [
           {
            "colorbar": {
             "outlinewidth": 0,
             "ticks": ""
            },
            "colorscale": [
             [
              0,
              "#0d0887"
             ],
             [
              0.1111111111111111,
              "#46039f"
             ],
             [
              0.2222222222222222,
              "#7201a8"
             ],
             [
              0.3333333333333333,
              "#9c179e"
             ],
             [
              0.4444444444444444,
              "#bd3786"
             ],
             [
              0.5555555555555556,
              "#d8576b"
             ],
             [
              0.6666666666666666,
              "#ed7953"
             ],
             [
              0.7777777777777778,
              "#fb9f3a"
             ],
             [
              0.8888888888888888,
              "#fdca26"
             ],
             [
              1,
              "#f0f921"
             ]
            ],
            "type": "histogram2d"
           }
          ],
          "histogram2dcontour": [
           {
            "colorbar": {
             "outlinewidth": 0,
             "ticks": ""
            },
            "colorscale": [
             [
              0,
              "#0d0887"
             ],
             [
              0.1111111111111111,
              "#46039f"
             ],
             [
              0.2222222222222222,
              "#7201a8"
             ],
             [
              0.3333333333333333,
              "#9c179e"
             ],
             [
              0.4444444444444444,
              "#bd3786"
             ],
             [
              0.5555555555555556,
              "#d8576b"
             ],
             [
              0.6666666666666666,
              "#ed7953"
             ],
             [
              0.7777777777777778,
              "#fb9f3a"
             ],
             [
              0.8888888888888888,
              "#fdca26"
             ],
             [
              1,
              "#f0f921"
             ]
            ],
            "type": "histogram2dcontour"
           }
          ],
          "mesh3d": [
           {
            "colorbar": {
             "outlinewidth": 0,
             "ticks": ""
            },
            "type": "mesh3d"
           }
          ],
          "parcoords": [
           {
            "line": {
             "colorbar": {
              "outlinewidth": 0,
              "ticks": ""
             }
            },
            "type": "parcoords"
           }
          ],
          "pie": [
           {
            "automargin": true,
            "type": "pie"
           }
          ],
          "scatter": [
           {
            "fillpattern": {
             "fillmode": "overlay",
             "size": 10,
             "solidity": 0.2
            },
            "type": "scatter"
           }
          ],
          "scatter3d": [
           {
            "line": {
             "colorbar": {
              "outlinewidth": 0,
              "ticks": ""
             }
            },
            "marker": {
             "colorbar": {
              "outlinewidth": 0,
              "ticks": ""
             }
            },
            "type": "scatter3d"
           }
          ],
          "scattercarpet": [
           {
            "marker": {
             "colorbar": {
              "outlinewidth": 0,
              "ticks": ""
             }
            },
            "type": "scattercarpet"
           }
          ],
          "scattergeo": [
           {
            "marker": {
             "colorbar": {
              "outlinewidth": 0,
              "ticks": ""
             }
            },
            "type": "scattergeo"
           }
          ],
          "scattergl": [
           {
            "marker": {
             "colorbar": {
              "outlinewidth": 0,
              "ticks": ""
             }
            },
            "type": "scattergl"
           }
          ],
          "scattermapbox": [
           {
            "marker": {
             "colorbar": {
              "outlinewidth": 0,
              "ticks": ""
             }
            },
            "type": "scattermapbox"
           }
          ],
          "scatterpolar": [
           {
            "marker": {
             "colorbar": {
              "outlinewidth": 0,
              "ticks": ""
             }
            },
            "type": "scatterpolar"
           }
          ],
          "scatterpolargl": [
           {
            "marker": {
             "colorbar": {
              "outlinewidth": 0,
              "ticks": ""
             }
            },
            "type": "scatterpolargl"
           }
          ],
          "scatterternary": [
           {
            "marker": {
             "colorbar": {
              "outlinewidth": 0,
              "ticks": ""
             }
            },
            "type": "scatterternary"
           }
          ],
          "surface": [
           {
            "colorbar": {
             "outlinewidth": 0,
             "ticks": ""
            },
            "colorscale": [
             [
              0,
              "#0d0887"
             ],
             [
              0.1111111111111111,
              "#46039f"
             ],
             [
              0.2222222222222222,
              "#7201a8"
             ],
             [
              0.3333333333333333,
              "#9c179e"
             ],
             [
              0.4444444444444444,
              "#bd3786"
             ],
             [
              0.5555555555555556,
              "#d8576b"
             ],
             [
              0.6666666666666666,
              "#ed7953"
             ],
             [
              0.7777777777777778,
              "#fb9f3a"
             ],
             [
              0.8888888888888888,
              "#fdca26"
             ],
             [
              1,
              "#f0f921"
             ]
            ],
            "type": "surface"
           }
          ],
          "table": [
           {
            "cells": {
             "fill": {
              "color": "#EBF0F8"
             },
             "line": {
              "color": "white"
             }
            },
            "header": {
             "fill": {
              "color": "#C8D4E3"
             },
             "line": {
              "color": "white"
             }
            },
            "type": "table"
           }
          ]
         },
         "layout": {
          "annotationdefaults": {
           "arrowcolor": "#2a3f5f",
           "arrowhead": 0,
           "arrowwidth": 1
          },
          "autotypenumbers": "strict",
          "coloraxis": {
           "colorbar": {
            "outlinewidth": 0,
            "ticks": ""
           }
          },
          "colorscale": {
           "diverging": [
            [
             0,
             "#8e0152"
            ],
            [
             0.1,
             "#c51b7d"
            ],
            [
             0.2,
             "#de77ae"
            ],
            [
             0.3,
             "#f1b6da"
            ],
            [
             0.4,
             "#fde0ef"
            ],
            [
             0.5,
             "#f7f7f7"
            ],
            [
             0.6,
             "#e6f5d0"
            ],
            [
             0.7,
             "#b8e186"
            ],
            [
             0.8,
             "#7fbc41"
            ],
            [
             0.9,
             "#4d9221"
            ],
            [
             1,
             "#276419"
            ]
           ],
           "sequential": [
            [
             0,
             "#0d0887"
            ],
            [
             0.1111111111111111,
             "#46039f"
            ],
            [
             0.2222222222222222,
             "#7201a8"
            ],
            [
             0.3333333333333333,
             "#9c179e"
            ],
            [
             0.4444444444444444,
             "#bd3786"
            ],
            [
             0.5555555555555556,
             "#d8576b"
            ],
            [
             0.6666666666666666,
             "#ed7953"
            ],
            [
             0.7777777777777778,
             "#fb9f3a"
            ],
            [
             0.8888888888888888,
             "#fdca26"
            ],
            [
             1,
             "#f0f921"
            ]
           ],
           "sequentialminus": [
            [
             0,
             "#0d0887"
            ],
            [
             0.1111111111111111,
             "#46039f"
            ],
            [
             0.2222222222222222,
             "#7201a8"
            ],
            [
             0.3333333333333333,
             "#9c179e"
            ],
            [
             0.4444444444444444,
             "#bd3786"
            ],
            [
             0.5555555555555556,
             "#d8576b"
            ],
            [
             0.6666666666666666,
             "#ed7953"
            ],
            [
             0.7777777777777778,
             "#fb9f3a"
            ],
            [
             0.8888888888888888,
             "#fdca26"
            ],
            [
             1,
             "#f0f921"
            ]
           ]
          },
          "colorway": [
           "#636efa",
           "#EF553B",
           "#00cc96",
           "#ab63fa",
           "#FFA15A",
           "#19d3f3",
           "#FF6692",
           "#B6E880",
           "#FF97FF",
           "#FECB52"
          ],
          "font": {
           "color": "#2a3f5f"
          },
          "geo": {
           "bgcolor": "white",
           "lakecolor": "white",
           "landcolor": "#E5ECF6",
           "showlakes": true,
           "showland": true,
           "subunitcolor": "white"
          },
          "hoverlabel": {
           "align": "left"
          },
          "hovermode": "closest",
          "mapbox": {
           "style": "light"
          },
          "paper_bgcolor": "white",
          "plot_bgcolor": "#E5ECF6",
          "polar": {
           "angularaxis": {
            "gridcolor": "white",
            "linecolor": "white",
            "ticks": ""
           },
           "bgcolor": "#E5ECF6",
           "radialaxis": {
            "gridcolor": "white",
            "linecolor": "white",
            "ticks": ""
           }
          },
          "scene": {
           "xaxis": {
            "backgroundcolor": "#E5ECF6",
            "gridcolor": "white",
            "gridwidth": 2,
            "linecolor": "white",
            "showbackground": true,
            "ticks": "",
            "zerolinecolor": "white"
           },
           "yaxis": {
            "backgroundcolor": "#E5ECF6",
            "gridcolor": "white",
            "gridwidth": 2,
            "linecolor": "white",
            "showbackground": true,
            "ticks": "",
            "zerolinecolor": "white"
           },
           "zaxis": {
            "backgroundcolor": "#E5ECF6",
            "gridcolor": "white",
            "gridwidth": 2,
            "linecolor": "white",
            "showbackground": true,
            "ticks": "",
            "zerolinecolor": "white"
           }
          },
          "shapedefaults": {
           "line": {
            "color": "#2a3f5f"
           }
          },
          "ternary": {
           "aaxis": {
            "gridcolor": "white",
            "linecolor": "white",
            "ticks": ""
           },
           "baxis": {
            "gridcolor": "white",
            "linecolor": "white",
            "ticks": ""
           },
           "bgcolor": "#E5ECF6",
           "caxis": {
            "gridcolor": "white",
            "linecolor": "white",
            "ticks": ""
           }
          },
          "title": {
           "x": 0.05
          },
          "xaxis": {
           "automargin": true,
           "gridcolor": "white",
           "linecolor": "white",
           "ticks": "",
           "title": {
            "standoff": 15
           },
           "zerolinecolor": "white",
           "zerolinewidth": 2
          },
          "yaxis": {
           "automargin": true,
           "gridcolor": "white",
           "linecolor": "white",
           "ticks": "",
           "title": {
            "standoff": 15
           },
           "zerolinecolor": "white",
           "zerolinewidth": 2
          }
         }
        },
        "title": {
         "text": "Number of Active and Inactive Counts per Assay for Endrogen receptor Agonist / Antagonist activity"
        },
        "xaxis": {
         "anchor": "y",
         "domain": [
          0,
          1
         ],
         "title": {
          "text": "Assay"
         }
        },
        "yaxis": {
         "anchor": "x",
         "domain": [
          0,
          1
         ],
         "title": {
          "text": "Count"
         }
        }
       }
      }
     },
     "metadata": {},
     "output_type": "display_data"
    }
   ],
   "source": [
    "counts_df_assay = pd.DataFrame.from_dict(counts_dict, orient='index').transpose().fillna(0).astype(int)\n",
    "# Reset the index to turn it into a column for melting\n",
    "counts_df_assay.reset_index(inplace=True)\n",
    "counts_df_assay.rename(columns={'index': 'status'}, inplace=True)\n",
    "\n",
    "# Melt the DataFrame to long format\n",
    "melted_df = counts_df_assay.melt(id_vars=['status'], var_name='assay', value_name='count')\n",
    "\n",
    "# Map the status column to active/inactive for better readability\n",
    "status_mapping = {0.0: 'inactive', 1.0: 'active'}\n",
    "melted_df['status'] = melted_df['status'].map(status_mapping)\n",
    "\n",
    "# Create the bar plot\n",
    "fig = px.bar(melted_df, x='assay', y='count', color='status', barmode='group',\n",
    "             labels={'assay': 'Assay', 'count': 'Count', 'status': 'Status'},\n",
    "             title='Number of Active and Inactive Counts per Assay')\n",
    "\n",
    "# Update layout for better appearance\n",
    "fig.update_layout(xaxis_title='Assay', yaxis_title='Count', title='Number of Active and Inactive Counts per Assay for Endrogen receptor Agonist / Antagonist activity')\n",
    "\n",
    "# Show the plot\n",
    "fig.show()\n"
   ]
  },
  {
   "cell_type": "code",
   "execution_count": 17,
   "metadata": {},
   "outputs": [],
   "source": [
    "ERa_LUC_BG1 = merged_df[['TOX21_ERa_LUC_BG1_Antagonist','TOX21_ERa_LUC_BG1_Agonist','CPD_NAME']]"
   ]
  },
  {
   "cell_type": "code",
   "execution_count": 18,
   "metadata": {},
   "outputs": [
    {
     "data": {
      "text/html": [
       "<div>\n",
       "<style scoped>\n",
       "    .dataframe tbody tr th:only-of-type {\n",
       "        vertical-align: middle;\n",
       "    }\n",
       "\n",
       "    .dataframe tbody tr th {\n",
       "        vertical-align: top;\n",
       "    }\n",
       "\n",
       "    .dataframe thead th {\n",
       "        text-align: right;\n",
       "    }\n",
       "</style>\n",
       "<table border=\"1\" class=\"dataframe\">\n",
       "  <thead>\n",
       "    <tr style=\"text-align: right;\">\n",
       "      <th></th>\n",
       "      <th>TOX21_ERa_LUC_BG1_Antagonist</th>\n",
       "      <th>TOX21_ERa_LUC_BG1_Agonist</th>\n",
       "      <th>CPD_NAME</th>\n",
       "    </tr>\n",
       "  </thead>\n",
       "  <tbody>\n",
       "    <tr>\n",
       "      <th>0</th>\n",
       "      <td>1.0</td>\n",
       "      <td>0.0</td>\n",
       "      <td>mibefradil</td>\n",
       "    </tr>\n",
       "    <tr>\n",
       "      <th>1</th>\n",
       "      <td>0.0</td>\n",
       "      <td>0.0</td>\n",
       "      <td>fenbufen</td>\n",
       "    </tr>\n",
       "    <tr>\n",
       "      <th>2</th>\n",
       "      <td>0.0</td>\n",
       "      <td>0.0</td>\n",
       "      <td>diethanolamine</td>\n",
       "    </tr>\n",
       "    <tr>\n",
       "      <th>3</th>\n",
       "      <td>0.0</td>\n",
       "      <td>0.0</td>\n",
       "      <td>BRD-K58885221</td>\n",
       "    </tr>\n",
       "    <tr>\n",
       "      <th>4</th>\n",
       "      <td>0.0</td>\n",
       "      <td>0.0</td>\n",
       "      <td>BRD-K70333305</td>\n",
       "    </tr>\n",
       "  </tbody>\n",
       "</table>\n",
       "</div>"
      ],
      "text/plain": [
       "   TOX21_ERa_LUC_BG1_Antagonist  TOX21_ERa_LUC_BG1_Agonist        CPD_NAME\n",
       "0                           1.0                        0.0      mibefradil\n",
       "1                           0.0                        0.0        fenbufen\n",
       "2                           0.0                        0.0  diethanolamine\n",
       "3                           0.0                        0.0   BRD-K58885221\n",
       "4                           0.0                        0.0   BRD-K70333305"
      ]
     },
     "execution_count": 18,
     "metadata": {},
     "output_type": "execute_result"
    }
   ],
   "source": [
    "ERa_LUC_BG1.head()"
   ]
  },
  {
   "cell_type": "code",
   "execution_count": 19,
   "metadata": {},
   "outputs": [
    {
     "name": "stdout",
     "output_type": "stream",
     "text": [
      "There are 205 active (agonist - antagonist) and 640 inactive molecules on ER alpha activity tested on LUC_BG1 cell types and also identified in the BBBC047 dataset.\n"
     ]
    }
   ],
   "source": [
    "active = len(ERa_LUC_BG1[(ERa_LUC_BG1['TOX21_ERa_LUC_BG1_Antagonist'] != 0) | (ERa_LUC_BG1['TOX21_ERa_LUC_BG1_Agonist'] != 0)]['CPD_NAME'].unique())\n",
    "inactive = len(ERa_LUC_BG1[(ERa_LUC_BG1['TOX21_ERa_LUC_BG1_Antagonist'] == 0) & (ERa_LUC_BG1['TOX21_ERa_LUC_BG1_Agonist'] == 0)]['CPD_NAME'].unique())\n",
    "print(f'There are {active} active (agonist - antagonist) and {inactive} inactive molecules on ER alpha activity tested on LUC_BG1 cell types and also identified in the BBBC047 dataset.')"
   ]
  },
  {
   "cell_type": "markdown",
   "metadata": {},
   "source": [
    "### Saving activity data set"
   ]
  },
  {
   "cell_type": "code",
   "execution_count": 20,
   "metadata": {},
   "outputs": [],
   "source": [
    "ERa_LUC_BG1.to_csv('../Data/Output/ER_activity_luc_bg1.csv')"
   ]
  }
 ],
 "metadata": {
  "kernelspec": {
   "display_name": "MORPHEUS",
   "language": "python",
   "name": "python3"
  },
  "language_info": {
   "codemirror_mode": {
    "name": "ipython",
    "version": 3
   },
   "file_extension": ".py",
   "mimetype": "text/x-python",
   "name": "python",
   "nbconvert_exporter": "python",
   "pygments_lexer": "ipython3",
   "version": "3.11.5"
  }
 },
 "nbformat": 4,
 "nbformat_minor": 2
}
