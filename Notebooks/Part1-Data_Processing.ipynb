{
 "cells": [
  {
   "cell_type": "markdown",
   "metadata": {},
   "source": [
    "# Broad institute Dataset pre-processing and cleaning "
   ]
  },
  {
   "cell_type": "markdown",
   "metadata": {},
   "source": [
    "## Import libraries"
   ]
  },
  {
   "cell_type": "code",
   "execution_count": 1,
   "metadata": {},
   "outputs": [],
   "source": [
    "import os \n",
    "import glob\n",
    "import sys\n",
    "from collections import defaultdict\n",
    "import warnings\n",
    "\n",
    "import matplotlib.pyplot as plt\n",
    "import numpy as np\n",
    "import pandas as pd\n",
    "from scipy.cluster.hierarchy import dendrogram, fcluster, ward\n",
    "from scipy.spatial.distance import  squareform\n",
    "import seaborn as sns\n",
    "from statsmodels import robust\n",
    "\n"
   ]
  },
  {
   "cell_type": "markdown",
   "metadata": {},
   "source": [
    "## Data exploration"
   ]
  },
  {
   "cell_type": "markdown",
   "metadata": {},
   "source": [
    "### Load data: replicas and annotations \n",
    "\n",
    "- Load annotation data files\n",
    "- Load replicas present in the Data/ directory into one data frame \n",
    "- Concatenate the data frames into one "
   ]
  },
  {
   "cell_type": "markdown",
   "metadata": {},
   "source": [
    "__The dataset__: 10 080 compounds came from the Molecular Libraries Small Molecule Repository (MLSMR). 2260 were drugs, natural products, and small-molecule probes that are part of the Broad Institute's known bioactive compound collection, 269 were confirmed screening hits from the Molecular Libraries Program (MLP), and 18 051 were novel compounds derived from diversity-oriented synthesis. "
   ]
  },
  {
   "cell_type": "markdown",
   "metadata": {},
   "source": [
    "1. Load the chemical annotation file, and check the 2 first line of your annotation file"
   ]
  },
  {
   "cell_type": "code",
   "execution_count": 2,
   "metadata": {},
   "outputs": [
    {
     "data": {
      "text/html": [
       "<div>\n",
       "<style scoped>\n",
       "    .dataframe tbody tr th:only-of-type {\n",
       "        vertical-align: middle;\n",
       "    }\n",
       "\n",
       "    .dataframe tbody tr th {\n",
       "        vertical-align: top;\n",
       "    }\n",
       "\n",
       "    .dataframe thead th {\n",
       "        text-align: right;\n",
       "    }\n",
       "</style>\n",
       "<table border=\"1\" class=\"dataframe\">\n",
       "  <thead>\n",
       "    <tr style=\"text-align: right;\">\n",
       "      <th></th>\n",
       "      <th>BROAD_ID</th>\n",
       "      <th>CPD_NAME</th>\n",
       "      <th>CPD_NAME_TYPE</th>\n",
       "      <th>CPD_SAMPLE_ID</th>\n",
       "      <th>DOS_LIBRARY</th>\n",
       "      <th>SOURCE_NAME</th>\n",
       "      <th>CHEMIST_NAME</th>\n",
       "      <th>VENDOR_CATALOG_ID</th>\n",
       "      <th>CPD_SMILES</th>\n",
       "      <th>USERCOMMENT</th>\n",
       "    </tr>\n",
       "  </thead>\n",
       "  <tbody>\n",
       "    <tr>\n",
       "      <th>0</th>\n",
       "      <td>BRD-A56675431-001-04-0</td>\n",
       "      <td>altizide</td>\n",
       "      <td>INN</td>\n",
       "      <td>SA82748</td>\n",
       "      <td>NaN</td>\n",
       "      <td>Prestwick Chemical Inc.</td>\n",
       "      <td>NaN</td>\n",
       "      <td>Prestw-721</td>\n",
       "      <td>NS(=O)(=O)c1cc2c(NC(CSCC=C)NS2(=O)=O)cc1Cl</td>\n",
       "      <td>NaN</td>\n",
       "    </tr>\n",
       "    <tr>\n",
       "      <th>1</th>\n",
       "      <td>BRD-A51829654-001-01-4</td>\n",
       "      <td>BRL-15,572</td>\n",
       "      <td>common</td>\n",
       "      <td>SA82481</td>\n",
       "      <td>NaN</td>\n",
       "      <td>Biomol International Inc.</td>\n",
       "      <td>NaN</td>\n",
       "      <td>AC-536</td>\n",
       "      <td>OC(CN1CCN(CC1)c1cccc(Cl)c1)C(c1ccccc1)c1ccccc1</td>\n",
       "      <td>NaN</td>\n",
       "    </tr>\n",
       "  </tbody>\n",
       "</table>\n",
       "</div>"
      ],
      "text/plain": [
       "                 BROAD_ID    CPD_NAME CPD_NAME_TYPE CPD_SAMPLE_ID DOS_LIBRARY  \\\n",
       "0  BRD-A56675431-001-04-0    altizide           INN       SA82748         NaN   \n",
       "1  BRD-A51829654-001-01-4  BRL-15,572        common       SA82481         NaN   \n",
       "\n",
       "                 SOURCE_NAME CHEMIST_NAME VENDOR_CATALOG_ID  \\\n",
       "0    Prestwick Chemical Inc.          NaN        Prestw-721   \n",
       "1  Biomol International Inc.          NaN            AC-536   \n",
       "\n",
       "                                       CPD_SMILES USERCOMMENT  \n",
       "0      NS(=O)(=O)c1cc2c(NC(CSCC=C)NS2(=O)=O)cc1Cl         NaN  \n",
       "1  OC(CN1CCN(CC1)c1cccc(Cl)c1)C(c1ccccc1)c1ccccc1         NaN  "
      ]
     },
     "execution_count": 2,
     "metadata": {},
     "output_type": "execute_result"
    }
   ],
   "source": [
    "annotations = pd.read_csv('../Data/Annotations/chemical_annotations.csv')\n",
    "annotations.head(2)"
   ]
  },
  {
   "cell_type": "markdown",
   "metadata": {},
   "source": [
    "We are only interested in the first two columns and the 'smiles' column. Therefore, we can drop the others."
   ]
  },
  {
   "cell_type": "code",
   "execution_count": 3,
   "metadata": {},
   "outputs": [
    {
     "data": {
      "text/html": [
       "<div>\n",
       "<style scoped>\n",
       "    .dataframe tbody tr th:only-of-type {\n",
       "        vertical-align: middle;\n",
       "    }\n",
       "\n",
       "    .dataframe tbody tr th {\n",
       "        vertical-align: top;\n",
       "    }\n",
       "\n",
       "    .dataframe thead th {\n",
       "        text-align: right;\n",
       "    }\n",
       "</style>\n",
       "<table border=\"1\" class=\"dataframe\">\n",
       "  <thead>\n",
       "    <tr style=\"text-align: right;\">\n",
       "      <th></th>\n",
       "      <th>BROAD_ID</th>\n",
       "      <th>CPD_NAME</th>\n",
       "      <th>CPD_SMILES</th>\n",
       "    </tr>\n",
       "  </thead>\n",
       "  <tbody>\n",
       "    <tr>\n",
       "      <th>0</th>\n",
       "      <td>BRD-A56675431-001-04-0</td>\n",
       "      <td>altizide</td>\n",
       "      <td>NS(=O)(=O)c1cc2c(NC(CSCC=C)NS2(=O)=O)cc1Cl</td>\n",
       "    </tr>\n",
       "    <tr>\n",
       "      <th>1</th>\n",
       "      <td>BRD-A51829654-001-01-4</td>\n",
       "      <td>BRL-15,572</td>\n",
       "      <td>OC(CN1CCN(CC1)c1cccc(Cl)c1)C(c1ccccc1)c1ccccc1</td>\n",
       "    </tr>\n",
       "  </tbody>\n",
       "</table>\n",
       "</div>"
      ],
      "text/plain": [
       "                 BROAD_ID    CPD_NAME  \\\n",
       "0  BRD-A56675431-001-04-0    altizide   \n",
       "1  BRD-A51829654-001-01-4  BRL-15,572   \n",
       "\n",
       "                                       CPD_SMILES  \n",
       "0      NS(=O)(=O)c1cc2c(NC(CSCC=C)NS2(=O)=O)cc1Cl  \n",
       "1  OC(CN1CCN(CC1)c1cccc(Cl)c1)C(c1ccccc1)c1ccccc1  "
      ]
     },
     "execution_count": 3,
     "metadata": {},
     "output_type": "execute_result"
    }
   ],
   "source": [
    "desired_col = [\"BROAD_ID\", \"CPD_NAME\", \"CPD_SMILES\"] \n",
    "annotations = annotations.loc[:, desired_col]\n",
    "# One can visualize the data after removing some metadata \n",
    "annotations.head(2)"
   ]
  },
  {
   "cell_type": "markdown",
   "metadata": {},
   "source": [
    "2. Load the morphological profile replicas file.\n",
    "   The profiles are provided in several CSV files. The profiles are split into 63 files to facilitate storage.\n"
   ]
  },
  {
   "cell_type": "code",
   "execution_count": 4,
   "metadata": {},
   "outputs": [],
   "source": [
    "path_to_pickle_file = ('../Data/Cell_Profiles')\n",
    "all_profiles = glob.glob(os.path.join(path_to_pickle_file, \"part_*\"))"
   ]
  },
  {
   "cell_type": "markdown",
   "metadata": {},
   "source": [
    "We open, read and concatenate all the files into one dataframe \n",
    "\n",
    "- _NB : The obtain dataframe should have 1800 columns and 153370 lines_ \n",
    "    "
   ]
  },
  {
   "cell_type": "code",
   "execution_count": 5,
   "metadata": {},
   "outputs": [
    {
     "name": "stdout",
     "output_type": "stream",
     "text": [
      "The dataframe has 153370 lines and 1800 columns\n"
     ]
    },
    {
     "data": {
      "text/html": [
       "<div>\n",
       "<style scoped>\n",
       "    .dataframe tbody tr th:only-of-type {\n",
       "        vertical-align: middle;\n",
       "    }\n",
       "\n",
       "    .dataframe tbody tr th {\n",
       "        vertical-align: top;\n",
       "    }\n",
       "\n",
       "    .dataframe thead th {\n",
       "        text-align: right;\n",
       "    }\n",
       "</style>\n",
       "<table border=\"1\" class=\"dataframe\">\n",
       "  <thead>\n",
       "    <tr style=\"text-align: right;\">\n",
       "      <th></th>\n",
       "      <th>Metadata_Plate</th>\n",
       "      <th>Metadata_Well</th>\n",
       "      <th>Metadata_Assay_Plate_Barcode</th>\n",
       "      <th>Metadata_Plate_Map_Name</th>\n",
       "      <th>Metadata_well_position</th>\n",
       "      <th>Metadata_ASSAY_WELL_ROLE</th>\n",
       "      <th>Metadata_broad_sample</th>\n",
       "      <th>Metadata_mmoles_per_liter</th>\n",
       "      <th>Metadata_solvent</th>\n",
       "      <th>Metadata_pert_id</th>\n",
       "      <th>...</th>\n",
       "      <th>Nuclei_Texture_Variance_DNA_5_0</th>\n",
       "      <th>Nuclei_Texture_Variance_ER_10_0</th>\n",
       "      <th>Nuclei_Texture_Variance_ER_3_0</th>\n",
       "      <th>Nuclei_Texture_Variance_ER_5_0</th>\n",
       "      <th>Nuclei_Texture_Variance_Mito_10_0</th>\n",
       "      <th>Nuclei_Texture_Variance_Mito_3_0</th>\n",
       "      <th>Nuclei_Texture_Variance_Mito_5_0</th>\n",
       "      <th>Nuclei_Texture_Variance_RNA_10_0</th>\n",
       "      <th>Nuclei_Texture_Variance_RNA_3_0</th>\n",
       "      <th>Nuclei_Texture_Variance_RNA_5_0</th>\n",
       "    </tr>\n",
       "  </thead>\n",
       "  <tbody>\n",
       "    <tr>\n",
       "      <th>0</th>\n",
       "      <td>25692</td>\n",
       "      <td>a01</td>\n",
       "      <td>25692</td>\n",
       "      <td>C-2113-01-D39-021</td>\n",
       "      <td>a01</td>\n",
       "      <td>mock</td>\n",
       "      <td>DMSO</td>\n",
       "      <td>0.0</td>\n",
       "      <td>DMSO</td>\n",
       "      <td>NaN</td>\n",
       "      <td>...</td>\n",
       "      <td>3.757766</td>\n",
       "      <td>1.423576</td>\n",
       "      <td>1.476285</td>\n",
       "      <td>1.445165</td>\n",
       "      <td>1.642289</td>\n",
       "      <td>1.875568</td>\n",
       "      <td>1.760791</td>\n",
       "      <td>2.450487</td>\n",
       "      <td>2.348636</td>\n",
       "      <td>2.416143</td>\n",
       "    </tr>\n",
       "    <tr>\n",
       "      <th>1</th>\n",
       "      <td>25692</td>\n",
       "      <td>a02</td>\n",
       "      <td>25692</td>\n",
       "      <td>C-2113-01-D39-021</td>\n",
       "      <td>a02</td>\n",
       "      <td>mock</td>\n",
       "      <td>DMSO</td>\n",
       "      <td>0.0</td>\n",
       "      <td>DMSO</td>\n",
       "      <td>NaN</td>\n",
       "      <td>...</td>\n",
       "      <td>3.032794</td>\n",
       "      <td>1.374216</td>\n",
       "      <td>1.390197</td>\n",
       "      <td>1.393801</td>\n",
       "      <td>1.552905</td>\n",
       "      <td>1.686087</td>\n",
       "      <td>1.609445</td>\n",
       "      <td>2.246500</td>\n",
       "      <td>2.262934</td>\n",
       "      <td>2.316178</td>\n",
       "    </tr>\n",
       "  </tbody>\n",
       "</table>\n",
       "<p>2 rows × 1800 columns</p>\n",
       "</div>"
      ],
      "text/plain": [
       "   Metadata_Plate Metadata_Well  Metadata_Assay_Plate_Barcode  \\\n",
       "0           25692           a01                         25692   \n",
       "1           25692           a02                         25692   \n",
       "\n",
       "  Metadata_Plate_Map_Name Metadata_well_position Metadata_ASSAY_WELL_ROLE  \\\n",
       "0       C-2113-01-D39-021                    a01                     mock   \n",
       "1       C-2113-01-D39-021                    a02                     mock   \n",
       "\n",
       "  Metadata_broad_sample  Metadata_mmoles_per_liter Metadata_solvent  \\\n",
       "0                  DMSO                        0.0             DMSO   \n",
       "1                  DMSO                        0.0             DMSO   \n",
       "\n",
       "  Metadata_pert_id  ... Nuclei_Texture_Variance_DNA_5_0  \\\n",
       "0              NaN  ...                        3.757766   \n",
       "1              NaN  ...                        3.032794   \n",
       "\n",
       "  Nuclei_Texture_Variance_ER_10_0  Nuclei_Texture_Variance_ER_3_0  \\\n",
       "0                        1.423576                        1.476285   \n",
       "1                        1.374216                        1.390197   \n",
       "\n",
       "  Nuclei_Texture_Variance_ER_5_0 Nuclei_Texture_Variance_Mito_10_0  \\\n",
       "0                       1.445165                          1.642289   \n",
       "1                       1.393801                          1.552905   \n",
       "\n",
       "  Nuclei_Texture_Variance_Mito_3_0 Nuclei_Texture_Variance_Mito_5_0  \\\n",
       "0                         1.875568                         1.760791   \n",
       "1                         1.686087                         1.609445   \n",
       "\n",
       "   Nuclei_Texture_Variance_RNA_10_0  Nuclei_Texture_Variance_RNA_3_0  \\\n",
       "0                          2.450487                         2.348636   \n",
       "1                          2.246500                         2.262934   \n",
       "\n",
       "   Nuclei_Texture_Variance_RNA_5_0  \n",
       "0                         2.416143  \n",
       "1                         2.316178  \n",
       "\n",
       "[2 rows x 1800 columns]"
      ]
     },
     "execution_count": 5,
     "metadata": {},
     "output_type": "execute_result"
    }
   ],
   "source": [
    "profiles = pd.concat((pd.read_csv(f) for f in all_profiles), ignore_index=True)\n",
    "print(f'The dataframe has {profiles.shape[0]} lines and {profiles.shape[1]} columns')\n",
    "profiles.head(2)"
   ]
  },
  {
   "cell_type": "markdown",
   "metadata": {},
   "source": [
    "### Exploration\n",
    "- Explores the structures and types of the data frame.\n",
    "- Harmonize the dataset.\n",
    "- Merge annotations (name, smiles) with morphological profile.\n"
   ]
  },
  {
   "cell_type": "markdown",
   "metadata": {},
   "source": [
    "Once the data is loaded you can explore them using functions like :\n",
    "- _.describe()_, which generates descriptive statistics \n",
    "- _.head(n=5)_, which returns the first \\(n \\) rows. <br>\n",
    "\n",
    "One can also use attributes like:\n",
    "- _dtypes_, which return the data type of each column."
   ]
  },
  {
   "cell_type": "code",
   "execution_count": 6,
   "metadata": {},
   "outputs": [
    {
     "data": {
      "text/html": [
       "<div>\n",
       "<style scoped>\n",
       "    .dataframe tbody tr th:only-of-type {\n",
       "        vertical-align: middle;\n",
       "    }\n",
       "\n",
       "    .dataframe tbody tr th {\n",
       "        vertical-align: top;\n",
       "    }\n",
       "\n",
       "    .dataframe thead th {\n",
       "        text-align: right;\n",
       "    }\n",
       "</style>\n",
       "<table border=\"1\" class=\"dataframe\">\n",
       "  <thead>\n",
       "    <tr style=\"text-align: right;\">\n",
       "      <th></th>\n",
       "      <th>Column</th>\n",
       "      <th>Data_Type</th>\n",
       "    </tr>\n",
       "  </thead>\n",
       "  <tbody>\n",
       "    <tr>\n",
       "      <th>Metadata_Plate</th>\n",
       "      <td>Metadata_Plate</td>\n",
       "      <td>int64</td>\n",
       "    </tr>\n",
       "    <tr>\n",
       "      <th>Metadata_Well</th>\n",
       "      <td>Metadata_Well</td>\n",
       "      <td>object</td>\n",
       "    </tr>\n",
       "    <tr>\n",
       "      <th>Metadata_Assay_Plate_Barcode</th>\n",
       "      <td>Metadata_Assay_Plate_Barcode</td>\n",
       "      <td>int64</td>\n",
       "    </tr>\n",
       "    <tr>\n",
       "      <th>Metadata_Plate_Map_Name</th>\n",
       "      <td>Metadata_Plate_Map_Name</td>\n",
       "      <td>object</td>\n",
       "    </tr>\n",
       "    <tr>\n",
       "      <th>Metadata_well_position</th>\n",
       "      <td>Metadata_well_position</td>\n",
       "      <td>object</td>\n",
       "    </tr>\n",
       "    <tr>\n",
       "      <th>...</th>\n",
       "      <td>...</td>\n",
       "      <td>...</td>\n",
       "    </tr>\n",
       "    <tr>\n",
       "      <th>Nuclei_Texture_Variance_Mito_3_0</th>\n",
       "      <td>Nuclei_Texture_Variance_Mito_3_0</td>\n",
       "      <td>float64</td>\n",
       "    </tr>\n",
       "    <tr>\n",
       "      <th>Nuclei_Texture_Variance_Mito_5_0</th>\n",
       "      <td>Nuclei_Texture_Variance_Mito_5_0</td>\n",
       "      <td>float64</td>\n",
       "    </tr>\n",
       "    <tr>\n",
       "      <th>Nuclei_Texture_Variance_RNA_10_0</th>\n",
       "      <td>Nuclei_Texture_Variance_RNA_10_0</td>\n",
       "      <td>float64</td>\n",
       "    </tr>\n",
       "    <tr>\n",
       "      <th>Nuclei_Texture_Variance_RNA_3_0</th>\n",
       "      <td>Nuclei_Texture_Variance_RNA_3_0</td>\n",
       "      <td>float64</td>\n",
       "    </tr>\n",
       "    <tr>\n",
       "      <th>Nuclei_Texture_Variance_RNA_5_0</th>\n",
       "      <td>Nuclei_Texture_Variance_RNA_5_0</td>\n",
       "      <td>float64</td>\n",
       "    </tr>\n",
       "  </tbody>\n",
       "</table>\n",
       "<p>1800 rows × 2 columns</p>\n",
       "</div>"
      ],
      "text/plain": [
       "                                                            Column Data_Type\n",
       "Metadata_Plate                                      Metadata_Plate     int64\n",
       "Metadata_Well                                        Metadata_Well    object\n",
       "Metadata_Assay_Plate_Barcode          Metadata_Assay_Plate_Barcode     int64\n",
       "Metadata_Plate_Map_Name                    Metadata_Plate_Map_Name    object\n",
       "Metadata_well_position                      Metadata_well_position    object\n",
       "...                                                            ...       ...\n",
       "Nuclei_Texture_Variance_Mito_3_0  Nuclei_Texture_Variance_Mito_3_0   float64\n",
       "Nuclei_Texture_Variance_Mito_5_0  Nuclei_Texture_Variance_Mito_5_0   float64\n",
       "Nuclei_Texture_Variance_RNA_10_0  Nuclei_Texture_Variance_RNA_10_0   float64\n",
       "Nuclei_Texture_Variance_RNA_3_0    Nuclei_Texture_Variance_RNA_3_0   float64\n",
       "Nuclei_Texture_Variance_RNA_5_0    Nuclei_Texture_Variance_RNA_5_0   float64\n",
       "\n",
       "[1800 rows x 2 columns]"
      ]
     },
     "execution_count": 6,
     "metadata": {},
     "output_type": "execute_result"
    }
   ],
   "source": [
    "pd.DataFrame({'Column': profiles.columns, 'Data_Type': profiles.dtypes})"
   ]
  },
  {
   "cell_type": "markdown",
   "metadata": {},
   "source": [
    "1. Removing metadata features <br>\n",
    "   We noticed that some of the metadata won't be useful, so we drop them.\n"
   ]
  },
  {
   "cell_type": "code",
   "execution_count": 7,
   "metadata": {},
   "outputs": [],
   "source": [
    "to_pop = ['Metadata_Well',\n",
    "          'Metadata_mmoles_per_liter',\n",
    "          'Metadata_Plate_Map_Name',\n",
    "          'Metadata_well_position',\n",
    "          'Metadata_ASSAY_WELL_ROLE',\n",
    "          'Metadata_solvent',\n",
    "          'Metadata_pert_id',\n",
    "          'Metadata_pert_mfc_id',\n",
    "          'Metadata_pert_well',\n",
    "          'Metadata_cell_id',\n",
    "          'Metadata_broad_sample_type',\n",
    "          'Metadata_pert_vehicle',\n",
    "          'Metadata_pert_type',\n",
    "          'Metadata_Assay_Plate_Barcode',\n",
    "          'Metadata_pert_id_vendor']\n",
    "\n",
    "# Drop unnecessary columns\n",
    "profiles.drop(columns=to_pop, inplace=True)\n",
    "\n",
    "# Move 'Metadata_broad_sample' column upfront\n",
    "profiles = profiles[['Metadata_broad_sample'] + [col for col in profiles.columns if col != 'Metadata_broad_sample']]\n"
   ]
  },
  {
   "cell_type": "markdown",
   "metadata": {},
   "source": [
    "2. Harmonization of the data "
   ]
  },
  {
   "cell_type": "markdown",
   "metadata": {},
   "source": [
    "Note that compounds are identified by _Metadata_broad_sample_ in the profile data frame, but by _BROAD_ID_ in the annotation data frame.\n",
    "\n",
    "As we intend to merge these data, we will rename the latter to _Metadata_broad_sample_.\n",
    "\n",
    "Additionally, we observed that the chemical annotation file does not include a line referring to the mock control DMSO, so we will add it to the annotation file.\n"
   ]
  },
  {
   "cell_type": "code",
   "execution_count": 8,
   "metadata": {},
   "outputs": [
    {
     "name": "stdout",
     "output_type": "stream",
     "text": [
      "There are 30617 rows in chemical_annotations.csv files\n",
      "There are 3 colunms in chemical_annotation.csv files\n",
      "There are 30617 unique Metada molecule id within the Profile dataset\n"
     ]
    }
   ],
   "source": [
    "annotations = annotations.rename(columns={\"BROAD_ID\":\"Metadata_broad_sample\"})\n",
    "idx = annotations.shape[0]\n",
    "annotations.loc[idx] = {'Metadata_broad_sample':'DMSO', 'CPD_NAME':'DMSO', 'CPD_SMILES':'CS(=O)C'}\n",
    "\n",
    "annotations.reset_index(inplace=True)\n",
    "annotations.drop(columns='index',inplace=True)\n",
    "\n",
    "print(f'There are {annotations.shape[0]} rows in chemical_annotations.csv files')\n",
    "print(f'There are {annotations.shape[1]} colunms in chemical_annotation.csv files')\n",
    "print(f'There are {len(set(profiles.Metadata_broad_sample))} unique Metada molecule id within the Profile dataset')"
   ]
  },
  {
   "cell_type": "markdown",
   "metadata": {},
   "source": [
    "There are the same number of compounds in both datasets. Now, we can merge them together using '_Metadata_broad_sample_' as the merging feature.\n"
   ]
  },
  {
   "cell_type": "markdown",
   "metadata": {},
   "source": [
    "3. Merge the dataframe into one "
   ]
  },
  {
   "cell_type": "code",
   "execution_count": 9,
   "metadata": {},
   "outputs": [],
   "source": [
    "profiles = profiles.merge(annotations, how='left', on='Metadata_broad_sample')\n",
    "\n",
    "# Move 'CPD_NAME' and CPD_SMILES' columns upfront \n",
    "cpd = profiles.pop('CPD_NAME')\n",
    "smile = profiles.pop('CPD_SMILES')\n",
    "\n",
    "# Concatenate columns\n",
    "profiles = pd.concat([cpd, smile, profiles], axis=1)"
   ]
  },
  {
   "cell_type": "markdown",
   "metadata": {},
   "source": [
    "Now our compounds can be identified in 3 ways:\n",
    "\n",
    "- Metadata_broad_sample: the ID used by the BROAD institute to run the experiment\n",
    "- CPD_NAME: The molecule compound name as it can be found in public libraries\n",
    "- CPD_SMILES: The SMILES notation, which will be useful for later work\n"
   ]
  },
  {
   "cell_type": "code",
   "execution_count": 10,
   "metadata": {},
   "outputs": [
    {
     "name": "stdout",
     "output_type": "stream",
     "text": [
      "There are 30617 unique Metada molecule id within this dataset\n",
      "There are 30342 unique compound name within this dataset\n",
      "There are 30410 unique compound SMILES within this dataset\n"
     ]
    }
   ],
   "source": [
    "print(f'There are {len(set(profiles.Metadata_broad_sample))} unique Metada molecule id within this dataset')\n",
    "print(f'There are {len(set(profiles.CPD_NAME))} unique compound name within this dataset')\n",
    "print(f'There are {len(set(profiles.CPD_SMILES))} unique compound SMILES within this dataset')"
   ]
  },
  {
   "cell_type": "markdown",
   "metadata": {},
   "source": [
    "## Data Inspection: Quality data check"
   ]
  },
  {
   "cell_type": "markdown",
   "metadata": {},
   "source": [
    "- Removal of noisy features provided by literature.\n",
    "- Identification of missing values.\n",
    "- Identification of noisy features.\n"
   ]
  },
  {
   "cell_type": "markdown",
   "metadata": {},
   "source": [
    "### Noisy Features"
   ]
  },
  {
   "cell_type": "markdown",
   "metadata": {},
   "source": [
    "Way and Gregory (2019) identified a list of 55 features for removal.<br>\n",
    "These features constitute the Blocklist Features - Cell Profiler, available on figshare [https://doi.org/10.6084/m9.figshare.10255811.v3]."
   ]
  },
  {
   "cell_type": "markdown",
   "metadata": {},
   "source": [
    "1. Load and drop the Blocklist Feature "
   ]
  },
  {
   "cell_type": "code",
   "execution_count": 11,
   "metadata": {},
   "outputs": [],
   "source": [
    "blocklist_features = []\n",
    "path_blocklist_features = ('../Data/Annotations/blocklist_features.txt')\n",
    "with open(path_blocklist_features, 'r') as file:\n",
    "    next(file)\n",
    "    for line in file:\n",
    "        blocklist_features.append(line.strip())\n",
    "\n",
    "profiles.drop(blocklist_features, axis=1, inplace=True)"
   ]
  },
  {
   "cell_type": "code",
   "execution_count": 12,
   "metadata": {},
   "outputs": [
    {
     "name": "stdout",
     "output_type": "stream",
     "text": [
      "There are 153370 replicas for 1732 features\n"
     ]
    }
   ],
   "source": [
    "print(f'There are {profiles.shape[0]} replicas for {profiles.shape[1]} features')"
   ]
  },
  {
   "cell_type": "markdown",
   "metadata": {},
   "source": [
    "### Remove missing values and constant descriptors\n"
   ]
  },
  {
   "cell_type": "markdown",
   "metadata": {},
   "source": [
    "- Check if some columns contain missing values (NaN).\n",
    "  - Different ways to handle missing values (perform imputation, replace with median value, or drop them) > here, dropped.\n",
    "- Remove columns with only NA.\n",
    "  - The column is irrelevant.\n",
    "- Remove invariant columns, where variance = 0.\n"
   ]
  },
  {
   "cell_type": "markdown",
   "metadata": {},
   "source": [
    "1. Missing Value "
   ]
  },
  {
   "cell_type": "code",
   "execution_count": 13,
   "metadata": {},
   "outputs": [
    {
     "name": "stdout",
     "output_type": "stream",
     "text": [
      "['CPD_NAME', 'CPD_SMILES'] contains missing value.\n"
     ]
    }
   ],
   "source": [
    "columns_with_nan = profiles.columns[profiles.isna().sum() > 0]\n",
    "print(f'{columns_with_nan.to_list()} contains missing value.')"
   ]
  },
  {
   "cell_type": "markdown",
   "metadata": {},
   "source": [
    "The \"Name\" is not an important feature as it can be replaced by the other identifier. However, the \"Smile\" identifier is crucial for later analysis.\n",
    "\n",
    "Once we identify the number of missing treatments or missing smile information, we can either look online and download it or remove it if we consider that we are not losing valuable information.\n"
   ]
  },
  {
   "cell_type": "code",
   "execution_count": 14,
   "metadata": {},
   "outputs": [
    {
     "name": "stdout",
     "output_type": "stream",
     "text": [
      "4 molecules are not provided with smiles, this would mean that at maximum 16 profiles are removed from the datase if each of this molecule are performed in quadruplicates\n",
      "There are 153370 replicas for 1732 features\n"
     ]
    }
   ],
   "source": [
    "size = len(set(profiles[profiles['CPD_NAME'].isna()]['Metadata_broad_sample'].to_list()))\n",
    "print(f'{size} molecules are not provided with smiles, this would mean that at maximum {size*4} profiles are removed from the datase if each of this molecule are performed in quadruplicates')\n",
    "print(f'There are {profiles.shape[0]} replicas for {profiles.shape[1]} features')"
   ]
  },
  {
   "cell_type": "code",
   "execution_count": 15,
   "metadata": {},
   "outputs": [],
   "source": [
    "profiles.dropna(inplace=True)"
   ]
  },
  {
   "cell_type": "code",
   "execution_count": 16,
   "metadata": {},
   "outputs": [
    {
     "name": "stdout",
     "output_type": "stream",
     "text": [
      "There are 153351 replicas after removing missing values for 1732 features\n"
     ]
    }
   ],
   "source": [
    "print(f'There are {profiles.shape[0]} replicas after removing missing values for {profiles.shape[1]} features')\n",
    "profiles.reset_index(drop=True, inplace=True)"
   ]
  },
  {
   "cell_type": "markdown",
   "metadata": {},
   "source": [
    "2. Null or constant variance"
   ]
  },
  {
   "cell_type": "code",
   "execution_count": 17,
   "metadata": {},
   "outputs": [
    {
     "name": "stdout",
     "output_type": "stream",
     "text": [
      "Constant features to be removed are: ['Cells_AreaShape_EulerNumber', 'Cells_Children_Cytoplasm_Count', 'Nuclei_Children_Cells_Count', 'Nuclei_Children_Cytoplasm_Count']\n"
     ]
    }
   ],
   "source": [
    "constant_features = profiles.columns[np.all(profiles == profiles.iloc[0], axis=0)]\n",
    "print(\"Constant features to be removed are:\", constant_features.to_list())"
   ]
  },
  {
   "cell_type": "code",
   "execution_count": 18,
   "metadata": {},
   "outputs": [],
   "source": [
    "profiles.drop(constant_features.to_list(), axis=1 , inplace=True)\n",
    "profiles = profiles.reset_index()\n",
    "profiles.drop(columns='index',inplace=True)"
   ]
  },
  {
   "cell_type": "code",
   "execution_count": 19,
   "metadata": {},
   "outputs": [
    {
     "name": "stdout",
     "output_type": "stream",
     "text": [
      "There are 153351 replicas after removing null/ constant variance for 1728 features\n"
     ]
    }
   ],
   "source": [
    "print(f'There are {profiles.shape[0]} replicas after removing null/ constant variance for {profiles.shape[1]} features')"
   ]
  },
  {
   "cell_type": "markdown",
   "metadata": {},
   "source": [
    "\n",
    "### Experimental plates analysis"
   ]
  },
  {
   "cell_type": "markdown",
   "metadata": {},
   "source": [
    "1. Batch effects\n"
   ]
  },
  {
   "cell_type": "markdown",
   "metadata": {},
   "source": [
    "According to Caicedo et al. (https://doi.org/10.1038/nmeth.4397), batch effects can be identified by plotting the correlation between control samples (DMSO) and comparing the correlation values within a plate with the correlation to other plates. <br>\n",
    "A high intra-plate correlation implies that plate effects may be present. <br>\n",
    "Since our data frame is too large to plot the correlation between all controls on all plates, we drew 5 random plates without replacement to demonstrate how such a plot could be created."
   ]
  },
  {
   "cell_type": "code",
   "execution_count": 20,
   "metadata": {},
   "outputs": [],
   "source": [
    "np.random.seed(42)"
   ]
  },
  {
   "cell_type": "markdown",
   "metadata": {},
   "source": [
    "> add code explanation + make it a function -> Def:"
   ]
  },
  {
   "cell_type": "code",
   "execution_count": 21,
   "metadata": {},
   "outputs": [],
   "source": [
    "plotting_df = profiles.loc[profiles['CPD_NAME'] == 'DMSO',:]\n",
    "plotting_df = plotting_df.drop(columns=['CPD_NAME', 'CPD_SMILES', 'Metadata_broad_sample'])\n",
    "choice = np.random.choice(np.unique(plotting_df['Metadata_Plate'].values), size = 5, replace=False)\n",
    "plotting_df = plotting_df.set_index(['Metadata_Plate', plotting_df.index])\n",
    "plotting_df = plotting_df.loc[choice, :]\n",
    "plotting_df = plotting_df.transpose()\n",
    "corr = plotting_df.corr()"
   ]
  },
  {
   "cell_type": "markdown",
   "metadata": {},
   "source": [
    "> add code explanation "
   ]
  },
  {
   "cell_type": "code",
   "execution_count": 22,
   "metadata": {},
   "outputs": [],
   "source": [
    "network_labels = corr.columns.get_level_values(\"Metadata_Plate\")\n",
    "network_pal = sns.cubehelix_palette(network_labels.unique().size,\n",
    "                                    light=.6, dark=.1, reverse=True,\n",
    "                                    start=1, rot=-2)\n",
    "network_lut = dict(zip(map(str, network_labels.unique()), network_pal))\n",
    "\n",
    "\n",
    "plot_names = {}\n",
    "for tuple_ in corr.columns:\n",
    "    plot_names[tuple_] = network_lut[str(tuple_[0])]\n",
    "\n",
    "network_colors = pd.Series(plot_names)"
   ]
  },
  {
   "cell_type": "markdown",
   "metadata": {},
   "source": [
    "> add code explanation "
   ]
  },
  {
   "cell_type": "code",
   "execution_count": 23,
   "metadata": {},
   "outputs": [
    {
     "data": {
      "image/png": "[encoded data removed]",
      "text/plain": [
       "<Figure size 1000x1000 with 6 Axes>"
      ]
     },
     "metadata": {},
     "output_type": "display_data"
    }
   ],
   "source": [
    "g = sns.clustermap(corr, cmap = 'coolwarm', center = 0.9,vmin=0.8, vmax=1,\n",
    "\n",
    "                  # Turn off the clustering\n",
    "                  row_cluster=False, col_cluster=False,\n",
    "\n",
    "                  # Add colored class labels\n",
    "                  row_colors=network_colors, col_colors=network_colors,\n",
    "                \n",
    "                  # Make the plot look better when many rows/cols\n",
    "                  linewidths=0, xticklabels=False, yticklabels=False)\n",
    "ax = g.ax_heatmap\n",
    "ax.set_xlabel(\"\")\n",
    "ax.set_ylabel(\"\")\n",
    "for label in network_labels.unique():\n",
    "    label = str(label)\n",
    "    g.ax_col_dendrogram.bar(0, 0, color=network_lut[label],\n",
    "                            label=label, linewidth=0)\n",
    "g.ax_col_dendrogram.legend(loc=\"center\", ncol=5, title = 'Plate ID')\n",
    "g.cax.set_position([1, .2, .03, .45])"
   ]
  },
  {
   "cell_type": "markdown",
   "metadata": {},
   "source": [
    "Looking at the heatmap, we obtain that the DMSO samples from plate 25695 are more correlated to themselves than to the samples from any other plate. Consequently, we suspect a batch effect for this plate and are going to remove it in the following by performing a normalization step."
   ]
  },
  {
   "cell_type": "markdown",
   "metadata": {},
   "source": [
    "### Dead cells "
   ]
  },
  {
   "cell_type": "markdown",
   "metadata": {},
   "source": [
    "High-toxicity compounds causing the death of the cells need to be identified and removed from the dataset. The feature *Number_object* or *Count_object* helps to characterize this population. It is considered that values below a certain percentage represent dead cells in comparison to DMSO profiles."
   ]
  },
  {
   "cell_type": "markdown",
   "metadata": {},
   "source": [
    "Each plate is inspected, and for every individual within the plate, their Cells_Number_Object_Number value is evaluated to determine if it is less than a certain percentage of the median DMSO value. When this condition is satisfied, the individual's name = molecule name and index are identified and subsequently removed from the dataset."
   ]
  },
  {
   "cell_type": "markdown",
   "metadata": {},
   "source": [
    "> The features *_Number_Object_Number* exist for 3 objects, Cells, Nuclei, Cytoplasm. We first check how the 3 correlated as the 3 of them are supposed to relatively identical values"
   ]
  },
  {
   "cell_type": "code",
   "execution_count": 24,
   "metadata": {},
   "outputs": [
    {
     "data": {
      "text/html": [
       "<div>\n",
       "<style scoped>\n",
       "    .dataframe tbody tr th:only-of-type {\n",
       "        vertical-align: middle;\n",
       "    }\n",
       "\n",
       "    .dataframe tbody tr th {\n",
       "        vertical-align: top;\n",
       "    }\n",
       "\n",
       "    .dataframe thead th {\n",
       "        text-align: right;\n",
       "    }\n",
       "</style>\n",
       "<table border=\"1\" class=\"dataframe\">\n",
       "  <thead>\n",
       "    <tr style=\"text-align: right;\">\n",
       "      <th></th>\n",
       "      <th>Cells_Number_Object_Number</th>\n",
       "      <th>Cytoplasm_Number_Object_Number</th>\n",
       "      <th>Nuclei_Number_Object_Number</th>\n",
       "    </tr>\n",
       "  </thead>\n",
       "  <tbody>\n",
       "    <tr>\n",
       "      <th>Cells_Number_Object_Number</th>\n",
       "      <td>1.0</td>\n",
       "      <td>1.0</td>\n",
       "      <td>1.0</td>\n",
       "    </tr>\n",
       "    <tr>\n",
       "      <th>Cytoplasm_Number_Object_Number</th>\n",
       "      <td>1.0</td>\n",
       "      <td>1.0</td>\n",
       "      <td>1.0</td>\n",
       "    </tr>\n",
       "    <tr>\n",
       "      <th>Nuclei_Number_Object_Number</th>\n",
       "      <td>1.0</td>\n",
       "      <td>1.0</td>\n",
       "      <td>1.0</td>\n",
       "    </tr>\n",
       "  </tbody>\n",
       "</table>\n",
       "</div>"
      ],
      "text/plain": [
       "                                Cells_Number_Object_Number  \\\n",
       "Cells_Number_Object_Number                             1.0   \n",
       "Cytoplasm_Number_Object_Number                         1.0   \n",
       "Nuclei_Number_Object_Number                            1.0   \n",
       "\n",
       "                                Cytoplasm_Number_Object_Number  \\\n",
       "Cells_Number_Object_Number                                 1.0   \n",
       "Cytoplasm_Number_Object_Number                             1.0   \n",
       "Nuclei_Number_Object_Number                                1.0   \n",
       "\n",
       "                                Nuclei_Number_Object_Number  \n",
       "Cells_Number_Object_Number                              1.0  \n",
       "Cytoplasm_Number_Object_Number                          1.0  \n",
       "Nuclei_Number_Object_Number                             1.0  "
      ]
     },
     "execution_count": 24,
     "metadata": {},
     "output_type": "execute_result"
    }
   ],
   "source": [
    "\n",
    "nb_object_df = pd.DataFrame([profiles['Cells_Number_Object_Number'],profiles['Cytoplasm_Number_Object_Number'],profiles['Nuclei_Number_Object_Number' ]]).transpose()\n",
    "nb_object_df.corr(method='pearson')"
   ]
  },
  {
   "cell_type": "markdown",
   "metadata": {},
   "source": [
    "The table shows that the three features are correlated with $( r = 1 $), meaning they provide the same information. Therefore, we choose one feature to continue the analysis.\n"
   ]
  },
  {
   "cell_type": "markdown",
   "metadata": {},
   "source": [
    "1. Dead Cells identification"
   ]
  },
  {
   "cell_type": "code",
   "execution_count": 25,
   "metadata": {},
   "outputs": [],
   "source": [
    "plates_list = list(set(profiles.Metadata_Plate))"
   ]
  },
  {
   "cell_type": "code",
   "execution_count": 26,
   "metadata": {},
   "outputs": [
    {
     "name": "stdout",
     "output_type": "stream",
     "text": [
      "There is 406 experimental plate\n"
     ]
    }
   ],
   "source": [
    "print(f'There is {len(plates_list)} experimental plate')"
   ]
  },
  {
   "cell_type": "code",
   "execution_count": 27,
   "metadata": {},
   "outputs": [],
   "source": [
    "\n",
    "#check if dead cells per plate \n",
    "\n",
    "def identify_dead_cells(dataset,plates_num):\n",
    "    '''\n",
    "    We check if there are dead cells within each plate  \n",
    "    Parameters :\n",
    "        dataset: pandas DataFrame with profiles\n",
    "        plates_num: list containing unique plate numbers in the dataset\n",
    "    Return :\n",
    "         result_index: list of indices in dataset where dead cells were found\n",
    "         all mols: list of compound names inducing cell death\n",
    "    '''\n",
    "    count = 0\n",
    "    result_index, all_mols = [], []\n",
    "    for plate in plates_num :\n",
    "\n",
    "        view_Plate = dataset.loc[dataset['Metadata_Plate']== plate]\n",
    "        lower_lim = round(view_Plate.loc[view_Plate['Metadata_broad_sample']=='DMSO']['Cells_Number_Object_Number'].median()*0.3)\n",
    "        mol_name = view_Plate[view_Plate['Cells_Number_Object_Number'] < lower_lim]['Metadata_broad_sample'].to_list()\n",
    "        \n",
    "        \n",
    "        to_drop = view_Plate[view_Plate['Cells_Number_Object_Number'] < lower_lim].index.values.tolist()\n",
    "        result_index = [*result_index,*to_drop]\n",
    "        all_mols = [*all_mols,*mol_name]\n",
    "        count = count + len(to_drop)\n",
    "\n",
    "    print(f'There are {len(set(all_mols))} unique molecules inducing death for {len(result_index)} profiles to remove' )   \n",
    "\n",
    "    return result_index, all_mols\n",
    "\n"
   ]
  },
  {
   "cell_type": "code",
   "execution_count": 28,
   "metadata": {},
   "outputs": [
    {
     "name": "stdout",
     "output_type": "stream",
     "text": [
      "There are 525 unique molecules inducing death for 1822 profiles to remove\n"
     ]
    }
   ],
   "source": [
    "idx_dead_cells, mol_name_toxic = identify_dead_cells(profiles,plates_list)"
   ]
  },
  {
   "cell_type": "markdown",
   "metadata": {},
   "source": [
    "2. Dead Cells removal"
   ]
  },
  {
   "cell_type": "code",
   "execution_count": 29,
   "metadata": {},
   "outputs": [],
   "source": [
    "profiles.drop(labels=idx_dead_cells,inplace=True)"
   ]
  },
  {
   "cell_type": "code",
   "execution_count": 30,
   "metadata": {},
   "outputs": [],
   "source": [
    "profiles.reset_index(inplace=True)\n",
    "profiles.drop(columns='index',inplace=True)"
   ]
  },
  {
   "cell_type": "code",
   "execution_count": 31,
   "metadata": {},
   "outputs": [
    {
     "name": "stdout",
     "output_type": "stream",
     "text": [
      "Now, we obtain 151529 profiles\n"
     ]
    }
   ],
   "source": [
    "print(f'Now, we obtain {profiles.shape[0]} profiles') "
   ]
  },
  {
   "cell_type": "markdown",
   "metadata": {},
   "source": [
    "\n",
    "### Investigation of DMSO replicas\n",
    "\n",
    "* Here we remove DMSO outliers by looking into DMSO's distribution of distance\n",
    "* Additionally, we remove DMSOs by keeping the same ratio of DMSO per plate\n"
   ]
  },
  {
   "cell_type": "code",
   "execution_count": 32,
   "metadata": {},
   "outputs": [
    {
     "name": "stdout",
     "output_type": "stream",
     "text": [
      "Dimension of control dataframe is (26560, 1728)\n"
     ]
    },
    {
     "data": {
      "text/html": [
       "<div>\n",
       "<style scoped>\n",
       "    .dataframe tbody tr th:only-of-type {\n",
       "        vertical-align: middle;\n",
       "    }\n",
       "\n",
       "    .dataframe tbody tr th {\n",
       "        vertical-align: top;\n",
       "    }\n",
       "\n",
       "    .dataframe thead th {\n",
       "        text-align: right;\n",
       "    }\n",
       "</style>\n",
       "<table border=\"1\" class=\"dataframe\">\n",
       "  <thead>\n",
       "    <tr style=\"text-align: right;\">\n",
       "      <th></th>\n",
       "      <th>Metadata_Plate</th>\n",
       "      <th>Cells_AreaShape_Area</th>\n",
       "      <th>Cells_AreaShape_Center_X</th>\n",
       "      <th>Cells_AreaShape_Center_Y</th>\n",
       "      <th>Cells_AreaShape_Compactness</th>\n",
       "      <th>Cells_AreaShape_Eccentricity</th>\n",
       "      <th>Cells_AreaShape_Extent</th>\n",
       "      <th>Cells_AreaShape_FormFactor</th>\n",
       "      <th>Cells_AreaShape_MajorAxisLength</th>\n",
       "      <th>Cells_AreaShape_MaxFeretDiameter</th>\n",
       "      <th>...</th>\n",
       "      <th>Nuclei_Texture_Variance_DNA_5_0</th>\n",
       "      <th>Nuclei_Texture_Variance_ER_10_0</th>\n",
       "      <th>Nuclei_Texture_Variance_ER_3_0</th>\n",
       "      <th>Nuclei_Texture_Variance_ER_5_0</th>\n",
       "      <th>Nuclei_Texture_Variance_Mito_10_0</th>\n",
       "      <th>Nuclei_Texture_Variance_Mito_3_0</th>\n",
       "      <th>Nuclei_Texture_Variance_Mito_5_0</th>\n",
       "      <th>Nuclei_Texture_Variance_RNA_10_0</th>\n",
       "      <th>Nuclei_Texture_Variance_RNA_3_0</th>\n",
       "      <th>Nuclei_Texture_Variance_RNA_5_0</th>\n",
       "    </tr>\n",
       "  </thead>\n",
       "  <tbody>\n",
       "    <tr>\n",
       "      <th>0</th>\n",
       "      <td>25692</td>\n",
       "      <td>4128.0</td>\n",
       "      <td>346.0</td>\n",
       "      <td>253.5</td>\n",
       "      <td>1.258979</td>\n",
       "      <td>0.817046</td>\n",
       "      <td>0.568889</td>\n",
       "      <td>0.348658</td>\n",
       "      <td>99.105440</td>\n",
       "      <td>107.258866</td>\n",
       "      <td>...</td>\n",
       "      <td>3.757766</td>\n",
       "      <td>1.423576</td>\n",
       "      <td>1.476285</td>\n",
       "      <td>1.445165</td>\n",
       "      <td>1.642289</td>\n",
       "      <td>1.875568</td>\n",
       "      <td>1.760791</td>\n",
       "      <td>2.450487</td>\n",
       "      <td>2.348636</td>\n",
       "      <td>2.416143</td>\n",
       "    </tr>\n",
       "    <tr>\n",
       "      <th>1</th>\n",
       "      <td>25692</td>\n",
       "      <td>3680.0</td>\n",
       "      <td>375.0</td>\n",
       "      <td>270.0</td>\n",
       "      <td>1.285019</td>\n",
       "      <td>0.821609</td>\n",
       "      <td>0.541943</td>\n",
       "      <td>0.336312</td>\n",
       "      <td>95.870835</td>\n",
       "      <td>101.843016</td>\n",
       "      <td>...</td>\n",
       "      <td>3.032794</td>\n",
       "      <td>1.374216</td>\n",
       "      <td>1.390197</td>\n",
       "      <td>1.393801</td>\n",
       "      <td>1.552905</td>\n",
       "      <td>1.686087</td>\n",
       "      <td>1.609445</td>\n",
       "      <td>2.246500</td>\n",
       "      <td>2.262934</td>\n",
       "      <td>2.316178</td>\n",
       "    </tr>\n",
       "  </tbody>\n",
       "</table>\n",
       "<p>2 rows × 1725 columns</p>\n",
       "</div>"
      ],
      "text/plain": [
       "   Metadata_Plate  Cells_AreaShape_Area  Cells_AreaShape_Center_X  \\\n",
       "0           25692                4128.0                     346.0   \n",
       "1           25692                3680.0                     375.0   \n",
       "\n",
       "   Cells_AreaShape_Center_Y  Cells_AreaShape_Compactness  \\\n",
       "0                     253.5                     1.258979   \n",
       "1                     270.0                     1.285019   \n",
       "\n",
       "   Cells_AreaShape_Eccentricity  Cells_AreaShape_Extent  \\\n",
       "0                      0.817046                0.568889   \n",
       "1                      0.821609                0.541943   \n",
       "\n",
       "   Cells_AreaShape_FormFactor  Cells_AreaShape_MajorAxisLength  \\\n",
       "0                    0.348658                        99.105440   \n",
       "1                    0.336312                        95.870835   \n",
       "\n",
       "   Cells_AreaShape_MaxFeretDiameter  ...  Nuclei_Texture_Variance_DNA_5_0  \\\n",
       "0                        107.258866  ...                         3.757766   \n",
       "1                        101.843016  ...                         3.032794   \n",
       "\n",
       "   Nuclei_Texture_Variance_ER_10_0  Nuclei_Texture_Variance_ER_3_0  \\\n",
       "0                         1.423576                        1.476285   \n",
       "1                         1.374216                        1.390197   \n",
       "\n",
       "   Nuclei_Texture_Variance_ER_5_0  Nuclei_Texture_Variance_Mito_10_0  \\\n",
       "0                        1.445165                           1.642289   \n",
       "1                        1.393801                           1.552905   \n",
       "\n",
       "   Nuclei_Texture_Variance_Mito_3_0  Nuclei_Texture_Variance_Mito_5_0  \\\n",
       "0                          1.875568                          1.760791   \n",
       "1                          1.686087                          1.609445   \n",
       "\n",
       "   Nuclei_Texture_Variance_RNA_10_0  Nuclei_Texture_Variance_RNA_3_0  \\\n",
       "0                          2.450487                         2.348636   \n",
       "1                          2.246500                         2.262934   \n",
       "\n",
       "   Nuclei_Texture_Variance_RNA_5_0  \n",
       "0                         2.416143  \n",
       "1                         2.316178  \n",
       "\n",
       "[2 rows x 1725 columns]"
      ]
     },
     "execution_count": 32,
     "metadata": {},
     "output_type": "execute_result"
    }
   ],
   "source": [
    "replica_control = profiles.loc[profiles['Metadata_broad_sample'] == 'DMSO']\n",
    "print(f'Dimension of control dataframe is {replica_control.shape}')\n",
    "replica_control.iloc[:,3:].head(2)"
   ]
  },
  {
   "cell_type": "markdown",
   "metadata": {},
   "source": [
    "\n",
    "\n",
    "The next lines consist in :\n",
    "\n",
    "* Creating a data frame with the plate identifier and the corresponding DMSO ratio\n",
    "* Getting the plate identifier where DMSO ratio $\\geq$ 17%\n",
    "* For plates with DMSO ratio $\\geq$ 17%, randomly draw DMSO samples to keep s.t. after dropping the remaining replicas the ratio will be < 17%\n",
    "* Keeping a ratio of 16 % DMSO per plate\n",
    "* The final dataset should just contain plates with a DMSO ratio < 17% "
   ]
  },
  {
   "cell_type": "code",
   "execution_count": 33,
   "metadata": {},
   "outputs": [],
   "source": [
    "def get_ratios(data):\n",
    "    '''\n",
    "    get the ratio of DMSO per plate \n",
    "    number control/plate (16 % of the plates is DMSO ) ; ((384-294)*64) / 384\n",
    "    '''\n",
    "    ratios = {}\n",
    "    list_plates = list(set(data['Metadata_Plate']))\n",
    "    \n",
    "    for plate in list_plates :\n",
    "        if plate not in ratios : \n",
    "            ratios[plate] = round((data[ (data['Metadata_Plate'] == plate ) & (data['Metadata_broad_sample'] == 'DMSO') ].shape[0]) / (data[data['Metadata_Plate'] == plate].shape[0]),3)\n",
    "    \n",
    "    df_ratios = pd.DataFrame.from_dict(ratios,orient='index',columns=['Ratio_DMSO'])\n",
    "    df_ratios['Ratio_DMSO'] = df_ratios['Ratio_DMSO'] * 100\n",
    "    df_ratios['Metadata_Plate'] = list_plates\n",
    "    return df_ratios"
   ]
  },
  {
   "cell_type": "code",
   "execution_count": 34,
   "metadata": {},
   "outputs": [],
   "source": [
    "df_ratios = get_ratios(profiles)"
   ]
  },
  {
   "cell_type": "code",
   "execution_count": 35,
   "metadata": {},
   "outputs": [],
   "source": [
    "df = pd.DataFrame(data={'plates': list(replica_control['Metadata_Plate'].value_counts().index), 'nb':list(replica_control['Metadata_Plate'].value_counts())})\n",
    "plate_id_to_check= df_ratios[ (df_ratios['Ratio_DMSO'] >= 17 )]['Metadata_Plate'].to_list()"
   ]
  },
  {
   "cell_type": "code",
   "execution_count": 36,
   "metadata": {},
   "outputs": [],
   "source": [
    "df_ratios_check = get_ratios(profiles)\n",
    "plates_num_to_study = df_ratios_check[ (df_ratios['Ratio_DMSO'] >= 17 )]['Metadata_Plate'].to_list()"
   ]
  },
  {
   "cell_type": "code",
   "execution_count": 37,
   "metadata": {},
   "outputs": [],
   "source": [
    "def to_keep(plates_num, all_data, control_dataset):\n",
    "    '''\n",
    "    Lower the ratios of DMSO per plate to < 17%\n",
    "    Resampling the control per plate to a ratio (< 17%), for plates having more than 17% control samples\n",
    "        Parameters : \n",
    "            plates_num (list): identifier of plates with a high number of DMSO\n",
    "            all_data (data frame): all profiles \n",
    "            control_dataset (data frame): DMSO only profiles\n",
    "        Returns : \n",
    "            appended_data (list) : DMSO profiles to keep \n",
    "    '''\n",
    "    appended_data = []\n",
    "    for nb in plates_num:\n",
    "        nb_profiles = all_data[all_data['Metadata_Plate'] == nb].shape[0]\n",
    "        nb_control = all_data[(all_data['Metadata_Plate'] == nb) & (\n",
    "            all_data['Metadata_broad_sample'] == 'DMSO')].shape[0]\n",
    "        # we use int() to always round down, which ensures ratios strictly smaller 17% \n",
    "        a = int(0.166 * (nb_profiles - nb_control))\n",
    "        # we randomly draw without replacement many DMSO replicas\n",
    "        keep = control_dataset.loc[control_dataset['Metadata_Plate'] == nb].sample(\n",
    "            n=a, random_state=101)\n",
    "        appended_data.append(keep)\n",
    "    return appended_data\n",
    "\n",
    "\n",
    "appended_data = to_keep(plates_num_to_study, profiles, replica_control)\n",
    "control_to_keep = pd.concat(appended_data)"
   ]
  },
  {
   "cell_type": "markdown",
   "metadata": {},
   "source": [
    "For the plates with a DMSO ratio $\\geq$ 17%, we calculate the number of DMSO replicas needed to have a ratio < 17% and randomly draw this amount without replacement from the DMSO replicas list per plate. Now, we have to drop all other DMSO replicas."
   ]
  },
  {
   "cell_type": "code",
   "execution_count": 38,
   "metadata": {},
   "outputs": [
    {
     "data": {
      "text/html": [
       "<div>\n",
       "<style scoped>\n",
       "    .dataframe tbody tr th:only-of-type {\n",
       "        vertical-align: middle;\n",
       "    }\n",
       "\n",
       "    .dataframe tbody tr th {\n",
       "        vertical-align: top;\n",
       "    }\n",
       "\n",
       "    .dataframe thead th {\n",
       "        text-align: right;\n",
       "    }\n",
       "</style>\n",
       "<table border=\"1\" class=\"dataframe\">\n",
       "  <thead>\n",
       "    <tr style=\"text-align: right;\">\n",
       "      <th></th>\n",
       "      <th>Ratio_DMSO</th>\n",
       "      <th>Metadata_Plate</th>\n",
       "    </tr>\n",
       "  </thead>\n",
       "  <tbody>\n",
       "    <tr>\n",
       "      <th>25553</th>\n",
       "      <td>16.9</td>\n",
       "      <td>25553</td>\n",
       "    </tr>\n",
       "    <tr>\n",
       "      <th>25418</th>\n",
       "      <td>16.9</td>\n",
       "      <td>25418</td>\n",
       "    </tr>\n",
       "    <tr>\n",
       "      <th>25579</th>\n",
       "      <td>16.9</td>\n",
       "      <td>25579</td>\n",
       "    </tr>\n",
       "    <tr>\n",
       "      <th>25403</th>\n",
       "      <td>16.9</td>\n",
       "      <td>25403</td>\n",
       "    </tr>\n",
       "    <tr>\n",
       "      <th>26166</th>\n",
       "      <td>16.9</td>\n",
       "      <td>26166</td>\n",
       "    </tr>\n",
       "    <tr>\n",
       "      <th>...</th>\n",
       "      <td>...</td>\n",
       "      <td>...</td>\n",
       "    </tr>\n",
       "    <tr>\n",
       "      <th>25742</th>\n",
       "      <td>13.6</td>\n",
       "      <td>25742</td>\n",
       "    </tr>\n",
       "    <tr>\n",
       "      <th>26569</th>\n",
       "      <td>13.3</td>\n",
       "      <td>26569</td>\n",
       "    </tr>\n",
       "    <tr>\n",
       "      <th>26575</th>\n",
       "      <td>13.3</td>\n",
       "      <td>26575</td>\n",
       "    </tr>\n",
       "    <tr>\n",
       "      <th>26564</th>\n",
       "      <td>13.2</td>\n",
       "      <td>26564</td>\n",
       "    </tr>\n",
       "    <tr>\n",
       "      <th>26572</th>\n",
       "      <td>9.5</td>\n",
       "      <td>26572</td>\n",
       "    </tr>\n",
       "  </tbody>\n",
       "</table>\n",
       "<p>406 rows × 2 columns</p>\n",
       "</div>"
      ],
      "text/plain": [
       "       Ratio_DMSO  Metadata_Plate\n",
       "25553        16.9           25553\n",
       "25418        16.9           25418\n",
       "25579        16.9           25579\n",
       "25403        16.9           25403\n",
       "26166        16.9           26166\n",
       "...           ...             ...\n",
       "25742        13.6           25742\n",
       "26569        13.3           26569\n",
       "26575        13.3           26575\n",
       "26564        13.2           26564\n",
       "26572         9.5           26572\n",
       "\n",
       "[406 rows x 2 columns]"
      ]
     },
     "execution_count": 38,
     "metadata": {},
     "output_type": "execute_result"
    }
   ],
   "source": [
    "replicas = profiles.copy(deep=True)\n",
    "\n",
    "# first, we drop all DMSO samples for the plates with a DMSO ratio >= 17\n",
    "for plate in plate_id_to_check:\n",
    "    replicas.drop(replicas[ (replicas['Metadata_Plate'] == plate ) & (replicas['Metadata_broad_sample'] == 'DMSO') ].index,inplace=True)\n",
    "\n",
    "# then, we append the DMSO replicas that were selected to be kept in the step above\n",
    "replicas_t = pd.concat([replicas,control_to_keep])\n",
    "\n",
    "# then, we output again the ratios to check whether everything worked\n",
    "ratios_replicas = get_ratios(replicas_t) \n",
    "ratios_replicas.sort_values(axis=0,by='Ratio_DMSO',ascending=False)\n"
   ]
  },
  {
   "cell_type": "code",
   "execution_count": 39,
   "metadata": {},
   "outputs": [],
   "source": [
    "profiles = replicas_t.copy(deep=True)"
   ]
  },
  {
   "cell_type": "markdown",
   "metadata": {},
   "source": [
    "Now, we dropped all surplus DMSO plates. As shown in the table above, the highest DMSO ratio is 16.9%, which is strictly smaller than 17%, i.e., everything seemed to work as intended. "
   ]
  },
  {
   "cell_type": "markdown",
   "metadata": {},
   "source": [
    "## Feature normalization\n"
   ]
  },
  {
   "cell_type": "markdown",
   "metadata": {},
   "source": [
    "### Modified Z-Score"
   ]
  },
  {
   "cell_type": "markdown",
   "metadata": {},
   "source": [
    "The modified Z-score is a variation of the traditional Z-score that is more robust to outliers. While the classic Z-score is calculated using the mean and standard deviation of a dataset, the modified Z-score uses the median and median absolute deviation (MAD) instead. Modified Z-score is a robust measure of how many standard deviations a data point is from the median of the DMSO, providing a more stable measure of deviation from the central tendency in the presence of outliers.\n",
    "\n",
    "The formula for the modified Z-score depends on the value of MAD, [according to IBM](https://www.ibm.com/docs/en/cognos-analytics/12.0.0?topic=terms-modified-z-score). If MAD is not equal to 0, the z-score is calculated as "
   ]
  },
  {
   "cell_type": "markdown",
   "metadata": {},
   "source": [
    "$$\n",
    "\\text{Z-score} = \\frac{{(X - \\text{Median})}}{{\\text{MAD}} \\cdot 1.486}\n",
    "$$"
   ]
  },
  {
   "cell_type": "markdown",
   "metadata": {},
   "source": [
    "where \\( X \\) is the value of the data point, Median is the median of the DMSO, and MAD is the median absolute deviation.\n",
    "\n",
    "Otherwise, if MAD is equal to 0, we need the mean absolute deviation (MeanAD) of DMSO to calculate the z-score as follows:"
   ]
  },
  {
   "cell_type": "markdown",
   "metadata": {},
   "source": [
    "$$\n",
    "\\text{Z-score} = \\frac{{(X - \\text{Median})}}{{1.253314 \\cdot \\text{MeanAD}}}\n",
    "$$"
   ]
  },
  {
   "cell_type": "code",
   "execution_count": 44,
   "metadata": {},
   "outputs": [],
   "source": [
    "def progress_bar(index, total, label):\n",
    "    n_bar = 50  \n",
    "    progress = index / total\n",
    "    sys.stdout.write('\\r')\n",
    "    sys.stdout.write(f\"[{'=' * int(n_bar * progress):{n_bar}s}] {int(100 * progress)}%  {label}\")\n",
    "    sys.stdout.flush()\n",
    "\n",
    "def fragment_data(dataset,num):\n",
    "    '''\n",
    "    Fragment the initial data frame into plate batches \n",
    "        \n",
    "        Parameters : \n",
    "            dataset(data frame): Profiles \n",
    "            num(list): Plate identifer \n",
    "        \n",
    "        Returns    :\n",
    "            list_df(list): Plates (profiles) contained within a list \n",
    "    '''\n",
    "    list_df = [dataset.loc[dataset['Metadata_Plate']== int(nb)].copy(deep = True) for nb in num ]\n",
    "    return list_df \n",
    "\n",
    "def zscore(x:pd.Series, dmso_samples):\n",
    "    '''\n",
    "        calculates the zscore using the IBM formula as described above\n",
    "        for a column, i.e., feature x using the given control samples \n",
    "        \n",
    "        Parameters : \n",
    "            x(pd.Series): column of the dataframe to normalize \n",
    "            dmso samples(list): identifiers of control plates\n",
    "        \n",
    "        Returns    :\n",
    "            z-score(float): the modified z-score as described above\n",
    "    '''\n",
    "    mad = robust.mad(x[dmso_samples]) # calculates median absolute deviation\n",
    "    if mad == 0:\n",
    "        mean_absolute_deviation = (x[dmso_samples] - x[dmso_samples].mean()).abs().mean()\n",
    "        return (x - np.median(x[dmso_samples]))/(mean_absolute_deviation*1.253314) \n",
    "    else:\n",
    "        return (x - np.median(x[dmso_samples]))/(robust.mad(x[dmso_samples]*1.4826))\n",
    "\n",
    "def center_plate(dataset,num):\n",
    "    '''\n",
    "    Scaling data with a z-score scaler\n",
    "        \n",
    "        Parameters : \n",
    "            dataset(data frame): Profiles \n",
    "            num(list): Plate identifer \n",
    "        \n",
    "        Returns    :\n",
    "            l_df   : Updated plates (profiles) contain within a list \n",
    "    '''\n",
    "    \n",
    "    l_df = fragment_data(dataset,num)\n",
    "    \n",
    "    tot=len(num)\n",
    "    \n",
    "    for n in range(0,tot):\n",
    "        progress_bar(n+1,tot,\"of z-score scaling\")\n",
    "        non_numerical_columns = ['CPD_NAME', 'Metadata_Plate', 'Metadata_broad_sample', 'CPD_SMILES']\n",
    "        dmso_samples = l_df[n]['CPD_NAME']== 'DMSO'\n",
    "        \n",
    "        z_score_scaler = lambda df: df.apply(lambda x: zscore(x, dmso_samples), axis = 0) \n",
    "        l_df[n].update(z_score_scaler(l_df[n].loc[:,np.isin(l_df[n].columns, non_numerical_columns, invert=True)].copy(deep=True))) \n",
    "    return l_df"
   ]
  },
  {
   "cell_type": "code",
   "execution_count": 45,
   "metadata": {},
   "outputs": [
    {
     "name": "stdout",
     "output_type": "stream",
     "text": [
      "[==================================================] 100%  of z-score scaling"
     ]
    }
   ],
   "source": [
    "l_scaled_data = center_plate(profiles,plates_list)\n",
    "z_score_normalized_profiles = pd.concat(l_scaled_data, ignore_index=True)"
   ]
  },
  {
   "cell_type": "code",
   "execution_count": 55,
   "metadata": {},
   "outputs": [
    {
     "name": "stdout",
     "output_type": "stream",
     "text": [
      "DataFrame does not contain nan values.\n"
     ]
    }
   ],
   "source": [
    "# Check for nan values\n",
    "if np.isnan(z_score_normalized_profiles.iloc[0:,4:]).any().any():\n",
    "    print(\"DataFrame contains nan values.\")\n",
    "else:\n",
    "    print(\"DataFrame does not contain nan values.\")"
   ]
  },
  {
   "cell_type": "code",
   "execution_count": 46,
   "metadata": {},
   "outputs": [
    {
     "name": "stdout",
     "output_type": "stream",
     "text": [
      "DataFrame contains infinite values.\n"
     ]
    }
   ],
   "source": [
    "# Check for infinite values\n",
    "if np.isinf(z_score_normalized_profiles.iloc[0:,4:]).any().any():\n",
    "    print(\"DataFrame contains infinite values.\")\n",
    "else:\n",
    "    print(\"DataFrame does not contain infinite values.\")"
   ]
  },
  {
   "cell_type": "code",
   "execution_count": 47,
   "metadata": {},
   "outputs": [
    {
     "name": "stdout",
     "output_type": "stream",
     "text": [
      "There are 129 features with infinite values, which we are going to drop.\n"
     ]
    }
   ],
   "source": [
    "# drop infinite values\n",
    "to_drop = []\n",
    "for column in z_score_normalized_profiles.columns:\n",
    "    if not column in ['CPD_NAME', 'Metadata_Plate', 'Metadata_broad_sample', 'CPD_SMILES']:\n",
    "        if not np.isinf(z_score_normalized_profiles[column]).values.sum() == 0:\n",
    "            to_drop.append(column)\n",
    "print(f'There are {len(to_drop)} features with infinite values, which we are going to drop.')"
   ]
  },
  {
   "cell_type": "code",
   "execution_count": 48,
   "metadata": {},
   "outputs": [
    {
     "name": "stdout",
     "output_type": "stream",
     "text": [
      "Scaled data dimension : (148723, 1599)\n"
     ]
    }
   ],
   "source": [
    "z_score_normalized_profiles.drop(to_drop, axis='columns', inplace=True)\n",
    "print(f'Scaled data dimension : {z_score_normalized_profiles.shape }')"
   ]
  },
  {
   "cell_type": "markdown",
   "metadata": {},
   "source": [
    "##  Aggregation \n"
   ]
  },
  {
   "cell_type": "markdown",
   "metadata": {},
   "source": [
    "After scaling the data, we collapse all replicas from one compound into one unique median morphological profile."
   ]
  },
  {
   "cell_type": "code",
   "execution_count": 49,
   "metadata": {},
   "outputs": [
    {
     "name": "stdout",
     "output_type": "stream",
     "text": [
      "There are 30377 unique Metada molecule id within this dataset\n",
      "There are 30112 unique compound name within this dataset\n",
      "There are 30177 unique compound SMILES within this dataset\n"
     ]
    }
   ],
   "source": [
    "print(f'There are {len(set(z_score_normalized_profiles.Metadata_broad_sample))} unique Metada molecule id within this dataset')\n",
    "print(f'There are {len(set(z_score_normalized_profiles.CPD_NAME))} unique compound name within this dataset')\n",
    "print(f'There are {len(set(z_score_normalized_profiles.CPD_SMILES))} unique compound SMILES within this dataset')"
   ]
  },
  {
   "cell_type": "markdown",
   "metadata": {},
   "source": [
    "We are using Metadata molecule ID to merge the replicas into treatment profiles because "
   ]
  },
  {
   "cell_type": "code",
   "execution_count": 50,
   "metadata": {},
   "outputs": [],
   "source": [
    "z_score_agreg = z_score_normalized_profiles.groupby(['Metadata_broad_sample'],sort=False,dropna=True).median(numeric_only=True).reset_index()\n",
    "z_score_agreg.drop(labels='Metadata_Plate',axis=1,inplace=True)\n",
    "z_score_agreg = z_score_agreg.dropna(axis = \"columns\", how = 'any')"
   ]
  },
  {
   "cell_type": "markdown",
   "metadata": {},
   "source": [
    "We need to keep the CPD_NAMES and CPD_SMILES for the next part."
   ]
  },
  {
   "cell_type": "code",
   "execution_count": 51,
   "metadata": {},
   "outputs": [
    {
     "data": {
      "text/html": [
       "<div>\n",
       "<style scoped>\n",
       "    .dataframe tbody tr th:only-of-type {\n",
       "        vertical-align: middle;\n",
       "    }\n",
       "\n",
       "    .dataframe tbody tr th {\n",
       "        vertical-align: top;\n",
       "    }\n",
       "\n",
       "    .dataframe thead th {\n",
       "        text-align: right;\n",
       "    }\n",
       "</style>\n",
       "<table border=\"1\" class=\"dataframe\">\n",
       "  <thead>\n",
       "    <tr style=\"text-align: right;\">\n",
       "      <th></th>\n",
       "      <th>Metadata_broad_sample</th>\n",
       "      <th>CPD_NAME</th>\n",
       "      <th>CPD_SMILES</th>\n",
       "      <th>Cells_AreaShape_Area</th>\n",
       "      <th>Cells_AreaShape_Center_X</th>\n",
       "      <th>Cells_AreaShape_Center_Y</th>\n",
       "      <th>Cells_AreaShape_Compactness</th>\n",
       "      <th>Cells_AreaShape_Eccentricity</th>\n",
       "      <th>Cells_AreaShape_Extent</th>\n",
       "      <th>Cells_AreaShape_FormFactor</th>\n",
       "      <th>...</th>\n",
       "      <th>Nuclei_Texture_Variance_DNA_5_0</th>\n",
       "      <th>Nuclei_Texture_Variance_ER_10_0</th>\n",
       "      <th>Nuclei_Texture_Variance_ER_3_0</th>\n",
       "      <th>Nuclei_Texture_Variance_ER_5_0</th>\n",
       "      <th>Nuclei_Texture_Variance_Mito_10_0</th>\n",
       "      <th>Nuclei_Texture_Variance_Mito_3_0</th>\n",
       "      <th>Nuclei_Texture_Variance_Mito_5_0</th>\n",
       "      <th>Nuclei_Texture_Variance_RNA_10_0</th>\n",
       "      <th>Nuclei_Texture_Variance_RNA_3_0</th>\n",
       "      <th>Nuclei_Texture_Variance_RNA_5_0</th>\n",
       "    </tr>\n",
       "  </thead>\n",
       "  <tbody>\n",
       "    <tr>\n",
       "      <th>0</th>\n",
       "      <td>BRD-K08693008-001-01-9</td>\n",
       "      <td>BRD-K08693008</td>\n",
       "      <td>OC[C@@H]1O[C@@H](CCn2cc(nn2)C2CCCCC2)CC[C@@H]1...</td>\n",
       "      <td>0.048556</td>\n",
       "      <td>1.511688</td>\n",
       "      <td>0.671310</td>\n",
       "      <td>1.608372</td>\n",
       "      <td>0.722361</td>\n",
       "      <td>-1.506759</td>\n",
       "      <td>-0.511226</td>\n",
       "      <td>...</td>\n",
       "      <td>1.475728</td>\n",
       "      <td>0.789273</td>\n",
       "      <td>0.581055</td>\n",
       "      <td>0.593830</td>\n",
       "      <td>-0.522186</td>\n",
       "      <td>-1.079929</td>\n",
       "      <td>-0.853054</td>\n",
       "      <td>-1.089521</td>\n",
       "      <td>-0.518394</td>\n",
       "      <td>-1.060951</td>\n",
       "    </tr>\n",
       "    <tr>\n",
       "      <th>1</th>\n",
       "      <td>BRD-K63982890-001-01-9</td>\n",
       "      <td>BRD-K63982890</td>\n",
       "      <td>OC[C@@H]1O[C@@H](CCn2cc(nn2)C2CCCCC2)CC[C@H]1N...</td>\n",
       "      <td>-0.452493</td>\n",
       "      <td>0.951788</td>\n",
       "      <td>0.099538</td>\n",
       "      <td>0.742492</td>\n",
       "      <td>0.514589</td>\n",
       "      <td>-0.919170</td>\n",
       "      <td>-0.953408</td>\n",
       "      <td>...</td>\n",
       "      <td>1.505283</td>\n",
       "      <td>0.184112</td>\n",
       "      <td>0.560500</td>\n",
       "      <td>0.595896</td>\n",
       "      <td>-1.211516</td>\n",
       "      <td>-1.462639</td>\n",
       "      <td>-1.355905</td>\n",
       "      <td>-1.750300</td>\n",
       "      <td>-1.566628</td>\n",
       "      <td>-1.867381</td>\n",
       "    </tr>\n",
       "  </tbody>\n",
       "</table>\n",
       "<p>2 rows × 1598 columns</p>\n",
       "</div>"
      ],
      "text/plain": [
       "    Metadata_broad_sample       CPD_NAME  \\\n",
       "0  BRD-K08693008-001-01-9  BRD-K08693008   \n",
       "1  BRD-K63982890-001-01-9  BRD-K63982890   \n",
       "\n",
       "                                          CPD_SMILES  Cells_AreaShape_Area  \\\n",
       "0  OC[C@@H]1O[C@@H](CCn2cc(nn2)C2CCCCC2)CC[C@@H]1...              0.048556   \n",
       "1  OC[C@@H]1O[C@@H](CCn2cc(nn2)C2CCCCC2)CC[C@H]1N...             -0.452493   \n",
       "\n",
       "   Cells_AreaShape_Center_X  Cells_AreaShape_Center_Y  \\\n",
       "0                  1.511688                  0.671310   \n",
       "1                  0.951788                  0.099538   \n",
       "\n",
       "   Cells_AreaShape_Compactness  Cells_AreaShape_Eccentricity  \\\n",
       "0                     1.608372                      0.722361   \n",
       "1                     0.742492                      0.514589   \n",
       "\n",
       "   Cells_AreaShape_Extent  Cells_AreaShape_FormFactor  ...  \\\n",
       "0               -1.506759                   -0.511226  ...   \n",
       "1               -0.919170                   -0.953408  ...   \n",
       "\n",
       "   Nuclei_Texture_Variance_DNA_5_0  Nuclei_Texture_Variance_ER_10_0  \\\n",
       "0                         1.475728                         0.789273   \n",
       "1                         1.505283                         0.184112   \n",
       "\n",
       "   Nuclei_Texture_Variance_ER_3_0  Nuclei_Texture_Variance_ER_5_0  \\\n",
       "0                        0.581055                        0.593830   \n",
       "1                        0.560500                        0.595896   \n",
       "\n",
       "   Nuclei_Texture_Variance_Mito_10_0  Nuclei_Texture_Variance_Mito_3_0  \\\n",
       "0                          -0.522186                         -1.079929   \n",
       "1                          -1.211516                         -1.462639   \n",
       "\n",
       "   Nuclei_Texture_Variance_Mito_5_0  Nuclei_Texture_Variance_RNA_10_0  \\\n",
       "0                         -0.853054                         -1.089521   \n",
       "1                         -1.355905                         -1.750300   \n",
       "\n",
       "   Nuclei_Texture_Variance_RNA_3_0  Nuclei_Texture_Variance_RNA_5_0  \n",
       "0                        -0.518394                        -1.060951  \n",
       "1                        -1.566628                        -1.867381  \n",
       "\n",
       "[2 rows x 1598 columns]"
      ]
     },
     "execution_count": 51,
     "metadata": {},
     "output_type": "execute_result"
    }
   ],
   "source": [
    "z_score_agreg = annotations.merge(z_score_agreg, how='right', on='Metadata_broad_sample')\n",
    "z_score_agreg.head(2)"
   ]
  },
  {
   "cell_type": "markdown",
   "metadata": {},
   "source": [
    "### Features reduction "
   ]
  },
  {
   "cell_type": "markdown",
   "metadata": {},
   "source": [
    "This part consists of reducing the collinearity between features using Pearson correlation and a minimal redundancy and maximal relevance algorithm."
   ]
  },
  {
   "cell_type": "markdown",
   "metadata": {},
   "source": [
    "1. Reduce colinearity "
   ]
  },
  {
   "cell_type": "code",
   "execution_count": 52,
   "metadata": {},
   "outputs": [],
   "source": [
    "profiles = z_score_agreg.copy(deep = True)\n",
    "data = profiles.iloc[:,3:]"
   ]
  },
  {
   "cell_type": "code",
   "execution_count": 54,
   "metadata": {},
   "outputs": [
    {
     "ename": "FloatingPointError",
     "evalue": "NaN dissimilarity value.",
     "output_type": "error",
     "traceback": [
      "\u001b[1;31m---------------------------------------------------------------------------\u001b[0m",
      "\u001b[1;31mFloatingPointError\u001b[0m                        Traceback (most recent call last)",
      "Cell \u001b[1;32mIn[54], line 3\u001b[0m\n\u001b[0;32m      1\u001b[0m warnings\u001b[38;5;241m.\u001b[39mfilterwarnings(\u001b[38;5;124m'\u001b[39m\u001b[38;5;124mignore\u001b[39m\u001b[38;5;124m'\u001b[39m)\n\u001b[0;32m      2\u001b[0m corr \u001b[38;5;241m=\u001b[39m data\u001b[38;5;241m.\u001b[39mcorr(numeric_only\u001b[38;5;241m=\u001b[39m\u001b[38;5;28;01mTrue\u001b[39;00m)\n\u001b[1;32m----> 3\u001b[0m sns_plot \u001b[38;5;241m=\u001b[39m \u001b[43msns\u001b[49m\u001b[38;5;241;43m.\u001b[39;49m\u001b[43mclustermap\u001b[49m\u001b[43m(\u001b[49m\u001b[43mdata\u001b[49m\u001b[38;5;241;43m.\u001b[39;49m\u001b[43mcorr\u001b[49m\u001b[43m(\u001b[49m\u001b[43mnumeric_only\u001b[49m\u001b[38;5;241;43m=\u001b[39;49m\u001b[38;5;28;43;01mTrue\u001b[39;49;00m\u001b[43m)\u001b[49m\u001b[43m,\u001b[49m\u001b[43m \u001b[49m\u001b[43mcmap\u001b[49m\u001b[38;5;241;43m=\u001b[39;49m\u001b[38;5;124;43m\"\u001b[39;49m\u001b[38;5;124;43mrocket_r\u001b[39;49m\u001b[38;5;124;43m\"\u001b[39;49m\u001b[43m)\u001b[49m\n\u001b[0;32m      5\u001b[0m \u001b[38;5;66;03m# We convert the correlation matrix to a distance matrix before performing\u001b[39;00m\n\u001b[0;32m      6\u001b[0m \u001b[38;5;66;03m# hierarchical clustering using Ward's linkage.\u001b[39;00m\n\u001b[0;32m      7\u001b[0m distance_matrix \u001b[38;5;241m=\u001b[39m \u001b[38;5;241m1\u001b[39m \u001b[38;5;241m-\u001b[39m np\u001b[38;5;241m.\u001b[39mabs(corr)\n",
      "File \u001b[1;32m~\\AppData\\Local\\Packages\\PythonSoftwareFoundation.Python.3.10_qbz5n2kfra8p0\\LocalCache\\local-packages\\Python310\\site-packages\\seaborn\\matrix.py:1258\u001b[0m, in \u001b[0;36mclustermap\u001b[1;34m(data, pivot_kws, method, metric, z_score, standard_scale, figsize, cbar_kws, row_cluster, col_cluster, row_linkage, col_linkage, row_colors, col_colors, mask, dendrogram_ratio, colors_ratio, cbar_pos, tree_kws, **kwargs)\u001b[0m\n\u001b[0;32m   1250\u001b[0m     \u001b[38;5;28;01mraise\u001b[39;00m \u001b[38;5;167;01mRuntimeError\u001b[39;00m(\u001b[38;5;124m\"\u001b[39m\u001b[38;5;124mclustermap requires scipy to be available\u001b[39m\u001b[38;5;124m\"\u001b[39m)\n\u001b[0;32m   1252\u001b[0m plotter \u001b[38;5;241m=\u001b[39m ClusterGrid(data, pivot_kws\u001b[38;5;241m=\u001b[39mpivot_kws, figsize\u001b[38;5;241m=\u001b[39mfigsize,\n\u001b[0;32m   1253\u001b[0m                       row_colors\u001b[38;5;241m=\u001b[39mrow_colors, col_colors\u001b[38;5;241m=\u001b[39mcol_colors,\n\u001b[0;32m   1254\u001b[0m                       z_score\u001b[38;5;241m=\u001b[39mz_score, standard_scale\u001b[38;5;241m=\u001b[39mstandard_scale,\n\u001b[0;32m   1255\u001b[0m                       mask\u001b[38;5;241m=\u001b[39mmask, dendrogram_ratio\u001b[38;5;241m=\u001b[39mdendrogram_ratio,\n\u001b[0;32m   1256\u001b[0m                       colors_ratio\u001b[38;5;241m=\u001b[39mcolors_ratio, cbar_pos\u001b[38;5;241m=\u001b[39mcbar_pos)\n\u001b[1;32m-> 1258\u001b[0m \u001b[38;5;28;01mreturn\u001b[39;00m plotter\u001b[38;5;241m.\u001b[39mplot(metric\u001b[38;5;241m=\u001b[39mmetric, method\u001b[38;5;241m=\u001b[39mmethod,\n\u001b[0;32m   1259\u001b[0m                     colorbar_kws\u001b[38;5;241m=\u001b[39mcbar_kws,\n\u001b[0;32m   1260\u001b[0m                     row_cluster\u001b[38;5;241m=\u001b[39mrow_cluster, col_cluster\u001b[38;5;241m=\u001b[39mcol_cluster,\n\u001b[0;32m   1261\u001b[0m                     row_linkage\u001b[38;5;241m=\u001b[39mrow_linkage, col_linkage\u001b[38;5;241m=\u001b[39mcol_linkage,\n\u001b[0;32m   1262\u001b[0m                     tree_kws\u001b[38;5;241m=\u001b[39mtree_kws, \u001b[38;5;241m*\u001b[39m\u001b[38;5;241m*\u001b[39mkwargs)\n",
      "File \u001b[1;32m~\\AppData\\Local\\Packages\\PythonSoftwareFoundation.Python.3.10_qbz5n2kfra8p0\\LocalCache\\local-packages\\Python310\\site-packages\\seaborn\\matrix.py:1129\u001b[0m, in \u001b[0;36mClusterGrid.plot\u001b[1;34m(self, metric, method, colorbar_kws, row_cluster, col_cluster, row_linkage, col_linkage, tree_kws, **kws)\u001b[0m\n\u001b[0;32m   1125\u001b[0m     kws\u001b[38;5;241m.\u001b[39mpop(\u001b[38;5;124m\"\u001b[39m\u001b[38;5;124msquare\u001b[39m\u001b[38;5;124m\"\u001b[39m)\n\u001b[0;32m   1127\u001b[0m colorbar_kws \u001b[38;5;241m=\u001b[39m {} \u001b[38;5;28;01mif\u001b[39;00m colorbar_kws \u001b[38;5;129;01mis\u001b[39;00m \u001b[38;5;28;01mNone\u001b[39;00m \u001b[38;5;28;01melse\u001b[39;00m colorbar_kws\n\u001b[1;32m-> 1129\u001b[0m \u001b[38;5;28;43mself\u001b[39;49m\u001b[38;5;241;43m.\u001b[39;49m\u001b[43mplot_dendrograms\u001b[49m\u001b[43m(\u001b[49m\u001b[43mrow_cluster\u001b[49m\u001b[43m,\u001b[49m\u001b[43m \u001b[49m\u001b[43mcol_cluster\u001b[49m\u001b[43m,\u001b[49m\u001b[43m \u001b[49m\u001b[43mmetric\u001b[49m\u001b[43m,\u001b[49m\u001b[43m \u001b[49m\u001b[43mmethod\u001b[49m\u001b[43m,\u001b[49m\n\u001b[0;32m   1130\u001b[0m \u001b[43m                      \u001b[49m\u001b[43mrow_linkage\u001b[49m\u001b[38;5;241;43m=\u001b[39;49m\u001b[43mrow_linkage\u001b[49m\u001b[43m,\u001b[49m\u001b[43m \u001b[49m\u001b[43mcol_linkage\u001b[49m\u001b[38;5;241;43m=\u001b[39;49m\u001b[43mcol_linkage\u001b[49m\u001b[43m,\u001b[49m\n\u001b[0;32m   1131\u001b[0m \u001b[43m                      \u001b[49m\u001b[43mtree_kws\u001b[49m\u001b[38;5;241;43m=\u001b[39;49m\u001b[43mtree_kws\u001b[49m\u001b[43m)\u001b[49m\n\u001b[0;32m   1132\u001b[0m \u001b[38;5;28;01mtry\u001b[39;00m:\n\u001b[0;32m   1133\u001b[0m     xind \u001b[38;5;241m=\u001b[39m \u001b[38;5;28mself\u001b[39m\u001b[38;5;241m.\u001b[39mdendrogram_col\u001b[38;5;241m.\u001b[39mreordered_ind\n",
      "File \u001b[1;32m~\\AppData\\Local\\Packages\\PythonSoftwareFoundation.Python.3.10_qbz5n2kfra8p0\\LocalCache\\local-packages\\Python310\\site-packages\\seaborn\\matrix.py:974\u001b[0m, in \u001b[0;36mClusterGrid.plot_dendrograms\u001b[1;34m(self, row_cluster, col_cluster, metric, method, row_linkage, col_linkage, tree_kws)\u001b[0m\n\u001b[0;32m    970\u001b[0m \u001b[38;5;28;01mdef\u001b[39;00m \u001b[38;5;21mplot_dendrograms\u001b[39m(\u001b[38;5;28mself\u001b[39m, row_cluster, col_cluster, metric, method,\n\u001b[0;32m    971\u001b[0m                      row_linkage, col_linkage, tree_kws):\n\u001b[0;32m    972\u001b[0m     \u001b[38;5;66;03m# Plot the row dendrogram\u001b[39;00m\n\u001b[0;32m    973\u001b[0m     \u001b[38;5;28;01mif\u001b[39;00m row_cluster:\n\u001b[1;32m--> 974\u001b[0m         \u001b[38;5;28mself\u001b[39m\u001b[38;5;241m.\u001b[39mdendrogram_row \u001b[38;5;241m=\u001b[39m \u001b[43mdendrogram\u001b[49m\u001b[43m(\u001b[49m\n\u001b[0;32m    975\u001b[0m \u001b[43m            \u001b[49m\u001b[38;5;28;43mself\u001b[39;49m\u001b[38;5;241;43m.\u001b[39;49m\u001b[43mdata2d\u001b[49m\u001b[43m,\u001b[49m\u001b[43m \u001b[49m\u001b[43mmetric\u001b[49m\u001b[38;5;241;43m=\u001b[39;49m\u001b[43mmetric\u001b[49m\u001b[43m,\u001b[49m\u001b[43m \u001b[49m\u001b[43mmethod\u001b[49m\u001b[38;5;241;43m=\u001b[39;49m\u001b[43mmethod\u001b[49m\u001b[43m,\u001b[49m\u001b[43m \u001b[49m\u001b[43mlabel\u001b[49m\u001b[38;5;241;43m=\u001b[39;49m\u001b[38;5;28;43;01mFalse\u001b[39;49;00m\u001b[43m,\u001b[49m\u001b[43m \u001b[49m\u001b[43maxis\u001b[49m\u001b[38;5;241;43m=\u001b[39;49m\u001b[38;5;241;43m0\u001b[39;49m\u001b[43m,\u001b[49m\n\u001b[0;32m    976\u001b[0m \u001b[43m            \u001b[49m\u001b[43max\u001b[49m\u001b[38;5;241;43m=\u001b[39;49m\u001b[38;5;28;43mself\u001b[39;49m\u001b[38;5;241;43m.\u001b[39;49m\u001b[43max_row_dendrogram\u001b[49m\u001b[43m,\u001b[49m\u001b[43m \u001b[49m\u001b[43mrotate\u001b[49m\u001b[38;5;241;43m=\u001b[39;49m\u001b[38;5;28;43;01mTrue\u001b[39;49;00m\u001b[43m,\u001b[49m\u001b[43m \u001b[49m\u001b[43mlinkage\u001b[49m\u001b[38;5;241;43m=\u001b[39;49m\u001b[43mrow_linkage\u001b[49m\u001b[43m,\u001b[49m\n\u001b[0;32m    977\u001b[0m \u001b[43m            \u001b[49m\u001b[43mtree_kws\u001b[49m\u001b[38;5;241;43m=\u001b[39;49m\u001b[43mtree_kws\u001b[49m\n\u001b[0;32m    978\u001b[0m \u001b[43m        \u001b[49m\u001b[43m)\u001b[49m\n\u001b[0;32m    979\u001b[0m     \u001b[38;5;28;01melse\u001b[39;00m:\n\u001b[0;32m    980\u001b[0m         \u001b[38;5;28mself\u001b[39m\u001b[38;5;241m.\u001b[39max_row_dendrogram\u001b[38;5;241m.\u001b[39mset_xticks([])\n",
      "File \u001b[1;32m~\\AppData\\Local\\Packages\\PythonSoftwareFoundation.Python.3.10_qbz5n2kfra8p0\\LocalCache\\local-packages\\Python310\\site-packages\\seaborn\\matrix.py:687\u001b[0m, in \u001b[0;36mdendrogram\u001b[1;34m(data, linkage, axis, label, metric, method, rotate, tree_kws, ax)\u001b[0m\n\u001b[0;32m    684\u001b[0m \u001b[38;5;28;01mif\u001b[39;00m _no_scipy:\n\u001b[0;32m    685\u001b[0m     \u001b[38;5;28;01mraise\u001b[39;00m \u001b[38;5;167;01mRuntimeError\u001b[39;00m(\u001b[38;5;124m\"\u001b[39m\u001b[38;5;124mdendrogram requires scipy to be installed\u001b[39m\u001b[38;5;124m\"\u001b[39m)\n\u001b[1;32m--> 687\u001b[0m plotter \u001b[38;5;241m=\u001b[39m \u001b[43m_DendrogramPlotter\u001b[49m\u001b[43m(\u001b[49m\u001b[43mdata\u001b[49m\u001b[43m,\u001b[49m\u001b[43m \u001b[49m\u001b[43mlinkage\u001b[49m\u001b[38;5;241;43m=\u001b[39;49m\u001b[43mlinkage\u001b[49m\u001b[43m,\u001b[49m\u001b[43m \u001b[49m\u001b[43maxis\u001b[49m\u001b[38;5;241;43m=\u001b[39;49m\u001b[43maxis\u001b[49m\u001b[43m,\u001b[49m\n\u001b[0;32m    688\u001b[0m \u001b[43m                             \u001b[49m\u001b[43mmetric\u001b[49m\u001b[38;5;241;43m=\u001b[39;49m\u001b[43mmetric\u001b[49m\u001b[43m,\u001b[49m\u001b[43m \u001b[49m\u001b[43mmethod\u001b[49m\u001b[38;5;241;43m=\u001b[39;49m\u001b[43mmethod\u001b[49m\u001b[43m,\u001b[49m\n\u001b[0;32m    689\u001b[0m \u001b[43m                             \u001b[49m\u001b[43mlabel\u001b[49m\u001b[38;5;241;43m=\u001b[39;49m\u001b[43mlabel\u001b[49m\u001b[43m,\u001b[49m\u001b[43m \u001b[49m\u001b[43mrotate\u001b[49m\u001b[38;5;241;43m=\u001b[39;49m\u001b[43mrotate\u001b[49m\u001b[43m)\u001b[49m\n\u001b[0;32m    690\u001b[0m \u001b[38;5;28;01mif\u001b[39;00m ax \u001b[38;5;129;01mis\u001b[39;00m \u001b[38;5;28;01mNone\u001b[39;00m:\n\u001b[0;32m    691\u001b[0m     ax \u001b[38;5;241m=\u001b[39m plt\u001b[38;5;241m.\u001b[39mgca()\n",
      "File \u001b[1;32m~\\AppData\\Local\\Packages\\PythonSoftwareFoundation.Python.3.10_qbz5n2kfra8p0\\LocalCache\\local-packages\\Python310\\site-packages\\seaborn\\matrix.py:495\u001b[0m, in \u001b[0;36m_DendrogramPlotter.__init__\u001b[1;34m(self, data, linkage, metric, method, axis, label, rotate)\u001b[0m\n\u001b[0;32m    492\u001b[0m \u001b[38;5;28mself\u001b[39m\u001b[38;5;241m.\u001b[39mrotate \u001b[38;5;241m=\u001b[39m rotate\n\u001b[0;32m    494\u001b[0m \u001b[38;5;28;01mif\u001b[39;00m linkage \u001b[38;5;129;01mis\u001b[39;00m \u001b[38;5;28;01mNone\u001b[39;00m:\n\u001b[1;32m--> 495\u001b[0m     \u001b[38;5;28mself\u001b[39m\u001b[38;5;241m.\u001b[39mlinkage \u001b[38;5;241m=\u001b[39m \u001b[38;5;28;43mself\u001b[39;49m\u001b[38;5;241;43m.\u001b[39;49m\u001b[43mcalculated_linkage\u001b[49m\n\u001b[0;32m    496\u001b[0m \u001b[38;5;28;01melse\u001b[39;00m:\n\u001b[0;32m    497\u001b[0m     \u001b[38;5;28mself\u001b[39m\u001b[38;5;241m.\u001b[39mlinkage \u001b[38;5;241m=\u001b[39m linkage\n",
      "File \u001b[1;32m~\\AppData\\Local\\Packages\\PythonSoftwareFoundation.Python.3.10_qbz5n2kfra8p0\\LocalCache\\local-packages\\Python310\\site-packages\\seaborn\\matrix.py:555\u001b[0m, in \u001b[0;36m_DendrogramPlotter.calculated_linkage\u001b[1;34m(self)\u001b[0m\n\u001b[0;32m    551\u001b[0m \u001b[38;5;129m@property\u001b[39m\n\u001b[0;32m    552\u001b[0m \u001b[38;5;28;01mdef\u001b[39;00m \u001b[38;5;21mcalculated_linkage\u001b[39m(\u001b[38;5;28mself\u001b[39m):\n\u001b[0;32m    554\u001b[0m     \u001b[38;5;28;01mtry\u001b[39;00m:\n\u001b[1;32m--> 555\u001b[0m         \u001b[38;5;28;01mreturn\u001b[39;00m \u001b[38;5;28;43mself\u001b[39;49m\u001b[38;5;241;43m.\u001b[39;49m\u001b[43m_calculate_linkage_fastcluster\u001b[49m\u001b[43m(\u001b[49m\u001b[43m)\u001b[49m\n\u001b[0;32m    556\u001b[0m     \u001b[38;5;28;01mexcept\u001b[39;00m \u001b[38;5;167;01mImportError\u001b[39;00m:\n\u001b[0;32m    557\u001b[0m         \u001b[38;5;28;01mif\u001b[39;00m np\u001b[38;5;241m.\u001b[39mproduct(\u001b[38;5;28mself\u001b[39m\u001b[38;5;241m.\u001b[39mshape) \u001b[38;5;241m>\u001b[39m\u001b[38;5;241m=\u001b[39m \u001b[38;5;241m10000\u001b[39m:\n",
      "File \u001b[1;32m~\\AppData\\Local\\Packages\\PythonSoftwareFoundation.Python.3.10_qbz5n2kfra8p0\\LocalCache\\local-packages\\Python310\\site-packages\\seaborn\\matrix.py:547\u001b[0m, in \u001b[0;36m_DendrogramPlotter._calculate_linkage_fastcluster\u001b[1;34m(self)\u001b[0m\n\u001b[0;32m    543\u001b[0m     \u001b[38;5;28;01mreturn\u001b[39;00m fastcluster\u001b[38;5;241m.\u001b[39mlinkage_vector(\u001b[38;5;28mself\u001b[39m\u001b[38;5;241m.\u001b[39marray,\n\u001b[0;32m    544\u001b[0m                                       method\u001b[38;5;241m=\u001b[39m\u001b[38;5;28mself\u001b[39m\u001b[38;5;241m.\u001b[39mmethod,\n\u001b[0;32m    545\u001b[0m                                       metric\u001b[38;5;241m=\u001b[39m\u001b[38;5;28mself\u001b[39m\u001b[38;5;241m.\u001b[39mmetric)\n\u001b[0;32m    546\u001b[0m \u001b[38;5;28;01melse\u001b[39;00m:\n\u001b[1;32m--> 547\u001b[0m     linkage \u001b[38;5;241m=\u001b[39m \u001b[43mfastcluster\u001b[49m\u001b[38;5;241;43m.\u001b[39;49m\u001b[43mlinkage\u001b[49m\u001b[43m(\u001b[49m\u001b[38;5;28;43mself\u001b[39;49m\u001b[38;5;241;43m.\u001b[39;49m\u001b[43marray\u001b[49m\u001b[43m,\u001b[49m\u001b[43m \u001b[49m\u001b[43mmethod\u001b[49m\u001b[38;5;241;43m=\u001b[39;49m\u001b[38;5;28;43mself\u001b[39;49m\u001b[38;5;241;43m.\u001b[39;49m\u001b[43mmethod\u001b[49m\u001b[43m,\u001b[49m\n\u001b[0;32m    548\u001b[0m \u001b[43m                                  \u001b[49m\u001b[43mmetric\u001b[49m\u001b[38;5;241;43m=\u001b[39;49m\u001b[38;5;28;43mself\u001b[39;49m\u001b[38;5;241;43m.\u001b[39;49m\u001b[43mmetric\u001b[49m\u001b[43m)\u001b[49m\n\u001b[0;32m    549\u001b[0m     \u001b[38;5;28;01mreturn\u001b[39;00m linkage\n",
      "File \u001b[1;32m~\\AppData\\Local\\Packages\\PythonSoftwareFoundation.Python.3.10_qbz5n2kfra8p0\\LocalCache\\local-packages\\Python310\\site-packages\\fastcluster.py:247\u001b[0m, in \u001b[0;36mlinkage\u001b[1;34m(X, method, metric, preserve_input)\u001b[0m\n\u001b[0;32m    245\u001b[0m Z \u001b[38;5;241m=\u001b[39m empty((N\u001b[38;5;241m-\u001b[39m\u001b[38;5;241m1\u001b[39m,\u001b[38;5;241m4\u001b[39m))\n\u001b[0;32m    246\u001b[0m \u001b[38;5;28;01mif\u001b[39;00m N \u001b[38;5;241m>\u001b[39m \u001b[38;5;241m1\u001b[39m:\n\u001b[1;32m--> 247\u001b[0m     \u001b[43mlinkage_wrap\u001b[49m\u001b[43m(\u001b[49m\u001b[43mN\u001b[49m\u001b[43m,\u001b[49m\u001b[43m \u001b[49m\u001b[43mX\u001b[49m\u001b[43m,\u001b[49m\u001b[43m \u001b[49m\u001b[43mZ\u001b[49m\u001b[43m,\u001b[49m\u001b[43m \u001b[49m\u001b[43mmthidx\u001b[49m\u001b[43m[\u001b[49m\u001b[43mmethod\u001b[49m\u001b[43m]\u001b[49m\u001b[43m)\u001b[49m\n\u001b[0;32m    248\u001b[0m \u001b[38;5;28;01mreturn\u001b[39;00m Z\n",
      "\u001b[1;31mFloatingPointError\u001b[0m: NaN dissimilarity value."
     ]
    },
    {
     "data": {
      "image/png": "[encoded data removed]",
      "text/plain": [
       "<Figure size 1000x1000 with 4 Axes>"
      ]
     },
     "metadata": {},
     "output_type": "display_data"
    }
   ],
   "source": [
    "warnings.filterwarnings('ignore')\n",
    "corr = data.corr(numeric_only=True)\n",
    "sns_plot = sns.clustermap(data.corr(numeric_only=True), cmap=\"rocket_r\")\n",
    "\n",
    "# We convert the correlation matrix to a distance matrix before performing\n",
    "# hierarchical clustering using Ward's linkage.\n",
    "distance_matrix = 1 - np.abs(corr)\n",
    "dist_linkage = ward(squareform(distance_matrix))\n",
    "\n",
    "fig = plt.figure(figsize=(90, 35))\n",
    "dn = dendrogram(dist_linkage)\n",
    "plt.show()\n"
   ]
  },
  {
   "cell_type": "markdown",
   "metadata": {},
   "source": [
    "Here we want to identify the optimal number of features' clusters. This means the number of clusters having a minimized intra-varience and separate the features into most distinct classes."
   ]
  },
  {
   "cell_type": "code",
   "execution_count": null,
   "metadata": {},
   "outputs": [],
   "source": [
    "\n",
    "ts = []\n",
    "num_clusters = []\n",
    "for t in np.arange(0.1, 2.8, 0.10):\n",
    "    ts.append(t)\n",
    "    cluster_ids = fcluster(dist_linkage,t = t, criterion=\"distance\") \n",
    "    cluster_id_to_feature_ids = defaultdict(list)\n",
    "\n",
    "    #create a dictionary for each cluster and add features index as value  \n",
    "    for idx, cluster_id in enumerate(cluster_ids):\n",
    "        cluster_id_to_feature_ids[cluster_id].append(idx)\n",
    "    \n",
    "    num_clusters.append(len(cluster_id_to_feature_ids.keys()))\n",
    "\n",
    "\n",
    "plt.plot(ts, num_clusters, 'bx-')\n",
    "plt.xlabel('threshold values')\n",
    "plt.ylabel('number of clusters')\n",
    "plt.title('Cluster threshold vs final number clusters')\n",
    "plt.show()\n"
   ]
  },
  {
   "cell_type": "markdown",
   "metadata": {},
   "source": [
    "From each cluster of features, we take one feature as representative to avoid redundancy, i.e., the number of clusters is the same as the final number of selected features. The plot shows us this number versus the threshold. So, we can use it to choose the optimum threshold for our desired number of features. We choose a threshold of 0.5."
   ]
  },
  {
   "cell_type": "code",
   "execution_count": null,
   "metadata": {},
   "outputs": [],
   "source": [
    "cluster_ids = fcluster(dist_linkage,t = 0.5, criterion=\"distance\") \n",
    "cluster_id_to_feature_ids = defaultdict(list)\n",
    "\n",
    "#create a dictionary for each cluster and add features index as value  \n",
    "for idx, cluster_id in enumerate(cluster_ids):\n",
    "    cluster_id_to_feature_ids[cluster_id].append(idx)\n",
    "selected_features = [v[0] for v in cluster_id_to_feature_ids.values()]"
   ]
  },
  {
   "cell_type": "code",
   "execution_count": null,
   "metadata": {},
   "outputs": [],
   "source": [
    "selected_features_names = data.columns[selected_features]\n",
    "print(f'{len(selected_features_names)} features are kept')"
   ]
  },
  {
   "cell_type": "code",
   "execution_count": null,
   "metadata": {},
   "outputs": [],
   "source": [
    "aggregated_profiles = pd.concat([profiles.iloc[:,:3],profiles[selected_features_names]],axis=1)"
   ]
  },
  {
   "cell_type": "markdown",
   "metadata": {},
   "source": [
    "## Pickle final Data "
   ]
  },
  {
   "cell_type": "code",
   "execution_count": null,
   "metadata": {},
   "outputs": [],
   "source": [
    "#check if directory exist before creating it\n",
    "directory = '../Data/Output'\n",
    "if not os.path.exists(directory):\n",
    "    os.mkdir(directory)\n"
   ]
  },
  {
   "cell_type": "code",
   "execution_count": null,
   "metadata": {},
   "outputs": [],
   "source": [
    "aggregated_profiles.to_pickle(\"../Data/Output/output_notebook_1.pkl\")"
   ]
  },
  {
   "cell_type": "markdown",
   "metadata": {},
   "source": [
    "## Conclusion"
   ]
  },
  {
   "cell_type": "code",
   "execution_count": null,
   "metadata": {},
   "outputs": [],
   "source": [
    "print(f'After different steps of pre-processing, we obtained a treatment level profiles for {aggregated_profiles.shape[0]} molecules')\n",
    "print(f'Each treatment-level profiles has {aggregated_profiles.shape[1]} features')"
   ]
  }
 ],
 "metadata": {
  "kernelspec": {
   "display_name": "MORPHEUS",
   "language": "python",
   "name": "python3"
  },
  "language_info": {
   "codemirror_mode": {
    "name": "ipython",
    "version": 3
   },
   "file_extension": ".py",
   "mimetype": "text/x-python",
   "name": "python",
   "nbconvert_exporter": "python",
   "pygments_lexer": "ipython3",
   "version": "3.8.19"
  }
 },
 "nbformat": 4,
 "nbformat_minor": 2
}
