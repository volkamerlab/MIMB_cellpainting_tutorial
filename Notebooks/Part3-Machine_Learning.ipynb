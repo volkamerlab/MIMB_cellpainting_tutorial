{
 "cells": [
  {
   "cell_type": "markdown",
   "metadata": {},
   "source": [
    "# Machine learning "
   ]
  },
  {
   "cell_type": "markdown",
   "metadata": {},
   "source": [
    "In this part, we use machine learning (ML) models, particularly random forests (RF), to predict the cytotoxicity of our previously processed dataset. As a reminder the dataset contains morphological compounds for around 30k molecules as well as their smiles computer morgan fingerprint."
   ]
  },
  {
   "cell_type": "markdown",
   "metadata": {},
   "source": [
    "## Import libraries and previous data\n"
   ]
  },
  {
   "cell_type": "code",
   "execution_count": 1,
   "metadata": {},
   "outputs": [],
   "source": [
    "import pandas as pd\n",
    "import numpy as np\n",
    "from sklearn.model_selection import train_test_split, cross_validate\n",
    "from sklearn.ensemble import RandomForestClassifier\n",
    "from sklearn.metrics import matthews_corrcoef"
   ]
  },
  {
   "cell_type": "markdown",
   "metadata": {},
   "source": [
    "### Load data : per-treatment profile fingerprints and annotation file"
   ]
  },
  {
   "cell_type": "markdown",
   "metadata": {},
   "source": [
    "- Load fingerprint file named _fingerprint_ds.pkl_ generated in _Part2-Similarity_Analysis.ipynb_ \n",
    "- Load endocrine activity file:  _ER_activity_luc_bg1.csv_\n",
    "- Concatenate the data frames into one "
   ]
  },
  {
   "cell_type": "markdown",
   "metadata": {},
   "source": [
    "1. Load the data "
   ]
  },
  {
   "cell_type": "code",
   "execution_count": 2,
   "metadata": {},
   "outputs": [
    {
     "data": {
      "text/html": [
       "<div>\n",
       "<style scoped>\n",
       "    .dataframe tbody tr th:only-of-type {\n",
       "        vertical-align: middle;\n",
       "    }\n",
       "\n",
       "    .dataframe tbody tr th {\n",
       "        vertical-align: top;\n",
       "    }\n",
       "\n",
       "    .dataframe thead th {\n",
       "        text-align: right;\n",
       "    }\n",
       "</style>\n",
       "<table border=\"1\" class=\"dataframe\">\n",
       "  <thead>\n",
       "    <tr style=\"text-align: right;\">\n",
       "      <th></th>\n",
       "      <th>Metadata_broad_sample</th>\n",
       "      <th>CPD_NAME</th>\n",
       "      <th>CPD_SMILES</th>\n",
       "      <th>Cells_AreaShape_Area</th>\n",
       "      <th>Cells_AreaShape_Center_X</th>\n",
       "      <th>Cells_AreaShape_Center_Y</th>\n",
       "      <th>Cells_AreaShape_Compactness</th>\n",
       "      <th>Cells_AreaShape_FormFactor</th>\n",
       "      <th>Cells_AreaShape_Orientation</th>\n",
       "      <th>Cells_AreaShape_Perimeter</th>\n",
       "      <th>...</th>\n",
       "      <th>Nuclei_Texture_SumAverage_RNA_10_0</th>\n",
       "      <th>Nuclei_Texture_SumEntropy_AGP_10_0</th>\n",
       "      <th>Nuclei_Texture_SumEntropy_DNA_10_0</th>\n",
       "      <th>Nuclei_Texture_SumEntropy_RNA_10_0</th>\n",
       "      <th>STD_smile</th>\n",
       "      <th>morganB_fps</th>\n",
       "      <th>euclidean_distance_morganB_fps</th>\n",
       "      <th>tanimoto_distance_morganB_fps</th>\n",
       "      <th>morphological_fingerprint</th>\n",
       "      <th>euclidean_distance_morphological_fingerprint</th>\n",
       "    </tr>\n",
       "  </thead>\n",
       "  <tbody>\n",
       "    <tr>\n",
       "      <th>0</th>\n",
       "      <td>BRD-K08693008-001-01-9</td>\n",
       "      <td>BRD-K08693008</td>\n",
       "      <td>OC[C@@H]1O[C@@H](CCn2cc(nn2)C2CCCCC2)CC[C@@H]1...</td>\n",
       "      <td>0.048557</td>\n",
       "      <td>1.511709</td>\n",
       "      <td>0.671319</td>\n",
       "      <td>1.608394</td>\n",
       "      <td>-0.511233</td>\n",
       "      <td>0.565885</td>\n",
       "      <td>0.257311</td>\n",
       "      <td>...</td>\n",
       "      <td>0.586195</td>\n",
       "      <td>1.125321</td>\n",
       "      <td>1.009055</td>\n",
       "      <td>-1.088308</td>\n",
       "      <td>O=C(Nc1ccc(Cl)c(Cl)c1)N[C@H]1CC[C@H](CCn2cc(C3...</td>\n",
       "      <td>[0, 0, 1, 0, 1, 0, 0, 0, 0, 0, 0, 0, 0, 0, 0, ...</td>\n",
       "      <td>8.944272</td>\n",
       "      <td>0.144928</td>\n",
       "      <td>[0.04855710428510099, 1.5117089902809278, 0.67...</td>\n",
       "      <td>27.358629</td>\n",
       "    </tr>\n",
       "    <tr>\n",
       "      <th>1</th>\n",
       "      <td>BRD-K63982890-001-01-9</td>\n",
       "      <td>BRD-K63982890</td>\n",
       "      <td>OC[C@@H]1O[C@@H](CCn2cc(nn2)C2CCCCC2)CC[C@H]1N...</td>\n",
       "      <td>-0.452500</td>\n",
       "      <td>0.951801</td>\n",
       "      <td>0.099539</td>\n",
       "      <td>0.742502</td>\n",
       "      <td>-0.953422</td>\n",
       "      <td>-0.629503</td>\n",
       "      <td>0.145339</td>\n",
       "      <td>...</td>\n",
       "      <td>-0.662275</td>\n",
       "      <td>-0.373907</td>\n",
       "      <td>1.198932</td>\n",
       "      <td>-0.733997</td>\n",
       "      <td>O=C(Nc1ccc(Cl)c(Cl)c1)N[C@@H]1CC[C@H](CCn2cc(C...</td>\n",
       "      <td>[0, 0, 1, 0, 1, 0, 0, 0, 0, 0, 0, 0, 0, 0, 0, ...</td>\n",
       "      <td>8.944272</td>\n",
       "      <td>0.144928</td>\n",
       "      <td>[-0.4524995916327004, 0.951801364194127, 0.099...</td>\n",
       "      <td>27.667467</td>\n",
       "    </tr>\n",
       "    <tr>\n",
       "      <th>2</th>\n",
       "      <td>BRD-K41006887-001-01-9</td>\n",
       "      <td>BRD-K41006887</td>\n",
       "      <td>OC[C@H]1O[C@@H](CCn2cc(nn2)C2CCCCC2)CC[C@@H]1N...</td>\n",
       "      <td>-0.057587</td>\n",
       "      <td>1.049713</td>\n",
       "      <td>0.849848</td>\n",
       "      <td>1.010894</td>\n",
       "      <td>0.477231</td>\n",
       "      <td>0.104341</td>\n",
       "      <td>-0.089863</td>\n",
       "      <td>...</td>\n",
       "      <td>0.225152</td>\n",
       "      <td>0.297243</td>\n",
       "      <td>0.937306</td>\n",
       "      <td>-0.964718</td>\n",
       "      <td>O=C(Nc1ccc(Cl)c(Cl)c1)N[C@H]1CC[C@H](CCn2cc(C3...</td>\n",
       "      <td>[0, 0, 1, 0, 1, 0, 0, 0, 0, 0, 0, 0, 0, 0, 0, ...</td>\n",
       "      <td>8.944272</td>\n",
       "      <td>0.144928</td>\n",
       "      <td>[-0.0575871545944799, 1.0497128524077577, 0.84...</td>\n",
       "      <td>19.326218</td>\n",
       "    </tr>\n",
       "    <tr>\n",
       "      <th>3</th>\n",
       "      <td>BRD-K06226868-001-01-9</td>\n",
       "      <td>BRD-K06226868</td>\n",
       "      <td>OC[C@H]1O[C@@H](CCn2cc(nn2)C2CCCCC2)CC[C@H]1NC...</td>\n",
       "      <td>-0.479606</td>\n",
       "      <td>-0.420357</td>\n",
       "      <td>0.579939</td>\n",
       "      <td>-0.186316</td>\n",
       "      <td>0.066921</td>\n",
       "      <td>-0.435716</td>\n",
       "      <td>-0.235182</td>\n",
       "      <td>...</td>\n",
       "      <td>2.401989</td>\n",
       "      <td>0.121881</td>\n",
       "      <td>1.291487</td>\n",
       "      <td>0.298728</td>\n",
       "      <td>O=C(Nc1ccc(Cl)c(Cl)c1)N[C@@H]1CC[C@H](CCn2cc(C...</td>\n",
       "      <td>[0, 0, 1, 0, 1, 0, 0, 0, 0, 0, 0, 0, 0, 0, 0, ...</td>\n",
       "      <td>8.944272</td>\n",
       "      <td>0.144928</td>\n",
       "      <td>[-0.47960621508791773, -0.4203570009833136, 0....</td>\n",
       "      <td>19.968936</td>\n",
       "    </tr>\n",
       "    <tr>\n",
       "      <th>4</th>\n",
       "      <td>BRD-K80296876-001-01-1</td>\n",
       "      <td>BRD-K80296876</td>\n",
       "      <td>OC[C@@H]1O[C@H](CCn2cc(nn2)C2CCCCC2)CC[C@@H]1N...</td>\n",
       "      <td>-0.640939</td>\n",
       "      <td>-0.311107</td>\n",
       "      <td>0.639009</td>\n",
       "      <td>-0.391117</td>\n",
       "      <td>-0.171688</td>\n",
       "      <td>-0.574212</td>\n",
       "      <td>-0.597188</td>\n",
       "      <td>...</td>\n",
       "      <td>1.411005</td>\n",
       "      <td>1.217564</td>\n",
       "      <td>1.154178</td>\n",
       "      <td>0.036902</td>\n",
       "      <td>O=C(Nc1ccc(Cl)c(Cl)c1)N[C@H]1CC[C@@H](CCn2cc(C...</td>\n",
       "      <td>[0, 0, 1, 0, 1, 0, 0, 0, 0, 0, 0, 0, 0, 0, 0, ...</td>\n",
       "      <td>8.944272</td>\n",
       "      <td>0.144928</td>\n",
       "      <td>[-0.6409394395723342, -0.3111072013741303, 0.6...</td>\n",
       "      <td>17.030844</td>\n",
       "    </tr>\n",
       "  </tbody>\n",
       "</table>\n",
       "<p>5 rows × 299 columns</p>\n",
       "</div>"
      ],
      "text/plain": [
       "    Metadata_broad_sample       CPD_NAME  \\\n",
       "0  BRD-K08693008-001-01-9  BRD-K08693008   \n",
       "1  BRD-K63982890-001-01-9  BRD-K63982890   \n",
       "2  BRD-K41006887-001-01-9  BRD-K41006887   \n",
       "3  BRD-K06226868-001-01-9  BRD-K06226868   \n",
       "4  BRD-K80296876-001-01-1  BRD-K80296876   \n",
       "\n",
       "                                          CPD_SMILES  Cells_AreaShape_Area  \\\n",
       "0  OC[C@@H]1O[C@@H](CCn2cc(nn2)C2CCCCC2)CC[C@@H]1...              0.048557   \n",
       "1  OC[C@@H]1O[C@@H](CCn2cc(nn2)C2CCCCC2)CC[C@H]1N...             -0.452500   \n",
       "2  OC[C@H]1O[C@@H](CCn2cc(nn2)C2CCCCC2)CC[C@@H]1N...             -0.057587   \n",
       "3  OC[C@H]1O[C@@H](CCn2cc(nn2)C2CCCCC2)CC[C@H]1NC...             -0.479606   \n",
       "4  OC[C@@H]1O[C@H](CCn2cc(nn2)C2CCCCC2)CC[C@@H]1N...             -0.640939   \n",
       "\n",
       "   Cells_AreaShape_Center_X  Cells_AreaShape_Center_Y  \\\n",
       "0                  1.511709                  0.671319   \n",
       "1                  0.951801                  0.099539   \n",
       "2                  1.049713                  0.849848   \n",
       "3                 -0.420357                  0.579939   \n",
       "4                 -0.311107                  0.639009   \n",
       "\n",
       "   Cells_AreaShape_Compactness  Cells_AreaShape_FormFactor  \\\n",
       "0                     1.608394                   -0.511233   \n",
       "1                     0.742502                   -0.953422   \n",
       "2                     1.010894                    0.477231   \n",
       "3                    -0.186316                    0.066921   \n",
       "4                    -0.391117                   -0.171688   \n",
       "\n",
       "   Cells_AreaShape_Orientation  Cells_AreaShape_Perimeter  ...  \\\n",
       "0                     0.565885                   0.257311  ...   \n",
       "1                    -0.629503                   0.145339  ...   \n",
       "2                     0.104341                  -0.089863  ...   \n",
       "3                    -0.435716                  -0.235182  ...   \n",
       "4                    -0.574212                  -0.597188  ...   \n",
       "\n",
       "   Nuclei_Texture_SumAverage_RNA_10_0  Nuclei_Texture_SumEntropy_AGP_10_0  \\\n",
       "0                            0.586195                            1.125321   \n",
       "1                           -0.662275                           -0.373907   \n",
       "2                            0.225152                            0.297243   \n",
       "3                            2.401989                            0.121881   \n",
       "4                            1.411005                            1.217564   \n",
       "\n",
       "   Nuclei_Texture_SumEntropy_DNA_10_0  Nuclei_Texture_SumEntropy_RNA_10_0  \\\n",
       "0                            1.009055                           -1.088308   \n",
       "1                            1.198932                           -0.733997   \n",
       "2                            0.937306                           -0.964718   \n",
       "3                            1.291487                            0.298728   \n",
       "4                            1.154178                            0.036902   \n",
       "\n",
       "                                           STD_smile  \\\n",
       "0  O=C(Nc1ccc(Cl)c(Cl)c1)N[C@H]1CC[C@H](CCn2cc(C3...   \n",
       "1  O=C(Nc1ccc(Cl)c(Cl)c1)N[C@@H]1CC[C@H](CCn2cc(C...   \n",
       "2  O=C(Nc1ccc(Cl)c(Cl)c1)N[C@H]1CC[C@H](CCn2cc(C3...   \n",
       "3  O=C(Nc1ccc(Cl)c(Cl)c1)N[C@@H]1CC[C@H](CCn2cc(C...   \n",
       "4  O=C(Nc1ccc(Cl)c(Cl)c1)N[C@H]1CC[C@@H](CCn2cc(C...   \n",
       "\n",
       "                                         morganB_fps  \\\n",
       "0  [0, 0, 1, 0, 1, 0, 0, 0, 0, 0, 0, 0, 0, 0, 0, ...   \n",
       "1  [0, 0, 1, 0, 1, 0, 0, 0, 0, 0, 0, 0, 0, 0, 0, ...   \n",
       "2  [0, 0, 1, 0, 1, 0, 0, 0, 0, 0, 0, 0, 0, 0, 0, ...   \n",
       "3  [0, 0, 1, 0, 1, 0, 0, 0, 0, 0, 0, 0, 0, 0, 0, ...   \n",
       "4  [0, 0, 1, 0, 1, 0, 0, 0, 0, 0, 0, 0, 0, 0, 0, ...   \n",
       "\n",
       "   euclidean_distance_morganB_fps  tanimoto_distance_morganB_fps  \\\n",
       "0                        8.944272                       0.144928   \n",
       "1                        8.944272                       0.144928   \n",
       "2                        8.944272                       0.144928   \n",
       "3                        8.944272                       0.144928   \n",
       "4                        8.944272                       0.144928   \n",
       "\n",
       "                           morphological_fingerprint  \\\n",
       "0  [0.04855710428510099, 1.5117089902809278, 0.67...   \n",
       "1  [-0.4524995916327004, 0.951801364194127, 0.099...   \n",
       "2  [-0.0575871545944799, 1.0497128524077577, 0.84...   \n",
       "3  [-0.47960621508791773, -0.4203570009833136, 0....   \n",
       "4  [-0.6409394395723342, -0.3111072013741303, 0.6...   \n",
       "\n",
       "   euclidean_distance_morphological_fingerprint  \n",
       "0                                     27.358629  \n",
       "1                                     27.667467  \n",
       "2                                     19.326218  \n",
       "3                                     19.968936  \n",
       "4                                     17.030844  \n",
       "\n",
       "[5 rows x 299 columns]"
      ]
     },
     "execution_count": 2,
     "metadata": {},
     "output_type": "execute_result"
    }
   ],
   "source": [
    "dataset = pd.read_pickle('../Data/Output/output_notebook_2.pkl')\n",
    "dataset.head()"
   ]
  },
  {
   "cell_type": "markdown",
   "metadata": {},
   "source": [
    "In this part we won't neet drop the euclidean distances per fingerprint so this colunms can be droped.\n"
   ]
  },
  {
   "cell_type": "code",
   "execution_count": 3,
   "metadata": {},
   "outputs": [],
   "source": [
    "dataset.drop(['euclidean_distance_morganB_fps', 'euclidean_distance_morphological_fingerprint',\n",
    "             'tanimoto_distance_morganB_fps'], axis=1, inplace=True)"
   ]
  },
  {
   "cell_type": "markdown",
   "metadata": {},
   "source": [
    "2. Load file with endocrine activity (ER)"
   ]
  },
  {
   "cell_type": "code",
   "execution_count": 4,
   "metadata": {},
   "outputs": [],
   "source": [
    "er_table = pd.read_csv(\n",
    "    '../Data/Annotations/ER_activity_luc_bg1.csv', sep=',', index_col=0)"
   ]
  },
  {
   "cell_type": "markdown",
   "metadata": {},
   "source": [
    "We want to mark any endocrine activity, i.e., independent on whether the compound is marked as antagonist or agonist, as 'active' (1) and only 'inactive' (0) for the compounds with no activity."
   ]
  },
  {
   "cell_type": "code",
   "execution_count": 5,
   "metadata": {},
   "outputs": [],
   "source": [
    "er_table.dropna(inplace=True)"
   ]
  },
  {
   "cell_type": "code",
   "execution_count": 43,
   "metadata": {},
   "outputs": [],
   "source": [
    "def convert_to_three_classes(x):\n",
    "    ''' \n",
    "        needed to add the class for the multiclass setting\n",
    "\n",
    "        @param x: row in dataframe\n",
    "        @retun: class as int\n",
    "    '''\n",
    "    if (x['TOX21_ERa_LUC_BG1_Antagonist'] == 1) and (x['TOX21_ERa_LUC_BG1_Agonist'] == 1):\n",
    "        return 3\n",
    "    elif x['TOX21_ERa_LUC_BG1_Antagonist'] == 1:\n",
    "        return 2\n",
    "    elif x['TOX21_ERa_LUC_BG1_Agonist'] == 1:\n",
    "        return 1\n",
    "    else:\n",
    "        return 0"
   ]
  },
  {
   "cell_type": "code",
   "execution_count": 44,
   "metadata": {},
   "outputs": [],
   "source": [
    "class_encoding_dict = {3: 'both', 2: 'antagonist',\n",
    "                       1: 'agonist', 0: 'not active'}"
   ]
  },
  {
   "cell_type": "code",
   "execution_count": 45,
   "metadata": {},
   "outputs": [],
   "source": [
    "er_table['three_class_response'] = er_table.apply(\n",
    "    lambda x: convert_to_three_classes(x), axis=1)"
   ]
  },
  {
   "cell_type": "code",
   "execution_count": 46,
   "metadata": {},
   "outputs": [],
   "source": [
    "er_table['activity'] = er_table.apply(lambda x: min(int(\n",
    "    x['TOX21_ERa_LUC_BG1_Antagonist']) + int(x['TOX21_ERa_LUC_BG1_Agonist']), 1), axis=1)"
   ]
  },
  {
   "cell_type": "code",
   "execution_count": 47,
   "metadata": {},
   "outputs": [],
   "source": [
    "activity_only_df = er_table.drop(\n",
    "    columns=['TOX21_ERa_LUC_BG1_Antagonist', 'TOX21_ERa_LUC_BG1_Agonist'])"
   ]
  },
  {
   "cell_type": "code",
   "execution_count": 48,
   "metadata": {},
   "outputs": [
    {
     "name": "stdout",
     "output_type": "stream",
     "text": [
      "In the dataset, we find 212 active compounds.\n",
      "24.1% of the compounds are active.\n"
     ]
    }
   ],
   "source": [
    "print(\n",
    "    f'In the dataset, we find {activity_only_df[\"activity\"].sum()} active compounds.')\n",
    "print(\n",
    "    f'{round((activity_only_df[\"activity\"].sum()/len(activity_only_df))*100, 1)}% of the compounds are active.')"
   ]
  },
  {
   "cell_type": "code",
   "execution_count": 49,
   "metadata": {},
   "outputs": [],
   "source": [
    "merged_df = activity_only_df.join(dataset.set_index('CPD_NAME'), on='CPD_NAME')\n",
    "merged_df.reset_index(inplace=True, drop=True)\n",
    "merged_df.dropna(inplace=True)"
   ]
  },
  {
   "cell_type": "code",
   "execution_count": 50,
   "metadata": {},
   "outputs": [
    {
     "data": {
      "text/html": [
       "<div>\n",
       "<style scoped>\n",
       "    .dataframe tbody tr th:only-of-type {\n",
       "        vertical-align: middle;\n",
       "    }\n",
       "\n",
       "    .dataframe tbody tr th {\n",
       "        vertical-align: top;\n",
       "    }\n",
       "\n",
       "    .dataframe thead th {\n",
       "        text-align: right;\n",
       "    }\n",
       "</style>\n",
       "<table border=\"1\" class=\"dataframe\">\n",
       "  <thead>\n",
       "    <tr style=\"text-align: right;\">\n",
       "      <th></th>\n",
       "      <th>CPD_NAME</th>\n",
       "      <th>three_class_response</th>\n",
       "      <th>activity</th>\n",
       "      <th>Metadata_broad_sample</th>\n",
       "      <th>CPD_SMILES</th>\n",
       "      <th>Cells_AreaShape_Area</th>\n",
       "      <th>Cells_AreaShape_Center_X</th>\n",
       "      <th>Cells_AreaShape_Center_Y</th>\n",
       "      <th>Cells_AreaShape_Compactness</th>\n",
       "      <th>Cells_AreaShape_FormFactor</th>\n",
       "      <th>...</th>\n",
       "      <th>Nuclei_Texture_InverseDifferenceMoment_RNA_3_0</th>\n",
       "      <th>Nuclei_Texture_SumAverage_AGP_10_0</th>\n",
       "      <th>Nuclei_Texture_SumAverage_DNA_10_0</th>\n",
       "      <th>Nuclei_Texture_SumAverage_RNA_10_0</th>\n",
       "      <th>Nuclei_Texture_SumEntropy_AGP_10_0</th>\n",
       "      <th>Nuclei_Texture_SumEntropy_DNA_10_0</th>\n",
       "      <th>Nuclei_Texture_SumEntropy_RNA_10_0</th>\n",
       "      <th>STD_smile</th>\n",
       "      <th>morganB_fps</th>\n",
       "      <th>morphological_fingerprint</th>\n",
       "    </tr>\n",
       "  </thead>\n",
       "  <tbody>\n",
       "    <tr>\n",
       "      <th>0</th>\n",
       "      <td>mibefradil</td>\n",
       "      <td>2</td>\n",
       "      <td>1</td>\n",
       "      <td>BRD-K09549677-311-05-6</td>\n",
       "      <td>COCC(=O)O[C@]1(CCN(C)CCCc2nc3ccccc3[nH]2)CCc2c...</td>\n",
       "      <td>-1.522142</td>\n",
       "      <td>-0.167552</td>\n",
       "      <td>-0.057663</td>\n",
       "      <td>0.922271</td>\n",
       "      <td>1.969991</td>\n",
       "      <td>...</td>\n",
       "      <td>0.126704</td>\n",
       "      <td>-1.622976</td>\n",
       "      <td>0.448551</td>\n",
       "      <td>-0.025718</td>\n",
       "      <td>-1.723061</td>\n",
       "      <td>-0.213090</td>\n",
       "      <td>-0.638330</td>\n",
       "      <td>COCC(=O)O[C@]1(CCN(C)CCCc2nc3ccccc3[nH]2)CCc2c...</td>\n",
       "      <td>[0, 1, 0, 1, 0, 0, 0, 0, 0, 0, 0, 0, 0, 0, 0, ...</td>\n",
       "      <td>[-1.5221420268136925, -0.167552301981941, -0.0...</td>\n",
       "    </tr>\n",
       "    <tr>\n",
       "      <th>1</th>\n",
       "      <td>mibefradil</td>\n",
       "      <td>2</td>\n",
       "      <td>1</td>\n",
       "      <td>BRD-K09549677-300-01-8</td>\n",
       "      <td>COCC(=O)O[C@]1(CCN(C)CCCc2nc3ccccc3[nH]2)CCc2c...</td>\n",
       "      <td>0.307927</td>\n",
       "      <td>0.775698</td>\n",
       "      <td>0.480218</td>\n",
       "      <td>2.664921</td>\n",
       "      <td>1.421630</td>\n",
       "      <td>...</td>\n",
       "      <td>-1.101514</td>\n",
       "      <td>-0.628421</td>\n",
       "      <td>0.754518</td>\n",
       "      <td>-0.195795</td>\n",
       "      <td>-2.022078</td>\n",
       "      <td>0.089506</td>\n",
       "      <td>-1.074223</td>\n",
       "      <td>COCC(=O)O[C@]1(CCN(C)CCCc2nc3ccccc3[nH]2)CCc2c...</td>\n",
       "      <td>[0, 1, 0, 1, 0, 0, 0, 0, 0, 0, 0, 0, 0, 0, 0, ...</td>\n",
       "      <td>[0.30792735741491867, 0.7756983423999834, 0.48...</td>\n",
       "    </tr>\n",
       "    <tr>\n",
       "      <th>2</th>\n",
       "      <td>fenbufen</td>\n",
       "      <td>0</td>\n",
       "      <td>0</td>\n",
       "      <td>BRD-K12513978-001-18-3</td>\n",
       "      <td>OC(=O)CCC(=O)c1ccc(cc1)-c1ccccc1</td>\n",
       "      <td>-1.087932</td>\n",
       "      <td>-0.341208</td>\n",
       "      <td>-0.165434</td>\n",
       "      <td>-0.144534</td>\n",
       "      <td>-0.205437</td>\n",
       "      <td>...</td>\n",
       "      <td>-0.245718</td>\n",
       "      <td>-0.488566</td>\n",
       "      <td>-0.129325</td>\n",
       "      <td>-0.082212</td>\n",
       "      <td>0.240349</td>\n",
       "      <td>-0.054421</td>\n",
       "      <td>0.193110</td>\n",
       "      <td>O=C(O)CCC(=O)c1ccc(-c2ccccc2)cc1</td>\n",
       "      <td>[0, 0, 0, 0, 0, 0, 0, 0, 0, 0, 0, 0, 0, 0, 0, ...</td>\n",
       "      <td>[-1.0879321652896299, -0.34120750238044284, -0...</td>\n",
       "    </tr>\n",
       "    <tr>\n",
       "      <th>3</th>\n",
       "      <td>fenbufen</td>\n",
       "      <td>0</td>\n",
       "      <td>0</td>\n",
       "      <td>BRD-K12513978-001-04-3</td>\n",
       "      <td>OC(=O)CCC(=O)c1ccc(cc1)-c1ccccc1</td>\n",
       "      <td>-0.121079</td>\n",
       "      <td>-0.045807</td>\n",
       "      <td>0.049945</td>\n",
       "      <td>0.036023</td>\n",
       "      <td>0.389832</td>\n",
       "      <td>...</td>\n",
       "      <td>-0.092717</td>\n",
       "      <td>-0.255664</td>\n",
       "      <td>-0.289665</td>\n",
       "      <td>-0.079264</td>\n",
       "      <td>-0.198003</td>\n",
       "      <td>-0.273866</td>\n",
       "      <td>-0.079771</td>\n",
       "      <td>O=C(O)CCC(=O)c1ccc(-c2ccccc2)cc1</td>\n",
       "      <td>[0, 0, 0, 0, 0, 0, 0, 0, 0, 0, 0, 0, 0, 0, 0, ...</td>\n",
       "      <td>[-0.12107863384308526, -0.04580730280029293, 0...</td>\n",
       "    </tr>\n",
       "    <tr>\n",
       "      <th>4</th>\n",
       "      <td>diethanolamine</td>\n",
       "      <td>0</td>\n",
       "      <td>0</td>\n",
       "      <td>BRD-K19401842-001-04-8</td>\n",
       "      <td>OCCNCCO</td>\n",
       "      <td>-0.436675</td>\n",
       "      <td>-0.146961</td>\n",
       "      <td>-0.460239</td>\n",
       "      <td>0.638962</td>\n",
       "      <td>-0.166150</td>\n",
       "      <td>...</td>\n",
       "      <td>0.157471</td>\n",
       "      <td>-0.422890</td>\n",
       "      <td>-0.580701</td>\n",
       "      <td>-0.228447</td>\n",
       "      <td>-0.132181</td>\n",
       "      <td>-0.549056</td>\n",
       "      <td>-0.466799</td>\n",
       "      <td>OCCNCCO</td>\n",
       "      <td>[0, 0, 0, 0, 0, 0, 0, 0, 0, 0, 0, 0, 0, 0, 0, ...</td>\n",
       "      <td>[-0.4366754247968007, -0.14696086259426278, -0...</td>\n",
       "    </tr>\n",
       "  </tbody>\n",
       "</table>\n",
       "<p>5 rows × 298 columns</p>\n",
       "</div>"
      ],
      "text/plain": [
       "         CPD_NAME  three_class_response  activity   Metadata_broad_sample  \\\n",
       "0      mibefradil                     2         1  BRD-K09549677-311-05-6   \n",
       "1      mibefradil                     2         1  BRD-K09549677-300-01-8   \n",
       "2        fenbufen                     0         0  BRD-K12513978-001-18-3   \n",
       "3        fenbufen                     0         0  BRD-K12513978-001-04-3   \n",
       "4  diethanolamine                     0         0  BRD-K19401842-001-04-8   \n",
       "\n",
       "                                          CPD_SMILES  Cells_AreaShape_Area  \\\n",
       "0  COCC(=O)O[C@]1(CCN(C)CCCc2nc3ccccc3[nH]2)CCc2c...             -1.522142   \n",
       "1  COCC(=O)O[C@]1(CCN(C)CCCc2nc3ccccc3[nH]2)CCc2c...              0.307927   \n",
       "2                   OC(=O)CCC(=O)c1ccc(cc1)-c1ccccc1             -1.087932   \n",
       "3                   OC(=O)CCC(=O)c1ccc(cc1)-c1ccccc1             -0.121079   \n",
       "4                                            OCCNCCO             -0.436675   \n",
       "\n",
       "   Cells_AreaShape_Center_X  Cells_AreaShape_Center_Y  \\\n",
       "0                 -0.167552                 -0.057663   \n",
       "1                  0.775698                  0.480218   \n",
       "2                 -0.341208                 -0.165434   \n",
       "3                 -0.045807                  0.049945   \n",
       "4                 -0.146961                 -0.460239   \n",
       "\n",
       "   Cells_AreaShape_Compactness  Cells_AreaShape_FormFactor  ...  \\\n",
       "0                     0.922271                    1.969991  ...   \n",
       "1                     2.664921                    1.421630  ...   \n",
       "2                    -0.144534                   -0.205437  ...   \n",
       "3                     0.036023                    0.389832  ...   \n",
       "4                     0.638962                   -0.166150  ...   \n",
       "\n",
       "   Nuclei_Texture_InverseDifferenceMoment_RNA_3_0  \\\n",
       "0                                        0.126704   \n",
       "1                                       -1.101514   \n",
       "2                                       -0.245718   \n",
       "3                                       -0.092717   \n",
       "4                                        0.157471   \n",
       "\n",
       "   Nuclei_Texture_SumAverage_AGP_10_0  Nuclei_Texture_SumAverage_DNA_10_0  \\\n",
       "0                           -1.622976                            0.448551   \n",
       "1                           -0.628421                            0.754518   \n",
       "2                           -0.488566                           -0.129325   \n",
       "3                           -0.255664                           -0.289665   \n",
       "4                           -0.422890                           -0.580701   \n",
       "\n",
       "   Nuclei_Texture_SumAverage_RNA_10_0  Nuclei_Texture_SumEntropy_AGP_10_0  \\\n",
       "0                           -0.025718                           -1.723061   \n",
       "1                           -0.195795                           -2.022078   \n",
       "2                           -0.082212                            0.240349   \n",
       "3                           -0.079264                           -0.198003   \n",
       "4                           -0.228447                           -0.132181   \n",
       "\n",
       "   Nuclei_Texture_SumEntropy_DNA_10_0  Nuclei_Texture_SumEntropy_RNA_10_0  \\\n",
       "0                           -0.213090                           -0.638330   \n",
       "1                            0.089506                           -1.074223   \n",
       "2                           -0.054421                            0.193110   \n",
       "3                           -0.273866                           -0.079771   \n",
       "4                           -0.549056                           -0.466799   \n",
       "\n",
       "                                           STD_smile  \\\n",
       "0  COCC(=O)O[C@]1(CCN(C)CCCc2nc3ccccc3[nH]2)CCc2c...   \n",
       "1  COCC(=O)O[C@]1(CCN(C)CCCc2nc3ccccc3[nH]2)CCc2c...   \n",
       "2                   O=C(O)CCC(=O)c1ccc(-c2ccccc2)cc1   \n",
       "3                   O=C(O)CCC(=O)c1ccc(-c2ccccc2)cc1   \n",
       "4                                            OCCNCCO   \n",
       "\n",
       "                                         morganB_fps  \\\n",
       "0  [0, 1, 0, 1, 0, 0, 0, 0, 0, 0, 0, 0, 0, 0, 0, ...   \n",
       "1  [0, 1, 0, 1, 0, 0, 0, 0, 0, 0, 0, 0, 0, 0, 0, ...   \n",
       "2  [0, 0, 0, 0, 0, 0, 0, 0, 0, 0, 0, 0, 0, 0, 0, ...   \n",
       "3  [0, 0, 0, 0, 0, 0, 0, 0, 0, 0, 0, 0, 0, 0, 0, ...   \n",
       "4  [0, 0, 0, 0, 0, 0, 0, 0, 0, 0, 0, 0, 0, 0, 0, ...   \n",
       "\n",
       "                           morphological_fingerprint  \n",
       "0  [-1.5221420268136925, -0.167552301981941, -0.0...  \n",
       "1  [0.30792735741491867, 0.7756983423999834, 0.48...  \n",
       "2  [-1.0879321652896299, -0.34120750238044284, -0...  \n",
       "3  [-0.12107863384308526, -0.04580730280029293, 0...  \n",
       "4  [-0.4366754247968007, -0.14696086259426278, -0...  \n",
       "\n",
       "[5 rows x 298 columns]"
      ]
     },
     "execution_count": 50,
     "metadata": {},
     "output_type": "execute_result"
    }
   ],
   "source": [
    "merged_df.head()"
   ]
  },
  {
   "cell_type": "markdown",
   "metadata": {},
   "source": [
    "We notice that some compound names appear several times in the list with different Broad IDs."
   ]
  },
  {
   "cell_type": "markdown",
   "metadata": {},
   "source": [
    "## Spliting Data in Training and TestSet"
   ]
  },
  {
   "cell_type": "markdown",
   "metadata": {},
   "source": [
    "For ML, we always need training and a test set that are pairwise disjoint. <br>\n",
    "To this end, we split the data into two parts, where the training set will contain 80% of the samples and the test set the remaining 20%. <br>\n",
    "Moreover, we need a response vector y, i.e., the column with the activity information and a feature matrix X, i.e., a matrix with the morphological or molecular fingerprints or a combination thereof, for each compound. <br>\n",
    "To make sure we do not have a data leakage, we ensure that all instances of compounds, which appear several times in the dataset, are put in the same set. Moreover, we want to ensure that we have enough instances of the active class in both sets. Therefore, we perform a stratified split that ensures a constant ratio of active and inactive compounds in all datasets."
   ]
  },
  {
   "cell_type": "markdown",
   "metadata": {},
   "source": [
    "1. Features and variable to predict (response vector)"
   ]
  },
  {
   "cell_type": "code",
   "execution_count": 51,
   "metadata": {},
   "outputs": [],
   "source": [
    "train_names, test_names, train_activities, test_activities = train_test_split(\n",
    "    activity_only_df['CPD_NAME'].values, activity_only_df['activity'].values.astype('int'), random_state=42, test_size=0.2, shuffle=True)"
   ]
  },
  {
   "cell_type": "code",
   "execution_count": 52,
   "metadata": {},
   "outputs": [
    {
     "name": "stdout",
     "output_type": "stream",
     "text": [
      "linoleic acid is in training set\n"
     ]
    }
   ],
   "source": [
    "if 'linoleic acid' in train_names:\n",
    "    print('linoleic acid is in training set')\n",
    "elif 'linoleic acid' in test_names:\n",
    "    print('linoleic acid is in test set')"
   ]
  },
  {
   "cell_type": "markdown",
   "metadata": {},
   "source": [
    "## Binary Classification"
   ]
  },
  {
   "cell_type": "code",
   "execution_count": 53,
   "metadata": {},
   "outputs": [],
   "source": [
    "X = merged_df.copy(deep=True)\n",
    "X_train = X.loc[X['CPD_NAME'].isin(train_names), :].copy(deep=True)\n",
    "X_test = X.loc[X['CPD_NAME'].isin(test_names), :].copy(deep=True)\n",
    "\n",
    "broad_ids_train = X_train['Metadata_broad_sample'].values\n",
    "broad_ids_test = X_test['Metadata_broad_sample'].values\n",
    "\n",
    "y_train = X_train['activity'].values\n",
    "y_test = X_test['activity'].values\n",
    "\n",
    "cols_to_drop = ['morganB_fps', 'morphological_fingerprint', 'activity', 'CPD_SMILES',\n",
    "                'CPD_NAME', 'Metadata_broad_sample', 'STD_smile', 'three_class_response']\n",
    "X_test_morph_fp = X_test.drop(cols_to_drop, axis=1)\n",
    "X_train_morph_fp = X_train.drop(cols_to_drop, axis=1)"
   ]
  },
  {
   "cell_type": "markdown",
   "metadata": {},
   "source": [
    "## Cross Validation and Hyperparameter Tuning\n",
    "\n",
    "In ML, we want to minimize a loss function, e.g., the mean-squared error (MSE). In particular, we want to fit the training data in order to minimize the loss on the training samples, while still having a small error on the unseen test samples. Moreover, there are hyperparameters defining the hypothesis space of the model, which can be tuned in order to minimize the estimated test error. The test error can be estimated using a so-called k-fold cross validation (CV), which is performed in the following.\n",
    "\n",
    "For an RF, there are three hyperparameters that we want to tune in order to optimize the estimated test error: \n",
    "* depth of the trees in the forest: 10, 20, or 30\n",
    "* number of trees in the forest: 100, 300, or 500\n",
    "* minimum number of samples per leaf: 10, 15, or 20"
   ]
  },
  {
   "cell_type": "code",
   "execution_count": 54,
   "metadata": {},
   "outputs": [],
   "source": [
    "def rf_cross_validation(X_train, y_train, max_depth_range=[10, 20, 30], num_tree_range=[100, 300, 500], min_samples_leaf_range=[10, 15, 20]):\n",
    "    '''\n",
    "        performs a 5-fold CV for a Random Forest for given X_train and y_train\n",
    "\n",
    "        @param X_train: the training matrix\n",
    "        @param y_train: the associated response vector\n",
    "        @param max_depth_range: list containing the values that should be tested for max depth, default [10,20,30]\n",
    "        @param num_tree_range: list containing the values that should be tested for the number of trees, default [100,300,500]\n",
    "        @param min_samples_leaf_range: list containing the values that should be tested for the minimum number of samples per leaf, default [10,15,20]\n",
    "\n",
    "        @return: a forest with the best hyperparameter according to the estimated test MSE and trained on the whole training set\n",
    "    '''\n",
    "    best_score = -float('inf')\n",
    "    for depth in max_depth_range:\n",
    "        cv_results = cross_validate(RandomForestClassifier(random_state=42, max_depth=depth, n_jobs=-1,\n",
    "                                    class_weight='balanced'), X=X_train, y=y_train, scoring='balanced_accuracy', cv=5)\n",
    "        score = np.mean(cv_results['test_score'])\n",
    "        if score > best_score:\n",
    "            best_score = score\n",
    "            best_depth = depth\n",
    "\n",
    "    best_score = -float('inf')\n",
    "    for n_tree in num_tree_range:\n",
    "        cv_results = cross_validate(RandomForestClassifier(random_state=42, n_estimators=n_tree,\n",
    "                                    n_jobs=-1, class_weight='balanced'), X=X_train, y=y_train, scoring='balanced_accuracy', cv=5)\n",
    "        score = np.mean(cv_results['test_score'])\n",
    "        if score > best_score:\n",
    "            best_score = score\n",
    "            best_n_tree = n_tree\n",
    "\n",
    "    best_score = -float('inf')\n",
    "    for num_samples in min_samples_leaf_range:\n",
    "        cv_results = cross_validate(RandomForestClassifier(random_state=42, min_samples_leaf=num_samples,\n",
    "                                    n_jobs=-1, class_weight='balanced'), X=X_train, y=y_train, scoring='balanced_accuracy', cv=5)\n",
    "        score = np.mean(cv_results['test_score'])\n",
    "        if score > best_score:\n",
    "            best_score = score\n",
    "            best_min_samples = num_samples\n",
    "\n",
    "    rf = RandomForestClassifier(random_state=42, n_estimators=best_n_tree, max_depth=best_depth,\n",
    "                                min_samples_leaf=best_min_samples, n_jobs=-1, class_weight='balanced')\n",
    "    rf.fit(X_train, y_train)\n",
    "    return rf"
   ]
  },
  {
   "cell_type": "code",
   "execution_count": 55,
   "metadata": {},
   "outputs": [],
   "source": [
    "best_estimator = rf_cross_validation(X_train_morph_fp, y_train)"
   ]
  },
  {
   "cell_type": "markdown",
   "metadata": {},
   "source": [
    "Now, we print the hyperparameters of the forest, to see what performed best in the CV."
   ]
  },
  {
   "cell_type": "code",
   "execution_count": 56,
   "metadata": {},
   "outputs": [
    {
     "name": "stdout",
     "output_type": "stream",
     "text": [
      "We use a max depth of 20, 300 trees, and at least 10 samples per leaf.\n"
     ]
    }
   ],
   "source": [
    "param_dict = best_estimator.get_params()\n",
    "print(\n",
    "    f'We use a max depth of {param_dict[\"max_depth\"]}, {param_dict[\"n_estimators\"]} trees, and at least {param_dict[\"min_samples_leaf\"]} samples per leaf.')"
   ]
  },
  {
   "cell_type": "markdown",
   "metadata": {},
   "source": [
    "## Prediction on Test Set "
   ]
  },
  {
   "cell_type": "markdown",
   "metadata": {},
   "source": [
    "Now, we predict for the test data, i.e., so far unseen samples to calculate the real test error."
   ]
  },
  {
   "cell_type": "code",
   "execution_count": 57,
   "metadata": {},
   "outputs": [],
   "source": [
    "random_forest = best_estimator\n",
    "y_pred = random_forest.predict(X_test_morph_fp)"
   ]
  },
  {
   "cell_type": "markdown",
   "metadata": {},
   "source": [
    "And calculate the Matthews correlation coefficient (MCC) on our test set prediciton."
   ]
  },
  {
   "cell_type": "code",
   "execution_count": 58,
   "metadata": {},
   "outputs": [
    {
     "name": "stdout",
     "output_type": "stream",
     "text": [
      "The RF trained on morphological fingerprints reached an MCC of 0.23936958727293156\n"
     ]
    }
   ],
   "source": [
    "print(\n",
    "    f'The RF trained on morphological fingerprints reached an MCC of {matthews_corrcoef(y_pred=y_pred, y_true=y_test)}')"
   ]
  },
  {
   "cell_type": "markdown",
   "metadata": {},
   "source": [
    "## Using Molecular (Morgan) Fingerprints"
   ]
  },
  {
   "cell_type": "markdown",
   "metadata": {},
   "source": [
    "1. Features and variable to predict (response vector)"
   ]
  },
  {
   "cell_type": "code",
   "execution_count": 59,
   "metadata": {},
   "outputs": [],
   "source": [
    "\n",
    "X_test_morgan_fp = X_test['morganB_fps'].copy(deep=True).values\n",
    "X_train_morgan_fp = X_train['morganB_fps'].copy(deep=True).values"
   ]
  },
  {
   "cell_type": "code",
   "execution_count": 60,
   "metadata": {},
   "outputs": [],
   "source": [
    "def convert_list_features_to_numpy(x):\n",
    "    '''\n",
    "        converts the features that are stored in an array containing lists to an array of arrays such that shape works\n",
    "\n",
    "        @param x: array containing lists \n",
    "        @return x_new: array of arrays of ints\n",
    "    '''\n",
    "    new_x = []\n",
    "    for element in x:\n",
    "        new_x.append(np.array(element))\n",
    "    return np.array(new_x)"
   ]
  },
  {
   "cell_type": "code",
   "execution_count": 61,
   "metadata": {},
   "outputs": [],
   "source": [
    "X_test_morgan_fp = convert_list_features_to_numpy(X_test_morgan_fp)\n",
    "X_train_morgan_fp = convert_list_features_to_numpy(X_train_morgan_fp)"
   ]
  },
  {
   "cell_type": "code",
   "execution_count": 62,
   "metadata": {},
   "outputs": [],
   "source": [
    "best_estimator = rf_cross_validation(X_train_morgan_fp, y_train)"
   ]
  },
  {
   "cell_type": "code",
   "execution_count": 63,
   "metadata": {},
   "outputs": [
    {
     "name": "stdout",
     "output_type": "stream",
     "text": [
      "We use a max depth of 10, 500 trees, and at least 10 samples per leaf.\n"
     ]
    }
   ],
   "source": [
    "param_dict = best_estimator.get_params()\n",
    "print(\n",
    "    f'We use a max depth of {param_dict[\"max_depth\"]}, {param_dict[\"n_estimators\"]} trees, and at least {param_dict[\"min_samples_leaf\"]} samples per leaf.')"
   ]
  },
  {
   "cell_type": "markdown",
   "metadata": {},
   "source": [
    "### Prediction on Test Set"
   ]
  },
  {
   "cell_type": "code",
   "execution_count": 64,
   "metadata": {},
   "outputs": [],
   "source": [
    "y_pred = best_estimator.predict(X_test_morgan_fp)"
   ]
  },
  {
   "cell_type": "code",
   "execution_count": 65,
   "metadata": {},
   "outputs": [
    {
     "name": "stdout",
     "output_type": "stream",
     "text": [
      "The RF trained on Morgan fingerprints reached an MCC of 0.3907841737774495\n"
     ]
    }
   ],
   "source": [
    "print(\n",
    "    f'The RF trained on Morgan fingerprints reached an MCC of {matthews_corrcoef(y_pred=y_pred, y_true=y_test)}')"
   ]
  },
  {
   "cell_type": "markdown",
   "metadata": {},
   "source": [
    "## Using both Molecular (Morgan) and Morphological Fingerprints"
   ]
  },
  {
   "cell_type": "code",
   "execution_count": 66,
   "metadata": {},
   "outputs": [],
   "source": [
    "def append_concat_molecular_and_morphological_FP(x):\n",
    "    '''\n",
    "        creates a new column 'appended_profile' containing the joint morphological and Morgan fingerprints\n",
    "\n",
    "        @param x: pandas DataFrame with columns 'morphological_fingerprint' and 'morganB_fps'\n",
    "        @return x with new column 'appended_profile' \n",
    "    '''\n",
    "    x['appended_profile'] = X.apply(lambda x: np.concatenate(\n",
    "        [x['morphological_fingerprint'], x['morganB_fps']]), axis=1)\n",
    "    return x"
   ]
  },
  {
   "cell_type": "code",
   "execution_count": 67,
   "metadata": {},
   "outputs": [],
   "source": [
    "X_test_morph_morgan_fp = append_concat_molecular_and_morphological_FP(\n",
    "    X_test.copy(deep=True))\n",
    "X_train_morph_morgan_fp = append_concat_molecular_and_morphological_FP(\n",
    "    X_train.copy(deep=True))"
   ]
  },
  {
   "cell_type": "code",
   "execution_count": 68,
   "metadata": {},
   "outputs": [],
   "source": [
    "X_train_morph_morgan_fp = convert_list_features_to_numpy(\n",
    "    X_train_morph_morgan_fp['appended_profile'].values)\n",
    "X_test_morph_morgan_fp = convert_list_features_to_numpy(\n",
    "    X_test_morph_morgan_fp['appended_profile'].values)"
   ]
  },
  {
   "cell_type": "code",
   "execution_count": 69,
   "metadata": {},
   "outputs": [],
   "source": [
    "rf_combined_morgan_morph = rf_cross_validation(\n",
    "    X_train=X_train_morph_morgan_fp, y_train=y_train)"
   ]
  },
  {
   "cell_type": "code",
   "execution_count": 70,
   "metadata": {},
   "outputs": [],
   "source": [
    "y_pred_combi = rf_combined_morgan_morph.predict(X_test_morph_morgan_fp)"
   ]
  },
  {
   "cell_type": "code",
   "execution_count": 71,
   "metadata": {},
   "outputs": [
    {
     "name": "stdout",
     "output_type": "stream",
     "text": [
      "The RF trained on both morphological and Morgan fingerprints reached an MCC of 0.23561281812452103\n"
     ]
    }
   ],
   "source": [
    "print(\n",
    "    f'The RF trained on both morphological and Morgan fingerprints reached an MCC of {matthews_corrcoef(y_pred=y_pred_combi, y_true=y_test)}')"
   ]
  },
  {
   "cell_type": "markdown",
   "metadata": {},
   "source": [
    "## Conclusion"
   ]
  },
  {
   "cell_type": "markdown",
   "metadata": {},
   "source": [
    "Apparently, the model trained on Morgan fingerprints only reached the best (highest) MCC."
   ]
  },
  {
   "cell_type": "markdown",
   "metadata": {},
   "source": [
    "## Multiclass Classification"
   ]
  },
  {
   "cell_type": "code",
   "execution_count": 72,
   "metadata": {},
   "outputs": [],
   "source": [
    "y_train = X_train['three_class_response'].values\n",
    "y_test = X_test['three_class_response'].values\n",
    "\n",
    "cols_to_drop = ['morganB_fps', 'morphological_fingerprint', 'activity',\n",
    "                'CPD_SMILES', 'CPD_NAME', 'Metadata_broad_sample', 'STD_smile']\n",
    "X_test_morph_fp = X_test.drop(cols_to_drop, axis=1)\n",
    "X_train_morph_fp = X_train.drop(cols_to_drop, axis=1)"
   ]
  },
  {
   "cell_type": "code",
   "execution_count": 73,
   "metadata": {},
   "outputs": [],
   "source": [
    "best_estimator = rf_cross_validation(X_train_morph_fp, y_train)"
   ]
  },
  {
   "cell_type": "code",
   "execution_count": 74,
   "metadata": {},
   "outputs": [],
   "source": [
    "y_pred = best_estimator.predict(X_test_morph_fp)"
   ]
  },
  {
   "cell_type": "code",
   "execution_count": 76,
   "metadata": {},
   "outputs": [
    {
     "name": "stdout",
     "output_type": "stream",
     "text": [
      "The RF trained on both morphological and morphological fingerprints reached an MCC of 0.6938813594468924\n"
     ]
    }
   ],
   "source": [
    "print(\n",
    "    f'The RF trained on both morphological and morphological fingerprints reached an MCC of {matthews_corrcoef(y_pred=y_pred, y_true=y_test)}')"
   ]
  },
  {
   "cell_type": "markdown",
   "metadata": {},
   "source": [
    "To do LM (biologist proof):\n",
    "- DMSO as control (know that it is not toxic)+ 1 molecule known to be toxic chemoterapeutics \n",
    "- a concret exemple with 2 molecules "
   ]
  },
  {
   "cell_type": "code",
   "execution_count": null,
   "metadata": {},
   "outputs": [],
   "source": []
  },
  {
   "cell_type": "code",
   "execution_count": null,
   "metadata": {},
   "outputs": [],
   "source": []
  },
  {
   "cell_type": "code",
   "execution_count": null,
   "metadata": {},
   "outputs": [],
   "source": []
  },
  {
   "cell_type": "code",
   "execution_count": null,
   "metadata": {},
   "outputs": [],
   "source": []
  },
  {
   "cell_type": "code",
   "execution_count": null,
   "metadata": {},
   "outputs": [],
   "source": []
  },
  {
   "cell_type": "code",
   "execution_count": null,
   "metadata": {},
   "outputs": [],
   "source": []
  },
  {
   "cell_type": "code",
   "execution_count": null,
   "metadata": {},
   "outputs": [],
   "source": []
  },
  {
   "cell_type": "code",
   "execution_count": null,
   "metadata": {},
   "outputs": [],
   "source": []
  },
  {
   "cell_type": "code",
   "execution_count": null,
   "metadata": {},
   "outputs": [],
   "source": []
  }
 ],
 "metadata": {
  "kernelspec": {
   "display_name": "MORPHEUS",
   "language": "python",
   "name": "python3"
  },
  "language_info": {
   "codemirror_mode": {
    "name": "ipython",
    "version": 3
   },
   "file_extension": ".py",
   "mimetype": "text/x-python",
   "name": "python",
   "nbconvert_exporter": "python",
   "pygments_lexer": "ipython3",
   "version": "3.10.11"
  }
 },
 "nbformat": 4,
 "nbformat_minor": 2
}
