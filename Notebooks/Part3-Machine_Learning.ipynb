{
 "cells": [
  {
   "cell_type": "markdown",
   "metadata": {},
   "source": [
    "# Machine learning "
   ]
  },
  {
   "cell_type": "markdown",
   "metadata": {},
   "source": [
    "In this part, we use machine learning (ML) models, particularly random forests (RF), to predict the Estrogen receptor activity of our previously processed dataset."
   ]
  },
  {
   "cell_type": "markdown",
   "metadata": {},
   "source": [
    "## Import libraries "
   ]
  },
  {
   "cell_type": "code",
   "execution_count": 67,
   "metadata": {},
   "outputs": [],
   "source": [
    "import pandas as pd\n",
    "import numpy as np\n",
    "from sklearn.model_selection import train_test_split, cross_validate\n",
    "from sklearn.ensemble import RandomForestClassifier\n",
    "from sklearn.metrics import matthews_corrcoef\n",
    "from sklearn.metrics import  balanced_accuracy_score,classification_report"
   ]
  },
  {
   "cell_type": "markdown",
   "metadata": {},
   "source": [
    "## Reminder : The datasets "
   ]
  },
  {
   "cell_type": "markdown",
   "metadata": {},
   "source": [
    "\n",
    "As a reminder, we are using:\n",
    "\n",
    "- **Morphological fingerprint**: Morphological fingerprint features represent the effect of treatment measured on cells, in this case, U20S cells from osteosarcoma cancer.\n",
    "- **Structural fingerprint**: Structural fingerprints are computer-readable vectors obtained from the SMILES. They encapsulate atom environment, connectivity, and substructure information.\n",
    "\n",
    "We are now introducing:\n",
    "\n",
    "- **Activity annotation**: Activity and inactivity annotations are obtained from agonist and antagonist assays. A set of molecules has been tested on LUC BG1 breast cancer cells to estimate AC50 value; concentration for half-maximal activity derived from the Hill equation model. The Toxcast results (agonist/antagonist) are obtained in binary format: 1 (agonist or antagonist) / 0 (non-agonist, non-antagonist).\n",
    "\n"
   ]
  },
  {
   "cell_type": "markdown",
   "metadata": {},
   "source": [
    "### Load data: per-treatment profile fingerprints and annotation file"
   ]
  },
  {
   "cell_type": "markdown",
   "metadata": {},
   "source": [
    "1. Load the morphological data "
   ]
  },
  {
   "cell_type": "code",
   "execution_count": 68,
   "metadata": {},
   "outputs": [
    {
     "data": {
      "text/html": [
       "<div>\n",
       "<style scoped>\n",
       "    .dataframe tbody tr th:only-of-type {\n",
       "        vertical-align: middle;\n",
       "    }\n",
       "\n",
       "    .dataframe tbody tr th {\n",
       "        vertical-align: top;\n",
       "    }\n",
       "\n",
       "    .dataframe thead th {\n",
       "        text-align: right;\n",
       "    }\n",
       "</style>\n",
       "<table border=\"1\" class=\"dataframe\">\n",
       "  <thead>\n",
       "    <tr style=\"text-align: right;\">\n",
       "      <th></th>\n",
       "      <th>Metadata_broad_sample</th>\n",
       "      <th>CPD_NAME</th>\n",
       "      <th>CPD_SMILES</th>\n",
       "      <th>Cells_AreaShape_Area</th>\n",
       "      <th>Cells_AreaShape_Center_X</th>\n",
       "      <th>Cells_AreaShape_Center_Y</th>\n",
       "      <th>Cells_AreaShape_Compactness</th>\n",
       "      <th>Cells_AreaShape_FormFactor</th>\n",
       "      <th>Cells_AreaShape_Orientation</th>\n",
       "      <th>Cells_AreaShape_Perimeter</th>\n",
       "      <th>...</th>\n",
       "      <th>Nuclei_Texture_SumAverage_RNA_10_0</th>\n",
       "      <th>Nuclei_Texture_SumEntropy_AGP_10_0</th>\n",
       "      <th>Nuclei_Texture_SumEntropy_DNA_10_0</th>\n",
       "      <th>Nuclei_Texture_SumEntropy_RNA_10_0</th>\n",
       "      <th>STD_smile</th>\n",
       "      <th>morganB_fps</th>\n",
       "      <th>euclidean_distance_morganB_fps</th>\n",
       "      <th>tanimoto_distance_morganB_fps</th>\n",
       "      <th>morphological_fingerprint</th>\n",
       "      <th>euclidean_distance_morphological_fingerprint</th>\n",
       "    </tr>\n",
       "  </thead>\n",
       "  <tbody>\n",
       "    <tr>\n",
       "      <th>0</th>\n",
       "      <td>BRD-K08693008-001-01-9</td>\n",
       "      <td>BRD-K08693008</td>\n",
       "      <td>OC[C@@H]1O[C@@H](CCn2cc(nn2)C2CCCCC2)CC[C@@H]1...</td>\n",
       "      <td>0.048557</td>\n",
       "      <td>1.511709</td>\n",
       "      <td>0.671319</td>\n",
       "      <td>1.608394</td>\n",
       "      <td>-0.511233</td>\n",
       "      <td>0.565885</td>\n",
       "      <td>0.257311</td>\n",
       "      <td>...</td>\n",
       "      <td>0.586195</td>\n",
       "      <td>1.125321</td>\n",
       "      <td>1.009055</td>\n",
       "      <td>-1.088308</td>\n",
       "      <td>O=C(Nc1ccc(Cl)c(Cl)c1)N[C@H]1CC[C@H](CCn2cc(C3...</td>\n",
       "      <td>[0, 0, 1, 0, 1, 0, 0, 0, 0, 0, 0, 0, 0, 0, 0, ...</td>\n",
       "      <td>8.944272</td>\n",
       "      <td>0.144928</td>\n",
       "      <td>[0.04855710428510099, 1.5117089902809278, 0.67...</td>\n",
       "      <td>27.358629</td>\n",
       "    </tr>\n",
       "    <tr>\n",
       "      <th>1</th>\n",
       "      <td>BRD-K63982890-001-01-9</td>\n",
       "      <td>BRD-K63982890</td>\n",
       "      <td>OC[C@@H]1O[C@@H](CCn2cc(nn2)C2CCCCC2)CC[C@H]1N...</td>\n",
       "      <td>-0.452500</td>\n",
       "      <td>0.951801</td>\n",
       "      <td>0.099539</td>\n",
       "      <td>0.742502</td>\n",
       "      <td>-0.953422</td>\n",
       "      <td>-0.629503</td>\n",
       "      <td>0.145339</td>\n",
       "      <td>...</td>\n",
       "      <td>-0.662275</td>\n",
       "      <td>-0.373907</td>\n",
       "      <td>1.198932</td>\n",
       "      <td>-0.733997</td>\n",
       "      <td>O=C(Nc1ccc(Cl)c(Cl)c1)N[C@@H]1CC[C@H](CCn2cc(C...</td>\n",
       "      <td>[0, 0, 1, 0, 1, 0, 0, 0, 0, 0, 0, 0, 0, 0, 0, ...</td>\n",
       "      <td>8.944272</td>\n",
       "      <td>0.144928</td>\n",
       "      <td>[-0.4524995916327004, 0.951801364194127, 0.099...</td>\n",
       "      <td>27.667467</td>\n",
       "    </tr>\n",
       "  </tbody>\n",
       "</table>\n",
       "<p>2 rows × 299 columns</p>\n",
       "</div>"
      ],
      "text/plain": [
       "    Metadata_broad_sample       CPD_NAME  \\\n",
       "0  BRD-K08693008-001-01-9  BRD-K08693008   \n",
       "1  BRD-K63982890-001-01-9  BRD-K63982890   \n",
       "\n",
       "                                          CPD_SMILES  Cells_AreaShape_Area  \\\n",
       "0  OC[C@@H]1O[C@@H](CCn2cc(nn2)C2CCCCC2)CC[C@@H]1...              0.048557   \n",
       "1  OC[C@@H]1O[C@@H](CCn2cc(nn2)C2CCCCC2)CC[C@H]1N...             -0.452500   \n",
       "\n",
       "   Cells_AreaShape_Center_X  Cells_AreaShape_Center_Y  \\\n",
       "0                  1.511709                  0.671319   \n",
       "1                  0.951801                  0.099539   \n",
       "\n",
       "   Cells_AreaShape_Compactness  Cells_AreaShape_FormFactor  \\\n",
       "0                     1.608394                   -0.511233   \n",
       "1                     0.742502                   -0.953422   \n",
       "\n",
       "   Cells_AreaShape_Orientation  Cells_AreaShape_Perimeter  ...  \\\n",
       "0                     0.565885                   0.257311  ...   \n",
       "1                    -0.629503                   0.145339  ...   \n",
       "\n",
       "   Nuclei_Texture_SumAverage_RNA_10_0  Nuclei_Texture_SumEntropy_AGP_10_0  \\\n",
       "0                            0.586195                            1.125321   \n",
       "1                           -0.662275                           -0.373907   \n",
       "\n",
       "   Nuclei_Texture_SumEntropy_DNA_10_0  Nuclei_Texture_SumEntropy_RNA_10_0  \\\n",
       "0                            1.009055                           -1.088308   \n",
       "1                            1.198932                           -0.733997   \n",
       "\n",
       "                                           STD_smile  \\\n",
       "0  O=C(Nc1ccc(Cl)c(Cl)c1)N[C@H]1CC[C@H](CCn2cc(C3...   \n",
       "1  O=C(Nc1ccc(Cl)c(Cl)c1)N[C@@H]1CC[C@H](CCn2cc(C...   \n",
       "\n",
       "                                         morganB_fps  \\\n",
       "0  [0, 0, 1, 0, 1, 0, 0, 0, 0, 0, 0, 0, 0, 0, 0, ...   \n",
       "1  [0, 0, 1, 0, 1, 0, 0, 0, 0, 0, 0, 0, 0, 0, 0, ...   \n",
       "\n",
       "   euclidean_distance_morganB_fps  tanimoto_distance_morganB_fps  \\\n",
       "0                        8.944272                       0.144928   \n",
       "1                        8.944272                       0.144928   \n",
       "\n",
       "                           morphological_fingerprint  \\\n",
       "0  [0.04855710428510099, 1.5117089902809278, 0.67...   \n",
       "1  [-0.4524995916327004, 0.951801364194127, 0.099...   \n",
       "\n",
       "   euclidean_distance_morphological_fingerprint  \n",
       "0                                     27.358629  \n",
       "1                                     27.667467  \n",
       "\n",
       "[2 rows x 299 columns]"
      ]
     },
     "execution_count": 68,
     "metadata": {},
     "output_type": "execute_result"
    }
   ],
   "source": [
    "dataset = pd.read_pickle('../Data/Output/output_notebook_2.pkl')\n",
    "dataset.head(2)"
   ]
  },
  {
   "cell_type": "markdown",
   "metadata": {},
   "source": [
    "In [Part2-Similarity_Analysis](Part2-Similarity_Analysis.ipynb), we compute Euclidean distance, as well as Tanmoto distance that won't be needed, therefore we can drop them. "
   ]
  },
  {
   "cell_type": "code",
   "execution_count": 69,
   "metadata": {},
   "outputs": [],
   "source": [
    "dataset.drop(['CPD_SMILES','STD_smile','euclidean_distance_morganB_fps', 'euclidean_distance_morphological_fingerprint', 'tanimoto_distance_morganB_fps'], axis = 1, inplace=True)"
   ]
  },
  {
   "cell_type": "markdown",
   "metadata": {},
   "source": [
    "2. Endocrine activity (ER) dataset "
   ]
  },
  {
   "cell_type": "markdown",
   "metadata": {},
   "source": [
    "This section on the annotation data set we will : \n",
    "- Load data \n",
    "- Check the data for missing value \n",
    "- Define the ratio of active / inactive \n"
   ]
  },
  {
   "cell_type": "code",
   "execution_count": 70,
   "metadata": {},
   "outputs": [
    {
     "name": "stdout",
     "output_type": "stream",
     "text": [
      "There are 886 tested for ER alpha activity\n"
     ]
    },
    {
     "data": {
      "text/html": [
       "<div>\n",
       "<style scoped>\n",
       "    .dataframe tbody tr th:only-of-type {\n",
       "        vertical-align: middle;\n",
       "    }\n",
       "\n",
       "    .dataframe tbody tr th {\n",
       "        vertical-align: top;\n",
       "    }\n",
       "\n",
       "    .dataframe thead th {\n",
       "        text-align: right;\n",
       "    }\n",
       "</style>\n",
       "<table border=\"1\" class=\"dataframe\">\n",
       "  <thead>\n",
       "    <tr style=\"text-align: right;\">\n",
       "      <th></th>\n",
       "      <th>TOX21_ERa_LUC_BG1_Antagonist</th>\n",
       "      <th>TOX21_ERa_LUC_BG1_Agonist</th>\n",
       "      <th>CPD_NAME</th>\n",
       "    </tr>\n",
       "  </thead>\n",
       "  <tbody>\n",
       "    <tr>\n",
       "      <th>0</th>\n",
       "      <td>1.0</td>\n",
       "      <td>0.0</td>\n",
       "      <td>mibefradil</td>\n",
       "    </tr>\n",
       "    <tr>\n",
       "      <th>1</th>\n",
       "      <td>0.0</td>\n",
       "      <td>0.0</td>\n",
       "      <td>fenbufen</td>\n",
       "    </tr>\n",
       "  </tbody>\n",
       "</table>\n",
       "</div>"
      ],
      "text/plain": [
       "   TOX21_ERa_LUC_BG1_Antagonist  TOX21_ERa_LUC_BG1_Agonist    CPD_NAME\n",
       "0                           1.0                        0.0  mibefradil\n",
       "1                           0.0                        0.0    fenbufen"
      ]
     },
     "execution_count": 70,
     "metadata": {},
     "output_type": "execute_result"
    }
   ],
   "source": [
    "er_table = pd.read_csv('../Data/Annotations/ER_activity_luc_bg1.csv', sep = ',', index_col=0)\n",
    "print(f'There are {len(er_table[\"CPD_NAME\"])} tested for ER alpha activity')\n",
    "er_table.head(2)"
   ]
  },
  {
   "cell_type": "markdown",
   "metadata": {},
   "source": [
    "Check how many missing values, 'NaN', there is "
   ]
  },
  {
   "cell_type": "code",
   "execution_count": 71,
   "metadata": {},
   "outputs": [
    {
     "name": "stdout",
     "output_type": "stream",
     "text": [
      "There are NaN values in er_table : \n"
     ]
    },
    {
     "data": {
      "text/html": [
       "<div>\n",
       "<style scoped>\n",
       "    .dataframe tbody tr th:only-of-type {\n",
       "        vertical-align: middle;\n",
       "    }\n",
       "\n",
       "    .dataframe tbody tr th {\n",
       "        vertical-align: top;\n",
       "    }\n",
       "\n",
       "    .dataframe thead th {\n",
       "        text-align: right;\n",
       "    }\n",
       "</style>\n",
       "<table border=\"1\" class=\"dataframe\">\n",
       "  <thead>\n",
       "    <tr style=\"text-align: right;\">\n",
       "      <th></th>\n",
       "      <th>TOX21_ERa_LUC_BG1_Antagonist</th>\n",
       "      <th>TOX21_ERa_LUC_BG1_Agonist</th>\n",
       "      <th>CPD_NAME</th>\n",
       "    </tr>\n",
       "  </thead>\n",
       "  <tbody>\n",
       "    <tr>\n",
       "      <th>35</th>\n",
       "      <td>NaN</td>\n",
       "      <td>NaN</td>\n",
       "      <td>metoprolol tartrate</td>\n",
       "    </tr>\n",
       "    <tr>\n",
       "      <th>255</th>\n",
       "      <td>NaN</td>\n",
       "      <td>NaN</td>\n",
       "      <td>2,4-dichlorophenoxyacetic acid</td>\n",
       "    </tr>\n",
       "    <tr>\n",
       "      <th>281</th>\n",
       "      <td>NaN</td>\n",
       "      <td>NaN</td>\n",
       "      <td>ciprofloxacin</td>\n",
       "    </tr>\n",
       "    <tr>\n",
       "      <th>402</th>\n",
       "      <td>NaN</td>\n",
       "      <td>NaN</td>\n",
       "      <td>paraxanthine</td>\n",
       "    </tr>\n",
       "    <tr>\n",
       "      <th>632</th>\n",
       "      <td>NaN</td>\n",
       "      <td>NaN</td>\n",
       "      <td>tyrphostin AG-1478</td>\n",
       "    </tr>\n",
       "  </tbody>\n",
       "</table>\n",
       "</div>"
      ],
      "text/plain": [
       "     TOX21_ERa_LUC_BG1_Antagonist  TOX21_ERa_LUC_BG1_Agonist  \\\n",
       "35                            NaN                        NaN   \n",
       "255                           NaN                        NaN   \n",
       "281                           NaN                        NaN   \n",
       "402                           NaN                        NaN   \n",
       "632                           NaN                        NaN   \n",
       "\n",
       "                           CPD_NAME  \n",
       "35              metoprolol tartrate  \n",
       "255  2,4-dichlorophenoxyacetic acid  \n",
       "281                   ciprofloxacin  \n",
       "402                    paraxanthine  \n",
       "632              tyrphostin AG-1478  "
      ]
     },
     "execution_count": 71,
     "metadata": {},
     "output_type": "execute_result"
    }
   ],
   "source": [
    "\n",
    "if er_table.isna().sum().sum() == 0:\n",
    "    print(\"There are no NaN values in er_table.\")\n",
    "else:\n",
    "    print(\"There are NaN values in er_table : \")\n",
    "\n",
    "er_table[er_table.isna().any(axis=1)]\n"
   ]
  },
  {
   "cell_type": "code",
   "execution_count": 72,
   "metadata": {},
   "outputs": [],
   "source": [
    "# Drop the NaN value \n",
    "er_table.dropna(inplace=True)"
   ]
  },
  {
   "cell_type": "markdown",
   "metadata": {},
   "source": [
    "## Activity classes "
   ]
  },
  {
   "cell_type": "markdown",
   "metadata": {},
   "source": [
    "We want to make a distinction between the activity classes, i.e., agonism and antagonism, and only train a model for the antagonist class. Note that it is possible to train a model for a multiclass problem, where the model could distinguish between agonist, antagonist, and no activity. However, to keep the task simple, we will only build a model for a binary problem: antagonist vs. non-antagonist."
   ]
  },
  {
   "cell_type": "markdown",
   "metadata": {},
   "source": [
    "NB: We prepare the code to train binary classification for different activity types, so you can experiment with it. Notes than one can also perform   "
   ]
  },
  {
   "cell_type": "markdown",
   "metadata": {},
   "source": [
    "1. Agonism activity and Antagonism activity "
   ]
  },
  {
   "cell_type": "code",
   "execution_count": 73,
   "metadata": {},
   "outputs": [],
   "source": [
    "agonist = er_table[['TOX21_ERa_LUC_BG1_Agonist','CPD_NAME']].copy(deep = True)\n",
    "agonist['TOX21_ERa_LUC_BG1_Agonist'] = agonist['TOX21_ERa_LUC_BG1_Agonist'].astype('int')\n",
    "\n",
    "antagonist = er_table[['TOX21_ERa_LUC_BG1_Antagonist','CPD_NAME']].copy(deep = True)\n",
    "antagonist['TOX21_ERa_LUC_BG1_Antagonist'] = antagonist['TOX21_ERa_LUC_BG1_Antagonist'].astype('int')"
   ]
  },
  {
   "cell_type": "markdown",
   "metadata": {},
   "source": [
    "We  also want to mark any endocrine activity, i.e., independent of whether the compound is marked as antagonist or agonist, as 'active' (1) and only 'inactive' (0) for the compounds with no activity."
   ]
  },
  {
   "cell_type": "markdown",
   "metadata": {},
   "source": [
    "2. Estrogen receptor activity vs non-activity "
   ]
  },
  {
   "cell_type": "code",
   "execution_count": 74,
   "metadata": {},
   "outputs": [],
   "source": [
    "er_table['activity'] = er_table.apply(lambda x: min(int(x['TOX21_ERa_LUC_BG1_Antagonist']) + int(x['TOX21_ERa_LUC_BG1_Agonist']), 1), axis=1)"
   ]
  },
  {
   "cell_type": "code",
   "execution_count": 75,
   "metadata": {},
   "outputs": [],
   "source": [
    "activity_only_df = er_table.drop(columns=['TOX21_ERa_LUC_BG1_Antagonist', 'TOX21_ERa_LUC_BG1_Agonist'])"
   ]
  },
  {
   "cell_type": "markdown",
   "metadata": {},
   "source": [
    "## Merging the annotation and morphological fingerprint "
   ]
  },
  {
   "cell_type": "markdown",
   "metadata": {},
   "source": [
    "We will create three types of datasets:\n",
    "\n",
    "- **Activity dataset:** Classifies molecules as active or non-active based on both agonism and antagonism assays. Non-active molecules did not show activity for ERα.\n",
    "\n",
    "- **Agonism dataset:** Considers only the agonism assay results. Active molecules are agonists, and non-active molecules did not show agonist effects during the assay.\n",
    "\n",
    "- **Antagonism dataset:** Considers only the antagonism assay results. Active molecules are antagonists, and non-active molecules did not show antagonist effects during the assay."
   ]
  },
  {
   "cell_type": "markdown",
   "metadata": {},
   "source": [
    "1. Merging the annotation to the morphological data "
   ]
  },
  {
   "cell_type": "code",
   "execution_count": 76,
   "metadata": {},
   "outputs": [
    {
     "name": "stdout",
     "output_type": "stream",
     "text": [
      "23.0% of the compounds are active.\n"
     ]
    },
    {
     "data": {
      "text/html": [
       "<div>\n",
       "<style scoped>\n",
       "    .dataframe tbody tr th:only-of-type {\n",
       "        vertical-align: middle;\n",
       "    }\n",
       "\n",
       "    .dataframe tbody tr th {\n",
       "        vertical-align: top;\n",
       "    }\n",
       "\n",
       "    .dataframe thead th {\n",
       "        text-align: right;\n",
       "    }\n",
       "</style>\n",
       "<table border=\"1\" class=\"dataframe\">\n",
       "  <thead>\n",
       "    <tr style=\"text-align: right;\">\n",
       "      <th></th>\n",
       "      <th>CPD_NAME</th>\n",
       "      <th>activity</th>\n",
       "      <th>Metadata_broad_sample</th>\n",
       "      <th>Cells_AreaShape_Area</th>\n",
       "      <th>Cells_AreaShape_Center_X</th>\n",
       "      <th>Cells_AreaShape_Center_Y</th>\n",
       "      <th>Cells_AreaShape_Compactness</th>\n",
       "      <th>Cells_AreaShape_FormFactor</th>\n",
       "      <th>Cells_AreaShape_Orientation</th>\n",
       "      <th>Cells_AreaShape_Perimeter</th>\n",
       "      <th>...</th>\n",
       "      <th>Nuclei_Texture_InverseDifferenceMoment_ER_10_0</th>\n",
       "      <th>Nuclei_Texture_InverseDifferenceMoment_RNA_3_0</th>\n",
       "      <th>Nuclei_Texture_SumAverage_AGP_10_0</th>\n",
       "      <th>Nuclei_Texture_SumAverage_DNA_10_0</th>\n",
       "      <th>Nuclei_Texture_SumAverage_RNA_10_0</th>\n",
       "      <th>Nuclei_Texture_SumEntropy_AGP_10_0</th>\n",
       "      <th>Nuclei_Texture_SumEntropy_DNA_10_0</th>\n",
       "      <th>Nuclei_Texture_SumEntropy_RNA_10_0</th>\n",
       "      <th>morganB_fps</th>\n",
       "      <th>morphological_fingerprint</th>\n",
       "    </tr>\n",
       "  </thead>\n",
       "  <tbody>\n",
       "    <tr>\n",
       "      <th>0</th>\n",
       "      <td>mibefradil</td>\n",
       "      <td>1</td>\n",
       "      <td>BRD-K09549677-311-05-6</td>\n",
       "      <td>-1.522142</td>\n",
       "      <td>-0.167552</td>\n",
       "      <td>-0.057663</td>\n",
       "      <td>0.922271</td>\n",
       "      <td>1.969991</td>\n",
       "      <td>-0.140241</td>\n",
       "      <td>-2.420645</td>\n",
       "      <td>...</td>\n",
       "      <td>0.797366</td>\n",
       "      <td>0.126704</td>\n",
       "      <td>-1.622976</td>\n",
       "      <td>0.448551</td>\n",
       "      <td>-0.025718</td>\n",
       "      <td>-1.723061</td>\n",
       "      <td>-0.213090</td>\n",
       "      <td>-0.638330</td>\n",
       "      <td>[0, 1, 0, 1, 0, 0, 0, 0, 0, 0, 0, 0, 0, 0, 0, ...</td>\n",
       "      <td>[-1.5221420268136925, -0.167552301981941, -0.0...</td>\n",
       "    </tr>\n",
       "    <tr>\n",
       "      <th>1</th>\n",
       "      <td>mibefradil</td>\n",
       "      <td>1</td>\n",
       "      <td>BRD-K09549677-300-01-8</td>\n",
       "      <td>0.307927</td>\n",
       "      <td>0.775698</td>\n",
       "      <td>0.480218</td>\n",
       "      <td>2.664921</td>\n",
       "      <td>1.421630</td>\n",
       "      <td>0.032674</td>\n",
       "      <td>-0.583083</td>\n",
       "      <td>...</td>\n",
       "      <td>-1.452899</td>\n",
       "      <td>-1.101514</td>\n",
       "      <td>-0.628421</td>\n",
       "      <td>0.754518</td>\n",
       "      <td>-0.195795</td>\n",
       "      <td>-2.022078</td>\n",
       "      <td>0.089506</td>\n",
       "      <td>-1.074223</td>\n",
       "      <td>[0, 1, 0, 1, 0, 0, 0, 0, 0, 0, 0, 0, 0, 0, 0, ...</td>\n",
       "      <td>[0.30792735741491867, 0.7756983423999834, 0.48...</td>\n",
       "    </tr>\n",
       "  </tbody>\n",
       "</table>\n",
       "<p>2 rows × 295 columns</p>\n",
       "</div>"
      ],
      "text/plain": [
       "     CPD_NAME  activity   Metadata_broad_sample  Cells_AreaShape_Area  \\\n",
       "0  mibefradil         1  BRD-K09549677-311-05-6             -1.522142   \n",
       "1  mibefradil         1  BRD-K09549677-300-01-8              0.307927   \n",
       "\n",
       "   Cells_AreaShape_Center_X  Cells_AreaShape_Center_Y  \\\n",
       "0                 -0.167552                 -0.057663   \n",
       "1                  0.775698                  0.480218   \n",
       "\n",
       "   Cells_AreaShape_Compactness  Cells_AreaShape_FormFactor  \\\n",
       "0                     0.922271                    1.969991   \n",
       "1                     2.664921                    1.421630   \n",
       "\n",
       "   Cells_AreaShape_Orientation  Cells_AreaShape_Perimeter  ...  \\\n",
       "0                    -0.140241                  -2.420645  ...   \n",
       "1                     0.032674                  -0.583083  ...   \n",
       "\n",
       "   Nuclei_Texture_InverseDifferenceMoment_ER_10_0  \\\n",
       "0                                        0.797366   \n",
       "1                                       -1.452899   \n",
       "\n",
       "   Nuclei_Texture_InverseDifferenceMoment_RNA_3_0  \\\n",
       "0                                        0.126704   \n",
       "1                                       -1.101514   \n",
       "\n",
       "   Nuclei_Texture_SumAverage_AGP_10_0  Nuclei_Texture_SumAverage_DNA_10_0  \\\n",
       "0                           -1.622976                            0.448551   \n",
       "1                           -0.628421                            0.754518   \n",
       "\n",
       "   Nuclei_Texture_SumAverage_RNA_10_0  Nuclei_Texture_SumEntropy_AGP_10_0  \\\n",
       "0                           -0.025718                           -1.723061   \n",
       "1                           -0.195795                           -2.022078   \n",
       "\n",
       "   Nuclei_Texture_SumEntropy_DNA_10_0  Nuclei_Texture_SumEntropy_RNA_10_0  \\\n",
       "0                           -0.213090                           -0.638330   \n",
       "1                            0.089506                           -1.074223   \n",
       "\n",
       "                                         morganB_fps  \\\n",
       "0  [0, 1, 0, 1, 0, 0, 0, 0, 0, 0, 0, 0, 0, 0, 0, ...   \n",
       "1  [0, 1, 0, 1, 0, 0, 0, 0, 0, 0, 0, 0, 0, 0, 0, ...   \n",
       "\n",
       "                           morphological_fingerprint  \n",
       "0  [-1.5221420268136925, -0.167552301981941, -0.0...  \n",
       "1  [0.30792735741491867, 0.7756983423999834, 0.48...  \n",
       "\n",
       "[2 rows x 295 columns]"
      ]
     },
     "execution_count": 76,
     "metadata": {},
     "output_type": "execute_result"
    }
   ],
   "source": [
    "activity_df = activity_only_df.join(dataset.set_index('CPD_NAME'), on='CPD_NAME')\n",
    "activity_df.reset_index(inplace=True, drop=True)\n",
    "activity_df.dropna(inplace=True)\n",
    "\n",
    "duplicated_activity_df = activity_df.duplicated(subset='Metadata_broad_sample', keep='first')\n",
    "unique_activity_df = activity_df[~duplicated_activity_df]\n",
    "print(f'{round((unique_activity_df[\"activity\"].sum()/len(unique_activity_df))*100, 1)}% of the compounds are active.') \n",
    "unique_activity_df.head(2)\n"
   ]
  },
  {
   "cell_type": "code",
   "execution_count": 77,
   "metadata": {},
   "outputs": [
    {
     "name": "stdout",
     "output_type": "stream",
     "text": [
      "14.3% of the compounds are agonist.\n"
     ]
    },
    {
     "data": {
      "text/html": [
       "<div>\n",
       "<style scoped>\n",
       "    .dataframe tbody tr th:only-of-type {\n",
       "        vertical-align: middle;\n",
       "    }\n",
       "\n",
       "    .dataframe tbody tr th {\n",
       "        vertical-align: top;\n",
       "    }\n",
       "\n",
       "    .dataframe thead th {\n",
       "        text-align: right;\n",
       "    }\n",
       "</style>\n",
       "<table border=\"1\" class=\"dataframe\">\n",
       "  <thead>\n",
       "    <tr style=\"text-align: right;\">\n",
       "      <th></th>\n",
       "      <th>activity</th>\n",
       "      <th>CPD_NAME</th>\n",
       "      <th>Metadata_broad_sample</th>\n",
       "      <th>Cells_AreaShape_Area</th>\n",
       "      <th>Cells_AreaShape_Center_X</th>\n",
       "      <th>Cells_AreaShape_Center_Y</th>\n",
       "      <th>Cells_AreaShape_Compactness</th>\n",
       "      <th>Cells_AreaShape_FormFactor</th>\n",
       "      <th>Cells_AreaShape_Orientation</th>\n",
       "      <th>Cells_AreaShape_Perimeter</th>\n",
       "      <th>...</th>\n",
       "      <th>Nuclei_Texture_InverseDifferenceMoment_ER_10_0</th>\n",
       "      <th>Nuclei_Texture_InverseDifferenceMoment_RNA_3_0</th>\n",
       "      <th>Nuclei_Texture_SumAverage_AGP_10_0</th>\n",
       "      <th>Nuclei_Texture_SumAverage_DNA_10_0</th>\n",
       "      <th>Nuclei_Texture_SumAverage_RNA_10_0</th>\n",
       "      <th>Nuclei_Texture_SumEntropy_AGP_10_0</th>\n",
       "      <th>Nuclei_Texture_SumEntropy_DNA_10_0</th>\n",
       "      <th>Nuclei_Texture_SumEntropy_RNA_10_0</th>\n",
       "      <th>morganB_fps</th>\n",
       "      <th>morphological_fingerprint</th>\n",
       "    </tr>\n",
       "  </thead>\n",
       "  <tbody>\n",
       "    <tr>\n",
       "      <th>0</th>\n",
       "      <td>0</td>\n",
       "      <td>mibefradil</td>\n",
       "      <td>BRD-K09549677-311-05-6</td>\n",
       "      <td>-1.522142</td>\n",
       "      <td>-0.167552</td>\n",
       "      <td>-0.057663</td>\n",
       "      <td>0.922271</td>\n",
       "      <td>1.969991</td>\n",
       "      <td>-0.140241</td>\n",
       "      <td>-2.420645</td>\n",
       "      <td>...</td>\n",
       "      <td>0.797366</td>\n",
       "      <td>0.126704</td>\n",
       "      <td>-1.622976</td>\n",
       "      <td>0.448551</td>\n",
       "      <td>-0.025718</td>\n",
       "      <td>-1.723061</td>\n",
       "      <td>-0.213090</td>\n",
       "      <td>-0.638330</td>\n",
       "      <td>[0, 1, 0, 1, 0, 0, 0, 0, 0, 0, 0, 0, 0, 0, 0, ...</td>\n",
       "      <td>[-1.5221420268136925, -0.167552301981941, -0.0...</td>\n",
       "    </tr>\n",
       "    <tr>\n",
       "      <th>1</th>\n",
       "      <td>0</td>\n",
       "      <td>mibefradil</td>\n",
       "      <td>BRD-K09549677-300-01-8</td>\n",
       "      <td>0.307927</td>\n",
       "      <td>0.775698</td>\n",
       "      <td>0.480218</td>\n",
       "      <td>2.664921</td>\n",
       "      <td>1.421630</td>\n",
       "      <td>0.032674</td>\n",
       "      <td>-0.583083</td>\n",
       "      <td>...</td>\n",
       "      <td>-1.452899</td>\n",
       "      <td>-1.101514</td>\n",
       "      <td>-0.628421</td>\n",
       "      <td>0.754518</td>\n",
       "      <td>-0.195795</td>\n",
       "      <td>-2.022078</td>\n",
       "      <td>0.089506</td>\n",
       "      <td>-1.074223</td>\n",
       "      <td>[0, 1, 0, 1, 0, 0, 0, 0, 0, 0, 0, 0, 0, 0, 0, ...</td>\n",
       "      <td>[0.30792735741491867, 0.7756983423999834, 0.48...</td>\n",
       "    </tr>\n",
       "  </tbody>\n",
       "</table>\n",
       "<p>2 rows × 295 columns</p>\n",
       "</div>"
      ],
      "text/plain": [
       "   activity    CPD_NAME   Metadata_broad_sample  Cells_AreaShape_Area  \\\n",
       "0         0  mibefradil  BRD-K09549677-311-05-6             -1.522142   \n",
       "1         0  mibefradil  BRD-K09549677-300-01-8              0.307927   \n",
       "\n",
       "   Cells_AreaShape_Center_X  Cells_AreaShape_Center_Y  \\\n",
       "0                 -0.167552                 -0.057663   \n",
       "1                  0.775698                  0.480218   \n",
       "\n",
       "   Cells_AreaShape_Compactness  Cells_AreaShape_FormFactor  \\\n",
       "0                     0.922271                    1.969991   \n",
       "1                     2.664921                    1.421630   \n",
       "\n",
       "   Cells_AreaShape_Orientation  Cells_AreaShape_Perimeter  ...  \\\n",
       "0                    -0.140241                  -2.420645  ...   \n",
       "1                     0.032674                  -0.583083  ...   \n",
       "\n",
       "   Nuclei_Texture_InverseDifferenceMoment_ER_10_0  \\\n",
       "0                                        0.797366   \n",
       "1                                       -1.452899   \n",
       "\n",
       "   Nuclei_Texture_InverseDifferenceMoment_RNA_3_0  \\\n",
       "0                                        0.126704   \n",
       "1                                       -1.101514   \n",
       "\n",
       "   Nuclei_Texture_SumAverage_AGP_10_0  Nuclei_Texture_SumAverage_DNA_10_0  \\\n",
       "0                           -1.622976                            0.448551   \n",
       "1                           -0.628421                            0.754518   \n",
       "\n",
       "   Nuclei_Texture_SumAverage_RNA_10_0  Nuclei_Texture_SumEntropy_AGP_10_0  \\\n",
       "0                           -0.025718                           -1.723061   \n",
       "1                           -0.195795                           -2.022078   \n",
       "\n",
       "   Nuclei_Texture_SumEntropy_DNA_10_0  Nuclei_Texture_SumEntropy_RNA_10_0  \\\n",
       "0                           -0.213090                           -0.638330   \n",
       "1                            0.089506                           -1.074223   \n",
       "\n",
       "                                         morganB_fps  \\\n",
       "0  [0, 1, 0, 1, 0, 0, 0, 0, 0, 0, 0, 0, 0, 0, 0, ...   \n",
       "1  [0, 1, 0, 1, 0, 0, 0, 0, 0, 0, 0, 0, 0, 0, 0, ...   \n",
       "\n",
       "                           morphological_fingerprint  \n",
       "0  [-1.5221420268136925, -0.167552301981941, -0.0...  \n",
       "1  [0.30792735741491867, 0.7756983423999834, 0.48...  \n",
       "\n",
       "[2 rows x 295 columns]"
      ]
     },
     "execution_count": 77,
     "metadata": {},
     "output_type": "execute_result"
    }
   ],
   "source": [
    "agonist_df = agonist.join(dataset.set_index('CPD_NAME'), on='CPD_NAME')\n",
    "agonist_df.rename(columns={'TOX21_ERa_LUC_BG1_Agonist': 'activity'},inplace=True)\n",
    "agonist_df.reset_index(inplace=True, drop=True)\n",
    "agonist_df.dropna(inplace=True)\n",
    "duplicated_agonist_df = agonist_df.duplicated(subset='Metadata_broad_sample', keep='first')\n",
    "unique_agonist_df = agonist_df[~duplicated_agonist_df]\n",
    "print(f'{round((unique_agonist_df[\"activity\"].sum()/len(unique_agonist_df))*100, 1)}% of the compounds are agonist.') \n",
    "unique_agonist_df.head(2)"
   ]
  },
  {
   "cell_type": "code",
   "execution_count": 78,
   "metadata": {},
   "outputs": [
    {
     "name": "stdout",
     "output_type": "stream",
     "text": [
      "10.4% of the compounds are antagonist.\n"
     ]
    },
    {
     "data": {
      "text/html": [
       "<div>\n",
       "<style scoped>\n",
       "    .dataframe tbody tr th:only-of-type {\n",
       "        vertical-align: middle;\n",
       "    }\n",
       "\n",
       "    .dataframe tbody tr th {\n",
       "        vertical-align: top;\n",
       "    }\n",
       "\n",
       "    .dataframe thead th {\n",
       "        text-align: right;\n",
       "    }\n",
       "</style>\n",
       "<table border=\"1\" class=\"dataframe\">\n",
       "  <thead>\n",
       "    <tr style=\"text-align: right;\">\n",
       "      <th></th>\n",
       "      <th>activity</th>\n",
       "      <th>CPD_NAME</th>\n",
       "      <th>Metadata_broad_sample</th>\n",
       "      <th>Cells_AreaShape_Area</th>\n",
       "      <th>Cells_AreaShape_Center_X</th>\n",
       "      <th>Cells_AreaShape_Center_Y</th>\n",
       "      <th>Cells_AreaShape_Compactness</th>\n",
       "      <th>Cells_AreaShape_FormFactor</th>\n",
       "      <th>Cells_AreaShape_Orientation</th>\n",
       "      <th>Cells_AreaShape_Perimeter</th>\n",
       "      <th>...</th>\n",
       "      <th>Nuclei_Texture_InverseDifferenceMoment_ER_10_0</th>\n",
       "      <th>Nuclei_Texture_InverseDifferenceMoment_RNA_3_0</th>\n",
       "      <th>Nuclei_Texture_SumAverage_AGP_10_0</th>\n",
       "      <th>Nuclei_Texture_SumAverage_DNA_10_0</th>\n",
       "      <th>Nuclei_Texture_SumAverage_RNA_10_0</th>\n",
       "      <th>Nuclei_Texture_SumEntropy_AGP_10_0</th>\n",
       "      <th>Nuclei_Texture_SumEntropy_DNA_10_0</th>\n",
       "      <th>Nuclei_Texture_SumEntropy_RNA_10_0</th>\n",
       "      <th>morganB_fps</th>\n",
       "      <th>morphological_fingerprint</th>\n",
       "    </tr>\n",
       "  </thead>\n",
       "  <tbody>\n",
       "    <tr>\n",
       "      <th>0</th>\n",
       "      <td>1</td>\n",
       "      <td>mibefradil</td>\n",
       "      <td>BRD-K09549677-311-05-6</td>\n",
       "      <td>-1.522142</td>\n",
       "      <td>-0.167552</td>\n",
       "      <td>-0.057663</td>\n",
       "      <td>0.922271</td>\n",
       "      <td>1.969991</td>\n",
       "      <td>-0.140241</td>\n",
       "      <td>-2.420645</td>\n",
       "      <td>...</td>\n",
       "      <td>0.797366</td>\n",
       "      <td>0.126704</td>\n",
       "      <td>-1.622976</td>\n",
       "      <td>0.448551</td>\n",
       "      <td>-0.025718</td>\n",
       "      <td>-1.723061</td>\n",
       "      <td>-0.213090</td>\n",
       "      <td>-0.638330</td>\n",
       "      <td>[0, 1, 0, 1, 0, 0, 0, 0, 0, 0, 0, 0, 0, 0, 0, ...</td>\n",
       "      <td>[-1.5221420268136925, -0.167552301981941, -0.0...</td>\n",
       "    </tr>\n",
       "    <tr>\n",
       "      <th>1</th>\n",
       "      <td>1</td>\n",
       "      <td>mibefradil</td>\n",
       "      <td>BRD-K09549677-300-01-8</td>\n",
       "      <td>0.307927</td>\n",
       "      <td>0.775698</td>\n",
       "      <td>0.480218</td>\n",
       "      <td>2.664921</td>\n",
       "      <td>1.421630</td>\n",
       "      <td>0.032674</td>\n",
       "      <td>-0.583083</td>\n",
       "      <td>...</td>\n",
       "      <td>-1.452899</td>\n",
       "      <td>-1.101514</td>\n",
       "      <td>-0.628421</td>\n",
       "      <td>0.754518</td>\n",
       "      <td>-0.195795</td>\n",
       "      <td>-2.022078</td>\n",
       "      <td>0.089506</td>\n",
       "      <td>-1.074223</td>\n",
       "      <td>[0, 1, 0, 1, 0, 0, 0, 0, 0, 0, 0, 0, 0, 0, 0, ...</td>\n",
       "      <td>[0.30792735741491867, 0.7756983423999834, 0.48...</td>\n",
       "    </tr>\n",
       "  </tbody>\n",
       "</table>\n",
       "<p>2 rows × 295 columns</p>\n",
       "</div>"
      ],
      "text/plain": [
       "   activity    CPD_NAME   Metadata_broad_sample  Cells_AreaShape_Area  \\\n",
       "0         1  mibefradil  BRD-K09549677-311-05-6             -1.522142   \n",
       "1         1  mibefradil  BRD-K09549677-300-01-8              0.307927   \n",
       "\n",
       "   Cells_AreaShape_Center_X  Cells_AreaShape_Center_Y  \\\n",
       "0                 -0.167552                 -0.057663   \n",
       "1                  0.775698                  0.480218   \n",
       "\n",
       "   Cells_AreaShape_Compactness  Cells_AreaShape_FormFactor  \\\n",
       "0                     0.922271                    1.969991   \n",
       "1                     2.664921                    1.421630   \n",
       "\n",
       "   Cells_AreaShape_Orientation  Cells_AreaShape_Perimeter  ...  \\\n",
       "0                    -0.140241                  -2.420645  ...   \n",
       "1                     0.032674                  -0.583083  ...   \n",
       "\n",
       "   Nuclei_Texture_InverseDifferenceMoment_ER_10_0  \\\n",
       "0                                        0.797366   \n",
       "1                                       -1.452899   \n",
       "\n",
       "   Nuclei_Texture_InverseDifferenceMoment_RNA_3_0  \\\n",
       "0                                        0.126704   \n",
       "1                                       -1.101514   \n",
       "\n",
       "   Nuclei_Texture_SumAverage_AGP_10_0  Nuclei_Texture_SumAverage_DNA_10_0  \\\n",
       "0                           -1.622976                            0.448551   \n",
       "1                           -0.628421                            0.754518   \n",
       "\n",
       "   Nuclei_Texture_SumAverage_RNA_10_0  Nuclei_Texture_SumEntropy_AGP_10_0  \\\n",
       "0                           -0.025718                           -1.723061   \n",
       "1                           -0.195795                           -2.022078   \n",
       "\n",
       "   Nuclei_Texture_SumEntropy_DNA_10_0  Nuclei_Texture_SumEntropy_RNA_10_0  \\\n",
       "0                           -0.213090                           -0.638330   \n",
       "1                            0.089506                           -1.074223   \n",
       "\n",
       "                                         morganB_fps  \\\n",
       "0  [0, 1, 0, 1, 0, 0, 0, 0, 0, 0, 0, 0, 0, 0, 0, ...   \n",
       "1  [0, 1, 0, 1, 0, 0, 0, 0, 0, 0, 0, 0, 0, 0, 0, ...   \n",
       "\n",
       "                           morphological_fingerprint  \n",
       "0  [-1.5221420268136925, -0.167552301981941, -0.0...  \n",
       "1  [0.30792735741491867, 0.7756983423999834, 0.48...  \n",
       "\n",
       "[2 rows x 295 columns]"
      ]
     },
     "execution_count": 78,
     "metadata": {},
     "output_type": "execute_result"
    }
   ],
   "source": [
    "antagonist_df = antagonist.join(dataset.set_index('CPD_NAME'), on='CPD_NAME')\n",
    "antagonist_df.rename(columns={'TOX21_ERa_LUC_BG1_Antagonist': 'activity'},inplace=True)\n",
    "antagonist_df.reset_index(inplace=True, drop=True)\n",
    "antagonist_df.dropna(inplace=True)\n",
    "duplicated_antagonist_df = antagonist_df.duplicated(subset='Metadata_broad_sample', keep='first')\n",
    "unique_antagonist_df = antagonist_df[~duplicated_antagonist_df]\n",
    "print(f'{round((unique_antagonist_df[\"activity\"].sum()/len(unique_antagonist_df))*100, 1)}% of the compounds are antagonist.') \n",
    "unique_antagonist_df.head(2)"
   ]
  },
  {
   "cell_type": "markdown",
   "metadata": {},
   "source": [
    "As mentioned before, treatments have been tested under different stereoisomers their Broad ID defers, although the compound names are identic. Therefore, we will be careful that different Broad IDs are only contained in one of the Sets to avoid data leakage."
   ]
  },
  {
   "cell_type": "markdown",
   "metadata": {},
   "source": [
    "## Spliting Data in Training and Test Set"
   ]
  },
  {
   "cell_type": "markdown",
   "metadata": {},
   "source": [
    "For ML, we always need training and a test set that is pairwise disjoint. <br>\n",
    "To this end, we split the data into two parts, where the training set will contain 80% of the samples and the test set the remaining 20%. The training set will be utilized for training, evaluating, and optimizing the model, while the test set will be used for making predictions<br>\n",
    "\n",
    "Moreover, we need a response vector y, i.e., the column with the activity information and a feature matrix X, i.e., a matrix with the morphological or molecular fingerprints or a combination thereof, for each compound. <br>\n",
    "\n",
    "To make sure we do not have data leakage, we ensure that all instances of compounds, that appear several times in the dataset, are put in the same set. Moreover, we want to ensure that we have enough instances of the active class in both sets. Therefore, we perform a stratified split that ensures a constant ratio of active and inactive compounds in all datasets."
   ]
  },
  {
   "cell_type": "markdown",
   "metadata": {},
   "source": [
    "![Cross-validation and hyperparameter Tuning](../Images/CV.png)\n"
   ]
  },
  {
   "cell_type": "markdown",
   "metadata": {},
   "source": [
    "1. Features and variables to predict "
   ]
  },
  {
   "cell_type": "code",
   "execution_count": 79,
   "metadata": {},
   "outputs": [],
   "source": [
    "def stratified_split(data):\n",
    "    X_train, X_test, y_train_activities, y_test_activities= train_test_split(\n",
    "        data.iloc[:,3:], \n",
    "        data['activity'].values.astype('int'), \n",
    "        random_state=42, \n",
    "        test_size=0.2, \n",
    "        shuffle=True,\n",
    "        stratify=data['activity'].values.astype('int')) #stratify split \n",
    "    return X_train, X_test, y_train_activities, y_test_activities"
   ]
  },
  {
   "cell_type": "code",
   "execution_count": 80,
   "metadata": {},
   "outputs": [],
   "source": [
    "X_train, X_test, y_train_activities, y_test_activities = stratified_split(unique_antagonist_df) #unique_antagonist_df , unique_agonist_df"
   ]
  },
  {
   "cell_type": "markdown",
   "metadata": {},
   "source": [
    "A. For morphological "
   ]
  },
  {
   "cell_type": "code",
   "execution_count": 81,
   "metadata": {},
   "outputs": [],
   "source": [
    "X_train_morpho = X_train.drop(['morganB_fps','morphological_fingerprint'], axis=1).values\n",
    "X_test_morpho = X_test.drop(['morganB_fps','morphological_fingerprint'], axis=1).values"
   ]
  },
  {
   "cell_type": "markdown",
   "metadata": {},
   "source": [
    "B. For structural "
   ]
  },
  {
   "cell_type": "code",
   "execution_count": 82,
   "metadata": {},
   "outputs": [],
   "source": [
    "def convert_list_features_to_numpy(x):\n",
    "    '''\n",
    "        converts the features that are stored in an array containing lists to an array of arrays such that shape works\n",
    "\n",
    "        @param x: array containing lists \n",
    "        @return x_new: array of arrays of ints\n",
    "    '''\n",
    "    new_x = []\n",
    "    for element in x:\n",
    "        new_x.append(np.array(element))\n",
    "    return np.array(new_x)"
   ]
  },
  {
   "cell_type": "code",
   "execution_count": 83,
   "metadata": {},
   "outputs": [],
   "source": [
    "X_test_morgan_fp = X_test['morganB_fps'].copy(deep=True).values\n",
    "X_train_morgan_fp = X_train['morganB_fps'].copy(deep=True).values\n",
    "#convert as an array \n",
    "X_test_morgan_fp = convert_list_features_to_numpy(X_test_morgan_fp)\n",
    "X_train_morgan_fp = convert_list_features_to_numpy(X_train_morgan_fp)"
   ]
  },
  {
   "cell_type": "markdown",
   "metadata": {},
   "source": [
    "C. For combined features"
   ]
  },
  {
   "cell_type": "code",
   "execution_count": 84,
   "metadata": {},
   "outputs": [],
   "source": [
    "def append_concat_molecular_and_morphological_FP(x):\n",
    "    '''\n",
    "        creates a new column 'appended_profile' containing the joint morphological and Morgan fingerprints\n",
    "\n",
    "        @param x: pandas DataFrame with columns 'morphological_fingerprint' and 'morganB_fps'\n",
    "        @return x with new column 'appended_profile' \n",
    "    '''\n",
    "    x['appended_profile'] = x.apply(lambda x: np.concatenate(\n",
    "        [x['morphological_fingerprint'], x['morganB_fps']]), axis=1)\n",
    "    return x"
   ]
  },
  {
   "cell_type": "code",
   "execution_count": 85,
   "metadata": {},
   "outputs": [],
   "source": [
    "X_test_morph_morgan_fp = append_concat_molecular_and_morphological_FP(X_test.copy(deep=True))\n",
    "X_train_morph_morgan_fp = append_concat_molecular_and_morphological_FP(X_train.copy(deep=True))"
   ]
  },
  {
   "cell_type": "code",
   "execution_count": 86,
   "metadata": {},
   "outputs": [],
   "source": [
    "X_train_morph_morgan_fp = convert_list_features_to_numpy(X_train_morph_morgan_fp['appended_profile'].values)\n",
    "X_test_morph_morgan_fp = convert_list_features_to_numpy(X_test_morph_morgan_fp['appended_profile'].values)"
   ]
  },
  {
   "cell_type": "markdown",
   "metadata": {},
   "source": [
    "## Binary Classification"
   ]
  },
  {
   "cell_type": "markdown",
   "metadata": {},
   "source": [
    "### Cross-validation and Hyperparemeter Tuning "
   ]
  },
  {
   "cell_type": "markdown",
   "metadata": {},
   "source": [
    "In ML, we want to minimize a loss function, e.g., the mean-squared error (MSE). In particular, we want to fit the training data to minimize the loss on the training samples, while still having a small error on the unseen test samples. Moreover, hyperparameters define the hypothesis space of the model, which can be tuned to minimize the estimated test error. The test error can be estimated using a so-called k-fold cross-validation (CV), which is performed in the following.\n",
    "\n",
    "For an RF, there are three hyperparameters that we want to tune to optimize the estimated test error: \n",
    "* depth of the trees in the forest: 10, 20, 30 or 50 \n",
    "* number of trees in the forest: 100, 200, 300 or 500\n",
    "* minimum number of samples per leaf: 5, 10, 15, 20 or 25"
   ]
  },
  {
   "cell_type": "code",
   "execution_count": 87,
   "metadata": {},
   "outputs": [],
   "source": [
    "def rf_cross_validation(X_train, y_train, max_depth_range=[10, 20, 30, 50], num_tree_range=[100, 200, 300, 500], min_samples_leaf_range=[5,10, 15, 20, 25]):\n",
    "    '''\n",
    "        performs a 5-fold CV for a Random Forest for given X_train and y_train\n",
    "\n",
    "        @param X_train: the training matrix\n",
    "        @param y_train: the associated response vector\n",
    "        @param max_depth_range: list containing the values that should be tested for max depth, default [10,20,30]\n",
    "        @param num_tree_range: list containing the values that should be tested for the number of trees, default [100,300,500]\n",
    "        @param min_samples_leaf_range: list containing the values that should be tested for the minimum number of samples per leaf, default [10,15,20]\n",
    "\n",
    "        @return: a forest with the best hyperparameter according to the estimated test MSE and trained on the whole training set\n",
    "    '''\n",
    "    best_score = -float('inf')\n",
    "    for depth in max_depth_range:\n",
    "        cv_results = cross_validate(RandomForestClassifier(random_state=42, max_depth=depth, n_jobs=-1,\n",
    "                                    class_weight='balanced'), X=X_train, y=y_train, scoring='balanced_accuracy', cv=5)\n",
    "        score = np.mean(cv_results['test_score'])\n",
    "        if score > best_score:\n",
    "            best_score = score\n",
    "            best_depth = depth\n",
    "\n",
    "    best_score = -float('inf')\n",
    "    for n_tree in num_tree_range:\n",
    "        cv_results = cross_validate(RandomForestClassifier(random_state=42, n_estimators=n_tree,\n",
    "                                    n_jobs=-1, class_weight='balanced'), X=X_train, y=y_train, scoring='balanced_accuracy', cv=5)\n",
    "        score = np.mean(cv_results['test_score'])\n",
    "        if score > best_score:\n",
    "            best_score = score\n",
    "            best_n_tree = n_tree\n",
    "\n",
    "    best_score = -float('inf')\n",
    "    for num_samples in min_samples_leaf_range:\n",
    "        cv_results = cross_validate(RandomForestClassifier(random_state=42, min_samples_leaf=num_samples,\n",
    "                                    n_jobs=-1, class_weight='balanced'), X=X_train, y=y_train, scoring='balanced_accuracy', cv=5)\n",
    "        score = np.mean(cv_results['test_score'])\n",
    "        if score > best_score:\n",
    "            best_score = score\n",
    "            best_min_samples = num_samples\n",
    "\n",
    "    rf = RandomForestClassifier(random_state=42, n_estimators=best_n_tree, max_depth=best_depth,\n",
    "                                min_samples_leaf=best_min_samples, n_jobs=-1, class_weight='balanced')\n",
    "    \n",
    "    return rf"
   ]
  },
  {
   "cell_type": "code",
   "execution_count": 88,
   "metadata": {},
   "outputs": [],
   "source": [
    "best_estimator_morpho = rf_cross_validation(X_train_morpho, y_train_activities)\n",
    "best_estimator_struct= rf_cross_validation(X_train_morgan_fp, y_train_activities)\n",
    "best_estimator_combined = rf_cross_validation(X_train_morph_morgan_fp, y_train_activities)"
   ]
  },
  {
   "cell_type": "markdown",
   "metadata": {},
   "source": [
    "### Model Instantiation and Evaluation Function"
   ]
  },
  {
   "cell_type": "markdown",
   "metadata": {},
   "source": [
    "We instantiate the estimator for each modality by selecting the best estimator obtained during hyperparameter tuning. Additionally, we include a default random forest to compare how the performance varies when the model is optimized."
   ]
  },
  {
   "cell_type": "markdown",
   "metadata": {},
   "source": [
    "We use two metrics to evaluate the predicability of the model, \n",
    "- **Matthews correlation coefficient (MCC) :** MCC is a reliable statistical rate that produces a high score only if the prediction obtained good results in all of the four confusion matrix categories (true positives, false negatives, true negatives, and false positives), proportionally both to the size of positive elements and the size of negative elements in the dataset.\n",
    "- **Balanced accuracy (BA):**  BA combines sensitivity (true positive rate) which measures how well the model detects positive cases, answering questions like 'How many antagonist molecules did the model correctly recall?' and specificity (true negative rate) which measures the model's ability to correctly identify negative cases.\n"
   ]
  },
  {
   "cell_type": "code",
   "execution_count": null,
   "metadata": {},
   "outputs": [],
   "source": [
    "models = {\n",
    "    \"RF\"         : [RandomForestClassifier(random_state=42,class_weight ='balanced')], ##default\n",
    "    \"RF_morpho\"  : [best_estimator_morpho],\n",
    "    \"RF_struct\"  : [best_estimator_struct],\n",
    "    \"RF_combined\": [best_estimator_combined]\n",
    "}\n",
    "\n",
    "def evaluate_model(y_test,y_pred):\n",
    "    \n",
    "    '''\n",
    "    Compute and asses a model with acc balanced acc and f1 metrics \n",
    "        Parameters : \n",
    "            y_test: test to predict \n",
    "            y_pred: pred made by the model\n",
    "        Returns : \n",
    "            classification report \n",
    "    '''    \n",
    "    \n",
    "    ba = balanced_accuracy_score(y_test,y_pred)\n",
    "    mcc = matthews_corrcoef(y_pred=y_pred, y_true=y_test)\n",
    "\n",
    "    print(f' Evaluation of predicition made on Test set : ')\n",
    "    print(f'Metrics to evaluate the model: \\n balanced accuracy : {ba*100:.2f} % , \\n MCC : {mcc:.3f}.')\n",
    "    print(f'Summary metrics in a cross table: \\n')\n",
    "    print(classification_report(y_test, y_pred))\n",
    "\n",
    "def make_predictions(models_dict ,selected_model,X_train,X_test,y_test,y_train) :\n",
    "\n",
    "    '''\n",
    "    Function to call to evaluate the model and do a cross val \n",
    "        Parameters : \n",
    "            models_dict (dictionary): dict of defined architecture and its parameters\n",
    "            selected_model (str): name of the model to choose\n",
    "            y_test : vector to predict either morphological or structural fingerprint or both \n",
    "    '''      \n",
    "\n",
    "            \n",
    "    if selected_model in models_dict :\n",
    "        model = models_dict[selected_model][0]\n",
    "\n",
    "    #learn by fitting the model on the trainset \n",
    "    model.fit(X_train,y_train) \n",
    "    \n",
    "    #compute prediction on test set \n",
    "    predictions = model.predict(X_test)\n",
    "    evaluate_model(y_test,predictions) \n",
    "    return model\n",
    "\n"
   ]
  },
  {
   "cell_type": "markdown",
   "metadata": {},
   "source": [
    "###  Make Predictions"
   ]
  },
  {
   "cell_type": "markdown",
   "metadata": {},
   "source": [
    "1. Morphological fingerprint"
   ]
  },
  {
   "cell_type": "markdown",
   "metadata": {},
   "source": [
    "A. Default Setting \n"
   ]
  },
  {
   "cell_type": "code",
   "execution_count": null,
   "metadata": {},
   "outputs": [],
   "source": [
    "default_morpho = make_predictions(models,'RF',X_train_morpho,X_test_morpho,y_test_activities,y_train_activities)\n"
   ]
  },
  {
   "cell_type": "markdown",
   "metadata": {},
   "source": [
    "B. Tuned: using hyperparameters setting "
   ]
  },
  {
   "cell_type": "code",
   "execution_count": null,
   "metadata": {},
   "outputs": [],
   "source": [
    "morpho_model = make_predictions(models,'RF_morpho',X_train_morpho,X_test_morpho,y_test_activities,y_train_activities)"
   ]
  },
  {
   "cell_type": "markdown",
   "metadata": {},
   "source": [
    "2. Structural fingerprint"
   ]
  },
  {
   "cell_type": "markdown",
   "metadata": {},
   "source": [
    "A. Default Setting"
   ]
  },
  {
   "cell_type": "code",
   "execution_count": null,
   "metadata": {},
   "outputs": [],
   "source": [
    "default_struct = make_predictions(models,'RF',X_train_morgan_fp,X_test_morgan_fp,y_test_activities,y_train_activities)"
   ]
  },
  {
   "cell_type": "markdown",
   "metadata": {},
   "source": [
    "B. Tuned: using hyperparameters setting "
   ]
  },
  {
   "cell_type": "code",
   "execution_count": null,
   "metadata": {},
   "outputs": [],
   "source": [
    "struct_model = make_predictions(models,'RF_struct',X_train_morgan_fp,X_test_morgan_fp,y_test_activities,y_train_activities)"
   ]
  },
  {
   "cell_type": "markdown",
   "metadata": {},
   "source": [
    "3. Combined fingerprint "
   ]
  },
  {
   "cell_type": "markdown",
   "metadata": {},
   "source": [
    "A. Default Setting"
   ]
  },
  {
   "cell_type": "code",
   "execution_count": null,
   "metadata": {},
   "outputs": [],
   "source": [
    "default_combined = make_predictions(models,'RF',X_train_morph_morgan_fp,X_test_morph_morgan_fp,y_test_activities,y_train_activities)"
   ]
  },
  {
   "cell_type": "markdown",
   "metadata": {},
   "source": [
    "B. Tuned: using hyperparameters setting "
   ]
  },
  {
   "cell_type": "code",
   "execution_count": null,
   "metadata": {},
   "outputs": [],
   "source": [
    "combined_model = make_predictions(models,'RF_combined',X_train_morph_morgan_fp,X_test_morph_morgan_fp,y_test_activities,y_train_activities)"
   ]
  },
  {
   "cell_type": "markdown",
   "metadata": {},
   "source": [
    "## Conclusion"
   ]
  },
  {
   "cell_type": "markdown",
   "metadata": {},
   "source": [
    "In this section, we focus on predicting the activity of molecules based on their morphological profiles, structural fingerprints, or a combination of both. We specifically examine the prediction of estrogen receptor alpha (ERα) antagonism. After training and testing the model, we observe that ERα antagonism activity is better predicted using morphological fingerprints alone. However, the performance of structural fingerprints improves when combined with morphological fingerprints.\n"
   ]
  },
  {
   "cell_type": "markdown",
   "metadata": {},
   "source": [
    "The Matthews correlation coefficient (MCC), is a more reliable statistical rate that produces a high score only if the prediction obtained good results in all of the four confusion matrix categories (true positives, false negatives, true negatives, and false positives), proportionally both to the size of positive elements and the size of negative elements in the dataset."
   ]
  },
  {
   "cell_type": "markdown",
   "metadata": {},
   "source": [
    "## Discussion "
   ]
  },
  {
   "cell_type": "markdown",
   "metadata": {},
   "source": [
    "1. Study case; a concrete example for ERa antagonism prediction "
   ]
  },
  {
   "cell_type": "markdown",
   "metadata": {},
   "source": [
    "---"
   ]
  },
  {
   "cell_type": "markdown",
   "metadata": {},
   "source": [
    "In this discussion section, we will demonstrate how to predict if a molecule is an ERα antagonist. To achieve this, we need an unseen molecule for the model. The unseen molecule must have the same number of features as those the model was trained on, specifically 290 features for the morphological fingerprint in this case. Our initial data contained around 30,000 molecules, and we only worked with 880 molecules in this section. Therefore, we can predict, for example, some of the remaining 29,508 molecules."
   ]
  },
  {
   "cell_type": "markdown",
   "metadata": {},
   "source": [
    "Let's predict the activity of a phytoestrogen (such as flavonoids, coumestans, lignans), specifically naringin (a dietary flavonoid), and one random compound, BRD-K98953112.\n"
   ]
  },
  {
   "cell_type": "code",
   "execution_count": null,
   "metadata": {},
   "outputs": [],
   "source": [
    "naringin = dataset[dataset['CPD_NAME'] == 'naringin'].iloc[:,2:-2]\n",
    "morpho_model.predict(naringin.values)[0]\n",
    "if morpho_model.predict(naringin.values)[0] == 1:\n",
    "    print(f'The molecule naringin is predicted as an estrogen receptor alpha antagonist')"
   ]
  },
  {
   "cell_type": "code",
   "execution_count": null,
   "metadata": {},
   "outputs": [],
   "source": [
    "BRD_K98953112 = dataset[dataset['CPD_NAME'] == 'BRD-K98953112'].iloc[:,2:-2]\n",
    "if morpho_model.predict(BRD_K98953112.values)[0] == 1:\n",
    "    print(f'The molecule BRD-K98953112 is predicted as an estrogen receptor alpha antagonist')\n",
    "else: \n",
    "    print(f'The molecule is not predicted as an estrogen receptor alpha antagonist')"
   ]
  },
  {
   "cell_type": "markdown",
   "metadata": {},
   "source": [
    "---"
   ]
  },
  {
   "cell_type": "markdown",
   "metadata": {},
   "source": [
    "Here we see that Naringin is predicted to be an antagonist for ERα. An antagonist is a drug that diminishes the effect of an agonist (a drug that binds to and activates a receptor). Antagonists can be either competitive or non-competitive, and each type can be reversible or irreversible.\n",
    "\n",
    "Naringin, a phytoestrogen belonging to the flavonoid group, exhibits biphasic activity, functioning in a dose-dependent manner with both estrogenic and anti-estrogenic effects (Ryoiti Kiyama - [Estrogenic flavonoids and their molecular mechanisms of action](https://www.sciencedirect.com/science/article/pii/S0955286322003187#cebibl1)).\n",
    "\n",
    "For BRD-K98953112, we used PubChem for more details. It appears to be a fluorinated organic compound, specifically a PFAS. However, no studies have been conducted on this molecule, so we cannot draw any conclusions. PFAS are primarily used in food contact materials for their water and oil repellent characteristics. The effects of several PFASs on thyroid hormone levels during pregnancy and in childhood have been documented in reports, namely [Endocrine Disrruptors: from Scientific Evidence to human Health Protection](https://www.europarl.europa.eu/RegData/etudes/STUD/2019/608866/IPOL_STU(2019)608866_EN.pdf)."
   ]
  }
 ],
 "metadata": {
  "kernelspec": {
   "display_name": "MIMB_cellpainting",
   "language": "python",
   "name": "python3"
  },
  "language_info": {
   "codemirror_mode": {
    "name": "ipython",
    "version": 3
   },
   "file_extension": ".py",
   "mimetype": "text/x-python",
   "name": "python",
   "nbconvert_exporter": "python",
   "pygments_lexer": "ipython3",
   "version": "3.8.19"
  }
 },
 "nbformat": 4,
 "nbformat_minor": 2
}
