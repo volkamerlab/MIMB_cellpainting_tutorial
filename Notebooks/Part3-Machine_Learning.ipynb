{
 "cells": [
  {
   "cell_type": "markdown",
   "metadata": {},
   "source": [
    "# Machine learning "
   ]
  },
  {
   "cell_type": "markdown",
   "metadata": {},
   "source": [
    "In this part, we use machine learning (ML) models, particularly random forests (RF), to predict the Estrogen receptor activity of our previously processed dataset."
   ]
  },
  {
   "cell_type": "markdown",
   "metadata": {},
   "source": [
    "## Import libraries and previous data\n"
   ]
  },
  {
   "cell_type": "code",
   "execution_count": 43,
   "metadata": {},
   "outputs": [],
   "source": [
    "import pandas as pd\n",
    "import numpy as np\n",
    "import plotly.express as px\n",
    "from sklearn.model_selection import train_test_split, cross_validate\n",
    "from sklearn.ensemble import RandomForestClassifier\n",
    "from sklearn.metrics import matthews_corrcoef"
   ]
  },
  {
   "cell_type": "markdown",
   "metadata": {},
   "source": [
    "## Reminder : The datasets "
   ]
  },
  {
   "cell_type": "markdown",
   "metadata": {},
   "source": [
    "\n",
    "As a reminder, we are using:\n",
    "\n",
    "- **Morphological fingerprint**: Morphological fingerprint features represent the effect of treatment measured on cells, in this case, U20S cells from osteosarcoma cancer.\n",
    "- **Structural fingerprint**: Structural fingerprints are computer-readable vectors obtained from the SMILES. They encapsulate atom environment, connectivity, and substructure information.\n",
    "\n",
    "We are now introducing:\n",
    "\n",
    "- **Activity annotation**: Activity and inactivity annotations are obtained from agonist and antagonist assays. A set of molecules have been tested on LUC BG1 breast cancer cells to estimate [IC50?]. The values are then converted to a binary format: 1 (agonist or antagonist) / 0 (non-agonist, non-antagonist).\n",
    "\n"
   ]
  },
  {
   "cell_type": "markdown",
   "metadata": {},
   "source": [
    "### Load data : per-treatment profile fingerprints and annotation file"
   ]
  },
  {
   "cell_type": "markdown",
   "metadata": {},
   "source": [
    "- Load fingerprint file named _fingerprint_ds.pkl_ generated in _Part2-Similarity_Analysis.ipynb_ \n",
    "- Load endocrine activity file:  _ER_activity_luc_bg1.csv_\n",
    "- Concatenate the data frames into one "
   ]
  },
  {
   "cell_type": "markdown",
   "metadata": {},
   "source": [
    "1. Load the morphological data "
   ]
  },
  {
   "cell_type": "code",
   "execution_count": 44,
   "metadata": {},
   "outputs": [
    {
     "data": {
      "text/html": [
       "<div>\n",
       "<style scoped>\n",
       "    .dataframe tbody tr th:only-of-type {\n",
       "        vertical-align: middle;\n",
       "    }\n",
       "\n",
       "    .dataframe tbody tr th {\n",
       "        vertical-align: top;\n",
       "    }\n",
       "\n",
       "    .dataframe thead th {\n",
       "        text-align: right;\n",
       "    }\n",
       "</style>\n",
       "<table border=\"1\" class=\"dataframe\">\n",
       "  <thead>\n",
       "    <tr style=\"text-align: right;\">\n",
       "      <th></th>\n",
       "      <th>Metadata_broad_sample</th>\n",
       "      <th>CPD_NAME</th>\n",
       "      <th>CPD_SMILES</th>\n",
       "      <th>Cells_AreaShape_Area</th>\n",
       "      <th>Cells_AreaShape_Center_X</th>\n",
       "      <th>Cells_AreaShape_Center_Y</th>\n",
       "      <th>Cells_AreaShape_Compactness</th>\n",
       "      <th>Cells_AreaShape_FormFactor</th>\n",
       "      <th>Cells_AreaShape_Orientation</th>\n",
       "      <th>Cells_AreaShape_Perimeter</th>\n",
       "      <th>...</th>\n",
       "      <th>Nuclei_Texture_SumAverage_RNA_10_0</th>\n",
       "      <th>Nuclei_Texture_SumEntropy_AGP_10_0</th>\n",
       "      <th>Nuclei_Texture_SumEntropy_DNA_10_0</th>\n",
       "      <th>Nuclei_Texture_SumEntropy_RNA_10_0</th>\n",
       "      <th>STD_smile</th>\n",
       "      <th>morganB_fps</th>\n",
       "      <th>euclidean_distance_morganB_fps</th>\n",
       "      <th>tanimoto_distance_morganB_fps</th>\n",
       "      <th>morphological_fingerprint</th>\n",
       "      <th>euclidean_distance_morphological_fingerprint</th>\n",
       "    </tr>\n",
       "  </thead>\n",
       "  <tbody>\n",
       "    <tr>\n",
       "      <th>0</th>\n",
       "      <td>BRD-K08693008-001-01-9</td>\n",
       "      <td>BRD-K08693008</td>\n",
       "      <td>OC[C@@H]1O[C@@H](CCn2cc(nn2)C2CCCCC2)CC[C@@H]1...</td>\n",
       "      <td>0.048557</td>\n",
       "      <td>1.511709</td>\n",
       "      <td>0.671319</td>\n",
       "      <td>1.608394</td>\n",
       "      <td>-0.511233</td>\n",
       "      <td>0.565885</td>\n",
       "      <td>0.257311</td>\n",
       "      <td>...</td>\n",
       "      <td>0.586195</td>\n",
       "      <td>1.125321</td>\n",
       "      <td>1.009055</td>\n",
       "      <td>-1.088308</td>\n",
       "      <td>O=C(Nc1ccc(Cl)c(Cl)c1)N[C@H]1CC[C@H](CCn2cc(C3...</td>\n",
       "      <td>[0, 0, 1, 0, 1, 0, 0, 0, 0, 0, 0, 0, 0, 0, 0, ...</td>\n",
       "      <td>8.944272</td>\n",
       "      <td>0.144928</td>\n",
       "      <td>[0.04855710428510099, 1.5117089902809278, 0.67...</td>\n",
       "      <td>27.358629</td>\n",
       "    </tr>\n",
       "    <tr>\n",
       "      <th>1</th>\n",
       "      <td>BRD-K63982890-001-01-9</td>\n",
       "      <td>BRD-K63982890</td>\n",
       "      <td>OC[C@@H]1O[C@@H](CCn2cc(nn2)C2CCCCC2)CC[C@H]1N...</td>\n",
       "      <td>-0.452500</td>\n",
       "      <td>0.951801</td>\n",
       "      <td>0.099539</td>\n",
       "      <td>0.742502</td>\n",
       "      <td>-0.953422</td>\n",
       "      <td>-0.629503</td>\n",
       "      <td>0.145339</td>\n",
       "      <td>...</td>\n",
       "      <td>-0.662275</td>\n",
       "      <td>-0.373907</td>\n",
       "      <td>1.198932</td>\n",
       "      <td>-0.733997</td>\n",
       "      <td>O=C(Nc1ccc(Cl)c(Cl)c1)N[C@@H]1CC[C@H](CCn2cc(C...</td>\n",
       "      <td>[0, 0, 1, 0, 1, 0, 0, 0, 0, 0, 0, 0, 0, 0, 0, ...</td>\n",
       "      <td>8.944272</td>\n",
       "      <td>0.144928</td>\n",
       "      <td>[-0.4524995916327004, 0.951801364194127, 0.099...</td>\n",
       "      <td>27.667467</td>\n",
       "    </tr>\n",
       "  </tbody>\n",
       "</table>\n",
       "<p>2 rows × 299 columns</p>\n",
       "</div>"
      ],
      "text/plain": [
       "    Metadata_broad_sample       CPD_NAME  \\\n",
       "0  BRD-K08693008-001-01-9  BRD-K08693008   \n",
       "1  BRD-K63982890-001-01-9  BRD-K63982890   \n",
       "\n",
       "                                          CPD_SMILES  Cells_AreaShape_Area  \\\n",
       "0  OC[C@@H]1O[C@@H](CCn2cc(nn2)C2CCCCC2)CC[C@@H]1...              0.048557   \n",
       "1  OC[C@@H]1O[C@@H](CCn2cc(nn2)C2CCCCC2)CC[C@H]1N...             -0.452500   \n",
       "\n",
       "   Cells_AreaShape_Center_X  Cells_AreaShape_Center_Y  \\\n",
       "0                  1.511709                  0.671319   \n",
       "1                  0.951801                  0.099539   \n",
       "\n",
       "   Cells_AreaShape_Compactness  Cells_AreaShape_FormFactor  \\\n",
       "0                     1.608394                   -0.511233   \n",
       "1                     0.742502                   -0.953422   \n",
       "\n",
       "   Cells_AreaShape_Orientation  Cells_AreaShape_Perimeter  ...  \\\n",
       "0                     0.565885                   0.257311  ...   \n",
       "1                    -0.629503                   0.145339  ...   \n",
       "\n",
       "   Nuclei_Texture_SumAverage_RNA_10_0  Nuclei_Texture_SumEntropy_AGP_10_0  \\\n",
       "0                            0.586195                            1.125321   \n",
       "1                           -0.662275                           -0.373907   \n",
       "\n",
       "   Nuclei_Texture_SumEntropy_DNA_10_0  Nuclei_Texture_SumEntropy_RNA_10_0  \\\n",
       "0                            1.009055                           -1.088308   \n",
       "1                            1.198932                           -0.733997   \n",
       "\n",
       "                                           STD_smile  \\\n",
       "0  O=C(Nc1ccc(Cl)c(Cl)c1)N[C@H]1CC[C@H](CCn2cc(C3...   \n",
       "1  O=C(Nc1ccc(Cl)c(Cl)c1)N[C@@H]1CC[C@H](CCn2cc(C...   \n",
       "\n",
       "                                         morganB_fps  \\\n",
       "0  [0, 0, 1, 0, 1, 0, 0, 0, 0, 0, 0, 0, 0, 0, 0, ...   \n",
       "1  [0, 0, 1, 0, 1, 0, 0, 0, 0, 0, 0, 0, 0, 0, 0, ...   \n",
       "\n",
       "   euclidean_distance_morganB_fps  tanimoto_distance_morganB_fps  \\\n",
       "0                        8.944272                       0.144928   \n",
       "1                        8.944272                       0.144928   \n",
       "\n",
       "                           morphological_fingerprint  \\\n",
       "0  [0.04855710428510099, 1.5117089902809278, 0.67...   \n",
       "1  [-0.4524995916327004, 0.951801364194127, 0.099...   \n",
       "\n",
       "   euclidean_distance_morphological_fingerprint  \n",
       "0                                     27.358629  \n",
       "1                                     27.667467  \n",
       "\n",
       "[2 rows x 299 columns]"
      ]
     },
     "execution_count": 44,
     "metadata": {},
     "output_type": "execute_result"
    }
   ],
   "source": [
    "dataset = pd.read_pickle('../Data/Output/output_notebook_2.pkl')\n",
    "dataset.head(2)"
   ]
  },
  {
   "cell_type": "markdown",
   "metadata": {},
   "source": [
    "In [Part2-Similarity_Analysis](Part2-Similarity_Analysis), we compute Euclidean distance, as well as Tanmoto distance that won't be needed, therefore we can drop them. "
   ]
  },
  {
   "cell_type": "code",
   "execution_count": 45,
   "metadata": {},
   "outputs": [],
   "source": [
    "dataset.drop(['CPD_SMILES','STD_smile','euclidean_distance_morganB_fps', 'euclidean_distance_morphological_fingerprint',\n",
    "             'tanimoto_distance_morganB_fps'], axis=1, inplace=True)"
   ]
  },
  {
   "cell_type": "markdown",
   "metadata": {},
   "source": [
    "2. Endocrine activity (ER) dataset "
   ]
  },
  {
   "cell_type": "markdown",
   "metadata": {},
   "source": [
    "This section on the annotation data set we will : \n",
    "- Load data \n",
    "- Check the data for missing value \n",
    "- Make 2 class for estrogen receptor activity \n",
    "- Define the ratio of active / inactive and plot it as a bar plot "
   ]
  },
  {
   "cell_type": "code",
   "execution_count": 46,
   "metadata": {},
   "outputs": [
    {
     "data": {
      "text/html": [
       "<div>\n",
       "<style scoped>\n",
       "    .dataframe tbody tr th:only-of-type {\n",
       "        vertical-align: middle;\n",
       "    }\n",
       "\n",
       "    .dataframe tbody tr th {\n",
       "        vertical-align: top;\n",
       "    }\n",
       "\n",
       "    .dataframe thead th {\n",
       "        text-align: right;\n",
       "    }\n",
       "</style>\n",
       "<table border=\"1\" class=\"dataframe\">\n",
       "  <thead>\n",
       "    <tr style=\"text-align: right;\">\n",
       "      <th></th>\n",
       "      <th>TOX21_ERa_LUC_BG1_Antagonist</th>\n",
       "      <th>TOX21_ERa_LUC_BG1_Agonist</th>\n",
       "      <th>CPD_NAME</th>\n",
       "    </tr>\n",
       "  </thead>\n",
       "  <tbody>\n",
       "    <tr>\n",
       "      <th>0</th>\n",
       "      <td>1.0</td>\n",
       "      <td>0.0</td>\n",
       "      <td>mibefradil</td>\n",
       "    </tr>\n",
       "    <tr>\n",
       "      <th>1</th>\n",
       "      <td>0.0</td>\n",
       "      <td>0.0</td>\n",
       "      <td>fenbufen</td>\n",
       "    </tr>\n",
       "  </tbody>\n",
       "</table>\n",
       "</div>"
      ],
      "text/plain": [
       "   TOX21_ERa_LUC_BG1_Antagonist  TOX21_ERa_LUC_BG1_Agonist    CPD_NAME\n",
       "0                           1.0                        0.0  mibefradil\n",
       "1                           0.0                        0.0    fenbufen"
      ]
     },
     "execution_count": 46,
     "metadata": {},
     "output_type": "execute_result"
    }
   ],
   "source": [
    "er_table = pd.read_csv(\n",
    "    '../Data/Annotations/ER_activity_luc_bg1.csv', sep=',', index_col=0)\n",
    "er_table.head(2)"
   ]
  },
  {
   "cell_type": "code",
   "execution_count": 47,
   "metadata": {},
   "outputs": [
    {
     "name": "stdout",
     "output_type": "stream",
     "text": [
      "There are 886 tested for ER alpha activity\n"
     ]
    }
   ],
   "source": [
    "print(f'There are {len(er_table[\"CPD_NAME\"])} tested for ER alpha activity')"
   ]
  },
  {
   "cell_type": "markdown",
   "metadata": {},
   "source": [
    "Check if NaN (missing value) are present and drop them. "
   ]
  },
  {
   "cell_type": "code",
   "execution_count": 48,
   "metadata": {},
   "outputs": [
    {
     "name": "stdout",
     "output_type": "stream",
     "text": [
      "There are NaN values in er_table : \n"
     ]
    },
    {
     "data": {
      "text/html": [
       "<div>\n",
       "<style scoped>\n",
       "    .dataframe tbody tr th:only-of-type {\n",
       "        vertical-align: middle;\n",
       "    }\n",
       "\n",
       "    .dataframe tbody tr th {\n",
       "        vertical-align: top;\n",
       "    }\n",
       "\n",
       "    .dataframe thead th {\n",
       "        text-align: right;\n",
       "    }\n",
       "</style>\n",
       "<table border=\"1\" class=\"dataframe\">\n",
       "  <thead>\n",
       "    <tr style=\"text-align: right;\">\n",
       "      <th></th>\n",
       "      <th>TOX21_ERa_LUC_BG1_Antagonist</th>\n",
       "      <th>TOX21_ERa_LUC_BG1_Agonist</th>\n",
       "      <th>CPD_NAME</th>\n",
       "    </tr>\n",
       "  </thead>\n",
       "  <tbody>\n",
       "    <tr>\n",
       "      <th>35</th>\n",
       "      <td>NaN</td>\n",
       "      <td>NaN</td>\n",
       "      <td>metoprolol tartrate</td>\n",
       "    </tr>\n",
       "    <tr>\n",
       "      <th>255</th>\n",
       "      <td>NaN</td>\n",
       "      <td>NaN</td>\n",
       "      <td>2,4-dichlorophenoxyacetic acid</td>\n",
       "    </tr>\n",
       "    <tr>\n",
       "      <th>281</th>\n",
       "      <td>NaN</td>\n",
       "      <td>NaN</td>\n",
       "      <td>ciprofloxacin</td>\n",
       "    </tr>\n",
       "    <tr>\n",
       "      <th>402</th>\n",
       "      <td>NaN</td>\n",
       "      <td>NaN</td>\n",
       "      <td>paraxanthine</td>\n",
       "    </tr>\n",
       "    <tr>\n",
       "      <th>632</th>\n",
       "      <td>NaN</td>\n",
       "      <td>NaN</td>\n",
       "      <td>tyrphostin AG-1478</td>\n",
       "    </tr>\n",
       "  </tbody>\n",
       "</table>\n",
       "</div>"
      ],
      "text/plain": [
       "     TOX21_ERa_LUC_BG1_Antagonist  TOX21_ERa_LUC_BG1_Agonist  \\\n",
       "35                            NaN                        NaN   \n",
       "255                           NaN                        NaN   \n",
       "281                           NaN                        NaN   \n",
       "402                           NaN                        NaN   \n",
       "632                           NaN                        NaN   \n",
       "\n",
       "                           CPD_NAME  \n",
       "35              metoprolol tartrate  \n",
       "255  2,4-dichlorophenoxyacetic acid  \n",
       "281                   ciprofloxacin  \n",
       "402                    paraxanthine  \n",
       "632              tyrphostin AG-1478  "
      ]
     },
     "execution_count": 48,
     "metadata": {},
     "output_type": "execute_result"
    }
   ],
   "source": [
    "# Check if the sum of NaNs for each column is 0\n",
    "if er_table.isna().sum().sum() == 0:\n",
    "    print(\"There are no NaN values in er_table.\")\n",
    "else:\n",
    "    print(\"There are NaN values in er_table : \")\n",
    "\n",
    "er_table[er_table.isna().any(axis=1)]\n"
   ]
  },
  {
   "cell_type": "code",
   "execution_count": 49,
   "metadata": {},
   "outputs": [],
   "source": [
    "# Drop the NaN value \n",
    "er_table.dropna(inplace=True)"
   ]
  },
  {
   "cell_type": "markdown",
   "metadata": {},
   "source": [
    "## Activity class "
   ]
  },
  {
   "cell_type": "markdown",
   "metadata": {},
   "source": [
    "We want to mark any endocrine activity, i.e., independent on whether the compound is marked as antagonist or agonist, as 'active' (1) and only 'inactive' (0) for the compounds with no activity."
   ]
  },
  {
   "cell_type": "markdown",
   "metadata": {},
   "source": [
    "1. Endocrine activity vs non-activity "
   ]
  },
  {
   "cell_type": "code",
   "execution_count": 50,
   "metadata": {},
   "outputs": [],
   "source": [
    "er_table['activity'] = er_table.apply(lambda x: min(int(x['TOX21_ERa_LUC_BG1_Antagonist']) + int(x['TOX21_ERa_LUC_BG1_Agonist']), 1), axis=1)"
   ]
  },
  {
   "cell_type": "markdown",
   "metadata": {},
   "source": [
    "Here we can make a view of the active and inactive compounds"
   ]
  },
  {
   "cell_type": "code",
   "execution_count": 51,
   "metadata": {},
   "outputs": [
    {
     "name": "stdout",
     "output_type": "stream",
     "text": [
      "There are 212 active compound, here are the first : \n"
     ]
    },
    {
     "data": {
      "text/html": [
       "<div>\n",
       "<style scoped>\n",
       "    .dataframe tbody tr th:only-of-type {\n",
       "        vertical-align: middle;\n",
       "    }\n",
       "\n",
       "    .dataframe tbody tr th {\n",
       "        vertical-align: top;\n",
       "    }\n",
       "\n",
       "    .dataframe thead th {\n",
       "        text-align: right;\n",
       "    }\n",
       "</style>\n",
       "<table border=\"1\" class=\"dataframe\">\n",
       "  <thead>\n",
       "    <tr style=\"text-align: right;\">\n",
       "      <th></th>\n",
       "      <th>TOX21_ERa_LUC_BG1_Antagonist</th>\n",
       "      <th>TOX21_ERa_LUC_BG1_Agonist</th>\n",
       "      <th>CPD_NAME</th>\n",
       "      <th>activity</th>\n",
       "    </tr>\n",
       "  </thead>\n",
       "  <tbody>\n",
       "    <tr>\n",
       "      <th>0</th>\n",
       "      <td>1.0</td>\n",
       "      <td>0.0</td>\n",
       "      <td>mibefradil</td>\n",
       "      <td>1</td>\n",
       "    </tr>\n",
       "    <tr>\n",
       "      <th>6</th>\n",
       "      <td>0.0</td>\n",
       "      <td>1.0</td>\n",
       "      <td>BRD-K03978601</td>\n",
       "      <td>1</td>\n",
       "    </tr>\n",
       "    <tr>\n",
       "      <th>7</th>\n",
       "      <td>1.0</td>\n",
       "      <td>0.0</td>\n",
       "      <td>mifepristone</td>\n",
       "      <td>1</td>\n",
       "    </tr>\n",
       "  </tbody>\n",
       "</table>\n",
       "</div>"
      ],
      "text/plain": [
       "   TOX21_ERa_LUC_BG1_Antagonist  TOX21_ERa_LUC_BG1_Agonist       CPD_NAME  \\\n",
       "0                           1.0                        0.0     mibefradil   \n",
       "6                           0.0                        1.0  BRD-K03978601   \n",
       "7                           1.0                        0.0   mifepristone   \n",
       "\n",
       "   activity  \n",
       "0         1  \n",
       "6         1  \n",
       "7         1  "
      ]
     },
     "execution_count": 51,
     "metadata": {},
     "output_type": "execute_result"
    }
   ],
   "source": [
    "tot_active = er_table[(er_table['TOX21_ERa_LUC_BG1_Antagonist'] != 0) | (er_table['TOX21_ERa_LUC_BG1_Agonist'] != 0)].shape[0]\n",
    "print(f\"There are {tot_active} active compound, here are the first : \")\n",
    "er_table[(er_table['TOX21_ERa_LUC_BG1_Antagonist'] != 0) | (er_table['TOX21_ERa_LUC_BG1_Agonist'] != 0)].head(3)"
   ]
  },
  {
   "cell_type": "code",
   "execution_count": 52,
   "metadata": {},
   "outputs": [
    {
     "name": "stdout",
     "output_type": "stream",
     "text": [
      "There are 669 active compound, here are the first : \n"
     ]
    },
    {
     "data": {
      "text/html": [
       "<div>\n",
       "<style scoped>\n",
       "    .dataframe tbody tr th:only-of-type {\n",
       "        vertical-align: middle;\n",
       "    }\n",
       "\n",
       "    .dataframe tbody tr th {\n",
       "        vertical-align: top;\n",
       "    }\n",
       "\n",
       "    .dataframe thead th {\n",
       "        text-align: right;\n",
       "    }\n",
       "</style>\n",
       "<table border=\"1\" class=\"dataframe\">\n",
       "  <thead>\n",
       "    <tr style=\"text-align: right;\">\n",
       "      <th></th>\n",
       "      <th>TOX21_ERa_LUC_BG1_Antagonist</th>\n",
       "      <th>TOX21_ERa_LUC_BG1_Agonist</th>\n",
       "      <th>CPD_NAME</th>\n",
       "      <th>activity</th>\n",
       "    </tr>\n",
       "  </thead>\n",
       "  <tbody>\n",
       "    <tr>\n",
       "      <th>1</th>\n",
       "      <td>0.0</td>\n",
       "      <td>0.0</td>\n",
       "      <td>fenbufen</td>\n",
       "      <td>0</td>\n",
       "    </tr>\n",
       "    <tr>\n",
       "      <th>2</th>\n",
       "      <td>0.0</td>\n",
       "      <td>0.0</td>\n",
       "      <td>diethanolamine</td>\n",
       "      <td>0</td>\n",
       "    </tr>\n",
       "    <tr>\n",
       "      <th>3</th>\n",
       "      <td>0.0</td>\n",
       "      <td>0.0</td>\n",
       "      <td>BRD-K58885221</td>\n",
       "      <td>0</td>\n",
       "    </tr>\n",
       "  </tbody>\n",
       "</table>\n",
       "</div>"
      ],
      "text/plain": [
       "   TOX21_ERa_LUC_BG1_Antagonist  TOX21_ERa_LUC_BG1_Agonist        CPD_NAME  \\\n",
       "1                           0.0                        0.0        fenbufen   \n",
       "2                           0.0                        0.0  diethanolamine   \n",
       "3                           0.0                        0.0   BRD-K58885221   \n",
       "\n",
       "   activity  \n",
       "1         0  \n",
       "2         0  \n",
       "3         0  "
      ]
     },
     "execution_count": 52,
     "metadata": {},
     "output_type": "execute_result"
    }
   ],
   "source": [
    "tot_inactive = er_table[(er_table['TOX21_ERa_LUC_BG1_Antagonist'] == 0) & (er_table['TOX21_ERa_LUC_BG1_Agonist'] == 0)].shape[0]\n",
    "print(f\"There are {tot_inactive} active compound, here are the first : \")\n",
    "er_table[(er_table['TOX21_ERa_LUC_BG1_Antagonist'] == 0) & (er_table['TOX21_ERa_LUC_BG1_Agonist'] == 0)].head(3)"
   ]
  },
  {
   "cell_type": "markdown",
   "metadata": {},
   "source": [
    "We can visualise the repartition of active and inactive within the dataset "
   ]
  },
  {
   "cell_type": "code",
   "execution_count": 53,
   "metadata": {},
   "outputs": [
    {
     "data": {
      "application/vnd.plotly.v1+json": {
       "config": {
        "plotlyServerURL": "https://plot.ly"
       },
       "data": [
        {
         "alignmentgroup": "True",
         "hovertemplate": "Activity=%{x}<br>Count=%{y}<extra></extra>",
         "legendgroup": "Inactive",
         "marker": {
          "color": "purple",
          "pattern": {
           "shape": ""
          }
         },
         "name": "Inactive",
         "offsetgroup": "Inactive",
         "orientation": "v",
         "showlegend": true,
         "textposition": "auto",
         "type": "bar",
         "x": [
          "Inactive"
         ],
         "xaxis": "x",
         "y": [
          669
         ],
         "yaxis": "y"
        },
        {
         "alignmentgroup": "True",
         "hovertemplate": "Activity=%{x}<br>Count=%{y}<extra></extra>",
         "legendgroup": "Active",
         "marker": {
          "color": "green",
          "pattern": {
           "shape": ""
          }
         },
         "name": "Active",
         "offsetgroup": "Active",
         "orientation": "v",
         "showlegend": true,
         "textposition": "auto",
         "type": "bar",
         "x": [
          "Active"
         ],
         "xaxis": "x",
         "y": [
          212
         ],
         "yaxis": "y"
        }
       ],
       "layout": {
        "barmode": "relative",
        "legend": {
         "title": {
          "text": "Activity"
         },
         "tracegroupgap": 0
        },
        "template": {
         "data": {
          "bar": [
           {
            "error_x": {
             "color": "#2a3f5f"
            },
            "error_y": {
             "color": "#2a3f5f"
            },
            "marker": {
             "line": {
              "color": "#E5ECF6",
              "width": 0.5
             },
             "pattern": {
              "fillmode": "overlay",
              "size": 10,
              "solidity": 0.2
             }
            },
            "type": "bar"
           }
          ],
          "barpolar": [
           {
            "marker": {
             "line": {
              "color": "#E5ECF6",
              "width": 0.5
             },
             "pattern": {
              "fillmode": "overlay",
              "size": 10,
              "solidity": 0.2
             }
            },
            "type": "barpolar"
           }
          ],
          "carpet": [
           {
            "aaxis": {
             "endlinecolor": "#2a3f5f",
             "gridcolor": "white",
             "linecolor": "white",
             "minorgridcolor": "white",
             "startlinecolor": "#2a3f5f"
            },
            "baxis": {
             "endlinecolor": "#2a3f5f",
             "gridcolor": "white",
             "linecolor": "white",
             "minorgridcolor": "white",
             "startlinecolor": "#2a3f5f"
            },
            "type": "carpet"
           }
          ],
          "choropleth": [
           {
            "colorbar": {
             "outlinewidth": 0,
             "ticks": ""
            },
            "type": "choropleth"
           }
          ],
          "contour": [
           {
            "colorbar": {
             "outlinewidth": 0,
             "ticks": ""
            },
            "colorscale": [
             [
              0,
              "#0d0887"
             ],
             [
              0.1111111111111111,
              "#46039f"
             ],
             [
              0.2222222222222222,
              "#7201a8"
             ],
             [
              0.3333333333333333,
              "#9c179e"
             ],
             [
              0.4444444444444444,
              "#bd3786"
             ],
             [
              0.5555555555555556,
              "#d8576b"
             ],
             [
              0.6666666666666666,
              "#ed7953"
             ],
             [
              0.7777777777777778,
              "#fb9f3a"
             ],
             [
              0.8888888888888888,
              "#fdca26"
             ],
             [
              1,
              "#f0f921"
             ]
            ],
            "type": "contour"
           }
          ],
          "contourcarpet": [
           {
            "colorbar": {
             "outlinewidth": 0,
             "ticks": ""
            },
            "type": "contourcarpet"
           }
          ],
          "heatmap": [
           {
            "colorbar": {
             "outlinewidth": 0,
             "ticks": ""
            },
            "colorscale": [
             [
              0,
              "#0d0887"
             ],
             [
              0.1111111111111111,
              "#46039f"
             ],
             [
              0.2222222222222222,
              "#7201a8"
             ],
             [
              0.3333333333333333,
              "#9c179e"
             ],
             [
              0.4444444444444444,
              "#bd3786"
             ],
             [
              0.5555555555555556,
              "#d8576b"
             ],
             [
              0.6666666666666666,
              "#ed7953"
             ],
             [
              0.7777777777777778,
              "#fb9f3a"
             ],
             [
              0.8888888888888888,
              "#fdca26"
             ],
             [
              1,
              "#f0f921"
             ]
            ],
            "type": "heatmap"
           }
          ],
          "heatmapgl": [
           {
            "colorbar": {
             "outlinewidth": 0,
             "ticks": ""
            },
            "colorscale": [
             [
              0,
              "#0d0887"
             ],
             [
              0.1111111111111111,
              "#46039f"
             ],
             [
              0.2222222222222222,
              "#7201a8"
             ],
             [
              0.3333333333333333,
              "#9c179e"
             ],
             [
              0.4444444444444444,
              "#bd3786"
             ],
             [
              0.5555555555555556,
              "#d8576b"
             ],
             [
              0.6666666666666666,
              "#ed7953"
             ],
             [
              0.7777777777777778,
              "#fb9f3a"
             ],
             [
              0.8888888888888888,
              "#fdca26"
             ],
             [
              1,
              "#f0f921"
             ]
            ],
            "type": "heatmapgl"
           }
          ],
          "histogram": [
           {
            "marker": {
             "pattern": {
              "fillmode": "overlay",
              "size": 10,
              "solidity": 0.2
             }
            },
            "type": "histogram"
           }
          ],
          "histogram2d": [
           {
            "colorbar": {
             "outlinewidth": 0,
             "ticks": ""
            },
            "colorscale": [
             [
              0,
              "#0d0887"
             ],
             [
              0.1111111111111111,
              "#46039f"
             ],
             [
              0.2222222222222222,
              "#7201a8"
             ],
             [
              0.3333333333333333,
              "#9c179e"
             ],
             [
              0.4444444444444444,
              "#bd3786"
             ],
             [
              0.5555555555555556,
              "#d8576b"
             ],
             [
              0.6666666666666666,
              "#ed7953"
             ],
             [
              0.7777777777777778,
              "#fb9f3a"
             ],
             [
              0.8888888888888888,
              "#fdca26"
             ],
             [
              1,
              "#f0f921"
             ]
            ],
            "type": "histogram2d"
           }
          ],
          "histogram2dcontour": [
           {
            "colorbar": {
             "outlinewidth": 0,
             "ticks": ""
            },
            "colorscale": [
             [
              0,
              "#0d0887"
             ],
             [
              0.1111111111111111,
              "#46039f"
             ],
             [
              0.2222222222222222,
              "#7201a8"
             ],
             [
              0.3333333333333333,
              "#9c179e"
             ],
             [
              0.4444444444444444,
              "#bd3786"
             ],
             [
              0.5555555555555556,
              "#d8576b"
             ],
             [
              0.6666666666666666,
              "#ed7953"
             ],
             [
              0.7777777777777778,
              "#fb9f3a"
             ],
             [
              0.8888888888888888,
              "#fdca26"
             ],
             [
              1,
              "#f0f921"
             ]
            ],
            "type": "histogram2dcontour"
           }
          ],
          "mesh3d": [
           {
            "colorbar": {
             "outlinewidth": 0,
             "ticks": ""
            },
            "type": "mesh3d"
           }
          ],
          "parcoords": [
           {
            "line": {
             "colorbar": {
              "outlinewidth": 0,
              "ticks": ""
             }
            },
            "type": "parcoords"
           }
          ],
          "pie": [
           {
            "automargin": true,
            "type": "pie"
           }
          ],
          "scatter": [
           {
            "fillpattern": {
             "fillmode": "overlay",
             "size": 10,
             "solidity": 0.2
            },
            "type": "scatter"
           }
          ],
          "scatter3d": [
           {
            "line": {
             "colorbar": {
              "outlinewidth": 0,
              "ticks": ""
             }
            },
            "marker": {
             "colorbar": {
              "outlinewidth": 0,
              "ticks": ""
             }
            },
            "type": "scatter3d"
           }
          ],
          "scattercarpet": [
           {
            "marker": {
             "colorbar": {
              "outlinewidth": 0,
              "ticks": ""
             }
            },
            "type": "scattercarpet"
           }
          ],
          "scattergeo": [
           {
            "marker": {
             "colorbar": {
              "outlinewidth": 0,
              "ticks": ""
             }
            },
            "type": "scattergeo"
           }
          ],
          "scattergl": [
           {
            "marker": {
             "colorbar": {
              "outlinewidth": 0,
              "ticks": ""
             }
            },
            "type": "scattergl"
           }
          ],
          "scattermapbox": [
           {
            "marker": {
             "colorbar": {
              "outlinewidth": 0,
              "ticks": ""
             }
            },
            "type": "scattermapbox"
           }
          ],
          "scatterpolar": [
           {
            "marker": {
             "colorbar": {
              "outlinewidth": 0,
              "ticks": ""
             }
            },
            "type": "scatterpolar"
           }
          ],
          "scatterpolargl": [
           {
            "marker": {
             "colorbar": {
              "outlinewidth": 0,
              "ticks": ""
             }
            },
            "type": "scatterpolargl"
           }
          ],
          "scatterternary": [
           {
            "marker": {
             "colorbar": {
              "outlinewidth": 0,
              "ticks": ""
             }
            },
            "type": "scatterternary"
           }
          ],
          "surface": [
           {
            "colorbar": {
             "outlinewidth": 0,
             "ticks": ""
            },
            "colorscale": [
             [
              0,
              "#0d0887"
             ],
             [
              0.1111111111111111,
              "#46039f"
             ],
             [
              0.2222222222222222,
              "#7201a8"
             ],
             [
              0.3333333333333333,
              "#9c179e"
             ],
             [
              0.4444444444444444,
              "#bd3786"
             ],
             [
              0.5555555555555556,
              "#d8576b"
             ],
             [
              0.6666666666666666,
              "#ed7953"
             ],
             [
              0.7777777777777778,
              "#fb9f3a"
             ],
             [
              0.8888888888888888,
              "#fdca26"
             ],
             [
              1,
              "#f0f921"
             ]
            ],
            "type": "surface"
           }
          ],
          "table": [
           {
            "cells": {
             "fill": {
              "color": "#EBF0F8"
             },
             "line": {
              "color": "white"
             }
            },
            "header": {
             "fill": {
              "color": "#C8D4E3"
             },
             "line": {
              "color": "white"
             }
            },
            "type": "table"
           }
          ]
         },
         "layout": {
          "annotationdefaults": {
           "arrowcolor": "#2a3f5f",
           "arrowhead": 0,
           "arrowwidth": 1
          },
          "autotypenumbers": "strict",
          "coloraxis": {
           "colorbar": {
            "outlinewidth": 0,
            "ticks": ""
           }
          },
          "colorscale": {
           "diverging": [
            [
             0,
             "#8e0152"
            ],
            [
             0.1,
             "#c51b7d"
            ],
            [
             0.2,
             "#de77ae"
            ],
            [
             0.3,
             "#f1b6da"
            ],
            [
             0.4,
             "#fde0ef"
            ],
            [
             0.5,
             "#f7f7f7"
            ],
            [
             0.6,
             "#e6f5d0"
            ],
            [
             0.7,
             "#b8e186"
            ],
            [
             0.8,
             "#7fbc41"
            ],
            [
             0.9,
             "#4d9221"
            ],
            [
             1,
             "#276419"
            ]
           ],
           "sequential": [
            [
             0,
             "#0d0887"
            ],
            [
             0.1111111111111111,
             "#46039f"
            ],
            [
             0.2222222222222222,
             "#7201a8"
            ],
            [
             0.3333333333333333,
             "#9c179e"
            ],
            [
             0.4444444444444444,
             "#bd3786"
            ],
            [
             0.5555555555555556,
             "#d8576b"
            ],
            [
             0.6666666666666666,
             "#ed7953"
            ],
            [
             0.7777777777777778,
             "#fb9f3a"
            ],
            [
             0.8888888888888888,
             "#fdca26"
            ],
            [
             1,
             "#f0f921"
            ]
           ],
           "sequentialminus": [
            [
             0,
             "#0d0887"
            ],
            [
             0.1111111111111111,
             "#46039f"
            ],
            [
             0.2222222222222222,
             "#7201a8"
            ],
            [
             0.3333333333333333,
             "#9c179e"
            ],
            [
             0.4444444444444444,
             "#bd3786"
            ],
            [
             0.5555555555555556,
             "#d8576b"
            ],
            [
             0.6666666666666666,
             "#ed7953"
            ],
            [
             0.7777777777777778,
             "#fb9f3a"
            ],
            [
             0.8888888888888888,
             "#fdca26"
            ],
            [
             1,
             "#f0f921"
            ]
           ]
          },
          "colorway": [
           "#636efa",
           "#EF553B",
           "#00cc96",
           "#ab63fa",
           "#FFA15A",
           "#19d3f3",
           "#FF6692",
           "#B6E880",
           "#FF97FF",
           "#FECB52"
          ],
          "font": {
           "color": "#2a3f5f"
          },
          "geo": {
           "bgcolor": "white",
           "lakecolor": "white",
           "landcolor": "#E5ECF6",
           "showlakes": true,
           "showland": true,
           "subunitcolor": "white"
          },
          "hoverlabel": {
           "align": "left"
          },
          "hovermode": "closest",
          "mapbox": {
           "style": "light"
          },
          "paper_bgcolor": "white",
          "plot_bgcolor": "#E5ECF6",
          "polar": {
           "angularaxis": {
            "gridcolor": "white",
            "linecolor": "white",
            "ticks": ""
           },
           "bgcolor": "#E5ECF6",
           "radialaxis": {
            "gridcolor": "white",
            "linecolor": "white",
            "ticks": ""
           }
          },
          "scene": {
           "xaxis": {
            "backgroundcolor": "#E5ECF6",
            "gridcolor": "white",
            "gridwidth": 2,
            "linecolor": "white",
            "showbackground": true,
            "ticks": "",
            "zerolinecolor": "white"
           },
           "yaxis": {
            "backgroundcolor": "#E5ECF6",
            "gridcolor": "white",
            "gridwidth": 2,
            "linecolor": "white",
            "showbackground": true,
            "ticks": "",
            "zerolinecolor": "white"
           },
           "zaxis": {
            "backgroundcolor": "#E5ECF6",
            "gridcolor": "white",
            "gridwidth": 2,
            "linecolor": "white",
            "showbackground": true,
            "ticks": "",
            "zerolinecolor": "white"
           }
          },
          "shapedefaults": {
           "line": {
            "color": "#2a3f5f"
           }
          },
          "ternary": {
           "aaxis": {
            "gridcolor": "white",
            "linecolor": "white",
            "ticks": ""
           },
           "baxis": {
            "gridcolor": "white",
            "linecolor": "white",
            "ticks": ""
           },
           "bgcolor": "#E5ECF6",
           "caxis": {
            "gridcolor": "white",
            "linecolor": "white",
            "ticks": ""
           }
          },
          "title": {
           "x": 0.05
          },
          "xaxis": {
           "automargin": true,
           "gridcolor": "white",
           "linecolor": "white",
           "ticks": "",
           "title": {
            "standoff": 15
           },
           "zerolinecolor": "white",
           "zerolinewidth": 2
          },
          "yaxis": {
           "automargin": true,
           "gridcolor": "white",
           "linecolor": "white",
           "ticks": "",
           "title": {
            "standoff": 15
           },
           "zerolinecolor": "white",
           "zerolinewidth": 2
          }
         }
        },
        "title": {
         "text": "Count of Activity Values"
        },
        "xaxis": {
         "anchor": "y",
         "categoryarray": [
          "Inactive",
          "Active"
         ],
         "categoryorder": "array",
         "domain": [
          0,
          1
         ],
         "title": {
          "text": "Activity"
         }
        },
        "yaxis": {
         "anchor": "x",
         "domain": [
          0,
          1
         ],
         "title": {
          "text": "Count"
         }
        }
       }
      }
     },
     "metadata": {},
     "output_type": "display_data"
    },
    {
     "name": "stdout",
     "output_type": "stream",
     "text": [
      "24.1% of the compounds are active.\n"
     ]
    }
   ],
   "source": [
    "# Map activity values to labels\n",
    "activity_labels = {0: 'Inactive', 1: 'Active'}\n",
    "er_table['activity_label'] = er_table['activity'].map(activity_labels)\n",
    "\n",
    "# Counting the occurrences of each activity label\n",
    "activity_counts = er_table['activity_label'].value_counts().reset_index()\n",
    "activity_counts.columns = ['activity_label', 'count']\n",
    "\n",
    "# Plotting the bar plot using Plotly\n",
    "fig = px.bar(activity_counts, x='activity_label', y='count', \n",
    "             labels={'activity_label': 'Activity', 'count': 'Count'},\n",
    "             title='Count of Activity Values',\n",
    "             color='activity_label',\n",
    "             color_discrete_map={'Inactive': 'purple', 'Active': 'green'})\n",
    "\n",
    "fig.show()\n",
    "print(f'{round((er_table[\"activity\"].sum()/len(er_table))*100, 1)}% of the compounds are active.') "
   ]
  },
  {
   "cell_type": "code",
   "execution_count": 54,
   "metadata": {},
   "outputs": [],
   "source": [
    "#Since the distinction between active and inactive is not needed we drop the two columns\n",
    "activity_only_df = er_table.drop(\n",
    "    columns=['TOX21_ERa_LUC_BG1_Antagonist', 'TOX21_ERa_LUC_BG1_Agonist'])"
   ]
  },
  {
   "cell_type": "markdown",
   "metadata": {},
   "source": [
    "We can also seperate the activity class into the agonism/ antagonism and therefore train one model for each "
   ]
  },
  {
   "cell_type": "markdown",
   "metadata": {},
   "source": [
    "2. Agonism activity and Antagonism activity "
   ]
  },
  {
   "cell_type": "code",
   "execution_count": 55,
   "metadata": {},
   "outputs": [],
   "source": [
    "agonist = er_table[['TOX21_ERa_LUC_BG1_Agonist','CPD_NAME']]\n",
    "antagonist = er_table[['TOX21_ERa_LUC_BG1_Antagonist','CPD_NAME']]"
   ]
  },
  {
   "cell_type": "code",
   "execution_count": 56,
   "metadata": {},
   "outputs": [],
   "source": [
    "agonist.loc[:, 'TOX21_ERa_LUC_BG1_Agonist'] = agonist['TOX21_ERa_LUC_BG1_Agonist'].astype('int')\n",
    "antagonist.loc[:, 'TOX21_ERa_LUC_BG1_Antagonist'] = antagonist['TOX21_ERa_LUC_BG1_Antagonist'].astype('int')\n",
    "\n"
   ]
  },
  {
   "cell_type": "markdown",
   "metadata": {},
   "source": [
    "## Mergin the annotation and morphological fingerprint "
   ]
  },
  {
   "cell_type": "markdown",
   "metadata": {},
   "source": [
    "We will create three types of datasets:\n",
    "\n",
    "- **Activity dataset:** Classifies molecules as active or non-active based on both agonism and antagonism assays. Non-active molecules did not show activity for ERα.\n",
    "\n",
    "- **Agonism dataset:** Considers only the agonism assay results. Active molecules are agonists, and non-active molecules did not show agonist effects during the assay.\n",
    "\n",
    "- **Antagonism dataset:** Considers only the antagonism assay results. Active molecules are antagonists, and non-active molecules did not show antagonist effects during the assay.\n"
   ]
  },
  {
   "cell_type": "markdown",
   "metadata": {},
   "source": [
    "4. Merging the annotation to the morphological data "
   ]
  },
  {
   "cell_type": "code",
   "execution_count": 57,
   "metadata": {},
   "outputs": [
    {
     "data": {
      "text/html": [
       "<div>\n",
       "<style scoped>\n",
       "    .dataframe tbody tr th:only-of-type {\n",
       "        vertical-align: middle;\n",
       "    }\n",
       "\n",
       "    .dataframe tbody tr th {\n",
       "        vertical-align: top;\n",
       "    }\n",
       "\n",
       "    .dataframe thead th {\n",
       "        text-align: right;\n",
       "    }\n",
       "</style>\n",
       "<table border=\"1\" class=\"dataframe\">\n",
       "  <thead>\n",
       "    <tr style=\"text-align: right;\">\n",
       "      <th></th>\n",
       "      <th>CPD_NAME</th>\n",
       "      <th>activity</th>\n",
       "      <th>Metadata_broad_sample</th>\n",
       "      <th>Cells_AreaShape_Area</th>\n",
       "      <th>Cells_AreaShape_Center_X</th>\n",
       "      <th>Cells_AreaShape_Center_Y</th>\n",
       "      <th>Cells_AreaShape_Compactness</th>\n",
       "      <th>Cells_AreaShape_FormFactor</th>\n",
       "      <th>Cells_AreaShape_Orientation</th>\n",
       "      <th>Cells_AreaShape_Perimeter</th>\n",
       "      <th>...</th>\n",
       "      <th>Nuclei_Texture_InverseDifferenceMoment_ER_10_0</th>\n",
       "      <th>Nuclei_Texture_InverseDifferenceMoment_RNA_3_0</th>\n",
       "      <th>Nuclei_Texture_SumAverage_AGP_10_0</th>\n",
       "      <th>Nuclei_Texture_SumAverage_DNA_10_0</th>\n",
       "      <th>Nuclei_Texture_SumAverage_RNA_10_0</th>\n",
       "      <th>Nuclei_Texture_SumEntropy_AGP_10_0</th>\n",
       "      <th>Nuclei_Texture_SumEntropy_DNA_10_0</th>\n",
       "      <th>Nuclei_Texture_SumEntropy_RNA_10_0</th>\n",
       "      <th>morganB_fps</th>\n",
       "      <th>morphological_fingerprint</th>\n",
       "    </tr>\n",
       "  </thead>\n",
       "  <tbody>\n",
       "    <tr>\n",
       "      <th>0</th>\n",
       "      <td>mibefradil</td>\n",
       "      <td>1</td>\n",
       "      <td>BRD-K09549677-311-05-6</td>\n",
       "      <td>-1.522142</td>\n",
       "      <td>-0.167552</td>\n",
       "      <td>-0.057663</td>\n",
       "      <td>0.922271</td>\n",
       "      <td>1.969991</td>\n",
       "      <td>-0.140241</td>\n",
       "      <td>-2.420645</td>\n",
       "      <td>...</td>\n",
       "      <td>0.797366</td>\n",
       "      <td>0.126704</td>\n",
       "      <td>-1.622976</td>\n",
       "      <td>0.448551</td>\n",
       "      <td>-0.025718</td>\n",
       "      <td>-1.723061</td>\n",
       "      <td>-0.213090</td>\n",
       "      <td>-0.638330</td>\n",
       "      <td>[0, 1, 0, 1, 0, 0, 0, 0, 0, 0, 0, 0, 0, 0, 0, ...</td>\n",
       "      <td>[-1.5221420268136925, -0.167552301981941, -0.0...</td>\n",
       "    </tr>\n",
       "    <tr>\n",
       "      <th>1</th>\n",
       "      <td>mibefradil</td>\n",
       "      <td>1</td>\n",
       "      <td>BRD-K09549677-300-01-8</td>\n",
       "      <td>0.307927</td>\n",
       "      <td>0.775698</td>\n",
       "      <td>0.480218</td>\n",
       "      <td>2.664921</td>\n",
       "      <td>1.421630</td>\n",
       "      <td>0.032674</td>\n",
       "      <td>-0.583083</td>\n",
       "      <td>...</td>\n",
       "      <td>-1.452899</td>\n",
       "      <td>-1.101514</td>\n",
       "      <td>-0.628421</td>\n",
       "      <td>0.754518</td>\n",
       "      <td>-0.195795</td>\n",
       "      <td>-2.022078</td>\n",
       "      <td>0.089506</td>\n",
       "      <td>-1.074223</td>\n",
       "      <td>[0, 1, 0, 1, 0, 0, 0, 0, 0, 0, 0, 0, 0, 0, 0, ...</td>\n",
       "      <td>[0.30792735741491867, 0.7756983423999834, 0.48...</td>\n",
       "    </tr>\n",
       "  </tbody>\n",
       "</table>\n",
       "<p>2 rows × 295 columns</p>\n",
       "</div>"
      ],
      "text/plain": [
       "     CPD_NAME  activity   Metadata_broad_sample  Cells_AreaShape_Area  \\\n",
       "0  mibefradil         1  BRD-K09549677-311-05-6             -1.522142   \n",
       "1  mibefradil         1  BRD-K09549677-300-01-8              0.307927   \n",
       "\n",
       "   Cells_AreaShape_Center_X  Cells_AreaShape_Center_Y  \\\n",
       "0                 -0.167552                 -0.057663   \n",
       "1                  0.775698                  0.480218   \n",
       "\n",
       "   Cells_AreaShape_Compactness  Cells_AreaShape_FormFactor  \\\n",
       "0                     0.922271                    1.969991   \n",
       "1                     2.664921                    1.421630   \n",
       "\n",
       "   Cells_AreaShape_Orientation  Cells_AreaShape_Perimeter  ...  \\\n",
       "0                    -0.140241                  -2.420645  ...   \n",
       "1                     0.032674                  -0.583083  ...   \n",
       "\n",
       "   Nuclei_Texture_InverseDifferenceMoment_ER_10_0  \\\n",
       "0                                        0.797366   \n",
       "1                                       -1.452899   \n",
       "\n",
       "   Nuclei_Texture_InverseDifferenceMoment_RNA_3_0  \\\n",
       "0                                        0.126704   \n",
       "1                                       -1.101514   \n",
       "\n",
       "   Nuclei_Texture_SumAverage_AGP_10_0  Nuclei_Texture_SumAverage_DNA_10_0  \\\n",
       "0                           -1.622976                            0.448551   \n",
       "1                           -0.628421                            0.754518   \n",
       "\n",
       "   Nuclei_Texture_SumAverage_RNA_10_0  Nuclei_Texture_SumEntropy_AGP_10_0  \\\n",
       "0                           -0.025718                           -1.723061   \n",
       "1                           -0.195795                           -2.022078   \n",
       "\n",
       "   Nuclei_Texture_SumEntropy_DNA_10_0  Nuclei_Texture_SumEntropy_RNA_10_0  \\\n",
       "0                           -0.213090                           -0.638330   \n",
       "1                            0.089506                           -1.074223   \n",
       "\n",
       "                                         morganB_fps  \\\n",
       "0  [0, 1, 0, 1, 0, 0, 0, 0, 0, 0, 0, 0, 0, 0, 0, ...   \n",
       "1  [0, 1, 0, 1, 0, 0, 0, 0, 0, 0, 0, 0, 0, 0, 0, ...   \n",
       "\n",
       "                           morphological_fingerprint  \n",
       "0  [-1.5221420268136925, -0.167552301981941, -0.0...  \n",
       "1  [0.30792735741491867, 0.7756983423999834, 0.48...  \n",
       "\n",
       "[2 rows x 295 columns]"
      ]
     },
     "execution_count": 57,
     "metadata": {},
     "output_type": "execute_result"
    }
   ],
   "source": [
    "activity_df = activity_only_df.join(dataset.set_index('CPD_NAME'), on='CPD_NAME')\n",
    "activity_df.reset_index(inplace=True, drop=True)\n",
    "activity_df.dropna(inplace=True)\n",
    "activity_df.drop('activity_label',axis = 1,inplace=True)\n",
    "activity_df.head(2)"
   ]
  },
  {
   "cell_type": "code",
   "execution_count": 58,
   "metadata": {},
   "outputs": [
    {
     "data": {
      "text/html": [
       "<div>\n",
       "<style scoped>\n",
       "    .dataframe tbody tr th:only-of-type {\n",
       "        vertical-align: middle;\n",
       "    }\n",
       "\n",
       "    .dataframe tbody tr th {\n",
       "        vertical-align: top;\n",
       "    }\n",
       "\n",
       "    .dataframe thead th {\n",
       "        text-align: right;\n",
       "    }\n",
       "</style>\n",
       "<table border=\"1\" class=\"dataframe\">\n",
       "  <thead>\n",
       "    <tr style=\"text-align: right;\">\n",
       "      <th></th>\n",
       "      <th>activity</th>\n",
       "      <th>CPD_NAME</th>\n",
       "      <th>Metadata_broad_sample</th>\n",
       "      <th>Cells_AreaShape_Area</th>\n",
       "      <th>Cells_AreaShape_Center_X</th>\n",
       "      <th>Cells_AreaShape_Center_Y</th>\n",
       "      <th>Cells_AreaShape_Compactness</th>\n",
       "      <th>Cells_AreaShape_FormFactor</th>\n",
       "      <th>Cells_AreaShape_Orientation</th>\n",
       "      <th>Cells_AreaShape_Perimeter</th>\n",
       "      <th>...</th>\n",
       "      <th>Nuclei_Texture_InverseDifferenceMoment_ER_10_0</th>\n",
       "      <th>Nuclei_Texture_InverseDifferenceMoment_RNA_3_0</th>\n",
       "      <th>Nuclei_Texture_SumAverage_AGP_10_0</th>\n",
       "      <th>Nuclei_Texture_SumAverage_DNA_10_0</th>\n",
       "      <th>Nuclei_Texture_SumAverage_RNA_10_0</th>\n",
       "      <th>Nuclei_Texture_SumEntropy_AGP_10_0</th>\n",
       "      <th>Nuclei_Texture_SumEntropy_DNA_10_0</th>\n",
       "      <th>Nuclei_Texture_SumEntropy_RNA_10_0</th>\n",
       "      <th>morganB_fps</th>\n",
       "      <th>morphological_fingerprint</th>\n",
       "    </tr>\n",
       "  </thead>\n",
       "  <tbody>\n",
       "    <tr>\n",
       "      <th>0</th>\n",
       "      <td>0.0</td>\n",
       "      <td>mibefradil</td>\n",
       "      <td>BRD-K09549677-311-05-6</td>\n",
       "      <td>-1.522142</td>\n",
       "      <td>-0.167552</td>\n",
       "      <td>-0.057663</td>\n",
       "      <td>0.922271</td>\n",
       "      <td>1.969991</td>\n",
       "      <td>-0.140241</td>\n",
       "      <td>-2.420645</td>\n",
       "      <td>...</td>\n",
       "      <td>0.797366</td>\n",
       "      <td>0.126704</td>\n",
       "      <td>-1.622976</td>\n",
       "      <td>0.448551</td>\n",
       "      <td>-0.025718</td>\n",
       "      <td>-1.723061</td>\n",
       "      <td>-0.213090</td>\n",
       "      <td>-0.638330</td>\n",
       "      <td>[0, 1, 0, 1, 0, 0, 0, 0, 0, 0, 0, 0, 0, 0, 0, ...</td>\n",
       "      <td>[-1.5221420268136925, -0.167552301981941, -0.0...</td>\n",
       "    </tr>\n",
       "    <tr>\n",
       "      <th>1</th>\n",
       "      <td>0.0</td>\n",
       "      <td>mibefradil</td>\n",
       "      <td>BRD-K09549677-300-01-8</td>\n",
       "      <td>0.307927</td>\n",
       "      <td>0.775698</td>\n",
       "      <td>0.480218</td>\n",
       "      <td>2.664921</td>\n",
       "      <td>1.421630</td>\n",
       "      <td>0.032674</td>\n",
       "      <td>-0.583083</td>\n",
       "      <td>...</td>\n",
       "      <td>-1.452899</td>\n",
       "      <td>-1.101514</td>\n",
       "      <td>-0.628421</td>\n",
       "      <td>0.754518</td>\n",
       "      <td>-0.195795</td>\n",
       "      <td>-2.022078</td>\n",
       "      <td>0.089506</td>\n",
       "      <td>-1.074223</td>\n",
       "      <td>[0, 1, 0, 1, 0, 0, 0, 0, 0, 0, 0, 0, 0, 0, 0, ...</td>\n",
       "      <td>[0.30792735741491867, 0.7756983423999834, 0.48...</td>\n",
       "    </tr>\n",
       "  </tbody>\n",
       "</table>\n",
       "<p>2 rows × 295 columns</p>\n",
       "</div>"
      ],
      "text/plain": [
       "   activity    CPD_NAME   Metadata_broad_sample  Cells_AreaShape_Area  \\\n",
       "0       0.0  mibefradil  BRD-K09549677-311-05-6             -1.522142   \n",
       "1       0.0  mibefradil  BRD-K09549677-300-01-8              0.307927   \n",
       "\n",
       "   Cells_AreaShape_Center_X  Cells_AreaShape_Center_Y  \\\n",
       "0                 -0.167552                 -0.057663   \n",
       "1                  0.775698                  0.480218   \n",
       "\n",
       "   Cells_AreaShape_Compactness  Cells_AreaShape_FormFactor  \\\n",
       "0                     0.922271                    1.969991   \n",
       "1                     2.664921                    1.421630   \n",
       "\n",
       "   Cells_AreaShape_Orientation  Cells_AreaShape_Perimeter  ...  \\\n",
       "0                    -0.140241                  -2.420645  ...   \n",
       "1                     0.032674                  -0.583083  ...   \n",
       "\n",
       "   Nuclei_Texture_InverseDifferenceMoment_ER_10_0  \\\n",
       "0                                        0.797366   \n",
       "1                                       -1.452899   \n",
       "\n",
       "   Nuclei_Texture_InverseDifferenceMoment_RNA_3_0  \\\n",
       "0                                        0.126704   \n",
       "1                                       -1.101514   \n",
       "\n",
       "   Nuclei_Texture_SumAverage_AGP_10_0  Nuclei_Texture_SumAverage_DNA_10_0  \\\n",
       "0                           -1.622976                            0.448551   \n",
       "1                           -0.628421                            0.754518   \n",
       "\n",
       "   Nuclei_Texture_SumAverage_RNA_10_0  Nuclei_Texture_SumEntropy_AGP_10_0  \\\n",
       "0                           -0.025718                           -1.723061   \n",
       "1                           -0.195795                           -2.022078   \n",
       "\n",
       "   Nuclei_Texture_SumEntropy_DNA_10_0  Nuclei_Texture_SumEntropy_RNA_10_0  \\\n",
       "0                           -0.213090                           -0.638330   \n",
       "1                            0.089506                           -1.074223   \n",
       "\n",
       "                                         morganB_fps  \\\n",
       "0  [0, 1, 0, 1, 0, 0, 0, 0, 0, 0, 0, 0, 0, 0, 0, ...   \n",
       "1  [0, 1, 0, 1, 0, 0, 0, 0, 0, 0, 0, 0, 0, 0, 0, ...   \n",
       "\n",
       "                           morphological_fingerprint  \n",
       "0  [-1.5221420268136925, -0.167552301981941, -0.0...  \n",
       "1  [0.30792735741491867, 0.7756983423999834, 0.48...  \n",
       "\n",
       "[2 rows x 295 columns]"
      ]
     },
     "execution_count": 58,
     "metadata": {},
     "output_type": "execute_result"
    }
   ],
   "source": [
    "agonist_df = agonist.join(dataset.set_index('CPD_NAME'), on='CPD_NAME')\n",
    "agonist_df.rename(columns={'TOX21_ERa_LUC_BG1_Agonist': 'activity'},inplace=True)\n",
    "agonist_df.reset_index(inplace=True, drop=True)\n",
    "agonist_df.dropna(inplace=True)\n",
    "agonist_df.head(2)"
   ]
  },
  {
   "cell_type": "code",
   "execution_count": 59,
   "metadata": {},
   "outputs": [
    {
     "data": {
      "text/html": [
       "<div>\n",
       "<style scoped>\n",
       "    .dataframe tbody tr th:only-of-type {\n",
       "        vertical-align: middle;\n",
       "    }\n",
       "\n",
       "    .dataframe tbody tr th {\n",
       "        vertical-align: top;\n",
       "    }\n",
       "\n",
       "    .dataframe thead th {\n",
       "        text-align: right;\n",
       "    }\n",
       "</style>\n",
       "<table border=\"1\" class=\"dataframe\">\n",
       "  <thead>\n",
       "    <tr style=\"text-align: right;\">\n",
       "      <th></th>\n",
       "      <th>activity</th>\n",
       "      <th>CPD_NAME</th>\n",
       "      <th>Metadata_broad_sample</th>\n",
       "      <th>Cells_AreaShape_Area</th>\n",
       "      <th>Cells_AreaShape_Center_X</th>\n",
       "      <th>Cells_AreaShape_Center_Y</th>\n",
       "      <th>Cells_AreaShape_Compactness</th>\n",
       "      <th>Cells_AreaShape_FormFactor</th>\n",
       "      <th>Cells_AreaShape_Orientation</th>\n",
       "      <th>Cells_AreaShape_Perimeter</th>\n",
       "      <th>...</th>\n",
       "      <th>Nuclei_Texture_InverseDifferenceMoment_ER_10_0</th>\n",
       "      <th>Nuclei_Texture_InverseDifferenceMoment_RNA_3_0</th>\n",
       "      <th>Nuclei_Texture_SumAverage_AGP_10_0</th>\n",
       "      <th>Nuclei_Texture_SumAverage_DNA_10_0</th>\n",
       "      <th>Nuclei_Texture_SumAverage_RNA_10_0</th>\n",
       "      <th>Nuclei_Texture_SumEntropy_AGP_10_0</th>\n",
       "      <th>Nuclei_Texture_SumEntropy_DNA_10_0</th>\n",
       "      <th>Nuclei_Texture_SumEntropy_RNA_10_0</th>\n",
       "      <th>morganB_fps</th>\n",
       "      <th>morphological_fingerprint</th>\n",
       "    </tr>\n",
       "  </thead>\n",
       "  <tbody>\n",
       "    <tr>\n",
       "      <th>0</th>\n",
       "      <td>1.0</td>\n",
       "      <td>mibefradil</td>\n",
       "      <td>BRD-K09549677-311-05-6</td>\n",
       "      <td>-1.522142</td>\n",
       "      <td>-0.167552</td>\n",
       "      <td>-0.057663</td>\n",
       "      <td>0.922271</td>\n",
       "      <td>1.969991</td>\n",
       "      <td>-0.140241</td>\n",
       "      <td>-2.420645</td>\n",
       "      <td>...</td>\n",
       "      <td>0.797366</td>\n",
       "      <td>0.126704</td>\n",
       "      <td>-1.622976</td>\n",
       "      <td>0.448551</td>\n",
       "      <td>-0.025718</td>\n",
       "      <td>-1.723061</td>\n",
       "      <td>-0.213090</td>\n",
       "      <td>-0.638330</td>\n",
       "      <td>[0, 1, 0, 1, 0, 0, 0, 0, 0, 0, 0, 0, 0, 0, 0, ...</td>\n",
       "      <td>[-1.5221420268136925, -0.167552301981941, -0.0...</td>\n",
       "    </tr>\n",
       "    <tr>\n",
       "      <th>1</th>\n",
       "      <td>1.0</td>\n",
       "      <td>mibefradil</td>\n",
       "      <td>BRD-K09549677-300-01-8</td>\n",
       "      <td>0.307927</td>\n",
       "      <td>0.775698</td>\n",
       "      <td>0.480218</td>\n",
       "      <td>2.664921</td>\n",
       "      <td>1.421630</td>\n",
       "      <td>0.032674</td>\n",
       "      <td>-0.583083</td>\n",
       "      <td>...</td>\n",
       "      <td>-1.452899</td>\n",
       "      <td>-1.101514</td>\n",
       "      <td>-0.628421</td>\n",
       "      <td>0.754518</td>\n",
       "      <td>-0.195795</td>\n",
       "      <td>-2.022078</td>\n",
       "      <td>0.089506</td>\n",
       "      <td>-1.074223</td>\n",
       "      <td>[0, 1, 0, 1, 0, 0, 0, 0, 0, 0, 0, 0, 0, 0, 0, ...</td>\n",
       "      <td>[0.30792735741491867, 0.7756983423999834, 0.48...</td>\n",
       "    </tr>\n",
       "  </tbody>\n",
       "</table>\n",
       "<p>2 rows × 295 columns</p>\n",
       "</div>"
      ],
      "text/plain": [
       "   activity    CPD_NAME   Metadata_broad_sample  Cells_AreaShape_Area  \\\n",
       "0       1.0  mibefradil  BRD-K09549677-311-05-6             -1.522142   \n",
       "1       1.0  mibefradil  BRD-K09549677-300-01-8              0.307927   \n",
       "\n",
       "   Cells_AreaShape_Center_X  Cells_AreaShape_Center_Y  \\\n",
       "0                 -0.167552                 -0.057663   \n",
       "1                  0.775698                  0.480218   \n",
       "\n",
       "   Cells_AreaShape_Compactness  Cells_AreaShape_FormFactor  \\\n",
       "0                     0.922271                    1.969991   \n",
       "1                     2.664921                    1.421630   \n",
       "\n",
       "   Cells_AreaShape_Orientation  Cells_AreaShape_Perimeter  ...  \\\n",
       "0                    -0.140241                  -2.420645  ...   \n",
       "1                     0.032674                  -0.583083  ...   \n",
       "\n",
       "   Nuclei_Texture_InverseDifferenceMoment_ER_10_0  \\\n",
       "0                                        0.797366   \n",
       "1                                       -1.452899   \n",
       "\n",
       "   Nuclei_Texture_InverseDifferenceMoment_RNA_3_0  \\\n",
       "0                                        0.126704   \n",
       "1                                       -1.101514   \n",
       "\n",
       "   Nuclei_Texture_SumAverage_AGP_10_0  Nuclei_Texture_SumAverage_DNA_10_0  \\\n",
       "0                           -1.622976                            0.448551   \n",
       "1                           -0.628421                            0.754518   \n",
       "\n",
       "   Nuclei_Texture_SumAverage_RNA_10_0  Nuclei_Texture_SumEntropy_AGP_10_0  \\\n",
       "0                           -0.025718                           -1.723061   \n",
       "1                           -0.195795                           -2.022078   \n",
       "\n",
       "   Nuclei_Texture_SumEntropy_DNA_10_0  Nuclei_Texture_SumEntropy_RNA_10_0  \\\n",
       "0                           -0.213090                           -0.638330   \n",
       "1                            0.089506                           -1.074223   \n",
       "\n",
       "                                         morganB_fps  \\\n",
       "0  [0, 1, 0, 1, 0, 0, 0, 0, 0, 0, 0, 0, 0, 0, 0, ...   \n",
       "1  [0, 1, 0, 1, 0, 0, 0, 0, 0, 0, 0, 0, 0, 0, 0, ...   \n",
       "\n",
       "                           morphological_fingerprint  \n",
       "0  [-1.5221420268136925, -0.167552301981941, -0.0...  \n",
       "1  [0.30792735741491867, 0.7756983423999834, 0.48...  \n",
       "\n",
       "[2 rows x 295 columns]"
      ]
     },
     "execution_count": 59,
     "metadata": {},
     "output_type": "execute_result"
    }
   ],
   "source": [
    "antagonist_df = antagonist.join(dataset.set_index('CPD_NAME'), on='CPD_NAME')\n",
    "antagonist_df.rename(columns={'TOX21_ERa_LUC_BG1_Antagonist': 'activity'},inplace=True)\n",
    "antagonist_df.reset_index(inplace=True, drop=True)\n",
    "antagonist_df.dropna(inplace=True)\n",
    "antagonist_df.head(2)"
   ]
  },
  {
   "cell_type": "markdown",
   "metadata": {},
   "source": [
    "As mentioned before, treatments have been tested under different stereoisomers their Broad ID defers, although the compound names are identic. Therefore, we will be careful that different Broad IDs are only contained in one of the Sets to avoid data leakage."
   ]
  },
  {
   "cell_type": "markdown",
   "metadata": {},
   "source": [
    "## Spliting Data in Training and TestSet"
   ]
  },
  {
   "cell_type": "markdown",
   "metadata": {},
   "source": [
    "For ML, we always need training and a test set that are pairwise disjoint. <br>\n",
    "To this end, we split the data into two parts, where the training set will contain 80% of the samples and the test set the remaining 20%. <br>\n",
    "Moreover, we need a response vector y, i.e., the column with the activity information and a feature matrix X, i.e., a matrix with the morphological or molecular fingerprints or a combination thereof, for each compound. <br>\n",
    "To make sure we do not have a data leakage, we ensure that all instances of compounds, which appear several times in the dataset, are put in the same set. Moreover, we want to ensure that we have enough instances of the active class in both sets. Therefore, we perform a stratified split that ensures a constant ratio of active and inactive compounds in all datasets."
   ]
  },
  {
   "cell_type": "markdown",
   "metadata": {},
   "source": [
    "1. Features and variable to predict (response vector)"
   ]
  },
  {
   "cell_type": "code",
   "execution_count": 60,
   "metadata": {},
   "outputs": [],
   "source": [
    "def train_test_name(data):\n",
    "    train_names, test_names, train_activities, test_activities = train_test_split(\n",
    "        data['CPD_NAME'].values, \n",
    "        data['activity'].values.astype('int'), \n",
    "        random_state=42, \n",
    "        test_size=0.2, \n",
    "        shuffle=True,\n",
    "        stratify=data['activity'].values.astype('int')) #stratify split \n",
    "    return train_names, test_names, train_activities, test_activities"
   ]
  },
  {
   "cell_type": "code",
   "execution_count": 61,
   "metadata": {},
   "outputs": [],
   "source": [
    "train_names, test_names, train_activities, test_activities = train_test_name(activity_df)"
   ]
  },
  {
   "cell_type": "code",
   "execution_count": 62,
   "metadata": {},
   "outputs": [
    {
     "name": "stdout",
     "output_type": "stream",
     "text": [
      "linoleic acid is in training set\n"
     ]
    }
   ],
   "source": [
    "if 'linoleic acid' in train_names:\n",
    "    print('linoleic acid is in training set')\n",
    "elif 'linoleic acid' in test_names:\n",
    "    print('linoleic acid is in test set')"
   ]
  },
  {
   "cell_type": "markdown",
   "metadata": {},
   "source": [
    "## Binary Classification"
   ]
  },
  {
   "cell_type": "code",
   "execution_count": 63,
   "metadata": {},
   "outputs": [],
   "source": [
    "def define_set(data,train_names, test_names ):\n",
    "    X = data.copy(deep=True)\n",
    "    X_train = X.loc[X['CPD_NAME'].isin(train_names), :].copy(deep=True)\n",
    "    X_test = X.loc[X['CPD_NAME'].isin(test_names), :].copy(deep=True)\n",
    "\n",
    "    y_train = X_train['activity'].values\n",
    "    y_test = X_test['activity'].values\n",
    "\n",
    "    cols_to_drop = ['morganB_fps', 'morphological_fingerprint', 'activity',\n",
    "                 'Metadata_broad_sample','CPD_NAME']\n",
    "    X_test_morph_fp = X_test.drop(cols_to_drop, axis=1)\n",
    "    X_train_morph_fp = X_train.drop(cols_to_drop, axis=1)\n",
    "    \n",
    "    return X_test_morph_fp ,X_train_morph_fp , y_train , y_test , X_train ,X_test"
   ]
  },
  {
   "cell_type": "code",
   "execution_count": 64,
   "metadata": {},
   "outputs": [],
   "source": [
    "#X_test_morph_fp ,X_train_morph_fp , y_train , y_test,X_train ,X_test = define_set(agonist_df,train_names, test_names)"
   ]
  },
  {
   "cell_type": "code",
   "execution_count": 65,
   "metadata": {},
   "outputs": [],
   "source": [
    "X_test_morph_fp ,X_train_morph_fp , y_train , y_test,X_train ,X_test = define_set(antagonist_df,train_names, test_names)"
   ]
  },
  {
   "cell_type": "code",
   "execution_count": 66,
   "metadata": {},
   "outputs": [],
   "source": [
    "#X_test_morph_fp ,X_train_morph_fp , y_train , y_test,X_train ,X_test = define_set(activity_df,train_names, test_names)"
   ]
  },
  {
   "cell_type": "markdown",
   "metadata": {},
   "source": [
    "## Cross Validation and Hyperparameter Tuning\n",
    "\n",
    "In ML, we want to minimize a loss function, e.g., the mean-squared error (MSE). In particular, we want to fit the training data in order to minimize the loss on the training samples, while still having a small error on the unseen test samples. Moreover, there are hyperparameters defining the hypothesis space of the model, which can be tuned in order to minimize the estimated test error. The test error can be estimated using a so-called k-fold cross validation (CV), which is performed in the following.\n",
    "\n",
    "For an RF, there are three hyperparameters that we want to tune in order to optimize the estimated test error: \n",
    "* depth of the trees in the forest: 10, 20, or 30\n",
    "* number of trees in the forest: 100, 300, or 500\n",
    "* minimum number of samples per leaf: 10, 15, or 20"
   ]
  },
  {
   "cell_type": "code",
   "execution_count": 67,
   "metadata": {},
   "outputs": [],
   "source": [
    "def rf_cross_validation(X_train, y_train, max_depth_range=[10, 20, 30], num_tree_range=[100, 300, 500], min_samples_leaf_range=[10, 15, 20]):\n",
    "    '''\n",
    "        performs a 5-fold CV for a Random Forest for given X_train and y_train\n",
    "\n",
    "        @param X_train: the training matrix\n",
    "        @param y_train: the associated response vector\n",
    "        @param max_depth_range: list containing the values that should be tested for max depth, default [10,20,30]\n",
    "        @param num_tree_range: list containing the values that should be tested for the number of trees, default [100,300,500]\n",
    "        @param min_samples_leaf_range: list containing the values that should be tested for the minimum number of samples per leaf, default [10,15,20]\n",
    "\n",
    "        @return: a forest with the best hyperparameter according to the estimated test MSE and trained on the whole training set\n",
    "    '''\n",
    "    best_score = -float('inf')\n",
    "    for depth in max_depth_range:\n",
    "        cv_results = cross_validate(RandomForestClassifier(random_state=42, max_depth=depth, n_jobs=-1,\n",
    "                                    class_weight='balanced'), X=X_train, y=y_train, scoring='balanced_accuracy', cv=5)\n",
    "        score = np.mean(cv_results['test_score'])\n",
    "        if score > best_score:\n",
    "            best_score = score\n",
    "            best_depth = depth\n",
    "\n",
    "    best_score = -float('inf')\n",
    "    for n_tree in num_tree_range:\n",
    "        cv_results = cross_validate(RandomForestClassifier(random_state=42, n_estimators=n_tree,\n",
    "                                    n_jobs=-1, class_weight='balanced'), X=X_train, y=y_train, scoring='balanced_accuracy', cv=5)\n",
    "        score = np.mean(cv_results['test_score'])\n",
    "        if score > best_score:\n",
    "            best_score = score\n",
    "            best_n_tree = n_tree\n",
    "\n",
    "    best_score = -float('inf')\n",
    "    for num_samples in min_samples_leaf_range:\n",
    "        cv_results = cross_validate(RandomForestClassifier(random_state=42, min_samples_leaf=num_samples,\n",
    "                                    n_jobs=-1, class_weight='balanced'), X=X_train, y=y_train, scoring='balanced_accuracy', cv=5)\n",
    "        score = np.mean(cv_results['test_score'])\n",
    "        if score > best_score:\n",
    "            best_score = score\n",
    "            best_min_samples = num_samples\n",
    "\n",
    "    rf = RandomForestClassifier(random_state=42, n_estimators=best_n_tree, max_depth=best_depth,\n",
    "                                min_samples_leaf=best_min_samples, n_jobs=-1, class_weight='balanced')\n",
    "    rf.fit(X_train, y_train)\n",
    "    \n",
    "    return rf"
   ]
  },
  {
   "cell_type": "code",
   "execution_count": 68,
   "metadata": {},
   "outputs": [],
   "source": [
    "best_estimator = rf_cross_validation(X_train_morph_fp, y_train)"
   ]
  },
  {
   "cell_type": "markdown",
   "metadata": {},
   "source": [
    "Now, we print the hyperparameters of the forest, to see what performed best in the CV."
   ]
  },
  {
   "cell_type": "code",
   "execution_count": 69,
   "metadata": {},
   "outputs": [
    {
     "name": "stdout",
     "output_type": "stream",
     "text": [
      "We use a max depth of 20, 100 trees, and at least 20 samples per leaf.\n"
     ]
    }
   ],
   "source": [
    "param_dict = best_estimator.get_params()\n",
    "print(\n",
    "    f'We use a max depth of {param_dict[\"max_depth\"]}, {param_dict[\"n_estimators\"]} trees, and at least {param_dict[\"min_samples_leaf\"]} samples per leaf.')"
   ]
  },
  {
   "cell_type": "markdown",
   "metadata": {},
   "source": [
    "## Prediction on Test Set "
   ]
  },
  {
   "cell_type": "markdown",
   "metadata": {},
   "source": [
    "Now, we predict for the test data, i.e., so far unseen samples to calculate the real test error."
   ]
  },
  {
   "cell_type": "code",
   "execution_count": 70,
   "metadata": {},
   "outputs": [],
   "source": [
    "random_forest = best_estimator\n",
    "y_pred = random_forest.predict(X_test_morph_fp)"
   ]
  },
  {
   "cell_type": "markdown",
   "metadata": {},
   "source": [
    "And calculate the Matthews correlation coefficient (MCC) on our test set prediciton."
   ]
  },
  {
   "cell_type": "code",
   "execution_count": 71,
   "metadata": {},
   "outputs": [
    {
     "name": "stdout",
     "output_type": "stream",
     "text": [
      "The RF trained on morphological fingerprints reached an MCC of 0.6167646926321844\n"
     ]
    }
   ],
   "source": [
    "print(\n",
    "    f'The RF trained on morphological fingerprints reached an MCC of {matthews_corrcoef(y_pred=y_pred, y_true=y_test)}')"
   ]
  },
  {
   "cell_type": "markdown",
   "metadata": {},
   "source": [
    "## Using Structural (Morgan) Fingerprints"
   ]
  },
  {
   "cell_type": "markdown",
   "metadata": {},
   "source": [
    "1. Features and variable to predict (response vector)"
   ]
  },
  {
   "cell_type": "code",
   "execution_count": 72,
   "metadata": {},
   "outputs": [],
   "source": [
    "\n",
    "X_test_morgan_fp = X_test['morganB_fps'].copy(deep=True).values\n",
    "X_train_morgan_fp = X_train['morganB_fps'].copy(deep=True).values"
   ]
  },
  {
   "cell_type": "code",
   "execution_count": 73,
   "metadata": {},
   "outputs": [],
   "source": [
    "def convert_list_features_to_numpy(x):\n",
    "    '''\n",
    "        converts the features that are stored in an array containing lists to an array of arrays such that shape works\n",
    "\n",
    "        @param x: array containing lists \n",
    "        @return x_new: array of arrays of ints\n",
    "    '''\n",
    "    new_x = []\n",
    "    for element in x:\n",
    "        new_x.append(np.array(element))\n",
    "    return np.array(new_x)"
   ]
  },
  {
   "cell_type": "code",
   "execution_count": 74,
   "metadata": {},
   "outputs": [],
   "source": [
    "X_test_morgan_fp = convert_list_features_to_numpy(X_test_morgan_fp)\n",
    "X_train_morgan_fp = convert_list_features_to_numpy(X_train_morgan_fp)"
   ]
  },
  {
   "cell_type": "code",
   "execution_count": 75,
   "metadata": {},
   "outputs": [],
   "source": [
    "best_estimator = rf_cross_validation(X_train_morgan_fp, y_train)"
   ]
  },
  {
   "cell_type": "code",
   "execution_count": 76,
   "metadata": {},
   "outputs": [
    {
     "name": "stdout",
     "output_type": "stream",
     "text": [
      "We use a max depth of 20, 100 trees, and at least 15 samples per leaf.\n"
     ]
    }
   ],
   "source": [
    "param_dict = best_estimator.get_params()\n",
    "print(\n",
    "    f'We use a max depth of {param_dict[\"max_depth\"]}, {param_dict[\"n_estimators\"]} trees, and at least {param_dict[\"min_samples_leaf\"]} samples per leaf.')"
   ]
  },
  {
   "cell_type": "markdown",
   "metadata": {},
   "source": [
    "### Prediction on Test Set"
   ]
  },
  {
   "cell_type": "code",
   "execution_count": 77,
   "metadata": {},
   "outputs": [],
   "source": [
    "y_pred = best_estimator.predict(X_test_morgan_fp)"
   ]
  },
  {
   "cell_type": "code",
   "execution_count": 78,
   "metadata": {},
   "outputs": [
    {
     "name": "stdout",
     "output_type": "stream",
     "text": [
      "The RF trained on Morgan fingerprints reached an MCC of 0.45776534854849266\n"
     ]
    }
   ],
   "source": [
    "print(\n",
    "    f'The RF trained on Morgan fingerprints reached an MCC of {matthews_corrcoef(y_pred=y_pred, y_true=y_test)}')"
   ]
  },
  {
   "cell_type": "markdown",
   "metadata": {},
   "source": [
    "## Using both Structural (Morgan) and Morphological Fingerprints"
   ]
  },
  {
   "cell_type": "code",
   "execution_count": 79,
   "metadata": {},
   "outputs": [],
   "source": [
    "def append_concat_molecular_and_morphological_FP(x):\n",
    "    '''\n",
    "        creates a new column 'appended_profile' containing the joint morphological and Morgan fingerprints\n",
    "\n",
    "        @param x: pandas DataFrame with columns 'morphological_fingerprint' and 'morganB_fps'\n",
    "        @return x with new column 'appended_profile' \n",
    "    '''\n",
    "    x['appended_profile'] = x.apply(lambda x: np.concatenate(\n",
    "        [x['morphological_fingerprint'], x['morganB_fps']]), axis=1)\n",
    "    return x"
   ]
  },
  {
   "cell_type": "code",
   "execution_count": 80,
   "metadata": {},
   "outputs": [],
   "source": [
    "X_test_morph_morgan_fp = append_concat_molecular_and_morphological_FP(\n",
    "    X_test.copy(deep=True))\n",
    "X_train_morph_morgan_fp = append_concat_molecular_and_morphological_FP(\n",
    "    X_train.copy(deep=True))"
   ]
  },
  {
   "cell_type": "code",
   "execution_count": 81,
   "metadata": {},
   "outputs": [],
   "source": [
    "X_train_morph_morgan_fp = convert_list_features_to_numpy(\n",
    "    X_train_morph_morgan_fp['appended_profile'].values)\n",
    "X_test_morph_morgan_fp = convert_list_features_to_numpy(\n",
    "    X_test_morph_morgan_fp['appended_profile'].values)"
   ]
  },
  {
   "cell_type": "code",
   "execution_count": 82,
   "metadata": {},
   "outputs": [],
   "source": [
    "rf_combined_morgan_morph = rf_cross_validation(\n",
    "    X_train=X_train_morph_morgan_fp, y_train=y_train)"
   ]
  },
  {
   "cell_type": "code",
   "execution_count": 83,
   "metadata": {},
   "outputs": [],
   "source": [
    "y_pred_combi = rf_combined_morgan_morph.predict(X_test_morph_morgan_fp)"
   ]
  },
  {
   "cell_type": "code",
   "execution_count": 84,
   "metadata": {},
   "outputs": [
    {
     "name": "stdout",
     "output_type": "stream",
     "text": [
      "The RF trained on both morphological and Morgan fingerprints reached an MCC of 0.5315812566841983\n"
     ]
    }
   ],
   "source": [
    "print(\n",
    "    f'The RF trained on both morphological and Morgan fingerprints reached an MCC of {matthews_corrcoef(y_pred=y_pred_combi, y_true=y_test)}')"
   ]
  },
  {
   "cell_type": "markdown",
   "metadata": {},
   "source": [
    "## Conclusion"
   ]
  },
  {
   "cell_type": "markdown",
   "metadata": {},
   "source": [
    "Apparently, the model trained on Morgan fingerprints only reached the best (highest) MCC."
   ]
  },
  {
   "cell_type": "markdown",
   "metadata": {},
   "source": [
    "## Multiclass Classification"
   ]
  },
  {
   "cell_type": "markdown",
   "metadata": {},
   "source": [
    "1. Multiclass problem "
   ]
  },
  {
   "cell_type": "markdown",
   "metadata": {},
   "source": [
    "We created four classes to later train a multiclass classifier based on the two assays available, which are:\n",
    "- Agonist\n",
    "- Antagonist\n",
    "- Both agonist and antagonist\n",
    "- No activity"
   ]
  },
  {
   "cell_type": "code",
   "execution_count": 85,
   "metadata": {},
   "outputs": [
    {
     "data": {
      "application/vnd.plotly.v1+json": {
       "config": {
        "plotlyServerURL": "https://plot.ly"
       },
       "data": [
        {
         "alignmentgroup": "True",
         "hovertemplate": "Class Label=%{x}<br>Count=%{y}<extra></extra>",
         "legendgroup": "not active",
         "marker": {
          "color": "rgb(136, 204, 238)",
          "pattern": {
           "shape": ""
          }
         },
         "name": "not active",
         "offsetgroup": "not active",
         "orientation": "v",
         "showlegend": true,
         "textposition": "auto",
         "type": "bar",
         "x": [
          "not active"
         ],
         "xaxis": "x",
         "y": [
          669
         ],
         "yaxis": "y"
        },
        {
         "alignmentgroup": "True",
         "hovertemplate": "Class Label=%{x}<br>Count=%{y}<extra></extra>",
         "legendgroup": "agonist",
         "marker": {
          "color": "rgb(204, 102, 119)",
          "pattern": {
           "shape": ""
          }
         },
         "name": "agonist",
         "offsetgroup": "agonist",
         "orientation": "v",
         "showlegend": true,
         "textposition": "auto",
         "type": "bar",
         "x": [
          "agonist"
         ],
         "xaxis": "x",
         "y": [
          115
         ],
         "yaxis": "y"
        },
        {
         "alignmentgroup": "True",
         "hovertemplate": "Class Label=%{x}<br>Count=%{y}<extra></extra>",
         "legendgroup": "antagonist",
         "marker": {
          "color": "rgb(221, 204, 119)",
          "pattern": {
           "shape": ""
          }
         },
         "name": "antagonist",
         "offsetgroup": "antagonist",
         "orientation": "v",
         "showlegend": true,
         "textposition": "auto",
         "type": "bar",
         "x": [
          "antagonist"
         ],
         "xaxis": "x",
         "y": [
          85
         ],
         "yaxis": "y"
        },
        {
         "alignmentgroup": "True",
         "hovertemplate": "Class Label=%{x}<br>Count=%{y}<extra></extra>",
         "legendgroup": "both",
         "marker": {
          "color": "rgb(17, 119, 51)",
          "pattern": {
           "shape": ""
          }
         },
         "name": "both",
         "offsetgroup": "both",
         "orientation": "v",
         "showlegend": true,
         "textposition": "auto",
         "type": "bar",
         "x": [
          "both"
         ],
         "xaxis": "x",
         "y": [
          12
         ],
         "yaxis": "y"
        }
       ],
       "layout": {
        "barmode": "relative",
        "legend": {
         "title": {
          "text": "Class Label"
         },
         "tracegroupgap": 0
        },
        "template": {
         "data": {
          "bar": [
           {
            "error_x": {
             "color": "#2a3f5f"
            },
            "error_y": {
             "color": "#2a3f5f"
            },
            "marker": {
             "line": {
              "color": "#E5ECF6",
              "width": 0.5
             },
             "pattern": {
              "fillmode": "overlay",
              "size": 10,
              "solidity": 0.2
             }
            },
            "type": "bar"
           }
          ],
          "barpolar": [
           {
            "marker": {
             "line": {
              "color": "#E5ECF6",
              "width": 0.5
             },
             "pattern": {
              "fillmode": "overlay",
              "size": 10,
              "solidity": 0.2
             }
            },
            "type": "barpolar"
           }
          ],
          "carpet": [
           {
            "aaxis": {
             "endlinecolor": "#2a3f5f",
             "gridcolor": "white",
             "linecolor": "white",
             "minorgridcolor": "white",
             "startlinecolor": "#2a3f5f"
            },
            "baxis": {
             "endlinecolor": "#2a3f5f",
             "gridcolor": "white",
             "linecolor": "white",
             "minorgridcolor": "white",
             "startlinecolor": "#2a3f5f"
            },
            "type": "carpet"
           }
          ],
          "choropleth": [
           {
            "colorbar": {
             "outlinewidth": 0,
             "ticks": ""
            },
            "type": "choropleth"
           }
          ],
          "contour": [
           {
            "colorbar": {
             "outlinewidth": 0,
             "ticks": ""
            },
            "colorscale": [
             [
              0,
              "#0d0887"
             ],
             [
              0.1111111111111111,
              "#46039f"
             ],
             [
              0.2222222222222222,
              "#7201a8"
             ],
             [
              0.3333333333333333,
              "#9c179e"
             ],
             [
              0.4444444444444444,
              "#bd3786"
             ],
             [
              0.5555555555555556,
              "#d8576b"
             ],
             [
              0.6666666666666666,
              "#ed7953"
             ],
             [
              0.7777777777777778,
              "#fb9f3a"
             ],
             [
              0.8888888888888888,
              "#fdca26"
             ],
             [
              1,
              "#f0f921"
             ]
            ],
            "type": "contour"
           }
          ],
          "contourcarpet": [
           {
            "colorbar": {
             "outlinewidth": 0,
             "ticks": ""
            },
            "type": "contourcarpet"
           }
          ],
          "heatmap": [
           {
            "colorbar": {
             "outlinewidth": 0,
             "ticks": ""
            },
            "colorscale": [
             [
              0,
              "#0d0887"
             ],
             [
              0.1111111111111111,
              "#46039f"
             ],
             [
              0.2222222222222222,
              "#7201a8"
             ],
             [
              0.3333333333333333,
              "#9c179e"
             ],
             [
              0.4444444444444444,
              "#bd3786"
             ],
             [
              0.5555555555555556,
              "#d8576b"
             ],
             [
              0.6666666666666666,
              "#ed7953"
             ],
             [
              0.7777777777777778,
              "#fb9f3a"
             ],
             [
              0.8888888888888888,
              "#fdca26"
             ],
             [
              1,
              "#f0f921"
             ]
            ],
            "type": "heatmap"
           }
          ],
          "heatmapgl": [
           {
            "colorbar": {
             "outlinewidth": 0,
             "ticks": ""
            },
            "colorscale": [
             [
              0,
              "#0d0887"
             ],
             [
              0.1111111111111111,
              "#46039f"
             ],
             [
              0.2222222222222222,
              "#7201a8"
             ],
             [
              0.3333333333333333,
              "#9c179e"
             ],
             [
              0.4444444444444444,
              "#bd3786"
             ],
             [
              0.5555555555555556,
              "#d8576b"
             ],
             [
              0.6666666666666666,
              "#ed7953"
             ],
             [
              0.7777777777777778,
              "#fb9f3a"
             ],
             [
              0.8888888888888888,
              "#fdca26"
             ],
             [
              1,
              "#f0f921"
             ]
            ],
            "type": "heatmapgl"
           }
          ],
          "histogram": [
           {
            "marker": {
             "pattern": {
              "fillmode": "overlay",
              "size": 10,
              "solidity": 0.2
             }
            },
            "type": "histogram"
           }
          ],
          "histogram2d": [
           {
            "colorbar": {
             "outlinewidth": 0,
             "ticks": ""
            },
            "colorscale": [
             [
              0,
              "#0d0887"
             ],
             [
              0.1111111111111111,
              "#46039f"
             ],
             [
              0.2222222222222222,
              "#7201a8"
             ],
             [
              0.3333333333333333,
              "#9c179e"
             ],
             [
              0.4444444444444444,
              "#bd3786"
             ],
             [
              0.5555555555555556,
              "#d8576b"
             ],
             [
              0.6666666666666666,
              "#ed7953"
             ],
             [
              0.7777777777777778,
              "#fb9f3a"
             ],
             [
              0.8888888888888888,
              "#fdca26"
             ],
             [
              1,
              "#f0f921"
             ]
            ],
            "type": "histogram2d"
           }
          ],
          "histogram2dcontour": [
           {
            "colorbar": {
             "outlinewidth": 0,
             "ticks": ""
            },
            "colorscale": [
             [
              0,
              "#0d0887"
             ],
             [
              0.1111111111111111,
              "#46039f"
             ],
             [
              0.2222222222222222,
              "#7201a8"
             ],
             [
              0.3333333333333333,
              "#9c179e"
             ],
             [
              0.4444444444444444,
              "#bd3786"
             ],
             [
              0.5555555555555556,
              "#d8576b"
             ],
             [
              0.6666666666666666,
              "#ed7953"
             ],
             [
              0.7777777777777778,
              "#fb9f3a"
             ],
             [
              0.8888888888888888,
              "#fdca26"
             ],
             [
              1,
              "#f0f921"
             ]
            ],
            "type": "histogram2dcontour"
           }
          ],
          "mesh3d": [
           {
            "colorbar": {
             "outlinewidth": 0,
             "ticks": ""
            },
            "type": "mesh3d"
           }
          ],
          "parcoords": [
           {
            "line": {
             "colorbar": {
              "outlinewidth": 0,
              "ticks": ""
             }
            },
            "type": "parcoords"
           }
          ],
          "pie": [
           {
            "automargin": true,
            "type": "pie"
           }
          ],
          "scatter": [
           {
            "fillpattern": {
             "fillmode": "overlay",
             "size": 10,
             "solidity": 0.2
            },
            "type": "scatter"
           }
          ],
          "scatter3d": [
           {
            "line": {
             "colorbar": {
              "outlinewidth": 0,
              "ticks": ""
             }
            },
            "marker": {
             "colorbar": {
              "outlinewidth": 0,
              "ticks": ""
             }
            },
            "type": "scatter3d"
           }
          ],
          "scattercarpet": [
           {
            "marker": {
             "colorbar": {
              "outlinewidth": 0,
              "ticks": ""
             }
            },
            "type": "scattercarpet"
           }
          ],
          "scattergeo": [
           {
            "marker": {
             "colorbar": {
              "outlinewidth": 0,
              "ticks": ""
             }
            },
            "type": "scattergeo"
           }
          ],
          "scattergl": [
           {
            "marker": {
             "colorbar": {
              "outlinewidth": 0,
              "ticks": ""
             }
            },
            "type": "scattergl"
           }
          ],
          "scattermapbox": [
           {
            "marker": {
             "colorbar": {
              "outlinewidth": 0,
              "ticks": ""
             }
            },
            "type": "scattermapbox"
           }
          ],
          "scatterpolar": [
           {
            "marker": {
             "colorbar": {
              "outlinewidth": 0,
              "ticks": ""
             }
            },
            "type": "scatterpolar"
           }
          ],
          "scatterpolargl": [
           {
            "marker": {
             "colorbar": {
              "outlinewidth": 0,
              "ticks": ""
             }
            },
            "type": "scatterpolargl"
           }
          ],
          "scatterternary": [
           {
            "marker": {
             "colorbar": {
              "outlinewidth": 0,
              "ticks": ""
             }
            },
            "type": "scatterternary"
           }
          ],
          "surface": [
           {
            "colorbar": {
             "outlinewidth": 0,
             "ticks": ""
            },
            "colorscale": [
             [
              0,
              "#0d0887"
             ],
             [
              0.1111111111111111,
              "#46039f"
             ],
             [
              0.2222222222222222,
              "#7201a8"
             ],
             [
              0.3333333333333333,
              "#9c179e"
             ],
             [
              0.4444444444444444,
              "#bd3786"
             ],
             [
              0.5555555555555556,
              "#d8576b"
             ],
             [
              0.6666666666666666,
              "#ed7953"
             ],
             [
              0.7777777777777778,
              "#fb9f3a"
             ],
             [
              0.8888888888888888,
              "#fdca26"
             ],
             [
              1,
              "#f0f921"
             ]
            ],
            "type": "surface"
           }
          ],
          "table": [
           {
            "cells": {
             "fill": {
              "color": "#EBF0F8"
             },
             "line": {
              "color": "white"
             }
            },
            "header": {
             "fill": {
              "color": "#C8D4E3"
             },
             "line": {
              "color": "white"
             }
            },
            "type": "table"
           }
          ]
         },
         "layout": {
          "annotationdefaults": {
           "arrowcolor": "#2a3f5f",
           "arrowhead": 0,
           "arrowwidth": 1
          },
          "autotypenumbers": "strict",
          "coloraxis": {
           "colorbar": {
            "outlinewidth": 0,
            "ticks": ""
           }
          },
          "colorscale": {
           "diverging": [
            [
             0,
             "#8e0152"
            ],
            [
             0.1,
             "#c51b7d"
            ],
            [
             0.2,
             "#de77ae"
            ],
            [
             0.3,
             "#f1b6da"
            ],
            [
             0.4,
             "#fde0ef"
            ],
            [
             0.5,
             "#f7f7f7"
            ],
            [
             0.6,
             "#e6f5d0"
            ],
            [
             0.7,
             "#b8e186"
            ],
            [
             0.8,
             "#7fbc41"
            ],
            [
             0.9,
             "#4d9221"
            ],
            [
             1,
             "#276419"
            ]
           ],
           "sequential": [
            [
             0,
             "#0d0887"
            ],
            [
             0.1111111111111111,
             "#46039f"
            ],
            [
             0.2222222222222222,
             "#7201a8"
            ],
            [
             0.3333333333333333,
             "#9c179e"
            ],
            [
             0.4444444444444444,
             "#bd3786"
            ],
            [
             0.5555555555555556,
             "#d8576b"
            ],
            [
             0.6666666666666666,
             "#ed7953"
            ],
            [
             0.7777777777777778,
             "#fb9f3a"
            ],
            [
             0.8888888888888888,
             "#fdca26"
            ],
            [
             1,
             "#f0f921"
            ]
           ],
           "sequentialminus": [
            [
             0,
             "#0d0887"
            ],
            [
             0.1111111111111111,
             "#46039f"
            ],
            [
             0.2222222222222222,
             "#7201a8"
            ],
            [
             0.3333333333333333,
             "#9c179e"
            ],
            [
             0.4444444444444444,
             "#bd3786"
            ],
            [
             0.5555555555555556,
             "#d8576b"
            ],
            [
             0.6666666666666666,
             "#ed7953"
            ],
            [
             0.7777777777777778,
             "#fb9f3a"
            ],
            [
             0.8888888888888888,
             "#fdca26"
            ],
            [
             1,
             "#f0f921"
            ]
           ]
          },
          "colorway": [
           "#636efa",
           "#EF553B",
           "#00cc96",
           "#ab63fa",
           "#FFA15A",
           "#19d3f3",
           "#FF6692",
           "#B6E880",
           "#FF97FF",
           "#FECB52"
          ],
          "font": {
           "color": "#2a3f5f"
          },
          "geo": {
           "bgcolor": "white",
           "lakecolor": "white",
           "landcolor": "#E5ECF6",
           "showlakes": true,
           "showland": true,
           "subunitcolor": "white"
          },
          "hoverlabel": {
           "align": "left"
          },
          "hovermode": "closest",
          "mapbox": {
           "style": "light"
          },
          "paper_bgcolor": "white",
          "plot_bgcolor": "#E5ECF6",
          "polar": {
           "angularaxis": {
            "gridcolor": "white",
            "linecolor": "white",
            "ticks": ""
           },
           "bgcolor": "#E5ECF6",
           "radialaxis": {
            "gridcolor": "white",
            "linecolor": "white",
            "ticks": ""
           }
          },
          "scene": {
           "xaxis": {
            "backgroundcolor": "#E5ECF6",
            "gridcolor": "white",
            "gridwidth": 2,
            "linecolor": "white",
            "showbackground": true,
            "ticks": "",
            "zerolinecolor": "white"
           },
           "yaxis": {
            "backgroundcolor": "#E5ECF6",
            "gridcolor": "white",
            "gridwidth": 2,
            "linecolor": "white",
            "showbackground": true,
            "ticks": "",
            "zerolinecolor": "white"
           },
           "zaxis": {
            "backgroundcolor": "#E5ECF6",
            "gridcolor": "white",
            "gridwidth": 2,
            "linecolor": "white",
            "showbackground": true,
            "ticks": "",
            "zerolinecolor": "white"
           }
          },
          "shapedefaults": {
           "line": {
            "color": "#2a3f5f"
           }
          },
          "ternary": {
           "aaxis": {
            "gridcolor": "white",
            "linecolor": "white",
            "ticks": ""
           },
           "baxis": {
            "gridcolor": "white",
            "linecolor": "white",
            "ticks": ""
           },
           "bgcolor": "#E5ECF6",
           "caxis": {
            "gridcolor": "white",
            "linecolor": "white",
            "ticks": ""
           }
          },
          "title": {
           "x": 0.05
          },
          "xaxis": {
           "automargin": true,
           "gridcolor": "white",
           "linecolor": "white",
           "ticks": "",
           "title": {
            "standoff": 15
           },
           "zerolinecolor": "white",
           "zerolinewidth": 2
          },
          "yaxis": {
           "automargin": true,
           "gridcolor": "white",
           "linecolor": "white",
           "ticks": "",
           "title": {
            "standoff": 15
           },
           "zerolinecolor": "white",
           "zerolinewidth": 2
          }
         }
        },
        "title": {
         "text": "Value Count of Four Class Response"
        },
        "xaxis": {
         "anchor": "y",
         "categoryarray": [
          "not active",
          "agonist",
          "antagonist",
          "both"
         ],
         "categoryorder": "array",
         "domain": [
          0,
          1
         ],
         "title": {
          "text": "Class Label"
         }
        },
        "yaxis": {
         "anchor": "x",
         "domain": [
          0,
          1
         ],
         "title": {
          "text": "Count"
         }
        }
       }
      }
     },
     "metadata": {},
     "output_type": "display_data"
    }
   ],
   "source": [
    "def convert_to_three_classes(x):\n",
    "    ''' \n",
    "        needed to add the class for the multiclass setting\n",
    "\n",
    "        @param x: row in dataframe\n",
    "        @retun: class as int\n",
    "    '''\n",
    "    if (x['TOX21_ERa_LUC_BG1_Antagonist'] == 1) and (x['TOX21_ERa_LUC_BG1_Agonist'] == 1):\n",
    "        return 3\n",
    "    elif x['TOX21_ERa_LUC_BG1_Antagonist'] == 1:\n",
    "        return 2\n",
    "    elif x['TOX21_ERa_LUC_BG1_Agonist'] == 1:\n",
    "        return 1\n",
    "    else:\n",
    "        return 0\n",
    "    \n",
    "\n",
    "class_encoding_dict = {3: 'both', 2: 'antagonist',\n",
    "                       1: 'agonist', 0: 'not active'}\n",
    "\n",
    "\n",
    "er_table['four_class_response'] = er_table.apply(\n",
    "    lambda x: convert_to_three_classes(x), axis=1)\n",
    "\n",
    "\n",
    "er_table['activity'] = er_table.apply(lambda x: min(int(\n",
    "    x['TOX21_ERa_LUC_BG1_Antagonist']) + int(x['TOX21_ERa_LUC_BG1_Agonist']), 1), axis=1)\n",
    "\n",
    "\n",
    "# Map the four_class_response values to their respective class names\n",
    "er_table['class_label'] = er_table['four_class_response'].map(class_encoding_dict)\n",
    "\n",
    "# Count the occurrences of each class label\n",
    "class_counts = er_table['class_label'].value_counts().reset_index()\n",
    "class_counts.columns = ['class_label', 'count']\n",
    "\n",
    "# Plotting the bar plot using Plotly\n",
    "fig = px.bar(class_counts, x='class_label', y='count', \n",
    "             labels={'class_label': 'Class Label', 'count': 'Count'},\n",
    "             title='Value Count of Four Class Response',\n",
    "             color='class_label',\n",
    "             color_discrete_sequence=px.colors.qualitative.Safe)\n",
    "\n",
    "fig.show()"
   ]
  },
  {
   "cell_type": "code",
   "execution_count": 86,
   "metadata": {},
   "outputs": [
    {
     "data": {
      "text/html": [
       "<div>\n",
       "<style scoped>\n",
       "    .dataframe tbody tr th:only-of-type {\n",
       "        vertical-align: middle;\n",
       "    }\n",
       "\n",
       "    .dataframe tbody tr th {\n",
       "        vertical-align: top;\n",
       "    }\n",
       "\n",
       "    .dataframe thead th {\n",
       "        text-align: right;\n",
       "    }\n",
       "</style>\n",
       "<table border=\"1\" class=\"dataframe\">\n",
       "  <thead>\n",
       "    <tr style=\"text-align: right;\">\n",
       "      <th></th>\n",
       "      <th>CPD_NAME</th>\n",
       "      <th>activity</th>\n",
       "      <th>Metadata_broad_sample</th>\n",
       "      <th>Cells_AreaShape_Area</th>\n",
       "      <th>Cells_AreaShape_Center_X</th>\n",
       "      <th>Cells_AreaShape_Center_Y</th>\n",
       "      <th>Cells_AreaShape_Compactness</th>\n",
       "      <th>Cells_AreaShape_FormFactor</th>\n",
       "      <th>Cells_AreaShape_Orientation</th>\n",
       "      <th>Cells_AreaShape_Perimeter</th>\n",
       "      <th>...</th>\n",
       "      <th>Nuclei_Texture_InverseDifferenceMoment_ER_10_0</th>\n",
       "      <th>Nuclei_Texture_InverseDifferenceMoment_RNA_3_0</th>\n",
       "      <th>Nuclei_Texture_SumAverage_AGP_10_0</th>\n",
       "      <th>Nuclei_Texture_SumAverage_DNA_10_0</th>\n",
       "      <th>Nuclei_Texture_SumAverage_RNA_10_0</th>\n",
       "      <th>Nuclei_Texture_SumEntropy_AGP_10_0</th>\n",
       "      <th>Nuclei_Texture_SumEntropy_DNA_10_0</th>\n",
       "      <th>Nuclei_Texture_SumEntropy_RNA_10_0</th>\n",
       "      <th>morganB_fps</th>\n",
       "      <th>morphological_fingerprint</th>\n",
       "    </tr>\n",
       "  </thead>\n",
       "  <tbody>\n",
       "    <tr>\n",
       "      <th>0</th>\n",
       "      <td>mibefradil</td>\n",
       "      <td>2</td>\n",
       "      <td>BRD-K09549677-311-05-6</td>\n",
       "      <td>-1.522142</td>\n",
       "      <td>-0.167552</td>\n",
       "      <td>-0.057663</td>\n",
       "      <td>0.922271</td>\n",
       "      <td>1.969991</td>\n",
       "      <td>-0.140241</td>\n",
       "      <td>-2.420645</td>\n",
       "      <td>...</td>\n",
       "      <td>0.797366</td>\n",
       "      <td>0.126704</td>\n",
       "      <td>-1.622976</td>\n",
       "      <td>0.448551</td>\n",
       "      <td>-0.025718</td>\n",
       "      <td>-1.723061</td>\n",
       "      <td>-0.213090</td>\n",
       "      <td>-0.638330</td>\n",
       "      <td>[0, 1, 0, 1, 0, 0, 0, 0, 0, 0, 0, 0, 0, 0, 0, ...</td>\n",
       "      <td>[-1.5221420268136925, -0.167552301981941, -0.0...</td>\n",
       "    </tr>\n",
       "    <tr>\n",
       "      <th>1</th>\n",
       "      <td>mibefradil</td>\n",
       "      <td>2</td>\n",
       "      <td>BRD-K09549677-300-01-8</td>\n",
       "      <td>0.307927</td>\n",
       "      <td>0.775698</td>\n",
       "      <td>0.480218</td>\n",
       "      <td>2.664921</td>\n",
       "      <td>1.421630</td>\n",
       "      <td>0.032674</td>\n",
       "      <td>-0.583083</td>\n",
       "      <td>...</td>\n",
       "      <td>-1.452899</td>\n",
       "      <td>-1.101514</td>\n",
       "      <td>-0.628421</td>\n",
       "      <td>0.754518</td>\n",
       "      <td>-0.195795</td>\n",
       "      <td>-2.022078</td>\n",
       "      <td>0.089506</td>\n",
       "      <td>-1.074223</td>\n",
       "      <td>[0, 1, 0, 1, 0, 0, 0, 0, 0, 0, 0, 0, 0, 0, 0, ...</td>\n",
       "      <td>[0.30792735741491867, 0.7756983423999834, 0.48...</td>\n",
       "    </tr>\n",
       "  </tbody>\n",
       "</table>\n",
       "<p>2 rows × 295 columns</p>\n",
       "</div>"
      ],
      "text/plain": [
       "     CPD_NAME  activity   Metadata_broad_sample  Cells_AreaShape_Area  \\\n",
       "0  mibefradil         2  BRD-K09549677-311-05-6             -1.522142   \n",
       "1  mibefradil         2  BRD-K09549677-300-01-8              0.307927   \n",
       "\n",
       "   Cells_AreaShape_Center_X  Cells_AreaShape_Center_Y  \\\n",
       "0                 -0.167552                 -0.057663   \n",
       "1                  0.775698                  0.480218   \n",
       "\n",
       "   Cells_AreaShape_Compactness  Cells_AreaShape_FormFactor  \\\n",
       "0                     0.922271                    1.969991   \n",
       "1                     2.664921                    1.421630   \n",
       "\n",
       "   Cells_AreaShape_Orientation  Cells_AreaShape_Perimeter  ...  \\\n",
       "0                    -0.140241                  -2.420645  ...   \n",
       "1                     0.032674                  -0.583083  ...   \n",
       "\n",
       "   Nuclei_Texture_InverseDifferenceMoment_ER_10_0  \\\n",
       "0                                        0.797366   \n",
       "1                                       -1.452899   \n",
       "\n",
       "   Nuclei_Texture_InverseDifferenceMoment_RNA_3_0  \\\n",
       "0                                        0.126704   \n",
       "1                                       -1.101514   \n",
       "\n",
       "   Nuclei_Texture_SumAverage_AGP_10_0  Nuclei_Texture_SumAverage_DNA_10_0  \\\n",
       "0                           -1.622976                            0.448551   \n",
       "1                           -0.628421                            0.754518   \n",
       "\n",
       "   Nuclei_Texture_SumAverage_RNA_10_0  Nuclei_Texture_SumEntropy_AGP_10_0  \\\n",
       "0                           -0.025718                           -1.723061   \n",
       "1                           -0.195795                           -2.022078   \n",
       "\n",
       "   Nuclei_Texture_SumEntropy_DNA_10_0  Nuclei_Texture_SumEntropy_RNA_10_0  \\\n",
       "0                           -0.213090                           -0.638330   \n",
       "1                            0.089506                           -1.074223   \n",
       "\n",
       "                                         morganB_fps  \\\n",
       "0  [0, 1, 0, 1, 0, 0, 0, 0, 0, 0, 0, 0, 0, 0, 0, ...   \n",
       "1  [0, 1, 0, 1, 0, 0, 0, 0, 0, 0, 0, 0, 0, 0, 0, ...   \n",
       "\n",
       "                           morphological_fingerprint  \n",
       "0  [-1.5221420268136925, -0.167552301981941, -0.0...  \n",
       "1  [0.30792735741491867, 0.7756983423999834, 0.48...  \n",
       "\n",
       "[2 rows x 295 columns]"
      ]
     },
     "execution_count": 86,
     "metadata": {},
     "output_type": "execute_result"
    }
   ],
   "source": [
    "combinded_activity_df = er_table.join(dataset.set_index('CPD_NAME'), on='CPD_NAME')\n",
    "combinded_activity_df.drop(['activity','activity_label','class_label','TOX21_ERa_LUC_BG1_Antagonist','TOX21_ERa_LUC_BG1_Agonist'],axis=1,inplace=True)\n",
    "combinded_activity_df.rename(columns={'four_class_response': 'activity'},inplace=True)\n",
    "combinded_activity_df.reset_index(inplace=True, drop=True)\n",
    "combinded_activity_df.dropna(inplace=True)\n",
    "combinded_activity_df.head(2)"
   ]
  },
  {
   "cell_type": "markdown",
   "metadata": {},
   "source": [
    "2. We build a model using the 4 classes "
   ]
  },
  {
   "cell_type": "code",
   "execution_count": 87,
   "metadata": {},
   "outputs": [],
   "source": [
    "train_names, test_names, train_activities, test_activities = train_test_split(\n",
    "    combinded_activity_df['CPD_NAME'].values, combinded_activity_df['activity'].values.astype('int'), random_state=42, test_size=0.2, shuffle=True,stratify=combinded_activity_df['activity'].values.astype('int')) #stratify split "
   ]
  },
  {
   "cell_type": "code",
   "execution_count": 88,
   "metadata": {},
   "outputs": [],
   "source": [
    "X_test_morph_fp ,X_train_morph_fp , y_train , y_test , X_train ,X_test = define_set(combinded_activity_df,train_names, test_names)"
   ]
  },
  {
   "cell_type": "markdown",
   "metadata": {},
   "source": [
    "3. Training multiclass model"
   ]
  },
  {
   "cell_type": "code",
   "execution_count": 89,
   "metadata": {},
   "outputs": [],
   "source": [
    "best_estimator = rf_cross_validation(X_train_morph_fp, y_train)"
   ]
  },
  {
   "cell_type": "markdown",
   "metadata": {},
   "source": [
    "4. Predicting multiclass model "
   ]
  },
  {
   "cell_type": "code",
   "execution_count": 90,
   "metadata": {},
   "outputs": [],
   "source": [
    "y_pred = best_estimator.predict(X_test_morph_fp)"
   ]
  },
  {
   "cell_type": "code",
   "execution_count": 91,
   "metadata": {},
   "outputs": [
    {
     "name": "stdout",
     "output_type": "stream",
     "text": [
      "The RF trained on both morphological and morphological fingerprints reached an MCC of 0.3995125347737898\n"
     ]
    }
   ],
   "source": [
    "print(\n",
    "    f'The RF trained on both morphological and morphological fingerprints reached an MCC of {matthews_corrcoef(y_pred=y_pred, y_true=y_test)}')"
   ]
  },
  {
   "cell_type": "markdown",
   "metadata": {},
   "source": [
    "To do LM (biologist proof):\n",
    "- DMSO as control (know that it is not toxic)+ 1 molecule known to be toxic chemoterapeutics \n",
    "- a concret exemple with 2 molecules "
   ]
  },
  {
   "cell_type": "code",
   "execution_count": null,
   "metadata": {},
   "outputs": [],
   "source": []
  },
  {
   "cell_type": "code",
   "execution_count": null,
   "metadata": {},
   "outputs": [],
   "source": []
  },
  {
   "cell_type": "code",
   "execution_count": null,
   "metadata": {},
   "outputs": [],
   "source": []
  },
  {
   "cell_type": "code",
   "execution_count": null,
   "metadata": {},
   "outputs": [],
   "source": []
  },
  {
   "cell_type": "code",
   "execution_count": null,
   "metadata": {},
   "outputs": [],
   "source": []
  },
  {
   "cell_type": "code",
   "execution_count": null,
   "metadata": {},
   "outputs": [],
   "source": []
  },
  {
   "cell_type": "code",
   "execution_count": null,
   "metadata": {},
   "outputs": [],
   "source": []
  },
  {
   "cell_type": "code",
   "execution_count": null,
   "metadata": {},
   "outputs": [],
   "source": []
  },
  {
   "cell_type": "code",
   "execution_count": null,
   "metadata": {},
   "outputs": [],
   "source": []
  }
 ],
 "metadata": {
  "kernelspec": {
   "display_name": "MORPHEUS",
   "language": "python",
   "name": "python3"
  },
  "language_info": {
   "codemirror_mode": {
    "name": "ipython",
    "version": 3
   },
   "file_extension": ".py",
   "mimetype": "text/x-python",
   "name": "python",
   "nbconvert_exporter": "python",
   "pygments_lexer": "ipython3",
   "version": "3.11.5"
  }
 },
 "nbformat": 4,
 "nbformat_minor": 2
}
